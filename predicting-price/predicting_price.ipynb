{
 "cells": [
  {
   "cell_type": "markdown",
   "id": "17b36d48-606e-45cd-a1e5-a1ef00ab7a56",
   "metadata": {},
   "source": [
    "# Predicting Price"
   ]
  },
  {
   "cell_type": "markdown",
   "id": "6baa859f-765f-4662-8a54-1747ca0e680e",
   "metadata": {},
   "source": [
    "## Outline\n",
    "\n",
    "- [Objective](#objective)\n",
    "- [Setup](#setup)\n",
    "- [Data Exploration](#data-exploration)\n",
    "- [Data Processing](#data-processing)\n",
    "    - [Data Type Changing](#data-type-changing)\n",
    "    - [Check outliers and correlations](#outliers-correlations)\n",
    "    - [Feature selection](#feature-selection)\n",
    "        - [Best 5 features](#best-five-features)\n",
    "        - [Best 3 features](#best-three-features)\n",
    "- [Machine Learning](#machine-learning)\n",
    "    - [Regression Models](#regression-models)\n",
    "    - [Model Evaluation](#model-evaluation)\n",
    "        - [Highest R Squared](#highest-r-squared)\n",
    "        - [Minimum Train Error](#min-train-error)\n",
    "        - [Minimum Test Error](#min-test-error)\n",
    "    - [Grid Search in Random Forest](#grid-search-random-forest)\n",
    "    - [Scaling](#scaling)\n",
    "        - [Min-Max Scaling](#min-max-scaling)\n",
    "        - [Standard Scaling](#standard-scaling)\n",
    "        - [Robust Scaling](#robust-scaling)\n",
    "    - [Visualize Machine Learning Model Results](#ml-model-results)\n",
    "- [Deep Learning](#deep-learning)"
   ]
  },
  {
   "cell_type": "markdown",
   "id": "9898f084-22d8-4f4c-b561-d9b9da4383e5",
   "metadata": {},
   "source": [
    "## Objective <a id='objective'></a>"
   ]
  },
  {
   "cell_type": "markdown",
   "id": "26a625d5-5b38-463c-ae17-c411fff2bb9f",
   "metadata": {},
   "source": [
    "The target variable is price. \n",
    "\n",
    "There are 7 features, and the objective is to build a machine learning model to predict prices.\n",
    "\n",
    "1. Exploratory data analysis to find insights on data structures and how features are related.\n",
    "2. Fit machine learning models and discuss the rationale for choices.\n",
    "3. Show the power of a model with cross validation and discuss results.\n",
    "4. Present results and discuss next steps."
   ]
  },
  {
   "cell_type": "markdown",
   "id": "5c6360fe-0c45-45a4-b9e5-1604375350e2",
   "metadata": {},
   "source": [
    "## Setup <a id='setup'></a>"
   ]
  },
  {
   "cell_type": "code",
   "execution_count": 1,
   "id": "d01844a4-a7c2-4486-a8ed-c4b4d249c6fc",
   "metadata": {},
   "outputs": [],
   "source": [
    "# Import libraries\n",
    "import numpy as np\n",
    "import pandas as pd\n",
    "from pandas.plotting import scatter_matrix\n",
    "import matplotlib.pyplot as plt\n",
    "import time\n",
    "\n",
    "# Machine learning\n",
    "from sklearn import tree, svm, neighbors, linear_model\n",
    "from sklearn.preprocessing import MinMaxScaler, StandardScaler, RobustScaler\n",
    "from sklearn.model_selection import train_test_split, GridSearchCV\n",
    "from sklearn.metrics import mean_squared_error, r2_score, get_scorer_names\n",
    "from sklearn.neural_network import MLPRegressor\n",
    "from sklearn.ensemble import RandomForestRegressor\n",
    "from xgboost import XGBRegressor\n",
    "\n",
    "# Deep learning\n",
    "import tensorflow as tf\n",
    "from tensorflow.keras import regularizers\n",
    "from tensorflow.keras.models import Sequential\n",
    "from tensorflow.keras.layers import Dense\n",
    "from tensorflow.keras.optimizers.legacy import Adam\n",
    "from tensorflow.keras.losses import MeanSquaredError\n",
    "from tensorflow.keras.metrics import MeanAbsoluteError"
   ]
  },
  {
   "cell_type": "code",
   "execution_count": 2,
   "id": "91e38f16-978e-410f-bbcc-86c838234ee5",
   "metadata": {},
   "outputs": [],
   "source": [
    "# Read data\n",
    "df = pd.read_csv('data/raw/sample.csv')"
   ]
  },
  {
   "cell_type": "markdown",
   "id": "77a453c9-0781-4104-9802-a0d8efaa3a9f",
   "metadata": {},
   "source": [
    "## Data Exploration <a id='data-exploration'></a>"
   ]
  },
  {
   "cell_type": "code",
   "execution_count": 3,
   "id": "01b8b199-c293-405e-8d68-6951c0accb14",
   "metadata": {},
   "outputs": [
    {
     "data": {
      "text/html": [
       "<div>\n",
       "<style scoped>\n",
       "    .dataframe tbody tr th:only-of-type {\n",
       "        vertical-align: middle;\n",
       "    }\n",
       "\n",
       "    .dataframe tbody tr th {\n",
       "        vertical-align: top;\n",
       "    }\n",
       "\n",
       "    .dataframe thead th {\n",
       "        text-align: right;\n",
       "    }\n",
       "</style>\n",
       "<table border=\"1\" class=\"dataframe\">\n",
       "  <thead>\n",
       "    <tr style=\"text-align: right;\">\n",
       "      <th></th>\n",
       "      <th>loc1</th>\n",
       "      <th>loc2</th>\n",
       "      <th>para1</th>\n",
       "      <th>dow</th>\n",
       "      <th>para2</th>\n",
       "      <th>para3</th>\n",
       "      <th>para4</th>\n",
       "      <th>price</th>\n",
       "    </tr>\n",
       "  </thead>\n",
       "  <tbody>\n",
       "    <tr>\n",
       "      <th>0</th>\n",
       "      <td>0</td>\n",
       "      <td>01</td>\n",
       "      <td>1</td>\n",
       "      <td>Mon</td>\n",
       "      <td>662</td>\n",
       "      <td>3000.0</td>\n",
       "      <td>3.8</td>\n",
       "      <td>73.49</td>\n",
       "    </tr>\n",
       "    <tr>\n",
       "      <th>1</th>\n",
       "      <td>9</td>\n",
       "      <td>99</td>\n",
       "      <td>1</td>\n",
       "      <td>Thu</td>\n",
       "      <td>340</td>\n",
       "      <td>2760.0</td>\n",
       "      <td>9.2</td>\n",
       "      <td>300.00</td>\n",
       "    </tr>\n",
       "    <tr>\n",
       "      <th>2</th>\n",
       "      <td>0</td>\n",
       "      <td>04</td>\n",
       "      <td>0</td>\n",
       "      <td>Mon</td>\n",
       "      <td>16</td>\n",
       "      <td>2700.0</td>\n",
       "      <td>3.0</td>\n",
       "      <td>130.00</td>\n",
       "    </tr>\n",
       "    <tr>\n",
       "      <th>3</th>\n",
       "      <td>4</td>\n",
       "      <td>40</td>\n",
       "      <td>1</td>\n",
       "      <td>Mon</td>\n",
       "      <td>17</td>\n",
       "      <td>12320.0</td>\n",
       "      <td>6.4</td>\n",
       "      <td>365.00</td>\n",
       "    </tr>\n",
       "    <tr>\n",
       "      <th>4</th>\n",
       "      <td>5</td>\n",
       "      <td>50</td>\n",
       "      <td>1</td>\n",
       "      <td>Thu</td>\n",
       "      <td>610</td>\n",
       "      <td>2117.0</td>\n",
       "      <td>10.8</td>\n",
       "      <td>357.50</td>\n",
       "    </tr>\n",
       "  </tbody>\n",
       "</table>\n",
       "</div>"
      ],
      "text/plain": [
       "  loc1 loc2  para1  dow  para2    para3  para4   price\n",
       "0    0   01      1  Mon    662   3000.0    3.8   73.49\n",
       "1    9   99      1  Thu    340   2760.0    9.2  300.00\n",
       "2    0   04      0  Mon     16   2700.0    3.0  130.00\n",
       "3    4   40      1  Mon     17  12320.0    6.4  365.00\n",
       "4    5   50      1  Thu    610   2117.0   10.8  357.50"
      ]
     },
     "execution_count": 3,
     "metadata": {},
     "output_type": "execute_result"
    }
   ],
   "source": [
    "# Show first 5 rows\n",
    "df.head()"
   ]
  },
  {
   "cell_type": "code",
   "execution_count": 4,
   "id": "d75480c1-c943-4f1c-8a0a-f96056e5bc23",
   "metadata": {},
   "outputs": [
    {
     "name": "stdout",
     "output_type": "stream",
     "text": [
      "<class 'pandas.core.frame.DataFrame'>\n",
      "RangeIndex: 10000 entries, 0 to 9999\n",
      "Data columns (total 8 columns):\n",
      " #   Column  Non-Null Count  Dtype  \n",
      "---  ------  --------------  -----  \n",
      " 0   loc1    10000 non-null  object \n",
      " 1   loc2    10000 non-null  object \n",
      " 2   para1   10000 non-null  int64  \n",
      " 3   dow     10000 non-null  object \n",
      " 4   para2   10000 non-null  int64  \n",
      " 5   para3   10000 non-null  float64\n",
      " 6   para4   10000 non-null  float64\n",
      " 7   price   10000 non-null  float64\n",
      "dtypes: float64(3), int64(2), object(3)\n",
      "memory usage: 625.1+ KB\n"
     ]
    }
   ],
   "source": [
    "# Information on DataFrame\n",
    "df.info()"
   ]
  },
  {
   "cell_type": "markdown",
   "id": "427faae8-2377-47da-a788-95e6cb2b2d14",
   "metadata": {},
   "source": [
    "## Data Processing <a id='data-processing'></a>"
   ]
  },
  {
   "cell_type": "code",
   "execution_count": 5,
   "id": "8b2de151-615c-4505-8c4d-0208a29bffcf",
   "metadata": {},
   "outputs": [
    {
     "data": {
      "text/plain": [
       "loc1\n",
       "2    1607\n",
       "0    1486\n",
       "1    1223\n",
       "7    1081\n",
       "3     945\n",
       "5     846\n",
       "4     773\n",
       "8     727\n",
       "9     690\n",
       "6     620\n",
       "S       1\n",
       "T       1\n",
       "Name: count, dtype: int64"
      ]
     },
     "execution_count": 5,
     "metadata": {},
     "output_type": "execute_result"
    }
   ],
   "source": [
    "# Count unique values in `loc1`\n",
    "df['loc1'].value_counts()"
   ]
  },
  {
   "cell_type": "code",
   "execution_count": 6,
   "id": "5c029b7d-6de0-4f05-904f-63e5cef10fa6",
   "metadata": {},
   "outputs": [],
   "source": [
    "# Remove rows where `loc1` column contains 'S' or 'T'\n",
    "df = df[~df['loc1'].isin(['S', 'T'])]"
   ]
  },
  {
   "cell_type": "code",
   "execution_count": 7,
   "id": "912b8af8-2df6-45b7-bd76-40ae7dca0589",
   "metadata": {},
   "outputs": [
    {
     "data": {
      "text/plain": [
       "loc2\n",
       "21    499\n",
       "06    454\n",
       "74    329\n",
       "12    273\n",
       "14    246\n",
       "     ... \n",
       "43      1\n",
       "0T      1\n",
       "0L      1\n",
       "0C      1\n",
       "0N      1\n",
       "Name: count, Length: 105, dtype: int64"
      ]
     },
     "execution_count": 7,
     "metadata": {},
     "output_type": "execute_result"
    }
   ],
   "source": [
    "# Count unique values in `loc2`\n",
    "df['loc2'].value_counts()"
   ]
  },
  {
   "cell_type": "code",
   "execution_count": 8,
   "id": "2673ada6-e3c5-4420-b6fe-5a83236f3f9b",
   "metadata": {},
   "outputs": [],
   "source": [
    "# Convert values in `loc1` to numeric values with errors resulting in NaN values\n",
    "df['loc1'] = pd.to_numeric(df['loc1'], errors='coerce')\n",
    "\n",
    "# Convert values in `loc2` to numeric values with errors resulting in NaN values\n",
    "df['loc2'] = pd.to_numeric(df['loc2'], errors='coerce')"
   ]
  },
  {
   "cell_type": "code",
   "execution_count": 9,
   "id": "8d4cc35c-b42b-4c8d-ad59-35ac9f8eee51",
   "metadata": {},
   "outputs": [],
   "source": [
    "# Drop missing values\n",
    "df = df.dropna()"
   ]
  },
  {
   "cell_type": "code",
   "execution_count": 10,
   "id": "2e0b3909-d9d6-4425-a378-a97594555bd2",
   "metadata": {},
   "outputs": [
    {
     "data": {
      "text/plain": [
       "(9993, 8)"
      ]
     },
     "execution_count": 10,
     "metadata": {},
     "output_type": "execute_result"
    }
   ],
   "source": [
    "# Check shape of DataFrame\n",
    "df.shape"
   ]
  },
  {
   "cell_type": "markdown",
   "id": "3eced95f-d5b7-4912-b860-43c475a915e3",
   "metadata": {},
   "source": [
    "### Data Type Changing <a id='data-type-changing'></a>"
   ]
  },
  {
   "cell_type": "code",
   "execution_count": 11,
   "id": "72fa5992-2224-4ed1-b7a9-cc3990c3faf6",
   "metadata": {},
   "outputs": [],
   "source": [
    "# Convert `dow` variable into dummy/indicator variables\n",
    "dow_dummies = pd.get_dummies(df['dow'])"
   ]
  },
  {
   "cell_type": "code",
   "execution_count": 12,
   "id": "befccfaf-bb9d-4aac-86e0-64abd0fac0fa",
   "metadata": {},
   "outputs": [
    {
     "data": {
      "text/html": [
       "<div>\n",
       "<style scoped>\n",
       "    .dataframe tbody tr th:only-of-type {\n",
       "        vertical-align: middle;\n",
       "    }\n",
       "\n",
       "    .dataframe tbody tr th {\n",
       "        vertical-align: top;\n",
       "    }\n",
       "\n",
       "    .dataframe thead th {\n",
       "        text-align: right;\n",
       "    }\n",
       "</style>\n",
       "<table border=\"1\" class=\"dataframe\">\n",
       "  <thead>\n",
       "    <tr style=\"text-align: right;\">\n",
       "      <th></th>\n",
       "      <th>Fri</th>\n",
       "      <th>Mon</th>\n",
       "      <th>Sat</th>\n",
       "      <th>Sun</th>\n",
       "      <th>Thu</th>\n",
       "      <th>Tue</th>\n",
       "      <th>Wed</th>\n",
       "    </tr>\n",
       "  </thead>\n",
       "  <tbody>\n",
       "    <tr>\n",
       "      <th>0</th>\n",
       "      <td>False</td>\n",
       "      <td>True</td>\n",
       "      <td>False</td>\n",
       "      <td>False</td>\n",
       "      <td>False</td>\n",
       "      <td>False</td>\n",
       "      <td>False</td>\n",
       "    </tr>\n",
       "    <tr>\n",
       "      <th>1</th>\n",
       "      <td>False</td>\n",
       "      <td>False</td>\n",
       "      <td>False</td>\n",
       "      <td>False</td>\n",
       "      <td>True</td>\n",
       "      <td>False</td>\n",
       "      <td>False</td>\n",
       "    </tr>\n",
       "    <tr>\n",
       "      <th>2</th>\n",
       "      <td>False</td>\n",
       "      <td>True</td>\n",
       "      <td>False</td>\n",
       "      <td>False</td>\n",
       "      <td>False</td>\n",
       "      <td>False</td>\n",
       "      <td>False</td>\n",
       "    </tr>\n",
       "    <tr>\n",
       "      <th>3</th>\n",
       "      <td>False</td>\n",
       "      <td>True</td>\n",
       "      <td>False</td>\n",
       "      <td>False</td>\n",
       "      <td>False</td>\n",
       "      <td>False</td>\n",
       "      <td>False</td>\n",
       "    </tr>\n",
       "    <tr>\n",
       "      <th>4</th>\n",
       "      <td>False</td>\n",
       "      <td>False</td>\n",
       "      <td>False</td>\n",
       "      <td>False</td>\n",
       "      <td>True</td>\n",
       "      <td>False</td>\n",
       "      <td>False</td>\n",
       "    </tr>\n",
       "  </tbody>\n",
       "</table>\n",
       "</div>"
      ],
      "text/plain": [
       "     Fri    Mon    Sat    Sun    Thu    Tue    Wed\n",
       "0  False   True  False  False  False  False  False\n",
       "1  False  False  False  False   True  False  False\n",
       "2  False   True  False  False  False  False  False\n",
       "3  False   True  False  False  False  False  False\n",
       "4  False  False  False  False   True  False  False"
      ]
     },
     "execution_count": 12,
     "metadata": {},
     "output_type": "execute_result"
    }
   ],
   "source": [
    "# Show first 5 rows\n",
    "dow_dummies.head()"
   ]
  },
  {
   "cell_type": "code",
   "execution_count": 13,
   "id": "fbc2667a-1aa5-4cfd-93e9-9f3c4675d74c",
   "metadata": {},
   "outputs": [],
   "source": [
    "# Create deep copy of DataFrame\n",
    "df2 = df.copy(deep=True)"
   ]
  },
  {
   "cell_type": "code",
   "execution_count": 14,
   "id": "89eb4ea0-db05-454b-b351-04892b9c1568",
   "metadata": {},
   "outputs": [],
   "source": [
    "# Drop `dow` column\n",
    "df2 = df2.drop(columns='dow')"
   ]
  },
  {
   "cell_type": "code",
   "execution_count": 15,
   "id": "c85590ad-eeb9-4c83-8cc8-dd989626d511",
   "metadata": {},
   "outputs": [],
   "source": [
    "# Merge DataFrames with left join\n",
    "result = df2.join(dow_dummies)"
   ]
  },
  {
   "cell_type": "code",
   "execution_count": 16,
   "id": "797748f5-1661-4ac3-8e91-e5f626021d68",
   "metadata": {},
   "outputs": [
    {
     "data": {
      "text/html": [
       "<div>\n",
       "<style scoped>\n",
       "    .dataframe tbody tr th:only-of-type {\n",
       "        vertical-align: middle;\n",
       "    }\n",
       "\n",
       "    .dataframe tbody tr th {\n",
       "        vertical-align: top;\n",
       "    }\n",
       "\n",
       "    .dataframe thead th {\n",
       "        text-align: right;\n",
       "    }\n",
       "</style>\n",
       "<table border=\"1\" class=\"dataframe\">\n",
       "  <thead>\n",
       "    <tr style=\"text-align: right;\">\n",
       "      <th></th>\n",
       "      <th>loc1</th>\n",
       "      <th>loc2</th>\n",
       "      <th>para1</th>\n",
       "      <th>para2</th>\n",
       "      <th>para3</th>\n",
       "      <th>para4</th>\n",
       "      <th>price</th>\n",
       "      <th>Fri</th>\n",
       "      <th>Mon</th>\n",
       "      <th>Sat</th>\n",
       "      <th>Sun</th>\n",
       "      <th>Thu</th>\n",
       "      <th>Tue</th>\n",
       "      <th>Wed</th>\n",
       "    </tr>\n",
       "  </thead>\n",
       "  <tbody>\n",
       "    <tr>\n",
       "      <th>0</th>\n",
       "      <td>0</td>\n",
       "      <td>1.0</td>\n",
       "      <td>1</td>\n",
       "      <td>662</td>\n",
       "      <td>3000.0</td>\n",
       "      <td>3.8</td>\n",
       "      <td>73.49</td>\n",
       "      <td>False</td>\n",
       "      <td>True</td>\n",
       "      <td>False</td>\n",
       "      <td>False</td>\n",
       "      <td>False</td>\n",
       "      <td>False</td>\n",
       "      <td>False</td>\n",
       "    </tr>\n",
       "    <tr>\n",
       "      <th>1</th>\n",
       "      <td>9</td>\n",
       "      <td>99.0</td>\n",
       "      <td>1</td>\n",
       "      <td>340</td>\n",
       "      <td>2760.0</td>\n",
       "      <td>9.2</td>\n",
       "      <td>300.00</td>\n",
       "      <td>False</td>\n",
       "      <td>False</td>\n",
       "      <td>False</td>\n",
       "      <td>False</td>\n",
       "      <td>True</td>\n",
       "      <td>False</td>\n",
       "      <td>False</td>\n",
       "    </tr>\n",
       "    <tr>\n",
       "      <th>2</th>\n",
       "      <td>0</td>\n",
       "      <td>4.0</td>\n",
       "      <td>0</td>\n",
       "      <td>16</td>\n",
       "      <td>2700.0</td>\n",
       "      <td>3.0</td>\n",
       "      <td>130.00</td>\n",
       "      <td>False</td>\n",
       "      <td>True</td>\n",
       "      <td>False</td>\n",
       "      <td>False</td>\n",
       "      <td>False</td>\n",
       "      <td>False</td>\n",
       "      <td>False</td>\n",
       "    </tr>\n",
       "    <tr>\n",
       "      <th>3</th>\n",
       "      <td>4</td>\n",
       "      <td>40.0</td>\n",
       "      <td>1</td>\n",
       "      <td>17</td>\n",
       "      <td>12320.0</td>\n",
       "      <td>6.4</td>\n",
       "      <td>365.00</td>\n",
       "      <td>False</td>\n",
       "      <td>True</td>\n",
       "      <td>False</td>\n",
       "      <td>False</td>\n",
       "      <td>False</td>\n",
       "      <td>False</td>\n",
       "      <td>False</td>\n",
       "    </tr>\n",
       "    <tr>\n",
       "      <th>4</th>\n",
       "      <td>5</td>\n",
       "      <td>50.0</td>\n",
       "      <td>1</td>\n",
       "      <td>610</td>\n",
       "      <td>2117.0</td>\n",
       "      <td>10.8</td>\n",
       "      <td>357.50</td>\n",
       "      <td>False</td>\n",
       "      <td>False</td>\n",
       "      <td>False</td>\n",
       "      <td>False</td>\n",
       "      <td>True</td>\n",
       "      <td>False</td>\n",
       "      <td>False</td>\n",
       "    </tr>\n",
       "  </tbody>\n",
       "</table>\n",
       "</div>"
      ],
      "text/plain": [
       "   loc1  loc2  para1  para2    para3  para4   price    Fri    Mon    Sat  \\\n",
       "0     0   1.0      1    662   3000.0    3.8   73.49  False   True  False   \n",
       "1     9  99.0      1    340   2760.0    9.2  300.00  False  False  False   \n",
       "2     0   4.0      0     16   2700.0    3.0  130.00  False   True  False   \n",
       "3     4  40.0      1     17  12320.0    6.4  365.00  False   True  False   \n",
       "4     5  50.0      1    610   2117.0   10.8  357.50  False  False  False   \n",
       "\n",
       "     Sun    Thu    Tue    Wed  \n",
       "0  False  False  False  False  \n",
       "1  False   True  False  False  \n",
       "2  False  False  False  False  \n",
       "3  False  False  False  False  \n",
       "4  False   True  False  False  "
      ]
     },
     "execution_count": 16,
     "metadata": {},
     "output_type": "execute_result"
    }
   ],
   "source": [
    "# Show first 5 rows\n",
    "result.head()"
   ]
  },
  {
   "cell_type": "code",
   "execution_count": 17,
   "id": "1565e340-b03a-4473-81d6-fa5316e36e53",
   "metadata": {},
   "outputs": [],
   "source": [
    "# Replace day of week with numerical value in original DataFrame\n",
    "df['dow'] = df['dow'].replace(to_replace={'Mon': 1, 'Tue': 2, 'Wed': 3, 'Thu': 4, 'Fri': 5, 'Sat': 6, 'Sun': 7})"
   ]
  },
  {
   "cell_type": "code",
   "execution_count": 18,
   "id": "b3ebbc33-6d7c-453e-8288-0d78612bc57c",
   "metadata": {},
   "outputs": [
    {
     "data": {
      "text/html": [
       "<div>\n",
       "<style scoped>\n",
       "    .dataframe tbody tr th:only-of-type {\n",
       "        vertical-align: middle;\n",
       "    }\n",
       "\n",
       "    .dataframe tbody tr th {\n",
       "        vertical-align: top;\n",
       "    }\n",
       "\n",
       "    .dataframe thead th {\n",
       "        text-align: right;\n",
       "    }\n",
       "</style>\n",
       "<table border=\"1\" class=\"dataframe\">\n",
       "  <thead>\n",
       "    <tr style=\"text-align: right;\">\n",
       "      <th></th>\n",
       "      <th>loc1</th>\n",
       "      <th>loc2</th>\n",
       "      <th>para1</th>\n",
       "      <th>dow</th>\n",
       "      <th>para2</th>\n",
       "      <th>para3</th>\n",
       "      <th>para4</th>\n",
       "      <th>price</th>\n",
       "    </tr>\n",
       "  </thead>\n",
       "  <tbody>\n",
       "    <tr>\n",
       "      <th>0</th>\n",
       "      <td>0</td>\n",
       "      <td>1.0</td>\n",
       "      <td>1</td>\n",
       "      <td>1</td>\n",
       "      <td>662</td>\n",
       "      <td>3000.0</td>\n",
       "      <td>3.8</td>\n",
       "      <td>73.49</td>\n",
       "    </tr>\n",
       "    <tr>\n",
       "      <th>1</th>\n",
       "      <td>9</td>\n",
       "      <td>99.0</td>\n",
       "      <td>1</td>\n",
       "      <td>4</td>\n",
       "      <td>340</td>\n",
       "      <td>2760.0</td>\n",
       "      <td>9.2</td>\n",
       "      <td>300.00</td>\n",
       "    </tr>\n",
       "    <tr>\n",
       "      <th>2</th>\n",
       "      <td>0</td>\n",
       "      <td>4.0</td>\n",
       "      <td>0</td>\n",
       "      <td>1</td>\n",
       "      <td>16</td>\n",
       "      <td>2700.0</td>\n",
       "      <td>3.0</td>\n",
       "      <td>130.00</td>\n",
       "    </tr>\n",
       "    <tr>\n",
       "      <th>3</th>\n",
       "      <td>4</td>\n",
       "      <td>40.0</td>\n",
       "      <td>1</td>\n",
       "      <td>1</td>\n",
       "      <td>17</td>\n",
       "      <td>12320.0</td>\n",
       "      <td>6.4</td>\n",
       "      <td>365.00</td>\n",
       "    </tr>\n",
       "    <tr>\n",
       "      <th>4</th>\n",
       "      <td>5</td>\n",
       "      <td>50.0</td>\n",
       "      <td>1</td>\n",
       "      <td>4</td>\n",
       "      <td>610</td>\n",
       "      <td>2117.0</td>\n",
       "      <td>10.8</td>\n",
       "      <td>357.50</td>\n",
       "    </tr>\n",
       "  </tbody>\n",
       "</table>\n",
       "</div>"
      ],
      "text/plain": [
       "   loc1  loc2  para1  dow  para2    para3  para4   price\n",
       "0     0   1.0      1    1    662   3000.0    3.8   73.49\n",
       "1     9  99.0      1    4    340   2760.0    9.2  300.00\n",
       "2     0   4.0      0    1     16   2700.0    3.0  130.00\n",
       "3     4  40.0      1    1     17  12320.0    6.4  365.00\n",
       "4     5  50.0      1    4    610   2117.0   10.8  357.50"
      ]
     },
     "execution_count": 18,
     "metadata": {},
     "output_type": "execute_result"
    }
   ],
   "source": [
    "# Show first 5 rows\n",
    "df.head()"
   ]
  },
  {
   "cell_type": "markdown",
   "id": "febc2935-e027-4f06-991e-673a73b204d7",
   "metadata": {},
   "source": [
    "### Check outliers and correlations <a id='outliers-correlations'><a>"
   ]
  },
  {
   "cell_type": "code",
   "execution_count": 19,
   "id": "98d02e07-c01e-4760-88e6-fffd86e4ee4b",
   "metadata": {},
   "outputs": [
    {
     "data": {
      "image/png": "[encoded data removed]",
      "text/plain": [
       "<Figure size 1200x800 with 49 Axes>"
      ]
     },
     "metadata": {},
     "output_type": "display_data"
    }
   ],
   "source": [
    "# Scatter matrix of feature variables\n",
    "_ = scatter_matrix(result.iloc[:, 0:7], figsize=(12, 8))"
   ]
  },
  {
   "cell_type": "code",
   "execution_count": 20,
   "id": "b8f2f428-b386-42b6-8fb1-f4e1cf903412",
   "metadata": {},
   "outputs": [
    {
     "data": {
      "text/html": [
       "<div>\n",
       "<style scoped>\n",
       "    .dataframe tbody tr th:only-of-type {\n",
       "        vertical-align: middle;\n",
       "    }\n",
       "\n",
       "    .dataframe tbody tr th {\n",
       "        vertical-align: top;\n",
       "    }\n",
       "\n",
       "    .dataframe thead th {\n",
       "        text-align: right;\n",
       "    }\n",
       "</style>\n",
       "<table border=\"1\" class=\"dataframe\">\n",
       "  <thead>\n",
       "    <tr style=\"text-align: right;\">\n",
       "      <th></th>\n",
       "      <th>price</th>\n",
       "    </tr>\n",
       "  </thead>\n",
       "  <tbody>\n",
       "    <tr>\n",
       "      <th>para2</th>\n",
       "      <td>0.551222</td>\n",
       "    </tr>\n",
       "    <tr>\n",
       "      <th>para4</th>\n",
       "      <td>0.517614</td>\n",
       "    </tr>\n",
       "    <tr>\n",
       "      <th>para3</th>\n",
       "      <td>0.356949</td>\n",
       "    </tr>\n",
       "    <tr>\n",
       "      <th>para1</th>\n",
       "      <td>0.074555</td>\n",
       "    </tr>\n",
       "    <tr>\n",
       "      <th>loc1</th>\n",
       "      <td>0.044079</td>\n",
       "    </tr>\n",
       "    <tr>\n",
       "      <th>loc2</th>\n",
       "      <td>0.043543</td>\n",
       "    </tr>\n",
       "    <tr>\n",
       "      <th>Wed</th>\n",
       "      <td>0.026684</td>\n",
       "    </tr>\n",
       "    <tr>\n",
       "      <th>Fri</th>\n",
       "      <td>0.025674</td>\n",
       "    </tr>\n",
       "    <tr>\n",
       "      <th>Mon</th>\n",
       "      <td>0.021734</td>\n",
       "    </tr>\n",
       "    <tr>\n",
       "      <th>Thu</th>\n",
       "      <td>0.019656</td>\n",
       "    </tr>\n",
       "    <tr>\n",
       "      <th>Sat</th>\n",
       "      <td>0.014918</td>\n",
       "    </tr>\n",
       "    <tr>\n",
       "      <th>Sun</th>\n",
       "      <td>0.004176</td>\n",
       "    </tr>\n",
       "    <tr>\n",
       "      <th>Tue</th>\n",
       "      <td>0.000974</td>\n",
       "    </tr>\n",
       "  </tbody>\n",
       "</table>\n",
       "</div>"
      ],
      "text/plain": [
       "          price\n",
       "para2  0.551222\n",
       "para4  0.517614\n",
       "para3  0.356949\n",
       "para1  0.074555\n",
       "loc1   0.044079\n",
       "loc2   0.043543\n",
       "Wed    0.026684\n",
       "Fri    0.025674\n",
       "Mon    0.021734\n",
       "Thu    0.019656\n",
       "Sat    0.014918\n",
       "Sun    0.004176\n",
       "Tue    0.000974"
      ]
     },
     "execution_count": 20,
     "metadata": {},
     "output_type": "execute_result"
    }
   ],
   "source": [
    "# Show absolute correlation values between `price` column and all other columns in DataFrame\n",
    "pd.DataFrame(abs(result.corr()['price'])).sort_values(by='price', ascending=False)[1::]"
   ]
  },
  {
   "cell_type": "code",
   "execution_count": 21,
   "id": "2578b35d-7118-4ebf-a7c6-4a3f024c14eb",
   "metadata": {},
   "outputs": [],
   "source": [
    "# Drop `loc2` column\n",
    "result = result.drop(columns='loc2')"
   ]
  },
  {
   "cell_type": "code",
   "execution_count": 22,
   "id": "8c15ff4c-897a-4f9c-9f57-e61d69b07970",
   "metadata": {},
   "outputs": [
    {
     "data": {
      "text/html": [
       "<div>\n",
       "<style scoped>\n",
       "    .dataframe tbody tr th:only-of-type {\n",
       "        vertical-align: middle;\n",
       "    }\n",
       "\n",
       "    .dataframe tbody tr th {\n",
       "        vertical-align: top;\n",
       "    }\n",
       "\n",
       "    .dataframe thead th {\n",
       "        text-align: right;\n",
       "    }\n",
       "</style>\n",
       "<table border=\"1\" class=\"dataframe\">\n",
       "  <thead>\n",
       "    <tr style=\"text-align: right;\">\n",
       "      <th></th>\n",
       "      <th>loc1</th>\n",
       "      <th>para1</th>\n",
       "      <th>para2</th>\n",
       "      <th>para3</th>\n",
       "      <th>para4</th>\n",
       "      <th>price</th>\n",
       "    </tr>\n",
       "  </thead>\n",
       "  <tbody>\n",
       "    <tr>\n",
       "      <th>0</th>\n",
       "      <td>0</td>\n",
       "      <td>1</td>\n",
       "      <td>662</td>\n",
       "      <td>3000.0</td>\n",
       "      <td>3.8</td>\n",
       "      <td>73.49</td>\n",
       "    </tr>\n",
       "    <tr>\n",
       "      <th>1</th>\n",
       "      <td>9</td>\n",
       "      <td>1</td>\n",
       "      <td>340</td>\n",
       "      <td>2760.0</td>\n",
       "      <td>9.2</td>\n",
       "      <td>300.00</td>\n",
       "    </tr>\n",
       "    <tr>\n",
       "      <th>2</th>\n",
       "      <td>0</td>\n",
       "      <td>0</td>\n",
       "      <td>16</td>\n",
       "      <td>2700.0</td>\n",
       "      <td>3.0</td>\n",
       "      <td>130.00</td>\n",
       "    </tr>\n",
       "    <tr>\n",
       "      <th>3</th>\n",
       "      <td>4</td>\n",
       "      <td>1</td>\n",
       "      <td>17</td>\n",
       "      <td>12320.0</td>\n",
       "      <td>6.4</td>\n",
       "      <td>365.00</td>\n",
       "    </tr>\n",
       "    <tr>\n",
       "      <th>4</th>\n",
       "      <td>5</td>\n",
       "      <td>1</td>\n",
       "      <td>610</td>\n",
       "      <td>2117.0</td>\n",
       "      <td>10.8</td>\n",
       "      <td>357.50</td>\n",
       "    </tr>\n",
       "    <tr>\n",
       "      <th>...</th>\n",
       "      <td>...</td>\n",
       "      <td>...</td>\n",
       "      <td>...</td>\n",
       "      <td>...</td>\n",
       "      <td>...</td>\n",
       "      <td>...</td>\n",
       "    </tr>\n",
       "    <tr>\n",
       "      <th>9995</th>\n",
       "      <td>9</td>\n",
       "      <td>3</td>\n",
       "      <td>386</td>\n",
       "      <td>5000.0</td>\n",
       "      <td>12.0</td>\n",
       "      <td>460.00</td>\n",
       "    </tr>\n",
       "    <tr>\n",
       "      <th>9996</th>\n",
       "      <td>7</td>\n",
       "      <td>1</td>\n",
       "      <td>386</td>\n",
       "      <td>3250.0</td>\n",
       "      <td>8.0</td>\n",
       "      <td>325.00</td>\n",
       "    </tr>\n",
       "    <tr>\n",
       "      <th>9997</th>\n",
       "      <td>0</td>\n",
       "      <td>0</td>\n",
       "      <td>190</td>\n",
       "      <td>8856.0</td>\n",
       "      <td>5.6</td>\n",
       "      <td>133.33</td>\n",
       "    </tr>\n",
       "    <tr>\n",
       "      <th>9998</th>\n",
       "      <td>7</td>\n",
       "      <td>3</td>\n",
       "      <td>717</td>\n",
       "      <td>5000.0</td>\n",
       "      <td>13.6</td>\n",
       "      <td>820.00</td>\n",
       "    </tr>\n",
       "    <tr>\n",
       "      <th>9999</th>\n",
       "      <td>7</td>\n",
       "      <td>1</td>\n",
       "      <td>622</td>\n",
       "      <td>336.0</td>\n",
       "      <td>4.8</td>\n",
       "      <td>375.00</td>\n",
       "    </tr>\n",
       "  </tbody>\n",
       "</table>\n",
       "<p>9993 rows × 6 columns</p>\n",
       "</div>"
      ],
      "text/plain": [
       "      loc1  para1  para2    para3  para4   price\n",
       "0        0      1    662   3000.0    3.8   73.49\n",
       "1        9      1    340   2760.0    9.2  300.00\n",
       "2        0      0     16   2700.0    3.0  130.00\n",
       "3        4      1     17  12320.0    6.4  365.00\n",
       "4        5      1    610   2117.0   10.8  357.50\n",
       "...    ...    ...    ...      ...    ...     ...\n",
       "9995     9      3    386   5000.0   12.0  460.00\n",
       "9996     7      1    386   3250.0    8.0  325.00\n",
       "9997     0      0    190   8856.0    5.6  133.33\n",
       "9998     7      3    717   5000.0   13.6  820.00\n",
       "9999     7      1    622    336.0    4.8  375.00\n",
       "\n",
       "[9993 rows x 6 columns]"
      ]
     },
     "execution_count": 22,
     "metadata": {},
     "output_type": "execute_result"
    }
   ],
   "source": [
    "# Show all rows and first 6 columns\n",
    "result.iloc[:, 0:6]"
   ]
  },
  {
   "cell_type": "code",
   "execution_count": 23,
   "id": "9c6572d2-2b18-4f34-a0ce-3c89414003d4",
   "metadata": {},
   "outputs": [
    {
     "data": {
      "image/png": "[encoded data removed]",
      "text/plain": [
       "<Figure size 2000x1500 with 6 Axes>"
      ]
     },
     "metadata": {},
     "output_type": "display_data"
    }
   ],
   "source": [
    "# Plot histograms for first 6 columns in result\n",
    "result.iloc[:, 0:6].hist(bins=50, figsize=(20, 15))\n",
    "\n",
    "# Display plot\n",
    "plt.show()"
   ]
  },
  {
   "cell_type": "code",
   "execution_count": 24,
   "id": "7918f9b5-a52a-4ba8-bec3-0a7c557a7b64",
   "metadata": {},
   "outputs": [
    {
     "data": {
      "text/html": [
       "<div>\n",
       "<style scoped>\n",
       "    .dataframe tbody tr th:only-of-type {\n",
       "        vertical-align: middle;\n",
       "    }\n",
       "\n",
       "    .dataframe tbody tr th {\n",
       "        vertical-align: top;\n",
       "    }\n",
       "\n",
       "    .dataframe thead th {\n",
       "        text-align: right;\n",
       "    }\n",
       "</style>\n",
       "<table border=\"1\" class=\"dataframe\">\n",
       "  <thead>\n",
       "    <tr style=\"text-align: right;\">\n",
       "      <th></th>\n",
       "      <th>loc1</th>\n",
       "      <th>para1</th>\n",
       "      <th>para2</th>\n",
       "      <th>para3</th>\n",
       "      <th>para4</th>\n",
       "      <th>price</th>\n",
       "    </tr>\n",
       "  </thead>\n",
       "  <tbody>\n",
       "    <tr>\n",
       "      <th>count</th>\n",
       "      <td>9993.000000</td>\n",
       "      <td>9993.000000</td>\n",
       "      <td>9993.000000</td>\n",
       "      <td>9993.000000</td>\n",
       "      <td>9993.000000</td>\n",
       "      <td>9993.000000</td>\n",
       "    </tr>\n",
       "    <tr>\n",
       "      <th>mean</th>\n",
       "      <td>3.793355</td>\n",
       "      <td>1.379966</td>\n",
       "      <td>446.888522</td>\n",
       "      <td>9550.105894</td>\n",
       "      <td>8.460614</td>\n",
       "      <td>433.318379</td>\n",
       "    </tr>\n",
       "    <tr>\n",
       "      <th>std</th>\n",
       "      <td>2.892286</td>\n",
       "      <td>3.501891</td>\n",
       "      <td>220.141080</td>\n",
       "      <td>8022.655794</td>\n",
       "      <td>4.613156</td>\n",
       "      <td>276.743453</td>\n",
       "    </tr>\n",
       "    <tr>\n",
       "      <th>min</th>\n",
       "      <td>0.000000</td>\n",
       "      <td>0.000000</td>\n",
       "      <td>16.000000</td>\n",
       "      <td>200.000000</td>\n",
       "      <td>1.000000</td>\n",
       "      <td>50.730000</td>\n",
       "    </tr>\n",
       "    <tr>\n",
       "      <th>25%</th>\n",
       "      <td>1.000000</td>\n",
       "      <td>1.000000</td>\n",
       "      <td>301.000000</td>\n",
       "      <td>2900.000000</td>\n",
       "      <td>4.000000</td>\n",
       "      <td>250.000000</td>\n",
       "    </tr>\n",
       "    <tr>\n",
       "      <th>50%</th>\n",
       "      <td>3.000000</td>\n",
       "      <td>1.000000</td>\n",
       "      <td>434.000000</td>\n",
       "      <td>6448.000000</td>\n",
       "      <td>7.200000</td>\n",
       "      <td>370.000000</td>\n",
       "    </tr>\n",
       "    <tr>\n",
       "      <th>75%</th>\n",
       "      <td>6.000000</td>\n",
       "      <td>1.000000</td>\n",
       "      <td>582.000000</td>\n",
       "      <td>15000.000000</td>\n",
       "      <td>13.600000</td>\n",
       "      <td>550.000000</td>\n",
       "    </tr>\n",
       "    <tr>\n",
       "      <th>max</th>\n",
       "      <td>9.000000</td>\n",
       "      <td>337.000000</td>\n",
       "      <td>2554.000000</td>\n",
       "      <td>34782.000000</td>\n",
       "      <td>27.200000</td>\n",
       "      <td>5700.000000</td>\n",
       "    </tr>\n",
       "  </tbody>\n",
       "</table>\n",
       "</div>"
      ],
      "text/plain": [
       "              loc1        para1        para2         para3        para4  \\\n",
       "count  9993.000000  9993.000000  9993.000000   9993.000000  9993.000000   \n",
       "mean      3.793355     1.379966   446.888522   9550.105894     8.460614   \n",
       "std       2.892286     3.501891   220.141080   8022.655794     4.613156   \n",
       "min       0.000000     0.000000    16.000000    200.000000     1.000000   \n",
       "25%       1.000000     1.000000   301.000000   2900.000000     4.000000   \n",
       "50%       3.000000     1.000000   434.000000   6448.000000     7.200000   \n",
       "75%       6.000000     1.000000   582.000000  15000.000000    13.600000   \n",
       "max       9.000000   337.000000  2554.000000  34782.000000    27.200000   \n",
       "\n",
       "             price  \n",
       "count  9993.000000  \n",
       "mean    433.318379  \n",
       "std     276.743453  \n",
       "min      50.730000  \n",
       "25%     250.000000  \n",
       "50%     370.000000  \n",
       "75%     550.000000  \n",
       "max    5700.000000  "
      ]
     },
     "execution_count": 24,
     "metadata": {},
     "output_type": "execute_result"
    }
   ],
   "source": [
    "# Summary statistics for first 6 columns in result\n",
    "result.iloc[:, 0:6].describe()"
   ]
  },
  {
   "cell_type": "code",
   "execution_count": 25,
   "id": "785a47e7-001b-4584-a383-3451a9f9a327",
   "metadata": {},
   "outputs": [
    {
     "data": {
      "text/html": [
       "<div>\n",
       "<style scoped>\n",
       "    .dataframe tbody tr th:only-of-type {\n",
       "        vertical-align: middle;\n",
       "    }\n",
       "\n",
       "    .dataframe tbody tr th {\n",
       "        vertical-align: top;\n",
       "    }\n",
       "\n",
       "    .dataframe thead th {\n",
       "        text-align: right;\n",
       "    }\n",
       "</style>\n",
       "<table border=\"1\" class=\"dataframe\">\n",
       "  <thead>\n",
       "    <tr style=\"text-align: right;\">\n",
       "      <th></th>\n",
       "      <th>loc1</th>\n",
       "      <th>para1</th>\n",
       "      <th>para2</th>\n",
       "      <th>para3</th>\n",
       "      <th>para4</th>\n",
       "      <th>price</th>\n",
       "    </tr>\n",
       "  </thead>\n",
       "  <tbody>\n",
       "    <tr>\n",
       "      <th>7196</th>\n",
       "      <td>6</td>\n",
       "      <td>337</td>\n",
       "      <td>442</td>\n",
       "      <td>25000.0</td>\n",
       "      <td>13.6</td>\n",
       "      <td>1150.0</td>\n",
       "    </tr>\n",
       "    <tr>\n",
       "      <th>1561</th>\n",
       "      <td>0</td>\n",
       "      <td>24</td>\n",
       "      <td>314</td>\n",
       "      <td>3360.0</td>\n",
       "      <td>13.6</td>\n",
       "      <td>450.0</td>\n",
       "    </tr>\n",
       "    <tr>\n",
       "      <th>8328</th>\n",
       "      <td>5</td>\n",
       "      <td>13</td>\n",
       "      <td>292</td>\n",
       "      <td>2528.0</td>\n",
       "      <td>6.8</td>\n",
       "      <td>350.0</td>\n",
       "    </tr>\n",
       "    <tr>\n",
       "      <th>4522</th>\n",
       "      <td>2</td>\n",
       "      <td>13</td>\n",
       "      <td>363</td>\n",
       "      <td>7920.0</td>\n",
       "      <td>13.2</td>\n",
       "      <td>490.0</td>\n",
       "    </tr>\n",
       "    <tr>\n",
       "      <th>7198</th>\n",
       "      <td>2</td>\n",
       "      <td>9</td>\n",
       "      <td>583</td>\n",
       "      <td>6600.0</td>\n",
       "      <td>12.0</td>\n",
       "      <td>730.0</td>\n",
       "    </tr>\n",
       "  </tbody>\n",
       "</table>\n",
       "</div>"
      ],
      "text/plain": [
       "      loc1  para1  para2    para3  para4   price\n",
       "7196     6    337    442  25000.0   13.6  1150.0\n",
       "1561     0     24    314   3360.0   13.6   450.0\n",
       "8328     5     13    292   2528.0    6.8   350.0\n",
       "4522     2     13    363   7920.0   13.2   490.0\n",
       "7198     2      9    583   6600.0   12.0   730.0"
      ]
     },
     "execution_count": 25,
     "metadata": {},
     "output_type": "execute_result"
    }
   ],
   "source": [
    "# Sort values by `para1` variable in descending order, show first 5 rows\n",
    "result.iloc[:, 0:6].sort_values(by='para1', ascending=False).head()"
   ]
  },
  {
   "cell_type": "code",
   "execution_count": 26,
   "id": "0b03b814-f8a5-47ac-a3fd-df5b5f526c1a",
   "metadata": {},
   "outputs": [
    {
     "data": {
      "text/plain": [
       "para1\n",
       "1      7052\n",
       "3      1609\n",
       "0       836\n",
       "2       265\n",
       "4       164\n",
       "5        51\n",
       "6         6\n",
       "7         3\n",
       "13        2\n",
       "9         2\n",
       "24        1\n",
       "8         1\n",
       "337       1\n",
       "Name: count, dtype: int64"
      ]
     },
     "execution_count": 26,
     "metadata": {},
     "output_type": "execute_result"
    }
   ],
   "source": [
    "# Count unique values for `para1` column\n",
    "result['para1'].value_counts()"
   ]
  },
  {
   "cell_type": "code",
   "execution_count": 27,
   "id": "e2839c78-97b3-455b-bb1d-25d4d7daebdf",
   "metadata": {},
   "outputs": [],
   "source": [
    "# Filter out rows with `para1` column containing values less than 10\n",
    "result = result[result['para1'] < 10]"
   ]
  },
  {
   "cell_type": "markdown",
   "id": "dec1470a-3be8-4e52-8a18-f15bda7a35e1",
   "metadata": {},
   "source": [
    "### Feature selection <a id='feature-selection'></a>"
   ]
  },
  {
   "cell_type": "markdown",
   "id": "8b45a79d-3119-4160-b398-803cf1b45622",
   "metadata": {},
   "source": [
    "#### Best 5 features <a id='best-five-features'></a>"
   ]
  },
  {
   "cell_type": "code",
   "execution_count": 28,
   "id": "e6e53324-ba25-44c6-9083-46b0180f0a4d",
   "metadata": {},
   "outputs": [
    {
     "data": {
      "text/plain": [
       "['para2', 'para4', 'para3', 'para1', 'Fri']"
      ]
     },
     "execution_count": 28,
     "metadata": {},
     "output_type": "execute_result"
    }
   ],
   "source": [
    "# Select top five features with highest positive correlation with `price` column\n",
    "five_best = result.corr()['price'].sort_values(ascending=False).iloc[1:6].index.tolist()\n",
    "five_best"
   ]
  },
  {
   "cell_type": "markdown",
   "id": "ce30455f-619e-4e4c-b9d7-982918a06e21",
   "metadata": {},
   "source": [
    "#### Best 3 features <a id='best-three-features'></a>"
   ]
  },
  {
   "cell_type": "code",
   "execution_count": 29,
   "id": "f3936315-60af-4a38-a9b4-48fa9f778696",
   "metadata": {},
   "outputs": [
    {
     "data": {
      "text/plain": [
       "['para2', 'para4', 'para3']"
      ]
     },
     "execution_count": 29,
     "metadata": {},
     "output_type": "execute_result"
    }
   ],
   "source": [
    "# Select top 3 features with highest positive correlation with `price` column\n",
    "three_best = result.corr()['price'].sort_values(ascending=False).iloc[1:4].index.tolist()\n",
    "three_best"
   ]
  },
  {
   "cell_type": "markdown",
   "id": "6977fe95-5cec-490d-8a03-bb86124de13d",
   "metadata": {},
   "source": [
    "## Machine Learning <a id='machine-learning'></a>"
   ]
  },
  {
   "cell_type": "markdown",
   "id": "dfae9500-170b-49fd-828f-17b2713c2527",
   "metadata": {},
   "source": [
    "### Regression Models <a id='regression-models'></a>"
   ]
  },
  {
   "cell_type": "code",
   "execution_count": 30,
   "id": "51812b50-e2a8-48cb-8b74-dd27da855653",
   "metadata": {},
   "outputs": [],
   "source": [
    "# Create dictionary with subsets of features from result DataFrame\n",
    "# For comparing model performance using different sets of features\n",
    "feature_sets = {\n",
    "    'full_dataset': result.drop(columns='price'),\n",
    "    'three_best': result[three_best],\n",
    "    'five_best': result[five_best]\n",
    "}"
   ]
  },
  {
   "cell_type": "markdown",
   "id": "8ae87174-fc27-475d-8459-87adb437ff99",
   "metadata": {},
   "source": [
    "- Ridge regression is a linear regression model with regularization.\n",
    "- Decision trees are non-linear models that recursively split the data based on features.\n",
    "- Random Forest is an ensemble method that builds multiple decision trees and combines their predictions.\n",
    "- XGBoost is a gradient boosting framework.\n",
    "- MLP is Multilayer Perceptron regression, a type of artificial neural network."
   ]
  },
  {
   "cell_type": "code",
   "execution_count": 31,
   "id": "fc1c1a0a-fed9-4def-a72b-1522629ad0d4",
   "metadata": {},
   "outputs": [],
   "source": [
    "# Create dictionary to map regression model names to instances of models\n",
    "# For comparing model performance\n",
    "regression_models = {\n",
    "    'Ridge': linear_model.Ridge(random_state=42),\n",
    "    'DecisionTree': tree.DecisionTreeRegressor(max_depth=6, random_state=42),\n",
    "    'RandomForest': RandomForestRegressor(random_state=42),\n",
    "    'XGBoost': XGBRegressor(random_state=42),\n",
    "    'MLP': MLPRegressor(random_state=42)\n",
    "}"
   ]
  },
  {
   "cell_type": "code",
   "execution_count": 32,
   "id": "25cd1e51-fe5b-4222-b2b1-0037fd3f9461",
   "metadata": {},
   "outputs": [],
   "source": [
    "# Define function to return trained model and metrics\n",
    "def make_regression(X_train, y_train, X_test, y_test, model, model_name, verbose=True):\n",
    "    \"\"\"\n",
    "    Fit regression model to training data, and return training error, test error, and R2 score.\n",
    "    \"\"\"\n",
    "    # Fit model to training data\n",
    "    model.fit(X_train, y_train)\n",
    "\n",
    "    # Make predictions on training data\n",
    "    y_train_pred = model.predict(X_train)\n",
    "\n",
    "    # Calculate training error using mean squared error\n",
    "    train_error = mean_squared_error(y_train, y_train_pred, squared=False)\n",
    "\n",
    "    # Make predictions on test data\n",
    "    y_test_pred = model.predict(X_test)\n",
    "\n",
    "    # Calculate test error using mean squared error\n",
    "    test_error = mean_squared_error(y_test, y_test_pred, squared=False)\n",
    "\n",
    "    # Calculate R-squared score on training data\n",
    "    r2 = r2_score(y_train, y_train_pred)\n",
    "\n",
    "    # Print results if verbose is True\n",
    "    if verbose:\n",
    "        print(f'---Model name = {model_name}---')\n",
    "        print(f'Train error = {train_error}')\n",
    "        print(f'Test error = {test_error}')\n",
    "        print(f'R-squared score = {r2}')\n",
    "        print('-' * 50)\n",
    "\n",
    "    # Return trained model and metrics\n",
    "    return model, y_train_pred, train_error, test_error, r2"
   ]
  },
  {
   "cell_type": "code",
   "execution_count": 33,
   "id": "1d720edf-0646-404f-83a5-19de9bffe847",
   "metadata": {},
   "outputs": [],
   "source": [
    "# Create dictionary to store prediction results\n",
    "pred_dict = {\n",
    "    'regression_model': [],\n",
    "    'feature_set': [],\n",
    "    'train_error': [],\n",
    "    'test_error': [],\n",
    "    'r2': []\n",
    "}"
   ]
  },
  {
   "cell_type": "code",
   "execution_count": 34,
   "id": "bb29ad13-e500-45c0-a2b5-76bb6244560f",
   "metadata": {},
   "outputs": [
    {
     "name": "stdout",
     "output_type": "stream",
     "text": [
      "Included columns are full_dataset\n",
      "---Model name = Ridge---\n",
      "Train error = 184.5983205180397\n",
      "Test error = 174.02156073387667\n",
      "R-squared score = 0.5581137570721937\n",
      "--------------------------------------------------\n",
      "---Model name = DecisionTree---\n",
      "Train error = 143.4710632890469\n",
      "Test error = 169.30069889199896\n",
      "R-squared score = 0.7330784586795994\n",
      "--------------------------------------------------\n",
      "---Model name = RandomForest---\n",
      "Train error = 57.75571879548165\n",
      "Test error = 154.36893753359774\n",
      "R-squared score = 0.9567441374542804\n",
      "--------------------------------------------------\n",
      "---Model name = XGBoost---\n",
      "Train error = 80.73038722087912\n",
      "Test error = 156.18825838730922\n",
      "R-squared score = 0.9154859213576304\n",
      "--------------------------------------------------\n",
      "---Model name = MLP---\n",
      "Train error = 188.71237106463445\n",
      "Test error = 177.92144971951188\n",
      "R-squared score = 0.5381980815618298\n",
      "--------------------------------------------------\n",
      "Included columns are three_best\n",
      "---Model name = Ridge---\n",
      "Train error = 185.75564508528234\n",
      "Test error = 174.90579368403405\n",
      "R-squared score = 0.5525556467649513\n",
      "--------------------------------------------------\n",
      "---Model name = DecisionTree---\n",
      "Train error = 146.76976905573534\n",
      "Test error = 174.30226016221383\n",
      "R-squared score = 0.7206631626126268\n",
      "--------------------------------------------------\n",
      "---Model name = RandomForest---\n",
      "Train error = 64.04267234236416\n",
      "Test error = 169.88238978927387\n",
      "R-squared score = 0.9468144222370422\n",
      "--------------------------------------------------\n",
      "---Model name = XGBoost---\n",
      "Train error = 98.26191598082872\n",
      "Test error = 185.05496840339546\n",
      "R-squared score = 0.8747939120670561\n",
      "--------------------------------------------------\n",
      "---Model name = MLP---\n",
      "Train error = 187.79384972780892\n",
      "Test error = 176.8620661890192\n",
      "R-squared score = 0.5426826060049199\n",
      "--------------------------------------------------\n",
      "Included columns are five_best\n",
      "---Model name = Ridge---\n",
      "Train error = 184.6787315450847\n",
      "Test error = 173.91446052599738\n",
      "R-squared score = 0.5577287019371816\n",
      "--------------------------------------------------\n",
      "---Model name = DecisionTree---\n",
      "Train error = 143.47904692982195\n",
      "Test error = 170.20925258258978\n",
      "R-squared score = 0.7330487514348978\n",
      "--------------------------------------------------\n",
      "---Model name = RandomForest---\n",
      "Train error = 60.18166786016457\n",
      "Test error = 162.56096696397134\n",
      "R-squared score = 0.9530340156454865\n",
      "--------------------------------------------------\n",
      "---Model name = XGBoost---\n",
      "Train error = 89.55736363418832\n",
      "Test error = 166.40486916514965\n",
      "R-squared score = 0.8959941923135648\n",
      "--------------------------------------------------\n",
      "---Model name = MLP---\n",
      "Train error = 189.6333811240259\n",
      "Test error = 179.09051381213845\n",
      "R-squared score = 0.5336794365299296\n",
      "--------------------------------------------------\n"
     ]
    }
   ],
   "source": [
    "# Loop over feature sets\n",
    "for feature_set_name, feature_set in feature_sets.items():\n",
    "    # Identify feature set\n",
    "    print(f'Included columns are {feature_set_name}')\n",
    "    \n",
    "    # Set feature variables\n",
    "    X = feature_set\n",
    "    \n",
    "    # Set target variable\n",
    "    y = result['price']\n",
    "    \n",
    "    # Split data into training and test datasets\n",
    "    X_train, X_test, y_train, y_test = train_test_split(X, y, test_size=0.2, random_state=42)\n",
    "\n",
    "    # Loop over regression models\n",
    "    for model_name, model in regression_models.items():\n",
    "        # Train model and make predictions\n",
    "        model, y_train_pred, train_error, test_error, r2 = make_regression(X_train, y_train, X_test, y_test, model, model_name, verbose=True)\n",
    "\n",
    "        # Store results in dictionary\n",
    "        pred_dict['regression_model'].append(model_name)\n",
    "        pred_dict['feature_set'].append(feature_set_name)\n",
    "        pred_dict['train_error'].append(train_error)\n",
    "        pred_dict['test_error'].append(test_error)\n",
    "        pred_dict['r2'].append(r2)"
   ]
  },
  {
   "cell_type": "code",
   "execution_count": 35,
   "id": "4dd35dc2-74c9-46cd-8bd4-a2e6b7506260",
   "metadata": {},
   "outputs": [
    {
     "data": {
      "text/html": [
       "<div>\n",
       "<style scoped>\n",
       "    .dataframe tbody tr th:only-of-type {\n",
       "        vertical-align: middle;\n",
       "    }\n",
       "\n",
       "    .dataframe tbody tr th {\n",
       "        vertical-align: top;\n",
       "    }\n",
       "\n",
       "    .dataframe thead th {\n",
       "        text-align: right;\n",
       "    }\n",
       "</style>\n",
       "<table border=\"1\" class=\"dataframe\">\n",
       "  <thead>\n",
       "    <tr style=\"text-align: right;\">\n",
       "      <th></th>\n",
       "      <th>regression_model</th>\n",
       "      <th>feature_set</th>\n",
       "      <th>train_error</th>\n",
       "      <th>test_error</th>\n",
       "      <th>r2</th>\n",
       "    </tr>\n",
       "  </thead>\n",
       "  <tbody>\n",
       "    <tr>\n",
       "      <th>0</th>\n",
       "      <td>Ridge</td>\n",
       "      <td>full_dataset</td>\n",
       "      <td>184.598321</td>\n",
       "      <td>174.021561</td>\n",
       "      <td>0.558114</td>\n",
       "    </tr>\n",
       "    <tr>\n",
       "      <th>1</th>\n",
       "      <td>DecisionTree</td>\n",
       "      <td>full_dataset</td>\n",
       "      <td>143.471063</td>\n",
       "      <td>169.300699</td>\n",
       "      <td>0.733078</td>\n",
       "    </tr>\n",
       "    <tr>\n",
       "      <th>2</th>\n",
       "      <td>RandomForest</td>\n",
       "      <td>full_dataset</td>\n",
       "      <td>57.755719</td>\n",
       "      <td>154.368938</td>\n",
       "      <td>0.956744</td>\n",
       "    </tr>\n",
       "    <tr>\n",
       "      <th>3</th>\n",
       "      <td>XGBoost</td>\n",
       "      <td>full_dataset</td>\n",
       "      <td>80.730387</td>\n",
       "      <td>156.188258</td>\n",
       "      <td>0.915486</td>\n",
       "    </tr>\n",
       "    <tr>\n",
       "      <th>4</th>\n",
       "      <td>MLP</td>\n",
       "      <td>full_dataset</td>\n",
       "      <td>188.712371</td>\n",
       "      <td>177.921450</td>\n",
       "      <td>0.538198</td>\n",
       "    </tr>\n",
       "  </tbody>\n",
       "</table>\n",
       "</div>"
      ],
      "text/plain": [
       "  regression_model   feature_set  train_error  test_error        r2\n",
       "0            Ridge  full_dataset   184.598321  174.021561  0.558114\n",
       "1     DecisionTree  full_dataset   143.471063  169.300699  0.733078\n",
       "2     RandomForest  full_dataset    57.755719  154.368938  0.956744\n",
       "3          XGBoost  full_dataset    80.730387  156.188258  0.915486\n",
       "4              MLP  full_dataset   188.712371  177.921450  0.538198"
      ]
     },
     "execution_count": 35,
     "metadata": {},
     "output_type": "execute_result"
    }
   ],
   "source": [
    "# Create DataFrame from dictionary\n",
    "pred_df = pd.DataFrame(data=pred_dict)\n",
    "\n",
    "# Show first 5 rows\n",
    "pred_df.head()"
   ]
  },
  {
   "cell_type": "code",
   "execution_count": 36,
   "id": "06165530-dfeb-4fde-90c3-41c888a83f5e",
   "metadata": {},
   "outputs": [],
   "source": [
    "# Create `feature_set_2` column with first part of `feature_set`\n",
    "pred_df['feature_set_2'] = pred_df['feature_set'].str.split(pat='_').str.get(i=0)"
   ]
  },
  {
   "cell_type": "code",
   "execution_count": 37,
   "id": "4c906542-1502-4461-8764-64e48cf98381",
   "metadata": {},
   "outputs": [],
   "source": [
    "# Create `model_with_data_set` column\n",
    "pred_df['model_with_data_set'] = pred_df['regression_model'] + '_' + pred_df['feature_set_2']"
   ]
  },
  {
   "cell_type": "code",
   "execution_count": 38,
   "id": "81f267ea-55e9-47c0-a854-52a41d4c2e59",
   "metadata": {},
   "outputs": [
    {
     "data": {
      "text/html": [
       "<div>\n",
       "<style scoped>\n",
       "    .dataframe tbody tr th:only-of-type {\n",
       "        vertical-align: middle;\n",
       "    }\n",
       "\n",
       "    .dataframe tbody tr th {\n",
       "        vertical-align: top;\n",
       "    }\n",
       "\n",
       "    .dataframe thead th {\n",
       "        text-align: right;\n",
       "    }\n",
       "</style>\n",
       "<table border=\"1\" class=\"dataframe\">\n",
       "  <thead>\n",
       "    <tr style=\"text-align: right;\">\n",
       "      <th></th>\n",
       "      <th>regression_model</th>\n",
       "      <th>feature_set</th>\n",
       "      <th>train_error</th>\n",
       "      <th>test_error</th>\n",
       "      <th>r2</th>\n",
       "      <th>feature_set_2</th>\n",
       "      <th>model_with_data_set</th>\n",
       "    </tr>\n",
       "  </thead>\n",
       "  <tbody>\n",
       "    <tr>\n",
       "      <th>0</th>\n",
       "      <td>Ridge</td>\n",
       "      <td>full_dataset</td>\n",
       "      <td>184.598321</td>\n",
       "      <td>174.021561</td>\n",
       "      <td>0.558114</td>\n",
       "      <td>full</td>\n",
       "      <td>Ridge_full</td>\n",
       "    </tr>\n",
       "    <tr>\n",
       "      <th>1</th>\n",
       "      <td>DecisionTree</td>\n",
       "      <td>full_dataset</td>\n",
       "      <td>143.471063</td>\n",
       "      <td>169.300699</td>\n",
       "      <td>0.733078</td>\n",
       "      <td>full</td>\n",
       "      <td>DecisionTree_full</td>\n",
       "    </tr>\n",
       "    <tr>\n",
       "      <th>2</th>\n",
       "      <td>RandomForest</td>\n",
       "      <td>full_dataset</td>\n",
       "      <td>57.755719</td>\n",
       "      <td>154.368938</td>\n",
       "      <td>0.956744</td>\n",
       "      <td>full</td>\n",
       "      <td>RandomForest_full</td>\n",
       "    </tr>\n",
       "    <tr>\n",
       "      <th>3</th>\n",
       "      <td>XGBoost</td>\n",
       "      <td>full_dataset</td>\n",
       "      <td>80.730387</td>\n",
       "      <td>156.188258</td>\n",
       "      <td>0.915486</td>\n",
       "      <td>full</td>\n",
       "      <td>XGBoost_full</td>\n",
       "    </tr>\n",
       "    <tr>\n",
       "      <th>4</th>\n",
       "      <td>MLP</td>\n",
       "      <td>full_dataset</td>\n",
       "      <td>188.712371</td>\n",
       "      <td>177.921450</td>\n",
       "      <td>0.538198</td>\n",
       "      <td>full</td>\n",
       "      <td>MLP_full</td>\n",
       "    </tr>\n",
       "    <tr>\n",
       "      <th>5</th>\n",
       "      <td>Ridge</td>\n",
       "      <td>three_best</td>\n",
       "      <td>185.755645</td>\n",
       "      <td>174.905794</td>\n",
       "      <td>0.552556</td>\n",
       "      <td>three</td>\n",
       "      <td>Ridge_three</td>\n",
       "    </tr>\n",
       "    <tr>\n",
       "      <th>6</th>\n",
       "      <td>DecisionTree</td>\n",
       "      <td>three_best</td>\n",
       "      <td>146.769769</td>\n",
       "      <td>174.302260</td>\n",
       "      <td>0.720663</td>\n",
       "      <td>three</td>\n",
       "      <td>DecisionTree_three</td>\n",
       "    </tr>\n",
       "    <tr>\n",
       "      <th>7</th>\n",
       "      <td>RandomForest</td>\n",
       "      <td>three_best</td>\n",
       "      <td>64.042672</td>\n",
       "      <td>169.882390</td>\n",
       "      <td>0.946814</td>\n",
       "      <td>three</td>\n",
       "      <td>RandomForest_three</td>\n",
       "    </tr>\n",
       "    <tr>\n",
       "      <th>8</th>\n",
       "      <td>XGBoost</td>\n",
       "      <td>three_best</td>\n",
       "      <td>98.261916</td>\n",
       "      <td>185.054968</td>\n",
       "      <td>0.874794</td>\n",
       "      <td>three</td>\n",
       "      <td>XGBoost_three</td>\n",
       "    </tr>\n",
       "    <tr>\n",
       "      <th>9</th>\n",
       "      <td>MLP</td>\n",
       "      <td>three_best</td>\n",
       "      <td>187.793850</td>\n",
       "      <td>176.862066</td>\n",
       "      <td>0.542683</td>\n",
       "      <td>three</td>\n",
       "      <td>MLP_three</td>\n",
       "    </tr>\n",
       "    <tr>\n",
       "      <th>10</th>\n",
       "      <td>Ridge</td>\n",
       "      <td>five_best</td>\n",
       "      <td>184.678732</td>\n",
       "      <td>173.914461</td>\n",
       "      <td>0.557729</td>\n",
       "      <td>five</td>\n",
       "      <td>Ridge_five</td>\n",
       "    </tr>\n",
       "    <tr>\n",
       "      <th>11</th>\n",
       "      <td>DecisionTree</td>\n",
       "      <td>five_best</td>\n",
       "      <td>143.479047</td>\n",
       "      <td>170.209253</td>\n",
       "      <td>0.733049</td>\n",
       "      <td>five</td>\n",
       "      <td>DecisionTree_five</td>\n",
       "    </tr>\n",
       "    <tr>\n",
       "      <th>12</th>\n",
       "      <td>RandomForest</td>\n",
       "      <td>five_best</td>\n",
       "      <td>60.181668</td>\n",
       "      <td>162.560967</td>\n",
       "      <td>0.953034</td>\n",
       "      <td>five</td>\n",
       "      <td>RandomForest_five</td>\n",
       "    </tr>\n",
       "    <tr>\n",
       "      <th>13</th>\n",
       "      <td>XGBoost</td>\n",
       "      <td>five_best</td>\n",
       "      <td>89.557364</td>\n",
       "      <td>166.404869</td>\n",
       "      <td>0.895994</td>\n",
       "      <td>five</td>\n",
       "      <td>XGBoost_five</td>\n",
       "    </tr>\n",
       "    <tr>\n",
       "      <th>14</th>\n",
       "      <td>MLP</td>\n",
       "      <td>five_best</td>\n",
       "      <td>189.633381</td>\n",
       "      <td>179.090514</td>\n",
       "      <td>0.533679</td>\n",
       "      <td>five</td>\n",
       "      <td>MLP_five</td>\n",
       "    </tr>\n",
       "  </tbody>\n",
       "</table>\n",
       "</div>"
      ],
      "text/plain": [
       "   regression_model   feature_set  train_error  test_error        r2  \\\n",
       "0             Ridge  full_dataset   184.598321  174.021561  0.558114   \n",
       "1      DecisionTree  full_dataset   143.471063  169.300699  0.733078   \n",
       "2      RandomForest  full_dataset    57.755719  154.368938  0.956744   \n",
       "3           XGBoost  full_dataset    80.730387  156.188258  0.915486   \n",
       "4               MLP  full_dataset   188.712371  177.921450  0.538198   \n",
       "5             Ridge    three_best   185.755645  174.905794  0.552556   \n",
       "6      DecisionTree    three_best   146.769769  174.302260  0.720663   \n",
       "7      RandomForest    three_best    64.042672  169.882390  0.946814   \n",
       "8           XGBoost    three_best    98.261916  185.054968  0.874794   \n",
       "9               MLP    three_best   187.793850  176.862066  0.542683   \n",
       "10            Ridge     five_best   184.678732  173.914461  0.557729   \n",
       "11     DecisionTree     five_best   143.479047  170.209253  0.733049   \n",
       "12     RandomForest     five_best    60.181668  162.560967  0.953034   \n",
       "13          XGBoost     five_best    89.557364  166.404869  0.895994   \n",
       "14              MLP     five_best   189.633381  179.090514  0.533679   \n",
       "\n",
       "   feature_set_2 model_with_data_set  \n",
       "0           full          Ridge_full  \n",
       "1           full   DecisionTree_full  \n",
       "2           full   RandomForest_full  \n",
       "3           full        XGBoost_full  \n",
       "4           full            MLP_full  \n",
       "5          three         Ridge_three  \n",
       "6          three  DecisionTree_three  \n",
       "7          three  RandomForest_three  \n",
       "8          three       XGBoost_three  \n",
       "9          three           MLP_three  \n",
       "10          five          Ridge_five  \n",
       "11          five   DecisionTree_five  \n",
       "12          five   RandomForest_five  \n",
       "13          five        XGBoost_five  \n",
       "14          five            MLP_five  "
      ]
     },
     "execution_count": 38,
     "metadata": {},
     "output_type": "execute_result"
    }
   ],
   "source": [
    "# Show processed pred_df\n",
    "pred_df"
   ]
  },
  {
   "cell_type": "code",
   "execution_count": 39,
   "id": "c41b04f6-3e17-48b9-b363-f2f3fd161bdd",
   "metadata": {},
   "outputs": [],
   "source": [
    "# Select columns for full plot and R2 score\n",
    "df_barh = pred_df[['train_error', 'test_error', 'r2', 'model_with_data_set']]\n",
    "\n",
    "# Select columns for training error\n",
    "df_train_error = df_barh[['model_with_data_set', 'train_error']]\n",
    "\n",
    "# Select columns for test error\n",
    "df_test_error = df_barh[['model_with_data_set', 'test_error']]"
   ]
  },
  {
   "cell_type": "code",
   "execution_count": 40,
   "id": "37fa5d93-fe5d-453a-987f-6fca33d57924",
   "metadata": {},
   "outputs": [
    {
     "data": {
      "image/png": "[encoded data removed]",
      "text/plain": [
       "<Figure size 1400x600 with 3 Axes>"
      ]
     },
     "metadata": {},
     "output_type": "display_data"
    }
   ],
   "source": [
    "# Create figure and subplots\n",
    "fig, (ax2, ax3, ax4) = plt.subplots(nrows=1, ncols=3, figsize=(14, 6))\n",
    "\n",
    "# Create R-squared plot\n",
    "df_barh.plot(kind='barh', x='model_with_data_set', y='r2', color='#2caffe', ax=ax2, legend=False)\n",
    "ax2.set_xlabel('R Squared')\n",
    "ax2.set_ylabel('Model')\n",
    "ax2.set_title('R Squared')\n",
    "\n",
    "# Create train error plot\n",
    "df_train_error.plot(kind='barh', x='model_with_data_set', y='train_error', color='#544fc5', ax=ax3, legend=False)\n",
    "ax3.set_xlabel('Train Error')\n",
    "ax3.set_ylabel('Model')\n",
    "ax3.set_title('Train Error')\n",
    "\n",
    "# Create test error plot\n",
    "df_test_error.plot(kind='barh', x='model_with_data_set', y='test_error', color='#00e272', ax=ax4, legend=False)\n",
    "ax4.set_xlabel('Test Error')\n",
    "ax4.set_ylabel('Model')\n",
    "ax4.set_title('Test Error')\n",
    "\n",
    "# Fit figure\n",
    "plt.tight_layout()\n",
    "\n",
    "# Show figure\n",
    "plt.show()"
   ]
  },
  {
   "cell_type": "markdown",
   "id": "ecdd3182-a25d-4742-8c80-e98842e9141e",
   "metadata": {},
   "source": [
    "### Model Evaluation <a id='model-evaluation'></a>"
   ]
  },
  {
   "cell_type": "code",
   "execution_count": 41,
   "id": "dc3a9926-76f8-4804-a70d-8b8ef90c9841",
   "metadata": {},
   "outputs": [],
   "source": [
    "# Drop columns used for naming in plots\n",
    "pred_df = pred_df.drop(columns=['feature_set_2', 'model_with_data_set'])"
   ]
  },
  {
   "cell_type": "markdown",
   "id": "de097799-7ff4-4642-a218-96422d8c5839",
   "metadata": {},
   "source": [
    "#### Highest R Squared <a id='highest-r-squared'></a>"
   ]
  },
  {
   "cell_type": "code",
   "execution_count": 42,
   "id": "14404c13-f3e7-47b5-90f0-8c6e1d0eed33",
   "metadata": {},
   "outputs": [
    {
     "data": {
      "text/html": [
       "<div>\n",
       "<style scoped>\n",
       "    .dataframe tbody tr th:only-of-type {\n",
       "        vertical-align: middle;\n",
       "    }\n",
       "\n",
       "    .dataframe tbody tr th {\n",
       "        vertical-align: top;\n",
       "    }\n",
       "\n",
       "    .dataframe thead th {\n",
       "        text-align: right;\n",
       "    }\n",
       "</style>\n",
       "<table border=\"1\" class=\"dataframe\">\n",
       "  <thead>\n",
       "    <tr style=\"text-align: right;\">\n",
       "      <th></th>\n",
       "      <th>regression_model</th>\n",
       "      <th>feature_set</th>\n",
       "      <th>train_error</th>\n",
       "      <th>test_error</th>\n",
       "      <th>r2</th>\n",
       "    </tr>\n",
       "  </thead>\n",
       "  <tbody>\n",
       "    <tr>\n",
       "      <th>2</th>\n",
       "      <td>RandomForest</td>\n",
       "      <td>full_dataset</td>\n",
       "      <td>57.755719</td>\n",
       "      <td>154.368938</td>\n",
       "      <td>0.956744</td>\n",
       "    </tr>\n",
       "    <tr>\n",
       "      <th>12</th>\n",
       "      <td>RandomForest</td>\n",
       "      <td>five_best</td>\n",
       "      <td>60.181668</td>\n",
       "      <td>162.560967</td>\n",
       "      <td>0.953034</td>\n",
       "    </tr>\n",
       "    <tr>\n",
       "      <th>7</th>\n",
       "      <td>RandomForest</td>\n",
       "      <td>three_best</td>\n",
       "      <td>64.042672</td>\n",
       "      <td>169.882390</td>\n",
       "      <td>0.946814</td>\n",
       "    </tr>\n",
       "    <tr>\n",
       "      <th>3</th>\n",
       "      <td>XGBoost</td>\n",
       "      <td>full_dataset</td>\n",
       "      <td>80.730387</td>\n",
       "      <td>156.188258</td>\n",
       "      <td>0.915486</td>\n",
       "    </tr>\n",
       "    <tr>\n",
       "      <th>13</th>\n",
       "      <td>XGBoost</td>\n",
       "      <td>five_best</td>\n",
       "      <td>89.557364</td>\n",
       "      <td>166.404869</td>\n",
       "      <td>0.895994</td>\n",
       "    </tr>\n",
       "  </tbody>\n",
       "</table>\n",
       "</div>"
      ],
      "text/plain": [
       "   regression_model   feature_set  train_error  test_error        r2\n",
       "2      RandomForest  full_dataset    57.755719  154.368938  0.956744\n",
       "12     RandomForest     five_best    60.181668  162.560967  0.953034\n",
       "7      RandomForest    three_best    64.042672  169.882390  0.946814\n",
       "3           XGBoost  full_dataset    80.730387  156.188258  0.915486\n",
       "13          XGBoost     five_best    89.557364  166.404869  0.895994"
      ]
     },
     "execution_count": 42,
     "metadata": {},
     "output_type": "execute_result"
    }
   ],
   "source": [
    "# Get highest r2 scores\n",
    "pred_df.nlargest(n=5, columns='r2', keep='all')"
   ]
  },
  {
   "cell_type": "markdown",
   "id": "267e785f-9942-41d0-8394-3338f9a18a3f",
   "metadata": {},
   "source": [
    "#### Minimum Train Error <a id='min-train-error'></a>"
   ]
  },
  {
   "cell_type": "code",
   "execution_count": 43,
   "id": "d3ad3cb1-d66f-4fff-b0b5-1a2de7679aaf",
   "metadata": {},
   "outputs": [
    {
     "data": {
      "text/html": [
       "<div>\n",
       "<style scoped>\n",
       "    .dataframe tbody tr th:only-of-type {\n",
       "        vertical-align: middle;\n",
       "    }\n",
       "\n",
       "    .dataframe tbody tr th {\n",
       "        vertical-align: top;\n",
       "    }\n",
       "\n",
       "    .dataframe thead th {\n",
       "        text-align: right;\n",
       "    }\n",
       "</style>\n",
       "<table border=\"1\" class=\"dataframe\">\n",
       "  <thead>\n",
       "    <tr style=\"text-align: right;\">\n",
       "      <th></th>\n",
       "      <th>regression_model</th>\n",
       "      <th>feature_set</th>\n",
       "      <th>train_error</th>\n",
       "      <th>test_error</th>\n",
       "      <th>r2</th>\n",
       "    </tr>\n",
       "  </thead>\n",
       "  <tbody>\n",
       "    <tr>\n",
       "      <th>2</th>\n",
       "      <td>RandomForest</td>\n",
       "      <td>full_dataset</td>\n",
       "      <td>57.755719</td>\n",
       "      <td>154.368938</td>\n",
       "      <td>0.956744</td>\n",
       "    </tr>\n",
       "    <tr>\n",
       "      <th>12</th>\n",
       "      <td>RandomForest</td>\n",
       "      <td>five_best</td>\n",
       "      <td>60.181668</td>\n",
       "      <td>162.560967</td>\n",
       "      <td>0.953034</td>\n",
       "    </tr>\n",
       "    <tr>\n",
       "      <th>7</th>\n",
       "      <td>RandomForest</td>\n",
       "      <td>three_best</td>\n",
       "      <td>64.042672</td>\n",
       "      <td>169.882390</td>\n",
       "      <td>0.946814</td>\n",
       "    </tr>\n",
       "    <tr>\n",
       "      <th>3</th>\n",
       "      <td>XGBoost</td>\n",
       "      <td>full_dataset</td>\n",
       "      <td>80.730387</td>\n",
       "      <td>156.188258</td>\n",
       "      <td>0.915486</td>\n",
       "    </tr>\n",
       "    <tr>\n",
       "      <th>13</th>\n",
       "      <td>XGBoost</td>\n",
       "      <td>five_best</td>\n",
       "      <td>89.557364</td>\n",
       "      <td>166.404869</td>\n",
       "      <td>0.895994</td>\n",
       "    </tr>\n",
       "  </tbody>\n",
       "</table>\n",
       "</div>"
      ],
      "text/plain": [
       "   regression_model   feature_set  train_error  test_error        r2\n",
       "2      RandomForest  full_dataset    57.755719  154.368938  0.956744\n",
       "12     RandomForest     five_best    60.181668  162.560967  0.953034\n",
       "7      RandomForest    three_best    64.042672  169.882390  0.946814\n",
       "3           XGBoost  full_dataset    80.730387  156.188258  0.915486\n",
       "13          XGBoost     five_best    89.557364  166.404869  0.895994"
      ]
     },
     "execution_count": 43,
     "metadata": {},
     "output_type": "execute_result"
    }
   ],
   "source": [
    "# Get lowest training dataset errors\n",
    "pred_df.nsmallest(n=5, columns='train_error', keep='all')"
   ]
  },
  {
   "cell_type": "markdown",
   "id": "6cf03a26-5405-4532-9a4c-fb5865f1a525",
   "metadata": {},
   "source": [
    "#### Minimum Test Error <a id='min-test-error'></a>"
   ]
  },
  {
   "cell_type": "code",
   "execution_count": 44,
   "id": "67ddfe1e-7d9e-4a46-8935-012c222b6bc8",
   "metadata": {},
   "outputs": [
    {
     "data": {
      "text/html": [
       "<div>\n",
       "<style scoped>\n",
       "    .dataframe tbody tr th:only-of-type {\n",
       "        vertical-align: middle;\n",
       "    }\n",
       "\n",
       "    .dataframe tbody tr th {\n",
       "        vertical-align: top;\n",
       "    }\n",
       "\n",
       "    .dataframe thead th {\n",
       "        text-align: right;\n",
       "    }\n",
       "</style>\n",
       "<table border=\"1\" class=\"dataframe\">\n",
       "  <thead>\n",
       "    <tr style=\"text-align: right;\">\n",
       "      <th></th>\n",
       "      <th>regression_model</th>\n",
       "      <th>feature_set</th>\n",
       "      <th>train_error</th>\n",
       "      <th>test_error</th>\n",
       "      <th>r2</th>\n",
       "    </tr>\n",
       "  </thead>\n",
       "  <tbody>\n",
       "    <tr>\n",
       "      <th>2</th>\n",
       "      <td>RandomForest</td>\n",
       "      <td>full_dataset</td>\n",
       "      <td>57.755719</td>\n",
       "      <td>154.368938</td>\n",
       "      <td>0.956744</td>\n",
       "    </tr>\n",
       "    <tr>\n",
       "      <th>3</th>\n",
       "      <td>XGBoost</td>\n",
       "      <td>full_dataset</td>\n",
       "      <td>80.730387</td>\n",
       "      <td>156.188258</td>\n",
       "      <td>0.915486</td>\n",
       "    </tr>\n",
       "    <tr>\n",
       "      <th>12</th>\n",
       "      <td>RandomForest</td>\n",
       "      <td>five_best</td>\n",
       "      <td>60.181668</td>\n",
       "      <td>162.560967</td>\n",
       "      <td>0.953034</td>\n",
       "    </tr>\n",
       "    <tr>\n",
       "      <th>13</th>\n",
       "      <td>XGBoost</td>\n",
       "      <td>five_best</td>\n",
       "      <td>89.557364</td>\n",
       "      <td>166.404869</td>\n",
       "      <td>0.895994</td>\n",
       "    </tr>\n",
       "    <tr>\n",
       "      <th>1</th>\n",
       "      <td>DecisionTree</td>\n",
       "      <td>full_dataset</td>\n",
       "      <td>143.471063</td>\n",
       "      <td>169.300699</td>\n",
       "      <td>0.733078</td>\n",
       "    </tr>\n",
       "  </tbody>\n",
       "</table>\n",
       "</div>"
      ],
      "text/plain": [
       "   regression_model   feature_set  train_error  test_error        r2\n",
       "2      RandomForest  full_dataset    57.755719  154.368938  0.956744\n",
       "3           XGBoost  full_dataset    80.730387  156.188258  0.915486\n",
       "12     RandomForest     five_best    60.181668  162.560967  0.953034\n",
       "13          XGBoost     five_best    89.557364  166.404869  0.895994\n",
       "1      DecisionTree  full_dataset   143.471063  169.300699  0.733078"
      ]
     },
     "execution_count": 44,
     "metadata": {},
     "output_type": "execute_result"
    }
   ],
   "source": [
    "# Get lowest test dataset errors\n",
    "pred_df.nsmallest(n=5, columns='test_error', keep='all')"
   ]
  },
  {
   "cell_type": "markdown",
   "id": "df31295a-3535-43ae-b46b-df0bddabdabb",
   "metadata": {},
   "source": [
    "### Grid Search in Random Forest <a id='grid-search-random-forest'></a>"
   ]
  },
  {
   "cell_type": "markdown",
   "id": "9836c622-bc7f-43da-b7b7-4dc8bd7b42cc",
   "metadata": {},
   "source": [
    "- Grid search is a technique for hyperparameter tuning\n",
    "- Different combinations of hyperparameters are tested to find best performing model"
   ]
  },
  {
   "cell_type": "code",
   "execution_count": 45,
   "id": "db6aad41-0260-4d89-89cb-e9f63c1ab1a1",
   "metadata": {},
   "outputs": [
    {
     "name": "stdout",
     "output_type": "stream",
     "text": [
      "---Model name = Random Forest---\n",
      "Train error = 57.75571879548165\n",
      "Test error = 154.36893753359774\n",
      "R squared score = 0.9567441374542804\n",
      "--------------------------------------------------\n"
     ]
    }
   ],
   "source": [
    "# Set feature variables\n",
    "X = result.drop(columns='price')\n",
    "\n",
    "# Set target variable\n",
    "y = result['price']\n",
    "\n",
    "# Split data into training and test datasets\n",
    "X_train, X_test, y_train, y_test = train_test_split(X, y, test_size=0.2, random_state=42)\n",
    "\n",
    "# Label model name\n",
    "model_name = 'Random Forest'\n",
    "\n",
    "# Initialize model\n",
    "model = RandomForestRegressor(random_state=42)\n",
    "\n",
    "# Fit model to training dataset\n",
    "model.fit(X_train, y_train)\n",
    "\n",
    "# Make predictions on training datset\n",
    "y_train_pred = model.predict(X_train)\n",
    "\n",
    "# Make predictions on test dataset\n",
    "y_test_pred = model.predict(X_test)\n",
    "\n",
    "# Calculate training error using mean squared error\n",
    "train_error_f = mean_squared_error(y_train, y_train_pred, squared=False)\n",
    "\n",
    "# Calculate test error using mean squared error\n",
    "test_error_f = mean_squared_error(y_test, y_test_pred, squared=False)\n",
    "\n",
    "# Calculate R2 score on training dataset\n",
    "r2_f = r2_score(y_train, y_train_pred)\n",
    "\n",
    "# Display results\n",
    "print(f'---Model name = {model_name}---')\n",
    "print(f'Train error = {train_error_f}')\n",
    "print(f'Test error = {test_error_f}')\n",
    "print(f'R squared score = {r2_f}')\n",
    "print('-' * 50)"
   ]
  },
  {
   "cell_type": "code",
   "execution_count": 46,
   "id": "a8646273-45a7-4aab-b994-4d9eb3f882cb",
   "metadata": {},
   "outputs": [
    {
     "data": {
      "text/plain": [
       "{'bootstrap': True,\n",
       " 'ccp_alpha': 0.0,\n",
       " 'criterion': 'squared_error',\n",
       " 'max_depth': None,\n",
       " 'max_features': 1.0,\n",
       " 'max_leaf_nodes': None,\n",
       " 'max_samples': None,\n",
       " 'min_impurity_decrease': 0.0,\n",
       " 'min_samples_leaf': 1,\n",
       " 'min_samples_split': 2,\n",
       " 'min_weight_fraction_leaf': 0.0,\n",
       " 'n_estimators': 100,\n",
       " 'n_jobs': None,\n",
       " 'oob_score': False,\n",
       " 'random_state': 42,\n",
       " 'verbose': 0,\n",
       " 'warm_start': False}"
      ]
     },
     "execution_count": 46,
     "metadata": {},
     "output_type": "execute_result"
    }
   ],
   "source": [
    "# Get hyperparameters of model as dictionary\n",
    "model.get_params()"
   ]
  },
  {
   "cell_type": "code",
   "execution_count": 47,
   "id": "2fbcdd46-e60f-42f3-8152-66ab1d8681fd",
   "metadata": {},
   "outputs": [
    {
     "data": {
      "text/plain": [
       "['accuracy',\n",
       " 'adjusted_mutual_info_score',\n",
       " 'adjusted_rand_score',\n",
       " 'average_precision',\n",
       " 'balanced_accuracy',\n",
       " 'completeness_score',\n",
       " 'explained_variance',\n",
       " 'f1',\n",
       " 'f1_macro',\n",
       " 'f1_micro',\n",
       " 'f1_samples',\n",
       " 'f1_weighted',\n",
       " 'fowlkes_mallows_score',\n",
       " 'homogeneity_score',\n",
       " 'jaccard',\n",
       " 'jaccard_macro',\n",
       " 'jaccard_micro',\n",
       " 'jaccard_samples',\n",
       " 'jaccard_weighted',\n",
       " 'matthews_corrcoef',\n",
       " 'max_error',\n",
       " 'mutual_info_score',\n",
       " 'neg_brier_score',\n",
       " 'neg_log_loss',\n",
       " 'neg_mean_absolute_error',\n",
       " 'neg_mean_absolute_percentage_error',\n",
       " 'neg_mean_gamma_deviance',\n",
       " 'neg_mean_poisson_deviance',\n",
       " 'neg_mean_squared_error',\n",
       " 'neg_mean_squared_log_error',\n",
       " 'neg_median_absolute_error',\n",
       " 'neg_negative_likelihood_ratio',\n",
       " 'neg_root_mean_squared_error',\n",
       " 'normalized_mutual_info_score',\n",
       " 'positive_likelihood_ratio',\n",
       " 'precision',\n",
       " 'precision_macro',\n",
       " 'precision_micro',\n",
       " 'precision_samples',\n",
       " 'precision_weighted',\n",
       " 'r2',\n",
       " 'rand_score',\n",
       " 'recall',\n",
       " 'recall_macro',\n",
       " 'recall_micro',\n",
       " 'recall_samples',\n",
       " 'recall_weighted',\n",
       " 'roc_auc',\n",
       " 'roc_auc_ovo',\n",
       " 'roc_auc_ovo_weighted',\n",
       " 'roc_auc_ovr',\n",
       " 'roc_auc_ovr_weighted',\n",
       " 'top_k_accuracy',\n",
       " 'v_measure_score']"
      ]
     },
     "execution_count": 47,
     "metadata": {},
     "output_type": "execute_result"
    }
   ],
   "source": [
    "# Get names of all available scorers\n",
    "get_scorer_names()"
   ]
  },
  {
   "cell_type": "code",
   "execution_count": 48,
   "id": "f20888fa-6901-494e-8175-bfff0e025c1b",
   "metadata": {},
   "outputs": [],
   "source": [
    "# Create parameter grid based on results of random search\n",
    "param_grid = {\n",
    "    'bootstrap': [True],\n",
    "    'ccp_alpha': [0.0],\n",
    "    'criterion': ['squared_error'],\n",
    "    'max_depth': [None],\n",
    "    'max_features': [1.0],\n",
    "    'max_leaf_nodes': [None],\n",
    "    'max_samples': [None],\n",
    "    'min_impurity_decrease': [0.0],\n",
    "    'min_samples_leaf': [1],\n",
    "    'min_samples_split': [2],\n",
    "    'min_weight_fraction_leaf': [0.0],\n",
    "    'n_estimators': [50, 500, 700],\n",
    "    'n_jobs': [None],\n",
    "    'oob_score': [True, False],\n",
    "    'random_state': [42],\n",
    "    'verbose': [0],\n",
    "    'warm_start': [True, False]\n",
    "}\n",
    "\n",
    "# Create base model\n",
    "rf = RandomForestRegressor()\n",
    "\n",
    "# Instantiate grid search model\n",
    "grid_search = GridSearchCV(\n",
    "    estimator=rf,\n",
    "    param_grid=param_grid,\n",
    "    cv=3,\n",
    "    n_jobs= -1,\n",
    "    verbose=0,\n",
    "    scoring='neg_mean_squared_error'\n",
    ")"
   ]
  },
  {
   "cell_type": "markdown",
   "id": "5c115012-f82b-4e5a-b891-9b44c3c34037",
   "metadata": {},
   "source": [
    "- Measure and display time for `grid_search.fit` process to run\n",
    "- Understand computational cost of grid search"
   ]
  },
  {
   "cell_type": "code",
   "execution_count": 49,
   "id": "e1b68c80-033a-4336-9d35-2ee08be7aaed",
   "metadata": {},
   "outputs": [
    {
     "name": "stdout",
     "output_type": "stream",
     "text": [
      "Execution time: 30.33 seconds (0.51 minutes)\n"
     ]
    }
   ],
   "source": [
    "# Record current time (start)\n",
    "start_time = time.time()\n",
    "\n",
    "# Perform grid search on training data\n",
    "grid_search.fit(X_train, y_train)\n",
    "\n",
    "# Record current time (end)\n",
    "end_time = time.time()\n",
    "\n",
    "# Calculate elapsed time in seconds\n",
    "elapsed_time_seconds = round(end_time - start_time, ndigits=2)\n",
    "\n",
    "# Calculate elapsed time in minutes\n",
    "elapsed_time_minutes = round(elapsed_time_seconds / 60, ndigits=2)\n",
    "\n",
    "# Print execution time\n",
    "print(f'Execution time: {elapsed_time_seconds} seconds ({elapsed_time_minutes} minutes)')"
   ]
  },
  {
   "cell_type": "code",
   "execution_count": 50,
   "id": "11a22a99-a5aa-471e-ae63-fc438c9ab441",
   "metadata": {},
   "outputs": [],
   "source": [
    "# Store set of hyperparameters that resulted in best performance by evaluation metric\n",
    "best_params = grid_search.best_params_"
   ]
  },
  {
   "cell_type": "code",
   "execution_count": 51,
   "id": "a95a4a81-62c1-49be-9535-d990cfdc2db3",
   "metadata": {},
   "outputs": [
    {
     "name": "stdout",
     "output_type": "stream",
     "text": [
      "---Model name = Random Forest---\n",
      "Train error = 56.51226576818291\n",
      "Test error = 154.25749133821523\n",
      "R squared score = 0.9585866435847453\n",
      "--------------------------------------------------\n"
     ]
    }
   ],
   "source": [
    "# Set feature variables\n",
    "X = result.drop(columns='price')\n",
    "\n",
    "# Set target variable\n",
    "y = result['price']\n",
    "\n",
    "# Split data into training and test datasets\n",
    "X_train, X_test, y_train, y_test = train_test_split(X, y, test_size=0.2, random_state=42)\n",
    "\n",
    "# Label model name\n",
    "model_name = 'Random Forest'\n",
    "\n",
    "# Initialize and set parameters for model\n",
    "model = RandomForestRegressor().set_params(**best_params)\n",
    "\n",
    "# Fit model on training dataset\n",
    "model.fit(X_train, y_train)\n",
    "\n",
    "# Make predictions on training dataset\n",
    "y_train_pred = model.predict(X_train)\n",
    "\n",
    "# Make predictions on test dataset\n",
    "y_test_pred = model.predict(X_test)\n",
    "\n",
    "# Calculate training error using mean squared error\n",
    "train_error_gr = mean_squared_error(y_train, y_train_pred, squared=False)\n",
    "\n",
    "# Calculate test error using mean squared error\n",
    "test_error_gr = mean_squared_error(y_test, y_test_pred, squared=False)\n",
    "\n",
    "# Calculate R2 score on training dataset\n",
    "r2_gr = r2_score(y_train, y_train_pred)\n",
    "\n",
    "# Display results\n",
    "print(f'---Model name = {model_name}---')\n",
    "print(f'Train error = {train_error_gr}')\n",
    "print(f'Test error = {test_error_gr}')\n",
    "print(f'R squared score = {r2_gr}')\n",
    "print('-' * 50)"
   ]
  },
  {
   "cell_type": "markdown",
   "id": "aa0a91bb-36c4-43fb-8fbd-a9e05e815a07",
   "metadata": {},
   "source": [
    "### Scaling <a id='scaling'></a>"
   ]
  },
  {
   "cell_type": "markdown",
   "id": "735799d5-f128-4ec8-8518-5707c1209b8e",
   "metadata": {},
   "source": [
    "#### Min-Max Scaling <a id='min-max-scaling'></a>"
   ]
  },
  {
   "cell_type": "markdown",
   "id": "d1abfe15-1b44-4052-8725-d72f2e1502bd",
   "metadata": {},
   "source": [
    "- Normalize values of features and target variables"
   ]
  },
  {
   "cell_type": "code",
   "execution_count": 52,
   "id": "89bed9a1-fb69-4108-8e7a-4b4ed98335d4",
   "metadata": {},
   "outputs": [],
   "source": [
    "# Set feature variables\n",
    "X = result.drop(columns='price')\n",
    "\n",
    "# Set target variable\n",
    "y = result['price']\n",
    "\n",
    "# Convert target variable into NumPy array\n",
    "# Reshape array to have one column and as many rows as required\n",
    "# Reshaping ensures compatibility with machine learning models that expect target variable as two-dimensional array\n",
    "y = np.asanyarray(a=y).reshape((-1, 1))"
   ]
  },
  {
   "cell_type": "code",
   "execution_count": 53,
   "id": "af25cf2a-9f0c-41c5-87c0-a355eb2f34bd",
   "metadata": {},
   "outputs": [],
   "source": [
    "# Create instance of MinMaxScaler for X (features)\n",
    "X_scaler = MinMaxScaler()\n",
    "\n",
    "# Fit scaler to X and transform X using learned scaling parameters\n",
    "X_scaled = X_scaler.fit_transform(X)\n",
    "\n",
    "# Create instance of MinMaxScaler for y (target values)\n",
    "y_scaler = MinMaxScaler()\n",
    "\n",
    "# Fit scaler to y and transform y using learned scaling parameters\n",
    "y_scaled = y_scaler.fit_transform(y)"
   ]
  },
  {
   "cell_type": "code",
   "execution_count": 54,
   "id": "b1823afb-1f29-44e5-9375-02e33df460b0",
   "metadata": {},
   "outputs": [],
   "source": [
    "# Split scaled data into training and test datasets\n",
    "X_train_scaled, X_test_scaled, y_train_scaled, y_test_scaled = train_test_split(X_scaled, y_scaled, test_size=0.2, random_state=42)"
   ]
  },
  {
   "cell_type": "code",
   "execution_count": 55,
   "id": "cb8db537-400c-47d9-a1c1-583d52ea3d82",
   "metadata": {},
   "outputs": [],
   "source": [
    "# Return flattened data as an ndarray or ExtensionArray\n",
    "y_train_scaled = y_train_scaled.ravel()\n",
    "y_test_scaled = y_test_scaled.ravel()"
   ]
  },
  {
   "cell_type": "code",
   "execution_count": 56,
   "id": "a6d4abbc-3c4d-4cd7-bf3b-7441bd8158d5",
   "metadata": {},
   "outputs": [],
   "source": [
    "# Initialize and set parameters for model\n",
    "model = RandomForestRegressor(**best_params)\n",
    "\n",
    "# Fit model on scaled training dataset\n",
    "model.fit(X_train_scaled, y_train_scaled)\n",
    "\n",
    "# Make predictions on scaled training dataset and inverse transform to original scale\n",
    "y_predict_train_minmax = y_scaler.inverse_transform(model.predict(X_train_scaled).reshape(-1, 1))\n",
    "\n",
    "# Calculate training error using mean squared error\n",
    "rmse_error_train_minmax = mean_squared_error(y_train, y_predict_train_minmax[:, 0], squared=False)\n",
    "\n",
    "# Calculate R2 score\n",
    "r2_minmax = r2_score(y_train, y_predict_train_minmax)"
   ]
  },
  {
   "cell_type": "code",
   "execution_count": 57,
   "id": "fa1c9a77-6390-4fc5-8782-985cab314a9d",
   "metadata": {},
   "outputs": [],
   "source": [
    "# Initialize and set parameters for model\n",
    "model = RandomForestRegressor(**best_params)\n",
    "\n",
    "# Fit model on scaled test dataset\n",
    "model.fit(X_test_scaled, y_test_scaled)\n",
    "\n",
    "# Make predictions on scaled test dataset and inverse transform to original scale\n",
    "y_predict_test_minmax = y_scaler.inverse_transform(model.predict(X_test_scaled).reshape(-1, 1))\n",
    "\n",
    "# Calculate test error using mean squared error\n",
    "rmse_error_test_minmax = mean_squared_error(y_test, y_predict_test_minmax[:, 0], squared=False)"
   ]
  },
  {
   "cell_type": "code",
   "execution_count": 58,
   "id": "38f949b7-fb82-401c-b748-80cad2370f0b",
   "metadata": {},
   "outputs": [
    {
     "name": "stdout",
     "output_type": "stream",
     "text": [
      "Normalized train error = 56.52133745798042\n",
      "Normalized test error = 59.18919660891543\n",
      "Normalized R-squared score = 0.9585733466740054\n"
     ]
    }
   ],
   "source": [
    "# Display results\n",
    "print(f'Normalized train error = {rmse_error_train_minmax}')\n",
    "print(f'Normalized test error = {rmse_error_test_minmax}')\n",
    "print(f'Normalized R-squared score = {r2_minmax}')"
   ]
  },
  {
   "cell_type": "markdown",
   "id": "ac2b688e-3a67-41f9-97ac-ba7e6c45edb8",
   "metadata": {},
   "source": [
    "#### Standard Scaling <a id='standard-scaling'></a>"
   ]
  },
  {
   "cell_type": "markdown",
   "id": "aeb46270-0b7a-48d6-8338-d477239cd89d",
   "metadata": {},
   "source": [
    "- Standardization (z-score normalization) of features and target variables\n",
    "- Zero mean and unit variance"
   ]
  },
  {
   "cell_type": "code",
   "execution_count": 59,
   "id": "048186a3-12db-4847-b187-3067383b1049",
   "metadata": {},
   "outputs": [],
   "source": [
    "# Create instance of StandardScaler for X (features)\n",
    "X_scaler = StandardScaler()\n",
    "\n",
    "# Fit scaler to X and transform X using learned scaling parameters\n",
    "X_scaled = X_scaler.fit_transform(X)\n",
    "\n",
    "# Create instance of StandardScaler for y (target values)\n",
    "y_scaler = StandardScaler()\n",
    "\n",
    "# Fit scaler to y and transform y using learned scaling parameters\n",
    "y_scaled = y_scaler.fit_transform(y)"
   ]
  },
  {
   "cell_type": "code",
   "execution_count": 60,
   "id": "92f9658b-4f82-4620-bada-b9c6ec49cdd1",
   "metadata": {},
   "outputs": [],
   "source": [
    "# Split scaled data into training and test datasets\n",
    "X_train_scaled, X_test_scaled, y_train_scaled, y_test_scaled = train_test_split(X_scaled, y_scaled, test_size=0.2, random_state=42)"
   ]
  },
  {
   "cell_type": "code",
   "execution_count": 61,
   "id": "6330cf45-5b9f-4634-a3c9-62a1cea8905d",
   "metadata": {},
   "outputs": [],
   "source": [
    "# Return flattened data as an ndarray or ExtensionArray\n",
    "y_train_scaled = y_train_scaled.ravel()\n",
    "y_test_scaled = y_test_scaled.ravel()"
   ]
  },
  {
   "cell_type": "code",
   "execution_count": 62,
   "id": "bce38021-d7a2-489b-9ad3-702385187b8a",
   "metadata": {},
   "outputs": [],
   "source": [
    "# Initialize and set parameters for model\n",
    "model = RandomForestRegressor(**best_params)\n",
    "\n",
    "# Fit model on scaled training dataset\n",
    "model.fit(X_train_scaled, y_train_scaled)\n",
    "\n",
    "# Make predictions on scaled training dataset and inverse transform to original scale\n",
    "y_predict_train_standard = y_scaler.inverse_transform(model.predict(X_train_scaled).reshape(-1, 1))\n",
    "\n",
    "# Calculate training error using mean squared error\n",
    "rmse_error_train_standard = mean_squared_error(y_train, y_predict_train_standard[:, 0], squared=False)\n",
    "\n",
    "# Calculate R2 score\n",
    "r2_standard = r2_score(y_train, y_predict_train_standard)"
   ]
  },
  {
   "cell_type": "code",
   "execution_count": 63,
   "id": "497f0c57-7674-464b-a46f-ce293d050344",
   "metadata": {},
   "outputs": [],
   "source": [
    "# Initialize and set parameters for model\n",
    "model = RandomForestRegressor(**best_params)\n",
    "\n",
    "# Fit model on scaled test dataset\n",
    "model.fit(X_test_scaled, y_test_scaled)\n",
    "\n",
    "# Make predictions on scaled test dataset and inverse transform to original scale\n",
    "y_predict_test_standard = y_scaler.inverse_transform(model.predict(X_test_scaled).reshape(-1, 1))\n",
    "\n",
    "# Calculate test error using mean squared error\n",
    "rmse_error_test_standard = mean_squared_error(y_test, y_predict_test_standard[:, 0], squared=False)"
   ]
  },
  {
   "cell_type": "code",
   "execution_count": 64,
   "id": "5752ce10-fccc-4763-bc04-daca72fe557c",
   "metadata": {},
   "outputs": [
    {
     "name": "stdout",
     "output_type": "stream",
     "text": [
      "Normalized train error = 56.487107113560775\n",
      "Normalized test error = 59.23562677932352\n",
      "Normalized R-squared score = 0.9586235089411177\n"
     ]
    }
   ],
   "source": [
    "print(f'Normalized train error = {rmse_error_train_standard}')\n",
    "print(f'Normalized test error = {rmse_error_test_standard}')\n",
    "print(f'Normalized R-squared score = {r2_standard}')"
   ]
  },
  {
   "cell_type": "markdown",
   "id": "146abdec-2104-4b8d-8a1d-6957006633e0",
   "metadata": {},
   "source": [
    "#### Robust Scaling <a id='robust-scaling'></a>"
   ]
  },
  {
   "cell_type": "markdown",
   "id": "1eb18c21-8452-4844-a638-6d6039fd040e",
   "metadata": {},
   "source": [
    "- Robust scaling is less influenced by outliers compared to MinMax scaling and Standard scaling."
   ]
  },
  {
   "cell_type": "code",
   "execution_count": 65,
   "id": "68ec8f24-006b-442b-9a32-b4e5ed7e2ac3",
   "metadata": {},
   "outputs": [],
   "source": [
    "# Create instance of RobustScaler for X (features)\n",
    "X_scaler = RobustScaler()\n",
    "\n",
    "# Fit scaler to X and transform X using learned scaling parameters\n",
    "X_scaled = X_scaler.fit_transform(X)\n",
    "\n",
    "# Create instance of RobustScaler for y (target values)\n",
    "y_scaler = RobustScaler()\n",
    "\n",
    "# Fit scaler to y and transform y using learned scaling parameters\n",
    "y_scaled = y_scaler.fit_transform(y)"
   ]
  },
  {
   "cell_type": "code",
   "execution_count": 66,
   "id": "de597947-de71-4beb-b026-b1156efc0445",
   "metadata": {},
   "outputs": [],
   "source": [
    "# Split scaled data into training and test datasets\n",
    "X_train_scaled, X_test_scaled, y_train_scaled, y_test_scaled = train_test_split(X_scaled, y_scaled, test_size=0.2, random_state=42)"
   ]
  },
  {
   "cell_type": "code",
   "execution_count": 67,
   "id": "a5ff3877-2a67-4e6b-ad70-2dbe7de62ab3",
   "metadata": {},
   "outputs": [],
   "source": [
    "# Return flattened data as an ndarray or ExtensionArray\n",
    "y_train_scaled = y_train_scaled.ravel()\n",
    "y_test_scaled = y_test_scaled.ravel()"
   ]
  },
  {
   "cell_type": "code",
   "execution_count": 68,
   "id": "452ba0de-5c3b-4fcf-9c28-0d336d6274ab",
   "metadata": {},
   "outputs": [],
   "source": [
    "# Initialize and set parameters for model\n",
    "model = RandomForestRegressor(**best_params)\n",
    "\n",
    "# Fit model on scaled training dataset\n",
    "model.fit(X_train_scaled, y_train_scaled)\n",
    "\n",
    "# Make predictions on scaled training dataset and inverse transform to original scale\n",
    "y_predict_train_robust = y_scaler.inverse_transform(model.predict(X_train_scaled).reshape(-1, 1))\n",
    "\n",
    "# Calculate training error using mean squared error\n",
    "rmse_error_train_robust = mean_squared_error(y_train, y_predict_train_robust[:, 0], squared=False)\n",
    "\n",
    "# Calculate R2 score\n",
    "r2_robust = r2_score(y_train, y_predict_train_robust)"
   ]
  },
  {
   "cell_type": "code",
   "execution_count": 69,
   "id": "fbd44eb4-09ee-46ff-b80f-05a9f5950212",
   "metadata": {},
   "outputs": [],
   "source": [
    "# Initialize and set parameters for model\n",
    "model = RandomForestRegressor(**best_params)\n",
    "\n",
    "# Fit model on scaled test dataset\n",
    "model.fit(X_test_scaled, y_test_scaled)\n",
    "\n",
    "# Make predictions on scaled test dataset and inverse transform to original scale\n",
    "y_predict_test_robust = y_scaler.inverse_transform(model.predict(X_test_scaled).reshape(-1, 1))\n",
    "\n",
    "# Calculate test error using mean squared error\n",
    "rmse_error_test_robust = mean_squared_error(y_test, y_predict_test_robust[:, 0], squared=False)"
   ]
  },
  {
   "cell_type": "code",
   "execution_count": 70,
   "id": "4046c5ed-7820-4d27-afae-9b7b6431a440",
   "metadata": {},
   "outputs": [
    {
     "name": "stdout",
     "output_type": "stream",
     "text": [
      "Normalized train error = 56.57405224249394\n",
      "Normalized test error = 59.04469114746593\n",
      "Normalized R-squared score = 0.9584960372696737\n"
     ]
    }
   ],
   "source": [
    "print(f'Normalized train error = {rmse_error_train_robust}')\n",
    "print(f'Normalized test error = {rmse_error_test_robust}')\n",
    "print(f'Normalized R-squared score = {r2_robust}')"
   ]
  },
  {
   "cell_type": "markdown",
   "id": "40ddab68-3cfa-4ae9-86ba-3ec7c6a9a47a",
   "metadata": {},
   "source": [
    "### Visualize Machine Learning Model Results <a id='ml-model-results'></a>"
   ]
  },
  {
   "cell_type": "code",
   "execution_count": 71,
   "id": "5bd574ac-a2d3-4443-b52b-041d129e71f8",
   "metadata": {},
   "outputs": [],
   "source": [
    "# Store evaluation metrics for different configurations of predictive model\n",
    "pred_dict = {\n",
    "    'Technique': ['Base Model', 'Grid Search', 'Min-Max Scaling', 'Standard Scaling', 'Robust Scaling'],\n",
    "    'Train Error': [train_error_f, train_error_gr, rmse_error_train_minmax, rmse_error_train_standard, rmse_error_train_robust],\n",
    "    'Test Error': [test_error_f, test_error_gr, rmse_error_test_minmax, rmse_error_test_standard, rmse_error_test_robust],\n",
    "    'R2': [r2_f, r2_gr, r2_minmax, r2_standard, r2_robust]\n",
    "}"
   ]
  },
  {
   "cell_type": "code",
   "execution_count": 72,
   "id": "b01efa2a-cd85-4012-bfa8-90378b25bd22",
   "metadata": {},
   "outputs": [
    {
     "data": {
      "text/html": [
       "<div>\n",
       "<style scoped>\n",
       "    .dataframe tbody tr th:only-of-type {\n",
       "        vertical-align: middle;\n",
       "    }\n",
       "\n",
       "    .dataframe tbody tr th {\n",
       "        vertical-align: top;\n",
       "    }\n",
       "\n",
       "    .dataframe thead th {\n",
       "        text-align: right;\n",
       "    }\n",
       "</style>\n",
       "<table border=\"1\" class=\"dataframe\">\n",
       "  <thead>\n",
       "    <tr style=\"text-align: right;\">\n",
       "      <th></th>\n",
       "      <th>Technique</th>\n",
       "      <th>Train Error</th>\n",
       "      <th>Test Error</th>\n",
       "      <th>R2</th>\n",
       "    </tr>\n",
       "  </thead>\n",
       "  <tbody>\n",
       "    <tr>\n",
       "      <th>0</th>\n",
       "      <td>Base Model</td>\n",
       "      <td>57.755719</td>\n",
       "      <td>154.368938</td>\n",
       "      <td>0.956744</td>\n",
       "    </tr>\n",
       "    <tr>\n",
       "      <th>1</th>\n",
       "      <td>Grid Search</td>\n",
       "      <td>56.512266</td>\n",
       "      <td>154.257491</td>\n",
       "      <td>0.958587</td>\n",
       "    </tr>\n",
       "    <tr>\n",
       "      <th>2</th>\n",
       "      <td>Min-Max Scaling</td>\n",
       "      <td>56.521337</td>\n",
       "      <td>59.189197</td>\n",
       "      <td>0.958573</td>\n",
       "    </tr>\n",
       "    <tr>\n",
       "      <th>3</th>\n",
       "      <td>Standard Scaling</td>\n",
       "      <td>56.487107</td>\n",
       "      <td>59.235627</td>\n",
       "      <td>0.958624</td>\n",
       "    </tr>\n",
       "    <tr>\n",
       "      <th>4</th>\n",
       "      <td>Robust Scaling</td>\n",
       "      <td>56.574052</td>\n",
       "      <td>59.044691</td>\n",
       "      <td>0.958496</td>\n",
       "    </tr>\n",
       "  </tbody>\n",
       "</table>\n",
       "</div>"
      ],
      "text/plain": [
       "          Technique  Train Error  Test Error        R2\n",
       "0        Base Model    57.755719  154.368938  0.956744\n",
       "1       Grid Search    56.512266  154.257491  0.958587\n",
       "2   Min-Max Scaling    56.521337   59.189197  0.958573\n",
       "3  Standard Scaling    56.487107   59.235627  0.958624\n",
       "4    Robust Scaling    56.574052   59.044691  0.958496"
      ]
     },
     "execution_count": 72,
     "metadata": {},
     "output_type": "execute_result"
    }
   ],
   "source": [
    "# Create DataFrame from dictionary\n",
    "pred_df = pd.DataFrame(pred_dict)\n",
    "\n",
    "# Show processed DataFrame\n",
    "pred_df"
   ]
  },
  {
   "cell_type": "code",
   "execution_count": 73,
   "id": "f9cb7e3b-356a-4c0f-9f82-1f1ceed57165",
   "metadata": {},
   "outputs": [
    {
     "data": {
      "image/png": "[encoded data removed]",
      "text/plain": [
       "<Figure size 1400x600 with 3 Axes>"
      ]
     },
     "metadata": {},
     "output_type": "display_data"
    }
   ],
   "source": [
    "# Create figure and subplots\n",
    "fig, (ax2, ax3, ax4) = plt.subplots(nrows=1, ncols=3, figsize=(14, 6))\n",
    "\n",
    "# Create R-squared plot\n",
    "pred_df.plot(kind='bar', x='Technique', y='R2', color='#2caffe', ax=ax2, legend=False)\n",
    "ax2.set_xlabel('R Squared')\n",
    "ax2.set_title('R Squared')\n",
    "ax2.tick_params(axis='x', labelrotation=45)\n",
    "\n",
    "# Create train error plot\n",
    "pred_df.plot(kind='bar', x='Technique', y='Train Error', color='#544fc5', ax=ax3, legend=False)\n",
    "ax3.set_xlabel('Train Error')\n",
    "ax3.set_title('Train Error')\n",
    "ax3.tick_params(axis='x', labelrotation=45)\n",
    "\n",
    "# Create test error plot\n",
    "pred_df.plot(kind='bar', x='Technique', y='Test Error', color='#00e272', ax=ax4, legend=False)\n",
    "ax4.set_xlabel('Test Error')\n",
    "ax4.set_title('Test Error')\n",
    "ax4.tick_params(axis='x', labelrotation=45)\n",
    "\n",
    "# Fit figure\n",
    "plt.tight_layout()\n",
    "\n",
    "# Show figure\n",
    "plt.show()"
   ]
  },
  {
   "cell_type": "markdown",
   "id": "79ef687a-ce04-497e-85b1-9d84348703af",
   "metadata": {},
   "source": [
    "## Deep Learning <a id='deep-learning'></a>"
   ]
  },
  {
   "cell_type": "code",
   "execution_count": 74,
   "id": "e8a33349-6d5a-4c5d-937c-4478f4dceb9e",
   "metadata": {},
   "outputs": [],
   "source": [
    "# Set feature variables\n",
    "X = result.drop(columns='price')\n",
    "\n",
    "# Set target variable\n",
    "y = result['price']\n",
    "# y = np.asanyarray(y).reshape(-1, 1)"
   ]
  },
  {
   "cell_type": "code",
   "execution_count": 75,
   "id": "3a93d88d-e32d-4a68-9854-1e6e6c03333e",
   "metadata": {},
   "outputs": [],
   "source": [
    "# Split data into training and test datasets\n",
    "X_train, X_test, y_train, y_test = train_test_split(X, y, test_size=0.2, random_state=42)"
   ]
  },
  {
   "cell_type": "code",
   "execution_count": 76,
   "id": "8b8c21ef-d027-4af0-ac2d-460d7584d17d",
   "metadata": {},
   "outputs": [],
   "source": [
    "# Convert NumPy array to TensorFlow tensor\n",
    "X_train = tf.convert_to_tensor(X_train, dtype=tf.float32)\n",
    "X_test = tf.convert_to_tensor(X_test, dtype=tf.float32)"
   ]
  },
  {
   "cell_type": "code",
   "execution_count": 77,
   "id": "744e2f45-de20-4c58-9b1f-ff7866755ffd",
   "metadata": {},
   "outputs": [
    {
     "name": "stdout",
     "output_type": "stream",
     "text": [
      "Epoch 1/30\n",
      "250/250 [==============================] - 1s 5ms/step - loss: 147601.0938 - mean_absolute_error: 268.3280 - val_loss: 90544.3828 - val_mean_absolute_error: 219.0211\n",
      "Epoch 2/30\n",
      "250/250 [==============================] - 1s 4ms/step - loss: 90632.2812 - mean_absolute_error: 210.2799 - val_loss: 73572.1719 - val_mean_absolute_error: 190.4278\n",
      "Epoch 3/30\n",
      "250/250 [==============================] - 1s 4ms/step - loss: 75026.3672 - mean_absolute_error: 184.0037 - val_loss: 60558.1719 - val_mean_absolute_error: 169.1112\n",
      "Epoch 4/30\n",
      "250/250 [==============================] - 1s 4ms/step - loss: 63598.0781 - mean_absolute_error: 164.5691 - val_loss: 51801.4844 - val_mean_absolute_error: 154.2904\n",
      "Epoch 5/30\n",
      "250/250 [==============================] - 1s 4ms/step - loss: 55849.0742 - mean_absolute_error: 151.9290 - val_loss: 46140.4258 - val_mean_absolute_error: 142.6467\n",
      "Epoch 6/30\n",
      "250/250 [==============================] - 1s 4ms/step - loss: 50730.9609 - mean_absolute_error: 143.7924 - val_loss: 42811.2227 - val_mean_absolute_error: 138.2601\n",
      "Epoch 7/30\n",
      "250/250 [==============================] - 1s 4ms/step - loss: 47686.8477 - mean_absolute_error: 140.2798 - val_loss: 41115.8906 - val_mean_absolute_error: 136.9668\n",
      "Epoch 8/30\n",
      "250/250 [==============================] - 1s 4ms/step - loss: 46189.1406 - mean_absolute_error: 139.2407 - val_loss: 40328.5781 - val_mean_absolute_error: 137.2166\n",
      "Epoch 9/30\n",
      "250/250 [==============================] - 1s 4ms/step - loss: 45317.2461 - mean_absolute_error: 138.9026 - val_loss: 40012.1484 - val_mean_absolute_error: 138.1269\n",
      "Epoch 10/30\n",
      "250/250 [==============================] - 1s 4ms/step - loss: 44878.0977 - mean_absolute_error: 139.0978 - val_loss: 39940.1406 - val_mean_absolute_error: 138.8290\n",
      "Epoch 11/30\n",
      "250/250 [==============================] - 1s 4ms/step - loss: 44731.8516 - mean_absolute_error: 139.5110 - val_loss: 40220.8555 - val_mean_absolute_error: 138.6482\n",
      "Epoch 12/30\n",
      "250/250 [==============================] - 1s 4ms/step - loss: 44619.4922 - mean_absolute_error: 139.4802 - val_loss: 40002.5117 - val_mean_absolute_error: 142.6163\n",
      "Epoch 13/30\n",
      "250/250 [==============================] - 1s 4ms/step - loss: 44535.4961 - mean_absolute_error: 139.6808 - val_loss: 40115.5117 - val_mean_absolute_error: 139.2673\n",
      "Epoch 14/30\n",
      "250/250 [==============================] - 1s 4ms/step - loss: 44510.5156 - mean_absolute_error: 139.4905 - val_loss: 39928.4961 - val_mean_absolute_error: 139.7754\n",
      "Epoch 15/30\n",
      "250/250 [==============================] - 1s 4ms/step - loss: 44417.3242 - mean_absolute_error: 139.7236 - val_loss: 40017.6523 - val_mean_absolute_error: 139.4408\n",
      "Epoch 16/30\n",
      "250/250 [==============================] - 1s 4ms/step - loss: 44489.4648 - mean_absolute_error: 139.7764 - val_loss: 40214.1992 - val_mean_absolute_error: 138.9223\n",
      "Epoch 17/30\n",
      "250/250 [==============================] - 1s 4ms/step - loss: 44438.5430 - mean_absolute_error: 139.5965 - val_loss: 39737.0234 - val_mean_absolute_error: 139.7344\n",
      "Epoch 18/30\n",
      "250/250 [==============================] - 1s 4ms/step - loss: 44380.2773 - mean_absolute_error: 139.3337 - val_loss: 39723.7188 - val_mean_absolute_error: 139.4085\n",
      "Epoch 19/30\n",
      "250/250 [==============================] - 1s 4ms/step - loss: 44296.1914 - mean_absolute_error: 139.2449 - val_loss: 39672.9844 - val_mean_absolute_error: 139.4581\n",
      "Epoch 20/30\n",
      "250/250 [==============================] - 1s 4ms/step - loss: 44205.0898 - mean_absolute_error: 139.2745 - val_loss: 39963.3242 - val_mean_absolute_error: 143.9768\n",
      "Epoch 21/30\n",
      "250/250 [==============================] - 1s 4ms/step - loss: 44115.6406 - mean_absolute_error: 139.4108 - val_loss: 39567.2852 - val_mean_absolute_error: 141.1175\n",
      "Epoch 22/30\n",
      "250/250 [==============================] - 1s 4ms/step - loss: 44203.3945 - mean_absolute_error: 139.1906 - val_loss: 39755.9375 - val_mean_absolute_error: 138.5684\n",
      "Epoch 23/30\n",
      "250/250 [==============================] - 1s 4ms/step - loss: 44098.0234 - mean_absolute_error: 138.9281 - val_loss: 39452.4023 - val_mean_absolute_error: 139.3134\n",
      "Epoch 24/30\n",
      "250/250 [==============================] - 1s 4ms/step - loss: 44132.4883 - mean_absolute_error: 139.1751 - val_loss: 39772.1641 - val_mean_absolute_error: 138.0393\n",
      "Epoch 25/30\n",
      "250/250 [==============================] - 1s 4ms/step - loss: 43950.3594 - mean_absolute_error: 138.6030 - val_loss: 39766.8398 - val_mean_absolute_error: 137.8409\n",
      "Epoch 26/30\n",
      "250/250 [==============================] - 1s 4ms/step - loss: 43915.1211 - mean_absolute_error: 138.6029 - val_loss: 39358.5625 - val_mean_absolute_error: 138.8217\n",
      "Epoch 27/30\n",
      "250/250 [==============================] - 1s 4ms/step - loss: 43953.0078 - mean_absolute_error: 138.5310 - val_loss: 39691.3633 - val_mean_absolute_error: 137.9625\n",
      "Epoch 28/30\n",
      "250/250 [==============================] - 1s 4ms/step - loss: 43864.0156 - mean_absolute_error: 138.4174 - val_loss: 39241.9336 - val_mean_absolute_error: 140.2961\n",
      "Epoch 29/30\n",
      "250/250 [==============================] - 1s 4ms/step - loss: 43788.8672 - mean_absolute_error: 138.4698 - val_loss: 39267.0430 - val_mean_absolute_error: 138.3907\n",
      "Epoch 30/30\n",
      "250/250 [==============================] - 1s 4ms/step - loss: 43929.7500 - mean_absolute_error: 138.9313 - val_loss: 39222.7617 - val_mean_absolute_error: 140.8421\n",
      "250/250 [==============================] - 0s 945us/step\n"
     ]
    },
    {
     "data": {
      "image/png": "[encoded data removed]",
      "text/plain": [
       "<Figure size 640x480 with 1 Axes>"
      ]
     },
     "metadata": {},
     "output_type": "display_data"
    },
    {
     "name": "stdout",
     "output_type": "stream",
     "text": [
      "Execution time: 31.36 seconds (0.51 minutes)\n"
     ]
    }
   ],
   "source": [
    "# Record current time (start)\n",
    "start = time.time()\n",
    "\n",
    "# Set random seed for reproducible results\n",
    "tf.random.set_seed(seed=42)\n",
    "\n",
    "# Define model\n",
    "model = Sequential([\n",
    "    Dense(units=64, activation='relu', input_shape=[X_train.shape[1]]),\n",
    "    Dense(units=1)\n",
    "])\n",
    "\n",
    "# Compile model with low learning rate\n",
    "model.compile(optimizer=Adam(learning_rate=0.0001),\n",
    "             loss=MeanSquaredError(),\n",
    "             metrics=[MeanAbsoluteError()]\n",
    "             )\n",
    "\n",
    "# Set number of epochs for model fitting\n",
    "epochs = 30\n",
    "\n",
    "# Fit model to training data\n",
    "history = model.fit(X_train, y_train, epochs=epochs, batch_size=32, verbose=1, validation_data=(X_test, y_test))\n",
    "\n",
    "# Make predictions on training dataset\n",
    "y_train_pred = model.predict(X_train)\n",
    "\n",
    "# Calculate R-squared score on training dataset\n",
    "r2_first = r2_score(y_train, y_train_pred)\n",
    "\n",
    "# Get first mean absolute error on training dataset\n",
    "mae_first = history.history['mean_absolute_error'][epochs - 1]\n",
    "\n",
    "# Get first mean absolute error on validation (test) dataset\n",
    "val_mae_first = history.history['val_mean_absolute_error'][epochs - 1]\n",
    "\n",
    "# Plot training and validation Mean Absolute Error\n",
    "plt.plot(history.history['mean_absolute_error'], label=f'Training MAE: {mae_first:.3f}')\n",
    "plt.plot(history.history['val_mean_absolute_error'], label=f'Validation MAE: {val_mae_first:.3f}')\n",
    "plt.xlabel('Epoch')\n",
    "plt.ylabel('Mean Absolute Error')\n",
    "plt.legend()\n",
    "plt.show()\n",
    "\n",
    "# Record current time (end)\n",
    "end = time.time()\n",
    "\n",
    "# Calculate elapsed time in seconds\n",
    "elapsed_time_seconds = end - start\n",
    "elapsed_time_seconds = round(elapsed_time_seconds, ndigits=2)\n",
    "\n",
    "# Calculate elapsed time in minutes\n",
    "elapsed_time = round(elapsed_time_seconds / 60, ndigits=2)\n",
    "\n",
    "# Display result\n",
    "print(f'Execution time: {elapsed_time_seconds} seconds ({elapsed_time_minutes} minutes)')"
   ]
  },
  {
   "cell_type": "markdown",
   "id": "263eac3c-ba82-4daf-aece-bc2fb525e83d",
   "metadata": {},
   "source": [
    "A more complex deep learning model will be explored below."
   ]
  },
  {
   "cell_type": "code",
   "execution_count": 78,
   "id": "2332ad09-f675-4fb1-a43e-dce0de5fca41",
   "metadata": {},
   "outputs": [
    {
     "name": "stdout",
     "output_type": "stream",
     "text": [
      "Epoch 1/30\n",
      "250/250 [==============================] - 4s 15ms/step - loss: 1226092.5000 - mean_absolute_error: 467.3755 - val_loss: 46359.6133 - val_mean_absolute_error: 151.3615\n",
      "Epoch 2/30\n",
      "250/250 [==============================] - 4s 14ms/step - loss: 48185.6836 - mean_absolute_error: 145.6685 - val_loss: 46279.3906 - val_mean_absolute_error: 147.8646\n",
      "Epoch 3/30\n",
      "250/250 [==============================] - 4s 14ms/step - loss: 49360.3828 - mean_absolute_error: 151.4978 - val_loss: 47927.9531 - val_mean_absolute_error: 153.0695\n",
      "Epoch 4/30\n",
      "250/250 [==============================] - 4s 14ms/step - loss: 48352.3242 - mean_absolute_error: 149.5421 - val_loss: 39764.0273 - val_mean_absolute_error: 140.3598\n",
      "Epoch 5/30\n",
      "250/250 [==============================] - 4s 14ms/step - loss: 46591.5938 - mean_absolute_error: 145.4414 - val_loss: 43326.7617 - val_mean_absolute_error: 156.8267\n",
      "Epoch 6/30\n",
      "250/250 [==============================] - 4s 14ms/step - loss: 46466.0977 - mean_absolute_error: 145.2709 - val_loss: 40813.4688 - val_mean_absolute_error: 141.7869\n",
      "Epoch 7/30\n",
      "250/250 [==============================] - 4s 14ms/step - loss: 45999.7617 - mean_absolute_error: 144.2679 - val_loss: 39512.0977 - val_mean_absolute_error: 137.7802\n",
      "Epoch 8/30\n",
      "250/250 [==============================] - 4s 14ms/step - loss: 46030.8906 - mean_absolute_error: 144.3082 - val_loss: 39087.1133 - val_mean_absolute_error: 137.8757\n",
      "Epoch 9/30\n",
      "250/250 [==============================] - 4s 14ms/step - loss: 46602.7266 - mean_absolute_error: 145.5011 - val_loss: 40342.6367 - val_mean_absolute_error: 147.0284\n",
      "Epoch 10/30\n",
      "250/250 [==============================] - 4s 14ms/step - loss: 47923.7539 - mean_absolute_error: 147.8759 - val_loss: 42253.3242 - val_mean_absolute_error: 145.7878\n",
      "Epoch 11/30\n",
      "250/250 [==============================] - 4s 14ms/step - loss: 47658.9375 - mean_absolute_error: 148.5464 - val_loss: 41509.6758 - val_mean_absolute_error: 135.2696\n",
      "Epoch 12/30\n",
      "250/250 [==============================] - 4s 14ms/step - loss: 49209.9180 - mean_absolute_error: 151.8306 - val_loss: 38241.0430 - val_mean_absolute_error: 138.0291\n",
      "Epoch 13/30\n",
      "250/250 [==============================] - 4s 14ms/step - loss: 47656.5742 - mean_absolute_error: 146.4453 - val_loss: 38903.6953 - val_mean_absolute_error: 131.4632\n",
      "Epoch 14/30\n",
      "250/250 [==============================] - 4s 14ms/step - loss: 47069.0586 - mean_absolute_error: 145.0746 - val_loss: 37976.1445 - val_mean_absolute_error: 138.7236\n",
      "Epoch 15/30\n",
      "250/250 [==============================] - 4s 14ms/step - loss: 47733.6523 - mean_absolute_error: 148.6864 - val_loss: 46560.2852 - val_mean_absolute_error: 142.6187\n",
      "Epoch 16/30\n",
      "250/250 [==============================] - 4s 14ms/step - loss: 47926.9727 - mean_absolute_error: 148.0250 - val_loss: 45235.3828 - val_mean_absolute_error: 141.4720\n",
      "Epoch 17/30\n",
      "250/250 [==============================] - 4s 14ms/step - loss: 50522.6758 - mean_absolute_error: 154.5923 - val_loss: 37779.9453 - val_mean_absolute_error: 132.8297\n",
      "Epoch 18/30\n",
      "250/250 [==============================] - 4s 14ms/step - loss: 49391.9453 - mean_absolute_error: 150.7767 - val_loss: 86617.9141 - val_mean_absolute_error: 215.2624\n",
      "Epoch 19/30\n",
      "250/250 [==============================] - 4s 14ms/step - loss: 51212.2773 - mean_absolute_error: 154.4709 - val_loss: 42020.6602 - val_mean_absolute_error: 155.2449\n",
      "Epoch 20/30\n",
      "250/250 [==============================] - 4s 14ms/step - loss: 46549.9141 - mean_absolute_error: 144.0476 - val_loss: 38575.0977 - val_mean_absolute_error: 129.4443\n",
      "Epoch 21/30\n",
      "250/250 [==============================] - 4s 14ms/step - loss: 55621.2266 - mean_absolute_error: 159.9370 - val_loss: 52187.9375 - val_mean_absolute_error: 148.0008\n",
      "Epoch 22/30\n",
      "250/250 [==============================] - 4s 14ms/step - loss: 50021.0703 - mean_absolute_error: 152.4715 - val_loss: 44173.6523 - val_mean_absolute_error: 155.3567\n",
      "Epoch 23/30\n",
      "250/250 [==============================] - 4s 14ms/step - loss: 53825.9062 - mean_absolute_error: 157.9982 - val_loss: 53732.9961 - val_mean_absolute_error: 181.0282\n",
      "Epoch 24/30\n",
      "250/250 [==============================] - 4s 14ms/step - loss: 50590.8711 - mean_absolute_error: 152.7737 - val_loss: 37386.8633 - val_mean_absolute_error: 141.0112\n",
      "Epoch 25/30\n",
      "250/250 [==============================] - 4s 14ms/step - loss: 59748.4570 - mean_absolute_error: 169.5495 - val_loss: 97934.9609 - val_mean_absolute_error: 241.4450\n",
      "Epoch 26/30\n",
      "250/250 [==============================] - 4s 14ms/step - loss: 66308.1797 - mean_absolute_error: 176.5002 - val_loss: 54389.8477 - val_mean_absolute_error: 171.2871\n",
      "Epoch 27/30\n",
      "250/250 [==============================] - 4s 14ms/step - loss: 59995.9219 - mean_absolute_error: 166.0847 - val_loss: 100916.3672 - val_mean_absolute_error: 243.1030\n",
      "Epoch 28/30\n",
      "250/250 [==============================] - 4s 14ms/step - loss: 57718.4297 - mean_absolute_error: 161.8050 - val_loss: 61185.4961 - val_mean_absolute_error: 201.2755\n",
      "Epoch 29/30\n",
      "250/250 [==============================] - 4s 14ms/step - loss: 57227.6211 - mean_absolute_error: 163.4742 - val_loss: 81056.1250 - val_mean_absolute_error: 212.7388\n",
      "Epoch 30/30\n",
      "250/250 [==============================] - 4s 14ms/step - loss: 72534.5078 - mean_absolute_error: 185.5619 - val_loss: 40527.6367 - val_mean_absolute_error: 141.8900\n",
      "250/250 [==============================] - 0s 1ms/step\n"
     ]
    },
    {
     "data": {
      "image/png": "[encoded data removed]",
      "text/plain": [
       "<Figure size 640x480 with 1 Axes>"
      ]
     },
     "metadata": {},
     "output_type": "display_data"
    },
    {
     "name": "stdout",
     "output_type": "stream",
     "text": [
      "Execution time: 107.13 seconds (1.79 minutes)\n"
     ]
    }
   ],
   "source": [
    "# Record current time (start)\n",
    "start = time.time()\n",
    "\n",
    "# Set random seed for reproducible results\n",
    "tf.random.set_seed(seed=42)\n",
    "\n",
    "# Define model with more layers\n",
    "model = Sequential([\n",
    "    Dense(units=64, activation='relu', input_shape=[X_train.shape[1]], kernel_regularizer=regularizers.l2(0.01)),\n",
    "    Dense(units=32, activation='relu', kernel_regularizer=regularizers.l2(0.01)),\n",
    "    Dense(units=16, activation='relu', kernel_regularizer=regularizers.l2(0.01)),\n",
    "    Dense(units=8, activation='relu', kernel_regularizer=regularizers.l2(0.01)),\n",
    "    Dense(units=1)\n",
    "])\n",
    "\n",
    "# Compile model with lower learning rate\n",
    "model.compile(optimizer=Adam(learning_rate=0.0007),\n",
    "             loss=MeanSquaredError(),\n",
    "             metrics=[MeanAbsoluteError()]\n",
    "             )\n",
    "\n",
    "# Set number of epochs for model fitting\n",
    "# This number can be set to 1000 for more complex model\n",
    "epochs = 30\n",
    "\n",
    "# Fit model to training data\n",
    "# If epochs is set to large number, set `verbose=0` to suppress output\n",
    "history = model.fit(X_train, y_train, epochs=epochs, batch_size=32, verbose=1, validation_data=(X_test, y_test))\n",
    "\n",
    "# Make predictions on training dataset\n",
    "y_train_pred = model.predict(X_train)\n",
    "\n",
    "# Calculate R-squared score on training dataset\n",
    "r2_second = r2_score(y_train, y_train_pred)\n",
    "\n",
    "# Get second mean absolute error on training dataset\n",
    "mae_second = history.history['mean_absolute_error'][epochs - 1]\n",
    "\n",
    "# Get second mean absolute error on validation (test) dataset\n",
    "val_mae_second = history.history['val_mean_absolute_error'][epochs - 1]\n",
    "\n",
    "# Plot training and validation Mean Squared Error\n",
    "plt.plot(history.history['mean_absolute_error'], label=f'Training MAE: {mae_second:.3f}')\n",
    "plt.plot(history.history['val_mean_absolute_error'], label=f'Validation MAE: {val_mae_second:.3f}')\n",
    "plt.xlabel('Epoch')\n",
    "plt.ylabel('Mean Absolute Error')\n",
    "plt.legend()\n",
    "plt.show()\n",
    "\n",
    "# Record current time (end)\n",
    "end = time.time()\n",
    "\n",
    "# Calculate elapsed time in seconds\n",
    "elapsed_time_seconds = end - start\n",
    "elapsed_time_seconds = round(elapsed_time_seconds, ndigits=2)\n",
    "\n",
    "# Calculate elapsed time in minutes\n",
    "elapsed_time = round(elapsed_time_seconds / 60, ndigits=2)\n",
    "\n",
    "# Display result\n",
    "print(f'Execution time: {elapsed_time_seconds} seconds ({elapsed_time} minutes)')"
   ]
  },
  {
   "cell_type": "code",
   "execution_count": 79,
   "id": "e546231b-b561-4556-9b21-307b01d7236e",
   "metadata": {},
   "outputs": [],
   "source": [
    "# Store evaluation metrics for different configurations of deep learning model\n",
    "pred_dict = {\n",
    "    'Algorithm': ['Deep Learning', 'Deep Learning optimized'],\n",
    "    'Train Error': [mae_first, mae_second],\n",
    "    'Test Error': [val_mae_first, val_mae_second],\n",
    "    'R2': [r2_first, r2_second]\n",
    "}"
   ]
  },
  {
   "cell_type": "code",
   "execution_count": 80,
   "id": "5319aa2f-2fa7-49a8-8c5f-47fdf22611d1",
   "metadata": {},
   "outputs": [
    {
     "data": {
      "text/html": [
       "<div>\n",
       "<style scoped>\n",
       "    .dataframe tbody tr th:only-of-type {\n",
       "        vertical-align: middle;\n",
       "    }\n",
       "\n",
       "    .dataframe tbody tr th {\n",
       "        vertical-align: top;\n",
       "    }\n",
       "\n",
       "    .dataframe thead th {\n",
       "        text-align: right;\n",
       "    }\n",
       "</style>\n",
       "<table border=\"1\" class=\"dataframe\">\n",
       "  <thead>\n",
       "    <tr style=\"text-align: right;\">\n",
       "      <th></th>\n",
       "      <th>Algorithm</th>\n",
       "      <th>Train Error</th>\n",
       "      <th>Test Error</th>\n",
       "      <th>R2</th>\n",
       "    </tr>\n",
       "  </thead>\n",
       "  <tbody>\n",
       "    <tr>\n",
       "      <th>0</th>\n",
       "      <td>Deep Learning</td>\n",
       "      <td>138.931259</td>\n",
       "      <td>140.842056</td>\n",
       "      <td>0.433096</td>\n",
       "    </tr>\n",
       "    <tr>\n",
       "      <th>1</th>\n",
       "      <td>Deep Learning optimized</td>\n",
       "      <td>185.561890</td>\n",
       "      <td>141.890045</td>\n",
       "      <td>0.448759</td>\n",
       "    </tr>\n",
       "  </tbody>\n",
       "</table>\n",
       "</div>"
      ],
      "text/plain": [
       "                 Algorithm  Train Error  Test Error        R2\n",
       "0            Deep Learning   138.931259  140.842056  0.433096\n",
       "1  Deep Learning optimized   185.561890  141.890045  0.448759"
      ]
     },
     "execution_count": 80,
     "metadata": {},
     "output_type": "execute_result"
    }
   ],
   "source": [
    "# Create DataFrame from dictionary\n",
    "pred_df = pd.DataFrame(pred_dict)\n",
    "\n",
    "# Show processed DataFrame\n",
    "pred_df"
   ]
  },
  {
   "cell_type": "code",
   "execution_count": 81,
   "id": "e7c5686b-704a-4323-b89b-08d492ed646c",
   "metadata": {},
   "outputs": [
    {
     "data": {
      "image/png": "[encoded data removed]",
      "text/plain": [
       "<Figure size 1400x600 with 3 Axes>"
      ]
     },
     "metadata": {},
     "output_type": "display_data"
    }
   ],
   "source": [
    "# Create figure and subplots\n",
    "fig, (ax2, ax3, ax4) = plt.subplots(nrows=1, ncols=3, figsize=(14, 6))\n",
    "\n",
    "# Create R-squared plot\n",
    "pred_df.plot(kind='bar', x='Algorithm', y='R2', color='#2caffe', ax=ax2, legend=False)\n",
    "ax2.set_xlabel('R Squared')\n",
    "ax2.set_title('R Squared')\n",
    "ax2.tick_params(axis='x', labelrotation=45)\n",
    "\n",
    "# Create train error plot\n",
    "pred_df.plot(kind='bar', x='Algorithm', y='Train Error', color='#544fc5', ax=ax3, legend=False)\n",
    "ax3.set_xlabel('Train Error')\n",
    "ax3.set_title('Train Error')\n",
    "ax3.tick_params(axis='x', labelrotation=45)\n",
    "\n",
    "# Create test error plot\n",
    "pred_df.plot(kind='bar', x='Algorithm', y='Test Error', color='#00e272', ax=ax4, legend=False)\n",
    "ax4.set_xlabel('Test Error')\n",
    "ax4.set_title('Test Error')\n",
    "ax4.tick_params(axis='x', labelrotation=45)\n",
    "\n",
    "# Fit figure\n",
    "plt.tight_layout()\n",
    "\n",
    "# Show figure\n",
    "plt.show()"
   ]
  },
  {
   "cell_type": "markdown",
   "id": "291472b1-54ee-4bca-8727-5fff1a3271ae",
   "metadata": {},
   "source": [
    "Thie notebook was inspired by the [Predicting Price](https://platform.stratascratch.com/data-projects/predicting-price) data project on [StrataScratch](https://www.stratascratch.com/)."
   ]
  },
  {
   "cell_type": "code",
   "execution_count": null,
   "id": "eb0d5e2f-0529-40d9-bc5a-dec828110e32",
   "metadata": {},
   "outputs": [],
   "source": []
  }
 ],
 "metadata": {
  "kernelspec": {
   "display_name": "Python 3 (ipykernel)",
   "language": "python",
   "name": "python3"
  },
  "language_info": {
   "codemirror_mode": {
    "name": "ipython",
    "version": 3
   },
   "file_extension": ".py",
   "mimetype": "text/x-python",
   "name": "python",
   "nbconvert_exporter": "python",
   "pygments_lexer": "ipython3",
   "version": "3.11.6"
  }
 },
 "nbformat": 4,
 "nbformat_minor": 5
}
