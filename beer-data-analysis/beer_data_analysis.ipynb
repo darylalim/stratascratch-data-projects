{
 "cells": [
  {
   "cell_type": "markdown",
   "id": "e0f18170-7518-445a-86a6-d8195db90dfe",
   "metadata": {},
   "source": [
    "# Beer Data Analysis"
   ]
  },
  {
   "cell_type": "markdown",
   "id": "eb555aa3-ba1e-4286-8b35-2e7cf331027d",
   "metadata": {},
   "source": [
    "## Table of Contents\n",
    "- [Tasks](#tasks)\n",
    "- [Exploratory Analysis](#exploratory-analysis)\n",
    "- [Analysis](#analysis)\n",
    "  - [Top 3 breweries producing strongest beers](#strongest-beers)\n",
    "  - [Year of highest ratings](#highest-ratings)\n",
    "  - [Important factors for taste, aroma, appearance, and palette](#important-factors)\n",
    "  - [Top 3 recommendations](#top-recommendations)\n",
    "  - [Best beer style](#beer-style)"
   ]
  },
  {
   "cell_type": "markdown",
   "id": "b0eef5ac-f20b-4f54-a446-78fbac5ce0f3",
   "metadata": {},
   "source": [
    "## Exploratory Analysis <a id='exploratory-analysis'></a>"
   ]
  },
  {
   "cell_type": "code",
   "execution_count": 1,
   "id": "4483e16a-ed62-4104-8fd3-e7a011239aca",
   "metadata": {},
   "outputs": [],
   "source": [
    "# Import libraries\n",
    "import pandas as pd\n",
    "import matplotlib.pyplot as plt\n",
    "from seaborn import heatmap\n",
    "\n",
    "# Natural language processing\n",
    "from nltk import download\n",
    "from nltk.sentiment.vader import SentimentIntensityAnalyzer"
   ]
  },
  {
   "cell_type": "code",
   "execution_count": 2,
   "id": "6a1ec635-fab2-4bd4-901b-bdc1cfea43bc",
   "metadata": {},
   "outputs": [],
   "source": [
    "# Read data\n",
    "df = pd.read_csv('data/raw/BeerDataScienceProject.tar.bz2', compression='bz2')"
   ]
  },
  {
   "cell_type": "code",
   "execution_count": 3,
   "id": "58fee368-a047-4ef1-8063-7d542868e417",
   "metadata": {},
   "outputs": [
    {
     "name": "stdout",
     "output_type": "stream",
     "text": [
      "There are 528870 rows and 13 columns in the data set.\n"
     ]
    }
   ],
   "source": [
    "print(f'There are {df.shape[0]} rows and {df.shape[1]} columns in the data set.')"
   ]
  },
  {
   "cell_type": "code",
   "execution_count": 4,
   "id": "5a30f63e-4a67-40a9-9de6-817792847433",
   "metadata": {},
   "outputs": [
    {
     "data": {
      "text/html": [
       "<div>\n",
       "<style scoped>\n",
       "    .dataframe tbody tr th:only-of-type {\n",
       "        vertical-align: middle;\n",
       "    }\n",
       "\n",
       "    .dataframe tbody tr th {\n",
       "        vertical-align: top;\n",
       "    }\n",
       "\n",
       "    .dataframe thead th {\n",
       "        text-align: right;\n",
       "    }\n",
       "</style>\n",
       "<table border=\"1\" class=\"dataframe\">\n",
       "  <thead>\n",
       "    <tr style=\"text-align: right;\">\n",
       "      <th></th>\n",
       "      <th>beer_ABV</th>\n",
       "      <th>beer_beerId</th>\n",
       "      <th>beer_brewerId</th>\n",
       "      <th>beer_name</th>\n",
       "      <th>beer_style</th>\n",
       "      <th>review_appearance</th>\n",
       "      <th>review_palette</th>\n",
       "      <th>review_overall</th>\n",
       "      <th>review_taste</th>\n",
       "      <th>review_profileName</th>\n",
       "      <th>review_aroma</th>\n",
       "      <th>review_text</th>\n",
       "      <th>review_time</th>\n",
       "    </tr>\n",
       "  </thead>\n",
       "  <tbody>\n",
       "    <tr>\n",
       "      <th>0</th>\n",
       "      <td>5.0</td>\n",
       "      <td>47986</td>\n",
       "      <td>10325</td>\n",
       "      <td>Sausa Weizen</td>\n",
       "      <td>Hefeweizen</td>\n",
       "      <td>2.5</td>\n",
       "      <td>2.0</td>\n",
       "      <td>1.5</td>\n",
       "      <td>1.5</td>\n",
       "      <td>stcules</td>\n",
       "      <td>1.5</td>\n",
       "      <td>A lot of foam. But a lot. In the smell some ba...</td>\n",
       "      <td>1234817823</td>\n",
       "    </tr>\n",
       "    <tr>\n",
       "      <th>1</th>\n",
       "      <td>6.2</td>\n",
       "      <td>48213</td>\n",
       "      <td>10325</td>\n",
       "      <td>Red Moon</td>\n",
       "      <td>English Strong Ale</td>\n",
       "      <td>3.0</td>\n",
       "      <td>2.5</td>\n",
       "      <td>3.0</td>\n",
       "      <td>3.0</td>\n",
       "      <td>stcules</td>\n",
       "      <td>3.0</td>\n",
       "      <td>Dark red color, light beige foam, average. In ...</td>\n",
       "      <td>1235915097</td>\n",
       "    </tr>\n",
       "    <tr>\n",
       "      <th>2</th>\n",
       "      <td>6.5</td>\n",
       "      <td>48215</td>\n",
       "      <td>10325</td>\n",
       "      <td>Black Horse Black Beer</td>\n",
       "      <td>Foreign / Export Stout</td>\n",
       "      <td>3.0</td>\n",
       "      <td>2.5</td>\n",
       "      <td>3.0</td>\n",
       "      <td>3.0</td>\n",
       "      <td>stcules</td>\n",
       "      <td>3.0</td>\n",
       "      <td>Almost totally black. Beige foam, quite compac...</td>\n",
       "      <td>1235916604</td>\n",
       "    </tr>\n",
       "    <tr>\n",
       "      <th>3</th>\n",
       "      <td>5.0</td>\n",
       "      <td>47969</td>\n",
       "      <td>10325</td>\n",
       "      <td>Sausa Pils</td>\n",
       "      <td>German Pilsener</td>\n",
       "      <td>3.5</td>\n",
       "      <td>3.0</td>\n",
       "      <td>3.0</td>\n",
       "      <td>2.5</td>\n",
       "      <td>stcules</td>\n",
       "      <td>3.0</td>\n",
       "      <td>Golden yellow color. White, compact foam, quit...</td>\n",
       "      <td>1234725145</td>\n",
       "    </tr>\n",
       "    <tr>\n",
       "      <th>4</th>\n",
       "      <td>7.7</td>\n",
       "      <td>64883</td>\n",
       "      <td>1075</td>\n",
       "      <td>Cauldron DIPA</td>\n",
       "      <td>American Double / Imperial IPA</td>\n",
       "      <td>4.0</td>\n",
       "      <td>4.5</td>\n",
       "      <td>4.0</td>\n",
       "      <td>4.0</td>\n",
       "      <td>johnmichaelsen</td>\n",
       "      <td>4.5</td>\n",
       "      <td>According to the website, the style for the Ca...</td>\n",
       "      <td>1293735206</td>\n",
       "    </tr>\n",
       "  </tbody>\n",
       "</table>\n",
       "</div>"
      ],
      "text/plain": [
       "   beer_ABV  beer_beerId  beer_brewerId               beer_name  \\\n",
       "0       5.0        47986          10325            Sausa Weizen   \n",
       "1       6.2        48213          10325                Red Moon   \n",
       "2       6.5        48215          10325  Black Horse Black Beer   \n",
       "3       5.0        47969          10325              Sausa Pils   \n",
       "4       7.7        64883           1075           Cauldron DIPA   \n",
       "\n",
       "                       beer_style  review_appearance  review_palette  \\\n",
       "0                      Hefeweizen                2.5             2.0   \n",
       "1              English Strong Ale                3.0             2.5   \n",
       "2          Foreign / Export Stout                3.0             2.5   \n",
       "3                 German Pilsener                3.5             3.0   \n",
       "4  American Double / Imperial IPA                4.0             4.5   \n",
       "\n",
       "   review_overall  review_taste review_profileName  review_aroma  \\\n",
       "0             1.5           1.5            stcules           1.5   \n",
       "1             3.0           3.0            stcules           3.0   \n",
       "2             3.0           3.0            stcules           3.0   \n",
       "3             3.0           2.5            stcules           3.0   \n",
       "4             4.0           4.0     johnmichaelsen           4.5   \n",
       "\n",
       "                                         review_text  review_time  \n",
       "0  A lot of foam. But a lot. In the smell some ba...   1234817823  \n",
       "1  Dark red color, light beige foam, average. In ...   1235915097  \n",
       "2  Almost totally black. Beige foam, quite compac...   1235916604  \n",
       "3  Golden yellow color. White, compact foam, quit...   1234725145  \n",
       "4  According to the website, the style for the Ca...   1293735206  "
      ]
     },
     "execution_count": 4,
     "metadata": {},
     "output_type": "execute_result"
    }
   ],
   "source": [
    "# Show first 5 rows\n",
    "df.head()"
   ]
  },
  {
   "cell_type": "markdown",
   "id": "fbc0ec81-bf48-4f82-87d2-cf6466351a96",
   "metadata": {},
   "source": [
    "- There are two ID columns: beer id and beer brewer id\n",
    "- There are columns to describe the beer: ABV content, name, and style\n",
    "- The columns for the review describing the beer include: appearance, palette, overall score, taste, aroma, and review text\n",
    "  - There are also columns for reviewer name and review time (in UNIX timestamp)"
   ]
  },
  {
   "cell_type": "code",
   "execution_count": 5,
   "id": "79ba18cf-3c2a-4270-8c32-cfab52a2955c",
   "metadata": {},
   "outputs": [
    {
     "data": {
      "text/html": [
       "<div>\n",
       "<style scoped>\n",
       "    .dataframe tbody tr th:only-of-type {\n",
       "        vertical-align: middle;\n",
       "    }\n",
       "\n",
       "    .dataframe tbody tr th {\n",
       "        vertical-align: top;\n",
       "    }\n",
       "\n",
       "    .dataframe thead th {\n",
       "        text-align: right;\n",
       "    }\n",
       "</style>\n",
       "<table border=\"1\" class=\"dataframe\">\n",
       "  <thead>\n",
       "    <tr style=\"text-align: right;\">\n",
       "      <th></th>\n",
       "      <th>review_appearance</th>\n",
       "      <th>review_palette</th>\n",
       "      <th>review_overall</th>\n",
       "      <th>review_taste</th>\n",
       "      <th>review_aroma</th>\n",
       "    </tr>\n",
       "  </thead>\n",
       "  <tbody>\n",
       "    <tr>\n",
       "      <th>count</th>\n",
       "      <td>528870.000000</td>\n",
       "      <td>528870.000000</td>\n",
       "      <td>528870.000000</td>\n",
       "      <td>528870.000000</td>\n",
       "      <td>528870.000000</td>\n",
       "    </tr>\n",
       "    <tr>\n",
       "      <th>mean</th>\n",
       "      <td>3.864522</td>\n",
       "      <td>3.758926</td>\n",
       "      <td>3.833197</td>\n",
       "      <td>3.765993</td>\n",
       "      <td>3.817350</td>\n",
       "    </tr>\n",
       "    <tr>\n",
       "      <th>std</th>\n",
       "      <td>0.604010</td>\n",
       "      <td>0.685335</td>\n",
       "      <td>0.709962</td>\n",
       "      <td>0.669018</td>\n",
       "      <td>0.718903</td>\n",
       "    </tr>\n",
       "    <tr>\n",
       "      <th>min</th>\n",
       "      <td>0.000000</td>\n",
       "      <td>1.000000</td>\n",
       "      <td>0.000000</td>\n",
       "      <td>1.000000</td>\n",
       "      <td>1.000000</td>\n",
       "    </tr>\n",
       "    <tr>\n",
       "      <th>25%</th>\n",
       "      <td>3.500000</td>\n",
       "      <td>3.500000</td>\n",
       "      <td>3.500000</td>\n",
       "      <td>3.500000</td>\n",
       "      <td>3.500000</td>\n",
       "    </tr>\n",
       "    <tr>\n",
       "      <th>50%</th>\n",
       "      <td>4.000000</td>\n",
       "      <td>4.000000</td>\n",
       "      <td>4.000000</td>\n",
       "      <td>4.000000</td>\n",
       "      <td>4.000000</td>\n",
       "    </tr>\n",
       "    <tr>\n",
       "      <th>75%</th>\n",
       "      <td>4.000000</td>\n",
       "      <td>4.000000</td>\n",
       "      <td>4.500000</td>\n",
       "      <td>4.000000</td>\n",
       "      <td>4.500000</td>\n",
       "    </tr>\n",
       "    <tr>\n",
       "      <th>max</th>\n",
       "      <td>5.000000</td>\n",
       "      <td>5.000000</td>\n",
       "      <td>5.000000</td>\n",
       "      <td>5.000000</td>\n",
       "      <td>5.000000</td>\n",
       "    </tr>\n",
       "  </tbody>\n",
       "</table>\n",
       "</div>"
      ],
      "text/plain": [
       "       review_appearance  review_palette  review_overall   review_taste  \\\n",
       "count      528870.000000   528870.000000   528870.000000  528870.000000   \n",
       "mean            3.864522        3.758926        3.833197       3.765993   \n",
       "std             0.604010        0.685335        0.709962       0.669018   \n",
       "min             0.000000        1.000000        0.000000       1.000000   \n",
       "25%             3.500000        3.500000        3.500000       3.500000   \n",
       "50%             4.000000        4.000000        4.000000       4.000000   \n",
       "75%             4.000000        4.000000        4.500000       4.000000   \n",
       "max             5.000000        5.000000        5.000000       5.000000   \n",
       "\n",
       "        review_aroma  \n",
       "count  528870.000000  \n",
       "mean        3.817350  \n",
       "std         0.718903  \n",
       "min         1.000000  \n",
       "25%         3.500000  \n",
       "50%         4.000000  \n",
       "75%         4.500000  \n",
       "max         5.000000  "
      ]
     },
     "execution_count": 5,
     "metadata": {},
     "output_type": "execute_result"
    }
   ],
   "source": [
    "# Summary statistics for review columns\n",
    "df[['review_appearance', 'review_palette', 'review_overall', 'review_taste', 'review_aroma']].describe()"
   ]
  },
  {
   "cell_type": "markdown",
   "id": "70dc5ed3-bc1f-4ad1-80e1-f7326096ca23",
   "metadata": {},
   "source": [
    "The minimum value in the `review_appearance` and `review_overall` columns is 0. These zero values *may* be errors so rows containing them will be excluded from this analysis."
   ]
  },
  {
   "cell_type": "code",
   "execution_count": 6,
   "id": "542e3445-84ff-4074-b18d-744f60e8e212",
   "metadata": {},
   "outputs": [],
   "source": [
    "# Select positive values only in `review_appearance` and `review_overall` columns\n",
    "df = df[(df['review_appearance'] > 0) & (df['review_overall'] > 0)]"
   ]
  },
  {
   "cell_type": "code",
   "execution_count": 7,
   "id": "6a0a23a5-a736-463d-8bc8-73a37ce75f8a",
   "metadata": {},
   "outputs": [
    {
     "name": "stdout",
     "output_type": "stream",
     "text": [
      "<class 'pandas.core.frame.DataFrame'>\n",
      "Index: 528867 entries, 0 to 528869\n",
      "Data columns (total 13 columns):\n",
      " #   Column              Non-Null Count   Dtype  \n",
      "---  ------              --------------   -----  \n",
      " 0   beer_ABV            508587 non-null  float64\n",
      " 1   beer_beerId         528867 non-null  int64  \n",
      " 2   beer_brewerId       528867 non-null  int64  \n",
      " 3   beer_name           528867 non-null  object \n",
      " 4   beer_style          528867 non-null  object \n",
      " 5   review_appearance   528867 non-null  float64\n",
      " 6   review_palette      528867 non-null  float64\n",
      " 7   review_overall      528867 non-null  float64\n",
      " 8   review_taste        528867 non-null  float64\n",
      " 9   review_profileName  528752 non-null  object \n",
      " 10  review_aroma        528867 non-null  float64\n",
      " 11  review_text         528748 non-null  object \n",
      " 12  review_time         528867 non-null  int64  \n",
      "dtypes: float64(6), int64(3), object(4)\n",
      "memory usage: 56.5+ MB\n"
     ]
    }
   ],
   "source": [
    "# DataFrame information\n",
    "df.info()"
   ]
  },
  {
   "cell_type": "code",
   "execution_count": 8,
   "id": "7aa4b9d7-1d72-4012-8998-39253d84018b",
   "metadata": {},
   "outputs": [
    {
     "data": {
      "text/plain": [
       "beer_ABV              20280\n",
       "beer_beerId               0\n",
       "beer_brewerId             0\n",
       "beer_name                 0\n",
       "beer_style                0\n",
       "review_appearance         0\n",
       "review_palette            0\n",
       "review_overall            0\n",
       "review_taste              0\n",
       "review_profileName      115\n",
       "review_aroma              0\n",
       "review_text             119\n",
       "review_time               0\n",
       "dtype: int64"
      ]
     },
     "execution_count": 8,
     "metadata": {},
     "output_type": "execute_result"
    }
   ],
   "source": [
    "# Check missing values\n",
    "df.isna().sum()"
   ]
  },
  {
   "cell_type": "code",
   "execution_count": 9,
   "id": "d717c69b-5599-4654-964c-eb05c05a49dc",
   "metadata": {},
   "outputs": [
    {
     "name": "stdout",
     "output_type": "stream",
     "text": [
      "There are 20512 rows with null values.\n",
      "These rows represent 3.88% of the data.\n"
     ]
    }
   ],
   "source": [
    "print(f'There are {df.isna().any(axis=1).sum()} rows with null values.')\n",
    "print(f'These rows represent {round(((df.isna().any(axis=1).sum()) / len(df) * 100), 2)}% of the data.')"
   ]
  },
  {
   "cell_type": "markdown",
   "id": "4ac22777-394e-4d75-975b-2b779b7f1c99",
   "metadata": {},
   "source": [
    "Assuming the null values are errors in data collection, the rows containing them will be exluded from the data."
   ]
  },
  {
   "cell_type": "code",
   "execution_count": 10,
   "id": "14174b9c-6d1c-4215-af1c-4cc5c3837af2",
   "metadata": {},
   "outputs": [],
   "source": [
    "# Drop rows with missing values\n",
    "df = df.dropna()"
   ]
  },
  {
   "cell_type": "code",
   "execution_count": 11,
   "id": "8ae9c015-16be-4267-aeba-6cb1ac286571",
   "metadata": {},
   "outputs": [
    {
     "data": {
      "text/plain": [
       "(508355, 13)"
      ]
     },
     "execution_count": 11,
     "metadata": {},
     "output_type": "execute_result"
    }
   ],
   "source": [
    "# Check shape of DataFrame\n",
    "df.shape"
   ]
  },
  {
   "cell_type": "code",
   "execution_count": 12,
   "id": "6b607ba0-823a-4b87-8c4e-11efc065f988",
   "metadata": {},
   "outputs": [
    {
     "data": {
      "text/html": [
       "<div>\n",
       "<style scoped>\n",
       "    .dataframe tbody tr th:only-of-type {\n",
       "        vertical-align: middle;\n",
       "    }\n",
       "\n",
       "    .dataframe tbody tr th {\n",
       "        vertical-align: top;\n",
       "    }\n",
       "\n",
       "    .dataframe thead th {\n",
       "        text-align: right;\n",
       "    }\n",
       "</style>\n",
       "<table border=\"1\" class=\"dataframe\">\n",
       "  <thead>\n",
       "    <tr style=\"text-align: right;\">\n",
       "      <th></th>\n",
       "      <th>review_profileName</th>\n",
       "      <th>beer_beerId</th>\n",
       "      <th>n_reviews</th>\n",
       "    </tr>\n",
       "  </thead>\n",
       "  <tbody>\n",
       "    <tr>\n",
       "      <th>124</th>\n",
       "      <td>100floods</td>\n",
       "      <td>30420</td>\n",
       "      <td>2</td>\n",
       "    </tr>\n",
       "    <tr>\n",
       "      <th>201</th>\n",
       "      <td>11osixBrew</td>\n",
       "      <td>1904</td>\n",
       "      <td>2</td>\n",
       "    </tr>\n",
       "    <tr>\n",
       "      <th>253</th>\n",
       "      <td>1759Girl</td>\n",
       "      <td>1904</td>\n",
       "      <td>2</td>\n",
       "    </tr>\n",
       "    <tr>\n",
       "      <th>608</th>\n",
       "      <td>2girls1hop</td>\n",
       "      <td>9970</td>\n",
       "      <td>2</td>\n",
       "    </tr>\n",
       "    <tr>\n",
       "      <th>842</th>\n",
       "      <td>3Vandoo</td>\n",
       "      <td>16558</td>\n",
       "      <td>2</td>\n",
       "    </tr>\n",
       "    <tr>\n",
       "      <th>...</th>\n",
       "      <td>...</td>\n",
       "      <td>...</td>\n",
       "      <td>...</td>\n",
       "    </tr>\n",
       "    <tr>\n",
       "      <th>502999</th>\n",
       "      <td>zimm421</td>\n",
       "      <td>13896</td>\n",
       "      <td>2</td>\n",
       "    </tr>\n",
       "    <tr>\n",
       "      <th>503218</th>\n",
       "      <td>zoolzoo</td>\n",
       "      <td>57259</td>\n",
       "      <td>2</td>\n",
       "    </tr>\n",
       "    <tr>\n",
       "      <th>503223</th>\n",
       "      <td>zoolzoo</td>\n",
       "      <td>61593</td>\n",
       "      <td>2</td>\n",
       "    </tr>\n",
       "    <tr>\n",
       "      <th>503311</th>\n",
       "      <td>zoso1967</td>\n",
       "      <td>19960</td>\n",
       "      <td>2</td>\n",
       "    </tr>\n",
       "    <tr>\n",
       "      <th>503663</th>\n",
       "      <td>zymurgy4all</td>\n",
       "      <td>104</td>\n",
       "      <td>2</td>\n",
       "    </tr>\n",
       "  </tbody>\n",
       "</table>\n",
       "<p>4507 rows × 3 columns</p>\n",
       "</div>"
      ],
      "text/plain": [
       "       review_profileName  beer_beerId  n_reviews\n",
       "124             100floods        30420          2\n",
       "201            11osixBrew         1904          2\n",
       "253              1759Girl         1904          2\n",
       "608            2girls1hop         9970          2\n",
       "842               3Vandoo        16558          2\n",
       "...                   ...          ...        ...\n",
       "502999            zimm421        13896          2\n",
       "503218            zoolzoo        57259          2\n",
       "503223            zoolzoo        61593          2\n",
       "503311           zoso1967        19960          2\n",
       "503663        zymurgy4all          104          2\n",
       "\n",
       "[4507 rows x 3 columns]"
      ]
     },
     "execution_count": 12,
     "metadata": {},
     "output_type": "execute_result"
    }
   ],
   "source": [
    "# Check multiple reviews by profile name and beer id\n",
    "df.groupby(by=['review_profileName', 'beer_beerId'], as_index=False).agg(n_reviews=('review_profileName', 'count')).query('n_reviews > 1')"
   ]
  },
  {
   "cell_type": "markdown",
   "id": "d4c25f32-8405-4eb3-9d6c-cd2dcb35240a",
   "metadata": {},
   "source": [
    "There were users who provided more than one review for each beer. In this case, *only* the highest overall review score by each user will be included to ensure the data is consistent with one review per beer for each user."
   ]
  },
  {
   "cell_type": "code",
   "execution_count": 13,
   "id": "e519a5c2-0b5d-4200-8dc5-e16adfb857d9",
   "metadata": {},
   "outputs": [],
   "source": [
    "df = df.sort_values(by='review_overall', ascending=False).drop_duplicates(subset=['review_profileName', 'beer_beerId'], keep='first')"
   ]
  },
  {
   "cell_type": "code",
   "execution_count": 14,
   "id": "a8a08f9e-8f31-40a0-a7fd-c262a8ba832e",
   "metadata": {},
   "outputs": [
    {
     "data": {
      "text/plain": [
       "(503697, 13)"
      ]
     },
     "execution_count": 14,
     "metadata": {},
     "output_type": "execute_result"
    }
   ],
   "source": [
    "df.shape"
   ]
  },
  {
   "cell_type": "markdown",
   "id": "a25498a9-134c-4380-bfbf-4eda18602050",
   "metadata": {},
   "source": [
    "## Analysis <a id='analysis'></a>"
   ]
  },
  {
   "cell_type": "markdown",
   "id": "2663bd33-64c4-4815-9fe7-73341e49311f",
   "metadata": {},
   "source": [
    "### Top 3 breweries producing strongest beers <a id='strongest-beers'></a>"
   ]
  },
  {
   "cell_type": "markdown",
   "id": "4fa32588-5f6f-4c45-b8d1-65280a406a0b",
   "metadata": {},
   "source": [
    "Rank the top 3 breweries which produce the strongest beers. A beer's strength is determined by its ABV content."
   ]
  },
  {
   "cell_type": "code",
   "execution_count": 15,
   "id": "f9ca3168-c11c-4916-bd49-7f90409b460c",
   "metadata": {},
   "outputs": [
    {
     "data": {
      "text/html": [
       "<div>\n",
       "<style scoped>\n",
       "    .dataframe tbody tr th:only-of-type {\n",
       "        vertical-align: middle;\n",
       "    }\n",
       "\n",
       "    .dataframe tbody tr th {\n",
       "        vertical-align: top;\n",
       "    }\n",
       "\n",
       "    .dataframe thead th {\n",
       "        text-align: right;\n",
       "    }\n",
       "</style>\n",
       "<table border=\"1\" class=\"dataframe\">\n",
       "  <thead>\n",
       "    <tr style=\"text-align: right;\">\n",
       "      <th></th>\n",
       "      <th>beer_brewerId</th>\n",
       "      <th>mean_brewer_beerABV</th>\n",
       "    </tr>\n",
       "  </thead>\n",
       "  <tbody>\n",
       "    <tr>\n",
       "      <th>699</th>\n",
       "      <td>6513</td>\n",
       "      <td>19.228824</td>\n",
       "    </tr>\n",
       "    <tr>\n",
       "      <th>165</th>\n",
       "      <td>736</td>\n",
       "      <td>13.750000</td>\n",
       "    </tr>\n",
       "    <tr>\n",
       "      <th>1466</th>\n",
       "      <td>24215</td>\n",
       "      <td>12.466667</td>\n",
       "    </tr>\n",
       "  </tbody>\n",
       "</table>\n",
       "</div>"
      ],
      "text/plain": [
       "      beer_brewerId  mean_brewer_beerABV\n",
       "699            6513            19.228824\n",
       "165             736            13.750000\n",
       "1466          24215            12.466667"
      ]
     },
     "execution_count": 15,
     "metadata": {},
     "output_type": "execute_result"
    }
   ],
   "source": [
    "df_q1 = df.groupby(by='beer_brewerId', as_index=False).agg(mean_brewer_beerABV=('beer_ABV', 'mean')).nlargest(n=3, columns='mean_brewer_beerABV', keep='all')\n",
    "df_q1"
   ]
  },
  {
   "cell_type": "code",
   "execution_count": 16,
   "id": "227ce4ee-14b5-417e-a5c2-8e18793d3e62",
   "metadata": {},
   "outputs": [
    {
     "data": {
      "image/png": "[encoded data removed]",
      "text/plain": [
       "<Figure size 800x600 with 1 Axes>"
      ]
     },
     "metadata": {},
     "output_type": "display_data"
    }
   ],
   "source": [
    "# Plot distribution of beer ABV for all breweries\n",
    "plt.figure(figsize=(8, 6))\n",
    "plt.title('Beer ABV for all breweries')\n",
    "plt.boxplot(df['beer_ABV'])\n",
    "plt.show()"
   ]
  },
  {
   "cell_type": "markdown",
   "id": "4bb0b2ca-54d9-4c5a-b6cb-09316e737209",
   "metadata": {},
   "source": [
    "### Year of highest ratings <a id='highest-ratings'></a>"
   ]
  },
  {
   "cell_type": "markdown",
   "id": "cc2f5b0a-f385-4573-ba32-406492e5791b",
   "metadata": {},
   "source": [
    "Which year did beers have the highest ratings?"
   ]
  },
  {
   "cell_type": "code",
   "execution_count": 17,
   "id": "301bbeba-568a-47b1-a2b1-b0c273f3c596",
   "metadata": {},
   "outputs": [],
   "source": [
    "# Extract year from review timestamp\n",
    "df['review_year'] = pd.to_datetime(df['review_time'], unit='s').dt.year"
   ]
  },
  {
   "cell_type": "code",
   "execution_count": 18,
   "id": "35feccb2-ef4d-4d21-86aa-056e5279770a",
   "metadata": {},
   "outputs": [
    {
     "data": {
      "text/html": [
       "<div>\n",
       "<style scoped>\n",
       "    .dataframe tbody tr th:only-of-type {\n",
       "        vertical-align: middle;\n",
       "    }\n",
       "\n",
       "    .dataframe tbody tr th {\n",
       "        vertical-align: top;\n",
       "    }\n",
       "\n",
       "    .dataframe thead th {\n",
       "        text-align: right;\n",
       "    }\n",
       "</style>\n",
       "<table border=\"1\" class=\"dataframe\">\n",
       "  <thead>\n",
       "    <tr style=\"text-align: right;\">\n",
       "      <th></th>\n",
       "      <th>review_year</th>\n",
       "      <th>n_reviews</th>\n",
       "      <th>mean_score</th>\n",
       "    </tr>\n",
       "  </thead>\n",
       "  <tbody>\n",
       "    <tr>\n",
       "      <th>2</th>\n",
       "      <td>2000</td>\n",
       "      <td>29</td>\n",
       "      <td>4.241379</td>\n",
       "    </tr>\n",
       "    <tr>\n",
       "      <th>0</th>\n",
       "      <td>1998</td>\n",
       "      <td>11</td>\n",
       "      <td>4.045455</td>\n",
       "    </tr>\n",
       "    <tr>\n",
       "      <th>1</th>\n",
       "      <td>1999</td>\n",
       "      <td>10</td>\n",
       "      <td>4.000000</td>\n",
       "    </tr>\n",
       "    <tr>\n",
       "      <th>3</th>\n",
       "      <td>2001</td>\n",
       "      <td>534</td>\n",
       "      <td>3.970037</td>\n",
       "    </tr>\n",
       "    <tr>\n",
       "      <th>12</th>\n",
       "      <td>2010</td>\n",
       "      <td>90496</td>\n",
       "      <td>3.869679</td>\n",
       "    </tr>\n",
       "    <tr>\n",
       "      <th>11</th>\n",
       "      <td>2009</td>\n",
       "      <td>80456</td>\n",
       "      <td>3.868500</td>\n",
       "    </tr>\n",
       "    <tr>\n",
       "      <th>7</th>\n",
       "      <td>2005</td>\n",
       "      <td>27503</td>\n",
       "      <td>3.845799</td>\n",
       "    </tr>\n",
       "    <tr>\n",
       "      <th>10</th>\n",
       "      <td>2008</td>\n",
       "      <td>65931</td>\n",
       "      <td>3.840599</td>\n",
       "    </tr>\n",
       "    <tr>\n",
       "      <th>14</th>\n",
       "      <td>2012</td>\n",
       "      <td>3057</td>\n",
       "      <td>3.839058</td>\n",
       "    </tr>\n",
       "    <tr>\n",
       "      <th>13</th>\n",
       "      <td>2011</td>\n",
       "      <td>107164</td>\n",
       "      <td>3.833494</td>\n",
       "    </tr>\n",
       "    <tr>\n",
       "      <th>4</th>\n",
       "      <td>2002</td>\n",
       "      <td>6725</td>\n",
       "      <td>3.822156</td>\n",
       "    </tr>\n",
       "    <tr>\n",
       "      <th>9</th>\n",
       "      <td>2007</td>\n",
       "      <td>44073</td>\n",
       "      <td>3.819697</td>\n",
       "    </tr>\n",
       "    <tr>\n",
       "      <th>8</th>\n",
       "      <td>2006</td>\n",
       "      <td>40366</td>\n",
       "      <td>3.809580</td>\n",
       "    </tr>\n",
       "    <tr>\n",
       "      <th>6</th>\n",
       "      <td>2004</td>\n",
       "      <td>21038</td>\n",
       "      <td>3.806850</td>\n",
       "    </tr>\n",
       "    <tr>\n",
       "      <th>5</th>\n",
       "      <td>2003</td>\n",
       "      <td>16304</td>\n",
       "      <td>3.775025</td>\n",
       "    </tr>\n",
       "  </tbody>\n",
       "</table>\n",
       "</div>"
      ],
      "text/plain": [
       "    review_year  n_reviews  mean_score\n",
       "2          2000         29    4.241379\n",
       "0          1998         11    4.045455\n",
       "1          1999         10    4.000000\n",
       "3          2001        534    3.970037\n",
       "12         2010      90496    3.869679\n",
       "11         2009      80456    3.868500\n",
       "7          2005      27503    3.845799\n",
       "10         2008      65931    3.840599\n",
       "14         2012       3057    3.839058\n",
       "13         2011     107164    3.833494\n",
       "4          2002       6725    3.822156\n",
       "9          2007      44073    3.819697\n",
       "8          2006      40366    3.809580\n",
       "6          2004      21038    3.806850\n",
       "5          2003      16304    3.775025"
      ]
     },
     "execution_count": 18,
     "metadata": {},
     "output_type": "execute_result"
    }
   ],
   "source": [
    "df_q2 = df.groupby(by='review_year', as_index=False).agg(n_reviews=('review_year', 'size'), mean_score=('review_overall', 'mean')).sort_values(by='mean_score', ascending=False)\n",
    "df_q2"
   ]
  },
  {
   "cell_type": "code",
   "execution_count": 19,
   "id": "7eebca37-0f5c-4a4b-8441-b11428a6d5ea",
   "metadata": {},
   "outputs": [
    {
     "data": {
      "image/png": "[encoded data removed]",
      "text/plain": [
       "<Figure size 1300x800 with 2 Axes>"
      ]
     },
     "metadata": {},
     "output_type": "display_data"
    }
   ],
   "source": [
    "# Plot bar chart\n",
    "color1 = '#2caffe'\n",
    "color2 = '#544fc5'\n",
    "\n",
    "fig, ax1 = plt.subplots(figsize=(13, 8))\n",
    "\n",
    "df_q2.plot(x='review_year', y='mean_score', kind='bar', color=color1, ax=ax1, width=0.25, position=0)\n",
    "ax2 = ax1.twinx()\n",
    "df_q2.plot(x='review_year', y='n_reviews', kind='bar', color=color2, ax=ax2, width=0.25, position=1)\n",
    "\n",
    "ax1.set_ylabel('Mean Score', color=color1)\n",
    "ax2.set_ylabel('Reviews per Year', color=color2)\n",
    "\n",
    "plt.legend(loc='upper left')\n",
    "\n",
    "plt.show()"
   ]
  },
  {
   "cell_type": "markdown",
   "id": "f1594e16-8feb-4659-975f-314b51b4c572",
   "metadata": {},
   "source": [
    "The year that had the highest beer ratings was `2010`.\n",
    "\n",
    "The years with the top 4 highest mean scores had very low numbers of reviews per year. Here, it is assumed these years have insufficient data to contribute to analysis results."
   ]
  },
  {
   "cell_type": "markdown",
   "id": "83489691-d36b-488d-b7cb-ea49fc344b2e",
   "metadata": {},
   "source": [
    "### Important factors for taste, aroma, appearance, and palette <a id='important-factors'></a>"
   ]
  },
  {
   "cell_type": "markdown",
   "id": "8b00227f-af04-444b-895e-6f9e91d0f7aa",
   "metadata": {},
   "source": [
    "Based on the users' ratings, which factors are important among taste, aroma, appearance, and palette?"
   ]
  },
  {
   "cell_type": "markdown",
   "id": "b5ee9d29-1365-43c5-b77b-f6500f1ab5bf",
   "metadata": {},
   "source": [
    "To determine the importance between the factors and the users' overall ratings, the correlation coefficient can be calculated and used as an importance measure."
   ]
  },
  {
   "cell_type": "code",
   "execution_count": 20,
   "id": "8395e5f1-a490-45d0-8c8d-be249d964756",
   "metadata": {},
   "outputs": [
    {
     "data": {
      "text/html": [
       "<div>\n",
       "<style scoped>\n",
       "    .dataframe tbody tr th:only-of-type {\n",
       "        vertical-align: middle;\n",
       "    }\n",
       "\n",
       "    .dataframe tbody tr th {\n",
       "        vertical-align: top;\n",
       "    }\n",
       "\n",
       "    .dataframe thead th {\n",
       "        text-align: right;\n",
       "    }\n",
       "</style>\n",
       "<table border=\"1\" class=\"dataframe\">\n",
       "  <thead>\n",
       "    <tr style=\"text-align: right;\">\n",
       "      <th></th>\n",
       "      <th>review_taste</th>\n",
       "      <th>review_aroma</th>\n",
       "      <th>review_appearance</th>\n",
       "      <th>review_palette</th>\n",
       "      <th>review_overall</th>\n",
       "    </tr>\n",
       "    <tr>\n",
       "      <th>beer_beerId</th>\n",
       "      <th></th>\n",
       "      <th></th>\n",
       "      <th></th>\n",
       "      <th></th>\n",
       "      <th></th>\n",
       "    </tr>\n",
       "  </thead>\n",
       "  <tbody>\n",
       "    <tr>\n",
       "      <th>5</th>\n",
       "      <td>3.323810</td>\n",
       "      <td>3.342857</td>\n",
       "      <td>3.488095</td>\n",
       "      <td>3.208333</td>\n",
       "      <td>3.554762</td>\n",
       "    </tr>\n",
       "    <tr>\n",
       "      <th>6</th>\n",
       "      <td>3.514925</td>\n",
       "      <td>3.645235</td>\n",
       "      <td>3.838691</td>\n",
       "      <td>3.516073</td>\n",
       "      <td>3.709529</td>\n",
       "    </tr>\n",
       "    <tr>\n",
       "      <th>7</th>\n",
       "      <td>3.110687</td>\n",
       "      <td>3.103817</td>\n",
       "      <td>3.251145</td>\n",
       "      <td>3.178626</td>\n",
       "      <td>3.271756</td>\n",
       "    </tr>\n",
       "    <tr>\n",
       "      <th>8</th>\n",
       "      <td>3.301471</td>\n",
       "      <td>3.235294</td>\n",
       "      <td>3.294118</td>\n",
       "      <td>3.080882</td>\n",
       "      <td>3.647059</td>\n",
       "    </tr>\n",
       "    <tr>\n",
       "      <th>9</th>\n",
       "      <td>3.103448</td>\n",
       "      <td>3.043103</td>\n",
       "      <td>3.051724</td>\n",
       "      <td>2.853448</td>\n",
       "      <td>3.400862</td>\n",
       "    </tr>\n",
       "    <tr>\n",
       "      <th>...</th>\n",
       "      <td>...</td>\n",
       "      <td>...</td>\n",
       "      <td>...</td>\n",
       "      <td>...</td>\n",
       "      <td>...</td>\n",
       "    </tr>\n",
       "    <tr>\n",
       "      <th>77302</th>\n",
       "      <td>3.500000</td>\n",
       "      <td>3.500000</td>\n",
       "      <td>3.000000</td>\n",
       "      <td>3.000000</td>\n",
       "      <td>3.500000</td>\n",
       "    </tr>\n",
       "    <tr>\n",
       "      <th>77303</th>\n",
       "      <td>5.000000</td>\n",
       "      <td>4.500000</td>\n",
       "      <td>4.500000</td>\n",
       "      <td>4.500000</td>\n",
       "      <td>5.000000</td>\n",
       "    </tr>\n",
       "    <tr>\n",
       "      <th>77305</th>\n",
       "      <td>3.500000</td>\n",
       "      <td>4.000000</td>\n",
       "      <td>4.000000</td>\n",
       "      <td>4.000000</td>\n",
       "      <td>4.000000</td>\n",
       "    </tr>\n",
       "    <tr>\n",
       "      <th>77307</th>\n",
       "      <td>3.500000</td>\n",
       "      <td>3.500000</td>\n",
       "      <td>5.000000</td>\n",
       "      <td>4.000000</td>\n",
       "      <td>4.000000</td>\n",
       "    </tr>\n",
       "    <tr>\n",
       "      <th>77310</th>\n",
       "      <td>3.000000</td>\n",
       "      <td>3.500000</td>\n",
       "      <td>3.500000</td>\n",
       "      <td>3.500000</td>\n",
       "      <td>3.500000</td>\n",
       "    </tr>\n",
       "  </tbody>\n",
       "</table>\n",
       "<p>14990 rows × 5 columns</p>\n",
       "</div>"
      ],
      "text/plain": [
       "             review_taste  review_aroma  review_appearance  review_palette  \\\n",
       "beer_beerId                                                                  \n",
       "5                3.323810      3.342857           3.488095        3.208333   \n",
       "6                3.514925      3.645235           3.838691        3.516073   \n",
       "7                3.110687      3.103817           3.251145        3.178626   \n",
       "8                3.301471      3.235294           3.294118        3.080882   \n",
       "9                3.103448      3.043103           3.051724        2.853448   \n",
       "...                   ...           ...                ...             ...   \n",
       "77302            3.500000      3.500000           3.000000        3.000000   \n",
       "77303            5.000000      4.500000           4.500000        4.500000   \n",
       "77305            3.500000      4.000000           4.000000        4.000000   \n",
       "77307            3.500000      3.500000           5.000000        4.000000   \n",
       "77310            3.000000      3.500000           3.500000        3.500000   \n",
       "\n",
       "             review_overall  \n",
       "beer_beerId                  \n",
       "5                  3.554762  \n",
       "6                  3.709529  \n",
       "7                  3.271756  \n",
       "8                  3.647059  \n",
       "9                  3.400862  \n",
       "...                     ...  \n",
       "77302              3.500000  \n",
       "77303              5.000000  \n",
       "77305              4.000000  \n",
       "77307              4.000000  \n",
       "77310              3.500000  \n",
       "\n",
       "[14990 rows x 5 columns]"
      ]
     },
     "execution_count": 20,
     "metadata": {},
     "output_type": "execute_result"
    }
   ],
   "source": [
    "df_q3 = df.groupby(by='beer_beerId')[['review_taste', 'review_aroma', 'review_appearance', 'review_palette', 'review_overall']].mean()\n",
    "df_q3"
   ]
  },
  {
   "cell_type": "code",
   "execution_count": 21,
   "id": "1af8e36a-6daf-4ad6-bc45-14111fb8555f",
   "metadata": {},
   "outputs": [
    {
     "data": {
      "text/html": [
       "<div>\n",
       "<style scoped>\n",
       "    .dataframe tbody tr th:only-of-type {\n",
       "        vertical-align: middle;\n",
       "    }\n",
       "\n",
       "    .dataframe tbody tr th {\n",
       "        vertical-align: top;\n",
       "    }\n",
       "\n",
       "    .dataframe thead th {\n",
       "        text-align: right;\n",
       "    }\n",
       "</style>\n",
       "<table border=\"1\" class=\"dataframe\">\n",
       "  <thead>\n",
       "    <tr style=\"text-align: right;\">\n",
       "      <th></th>\n",
       "      <th>review_taste</th>\n",
       "      <th>review_aroma</th>\n",
       "      <th>review_appearance</th>\n",
       "      <th>review_palette</th>\n",
       "      <th>review_overall</th>\n",
       "    </tr>\n",
       "  </thead>\n",
       "  <tbody>\n",
       "    <tr>\n",
       "      <th>review_taste</th>\n",
       "      <td>1.000000</td>\n",
       "      <td>0.835088</td>\n",
       "      <td>0.682127</td>\n",
       "      <td>0.756303</td>\n",
       "      <td>0.823181</td>\n",
       "    </tr>\n",
       "    <tr>\n",
       "      <th>review_aroma</th>\n",
       "      <td>0.835088</td>\n",
       "      <td>1.000000</td>\n",
       "      <td>0.660223</td>\n",
       "      <td>0.825980</td>\n",
       "      <td>0.883871</td>\n",
       "    </tr>\n",
       "    <tr>\n",
       "      <th>review_appearance</th>\n",
       "      <td>0.682127</td>\n",
       "      <td>0.660223</td>\n",
       "      <td>1.000000</td>\n",
       "      <td>0.669148</td>\n",
       "      <td>0.637575</td>\n",
       "    </tr>\n",
       "    <tr>\n",
       "      <th>review_palette</th>\n",
       "      <td>0.756303</td>\n",
       "      <td>0.825980</td>\n",
       "      <td>0.669148</td>\n",
       "      <td>1.000000</td>\n",
       "      <td>0.766908</td>\n",
       "    </tr>\n",
       "    <tr>\n",
       "      <th>review_overall</th>\n",
       "      <td>0.823181</td>\n",
       "      <td>0.883871</td>\n",
       "      <td>0.637575</td>\n",
       "      <td>0.766908</td>\n",
       "      <td>1.000000</td>\n",
       "    </tr>\n",
       "  </tbody>\n",
       "</table>\n",
       "</div>"
      ],
      "text/plain": [
       "                   review_taste  review_aroma  review_appearance  \\\n",
       "review_taste           1.000000      0.835088           0.682127   \n",
       "review_aroma           0.835088      1.000000           0.660223   \n",
       "review_appearance      0.682127      0.660223           1.000000   \n",
       "review_palette         0.756303      0.825980           0.669148   \n",
       "review_overall         0.823181      0.883871           0.637575   \n",
       "\n",
       "                   review_palette  review_overall  \n",
       "review_taste             0.756303        0.823181  \n",
       "review_aroma             0.825980        0.883871  \n",
       "review_appearance        0.669148        0.637575  \n",
       "review_palette           1.000000        0.766908  \n",
       "review_overall           0.766908        1.000000  "
      ]
     },
     "execution_count": 21,
     "metadata": {},
     "output_type": "execute_result"
    }
   ],
   "source": [
    "df_q3.corr()"
   ]
  },
  {
   "cell_type": "markdown",
   "id": "4bae4c73-49cc-4003-bce3-05cac8a6bbc7",
   "metadata": {},
   "source": [
    "Here, the aroma is the most important factor for the beer with a 0.88 correlation with the overall review rating. The taste is the second most important factor, followed by palette and appearance. All of the factors are positively correlated with user ratings."
   ]
  },
  {
   "cell_type": "code",
   "execution_count": 22,
   "id": "a5ba8d03-91d9-400e-b9ef-293d3ba1c835",
   "metadata": {},
   "outputs": [
    {
     "data": {
      "text/plain": [
       "<Axes: >"
      ]
     },
     "execution_count": 22,
     "metadata": {},
     "output_type": "execute_result"
    },
    {
     "data": {
      "image/png": "[encoded data removed]",
      "text/plain": [
       "<Figure size 640x480 with 2 Axes>"
      ]
     },
     "metadata": {},
     "output_type": "display_data"
    }
   ],
   "source": [
    "heatmap(data=df_q3.corr(), annot=True)"
   ]
  },
  {
   "cell_type": "markdown",
   "id": "12200db5-6559-41f2-913f-dbc439840843",
   "metadata": {},
   "source": [
    "### Top 3 recommendations <a id='top-recommendations'></a>"
   ]
  },
  {
   "cell_type": "markdown",
   "id": "71ce4b82-bece-475b-8450-e242e8878224",
   "metadata": {},
   "source": [
    "If you were to recommend 3 beers to your friends based on this data, which ones would you recommend?"
   ]
  },
  {
   "cell_type": "markdown",
   "id": "848323d0-0444-4f84-aec9-a16244f01b0b",
   "metadata": {},
   "source": [
    "Recommend beers that are reviewed most often, and most highly."
   ]
  },
  {
   "cell_type": "code",
   "execution_count": 23,
   "id": "c1268309-1f7f-423a-8bb1-df11bf3350e4",
   "metadata": {},
   "outputs": [
    {
     "data": {
      "text/html": [
       "<div>\n",
       "<style scoped>\n",
       "    .dataframe tbody tr th:only-of-type {\n",
       "        vertical-align: middle;\n",
       "    }\n",
       "\n",
       "    .dataframe tbody tr th {\n",
       "        vertical-align: top;\n",
       "    }\n",
       "\n",
       "    .dataframe thead th {\n",
       "        text-align: right;\n",
       "    }\n",
       "</style>\n",
       "<table border=\"1\" class=\"dataframe\">\n",
       "  <thead>\n",
       "    <tr style=\"text-align: right;\">\n",
       "      <th></th>\n",
       "      <th>beer_beerId</th>\n",
       "      <th>n_reviews</th>\n",
       "      <th>mean_score</th>\n",
       "    </tr>\n",
       "  </thead>\n",
       "  <tbody>\n",
       "    <tr>\n",
       "      <th>0</th>\n",
       "      <td>5</td>\n",
       "      <td>420</td>\n",
       "      <td>3.554762</td>\n",
       "    </tr>\n",
       "    <tr>\n",
       "      <th>1</th>\n",
       "      <td>6</td>\n",
       "      <td>871</td>\n",
       "      <td>3.709529</td>\n",
       "    </tr>\n",
       "    <tr>\n",
       "      <th>2</th>\n",
       "      <td>7</td>\n",
       "      <td>655</td>\n",
       "      <td>3.271756</td>\n",
       "    </tr>\n",
       "    <tr>\n",
       "      <th>3</th>\n",
       "      <td>8</td>\n",
       "      <td>68</td>\n",
       "      <td>3.647059</td>\n",
       "    </tr>\n",
       "    <tr>\n",
       "      <th>4</th>\n",
       "      <td>9</td>\n",
       "      <td>116</td>\n",
       "      <td>3.400862</td>\n",
       "    </tr>\n",
       "    <tr>\n",
       "      <th>...</th>\n",
       "      <td>...</td>\n",
       "      <td>...</td>\n",
       "      <td>...</td>\n",
       "    </tr>\n",
       "    <tr>\n",
       "      <th>14985</th>\n",
       "      <td>77302</td>\n",
       "      <td>1</td>\n",
       "      <td>3.500000</td>\n",
       "    </tr>\n",
       "    <tr>\n",
       "      <th>14986</th>\n",
       "      <td>77303</td>\n",
       "      <td>1</td>\n",
       "      <td>5.000000</td>\n",
       "    </tr>\n",
       "    <tr>\n",
       "      <th>14987</th>\n",
       "      <td>77305</td>\n",
       "      <td>1</td>\n",
       "      <td>4.000000</td>\n",
       "    </tr>\n",
       "    <tr>\n",
       "      <th>14988</th>\n",
       "      <td>77307</td>\n",
       "      <td>1</td>\n",
       "      <td>4.000000</td>\n",
       "    </tr>\n",
       "    <tr>\n",
       "      <th>14989</th>\n",
       "      <td>77310</td>\n",
       "      <td>1</td>\n",
       "      <td>3.500000</td>\n",
       "    </tr>\n",
       "  </tbody>\n",
       "</table>\n",
       "<p>14990 rows × 3 columns</p>\n",
       "</div>"
      ],
      "text/plain": [
       "       beer_beerId  n_reviews  mean_score\n",
       "0                5        420    3.554762\n",
       "1                6        871    3.709529\n",
       "2                7        655    3.271756\n",
       "3                8         68    3.647059\n",
       "4                9        116    3.400862\n",
       "...            ...        ...         ...\n",
       "14985        77302          1    3.500000\n",
       "14986        77303          1    5.000000\n",
       "14987        77305          1    4.000000\n",
       "14988        77307          1    4.000000\n",
       "14989        77310          1    3.500000\n",
       "\n",
       "[14990 rows x 3 columns]"
      ]
     },
     "execution_count": 23,
     "metadata": {},
     "output_type": "execute_result"
    }
   ],
   "source": [
    "df_q4 = df.groupby(by='beer_beerId', as_index=False).agg(n_reviews=('review_overall', 'count'), mean_score=('review_overall', 'mean'))\n",
    "df_q4"
   ]
  },
  {
   "cell_type": "code",
   "execution_count": 24,
   "id": "298c43f0-37e2-471b-8868-83f967e0dc4d",
   "metadata": {},
   "outputs": [
    {
     "data": {
      "text/html": [
       "<div>\n",
       "<style scoped>\n",
       "    .dataframe tbody tr th:only-of-type {\n",
       "        vertical-align: middle;\n",
       "    }\n",
       "\n",
       "    .dataframe tbody tr th {\n",
       "        vertical-align: top;\n",
       "    }\n",
       "\n",
       "    .dataframe thead th {\n",
       "        text-align: right;\n",
       "    }\n",
       "</style>\n",
       "<table border=\"1\" class=\"dataframe\">\n",
       "  <thead>\n",
       "    <tr style=\"text-align: right;\">\n",
       "      <th></th>\n",
       "      <th>beer_beerId</th>\n",
       "      <th>n_reviews</th>\n",
       "      <th>mean_score</th>\n",
       "    </tr>\n",
       "  </thead>\n",
       "  <tbody>\n",
       "    <tr>\n",
       "      <th>192</th>\n",
       "      <td>1057</td>\n",
       "      <td>1</td>\n",
       "      <td>5.0</td>\n",
       "    </tr>\n",
       "    <tr>\n",
       "      <th>349</th>\n",
       "      <td>1734</td>\n",
       "      <td>1</td>\n",
       "      <td>5.0</td>\n",
       "    </tr>\n",
       "    <tr>\n",
       "      <th>906</th>\n",
       "      <td>4911</td>\n",
       "      <td>1</td>\n",
       "      <td>5.0</td>\n",
       "    </tr>\n",
       "    <tr>\n",
       "      <th>992</th>\n",
       "      <td>5321</td>\n",
       "      <td>1</td>\n",
       "      <td>5.0</td>\n",
       "    </tr>\n",
       "    <tr>\n",
       "      <th>1064</th>\n",
       "      <td>5725</td>\n",
       "      <td>1</td>\n",
       "      <td>5.0</td>\n",
       "    </tr>\n",
       "    <tr>\n",
       "      <th>...</th>\n",
       "      <td>...</td>\n",
       "      <td>...</td>\n",
       "      <td>...</td>\n",
       "    </tr>\n",
       "    <tr>\n",
       "      <th>14679</th>\n",
       "      <td>75949</td>\n",
       "      <td>1</td>\n",
       "      <td>5.0</td>\n",
       "    </tr>\n",
       "    <tr>\n",
       "      <th>14723</th>\n",
       "      <td>76150</td>\n",
       "      <td>1</td>\n",
       "      <td>5.0</td>\n",
       "    </tr>\n",
       "    <tr>\n",
       "      <th>14814</th>\n",
       "      <td>76563</td>\n",
       "      <td>1</td>\n",
       "      <td>5.0</td>\n",
       "    </tr>\n",
       "    <tr>\n",
       "      <th>14977</th>\n",
       "      <td>77207</td>\n",
       "      <td>1</td>\n",
       "      <td>5.0</td>\n",
       "    </tr>\n",
       "    <tr>\n",
       "      <th>14986</th>\n",
       "      <td>77303</td>\n",
       "      <td>1</td>\n",
       "      <td>5.0</td>\n",
       "    </tr>\n",
       "  </tbody>\n",
       "</table>\n",
       "<p>181 rows × 3 columns</p>\n",
       "</div>"
      ],
      "text/plain": [
       "       beer_beerId  n_reviews  mean_score\n",
       "192           1057          1         5.0\n",
       "349           1734          1         5.0\n",
       "906           4911          1         5.0\n",
       "992           5321          1         5.0\n",
       "1064          5725          1         5.0\n",
       "...            ...        ...         ...\n",
       "14679        75949          1         5.0\n",
       "14723        76150          1         5.0\n",
       "14814        76563          1         5.0\n",
       "14977        77207          1         5.0\n",
       "14986        77303          1         5.0\n",
       "\n",
       "[181 rows x 3 columns]"
      ]
     },
     "execution_count": 24,
     "metadata": {},
     "output_type": "execute_result"
    }
   ],
   "source": [
    "# Check top 10 beers by mean score\n",
    "df_q4.nlargest(n=10, columns='mean_score', keep='all')"
   ]
  },
  {
   "cell_type": "markdown",
   "id": "20b5396a-63f1-431c-b2cd-41b7c91e4520",
   "metadata": {},
   "source": [
    "These beers have only been reviewed once. It is better to recommend beers that have more reviews."
   ]
  },
  {
   "cell_type": "code",
   "execution_count": 25,
   "id": "593ceec8-93c1-4f59-802f-238ed797b443",
   "metadata": {},
   "outputs": [
    {
     "data": {
      "text/html": [
       "<div>\n",
       "<style scoped>\n",
       "    .dataframe tbody tr th:only-of-type {\n",
       "        vertical-align: middle;\n",
       "    }\n",
       "\n",
       "    .dataframe tbody tr th {\n",
       "        vertical-align: top;\n",
       "    }\n",
       "\n",
       "    .dataframe thead th {\n",
       "        text-align: right;\n",
       "    }\n",
       "</style>\n",
       "<table border=\"1\" class=\"dataframe\">\n",
       "  <thead>\n",
       "    <tr style=\"text-align: right;\">\n",
       "      <th></th>\n",
       "      <th>beer_beerId</th>\n",
       "      <th>n_reviews</th>\n",
       "      <th>mean_score</th>\n",
       "    </tr>\n",
       "  </thead>\n",
       "  <tbody>\n",
       "    <tr>\n",
       "      <th>count</th>\n",
       "      <td>14990.000000</td>\n",
       "      <td>14990.000000</td>\n",
       "      <td>14990.000000</td>\n",
       "    </tr>\n",
       "    <tr>\n",
       "      <th>mean</th>\n",
       "      <td>40740.290527</td>\n",
       "      <td>33.602201</td>\n",
       "      <td>3.651688</td>\n",
       "    </tr>\n",
       "    <tr>\n",
       "      <th>std</th>\n",
       "      <td>22634.524770</td>\n",
       "      <td>140.888150</td>\n",
       "      <td>0.625075</td>\n",
       "    </tr>\n",
       "    <tr>\n",
       "      <th>min</th>\n",
       "      <td>5.000000</td>\n",
       "      <td>1.000000</td>\n",
       "      <td>1.000000</td>\n",
       "    </tr>\n",
       "    <tr>\n",
       "      <th>25%</th>\n",
       "      <td>20957.250000</td>\n",
       "      <td>1.000000</td>\n",
       "      <td>3.400000</td>\n",
       "    </tr>\n",
       "    <tr>\n",
       "      <th>50%</th>\n",
       "      <td>42341.500000</td>\n",
       "      <td>3.000000</td>\n",
       "      <td>3.750000</td>\n",
       "    </tr>\n",
       "    <tr>\n",
       "      <th>75%</th>\n",
       "      <td>60703.250000</td>\n",
       "      <td>10.000000</td>\n",
       "      <td>4.000000</td>\n",
       "    </tr>\n",
       "    <tr>\n",
       "      <th>max</th>\n",
       "      <td>77310.000000</td>\n",
       "      <td>2928.000000</td>\n",
       "      <td>5.000000</td>\n",
       "    </tr>\n",
       "  </tbody>\n",
       "</table>\n",
       "</div>"
      ],
      "text/plain": [
       "        beer_beerId     n_reviews    mean_score\n",
       "count  14990.000000  14990.000000  14990.000000\n",
       "mean   40740.290527     33.602201      3.651688\n",
       "std    22634.524770    140.888150      0.625075\n",
       "min        5.000000      1.000000      1.000000\n",
       "25%    20957.250000      1.000000      3.400000\n",
       "50%    42341.500000      3.000000      3.750000\n",
       "75%    60703.250000     10.000000      4.000000\n",
       "max    77310.000000   2928.000000      5.000000"
      ]
     },
     "execution_count": 25,
     "metadata": {},
     "output_type": "execute_result"
    }
   ],
   "source": [
    "df_q4.describe()"
   ]
  },
  {
   "cell_type": "markdown",
   "id": "f723e751-b7a6-4710-bd34-e4cf06fc905b",
   "metadata": {},
   "source": [
    "The distribution of reviews appears skewed because over 50% of beers have less than 3 reviews."
   ]
  },
  {
   "cell_type": "code",
   "execution_count": 26,
   "id": "200ff682-fe8a-4b76-b260-25f904092eb7",
   "metadata": {},
   "outputs": [
    {
     "data": {
      "text/plain": [
       "array([[<Axes: title={'center': 'n_reviews'}>]], dtype=object)"
      ]
     },
     "execution_count": 26,
     "metadata": {},
     "output_type": "execute_result"
    },
    {
     "data": {
      "image/png": "[encoded data removed]",
      "text/plain": [
       "<Figure size 1000x700 with 1 Axes>"
      ]
     },
     "metadata": {},
     "output_type": "display_data"
    }
   ],
   "source": [
    "# Plot distribution of number of reviews of beers\n",
    "df_q4.hist(column='n_reviews', bins=40, figsize=(10, 7))"
   ]
  },
  {
   "cell_type": "markdown",
   "id": "989e257a-5d46-4d47-8edc-003ff252ce92",
   "metadata": {},
   "source": [
    "The lowest bin contains most of the reviews. In this case, `200` reviews will be selected as a cut-off point above which beers will be recommended. The threshold for the number of reviews can be adjusted for experimentation."
   ]
  },
  {
   "cell_type": "code",
   "execution_count": 27,
   "id": "a5ab9ba6-cd97-444e-8ced-41b542b6e853",
   "metadata": {},
   "outputs": [
    {
     "data": {
      "text/plain": [
       "array([[<Axes: title={'center': 'n_reviews'}>]], dtype=object)"
      ]
     },
     "execution_count": 27,
     "metadata": {},
     "output_type": "execute_result"
    },
    {
     "data": {
      "image/png": "[encoded data removed]",
      "text/plain": [
       "<Figure size 1000x700 with 1 Axes>"
      ]
     },
     "metadata": {},
     "output_type": "display_data"
    }
   ],
   "source": [
    "df_q4[df_q4['n_reviews'] > 200].hist(column='n_reviews', bins=30, figsize=(10, 7))"
   ]
  },
  {
   "cell_type": "code",
   "execution_count": 28,
   "id": "d575bbaf-e0e4-4a50-888b-ccaf6104511f",
   "metadata": {},
   "outputs": [
    {
     "data": {
      "text/html": [
       "<div>\n",
       "<style scoped>\n",
       "    .dataframe tbody tr th:only-of-type {\n",
       "        vertical-align: middle;\n",
       "    }\n",
       "\n",
       "    .dataframe tbody tr th {\n",
       "        vertical-align: top;\n",
       "    }\n",
       "\n",
       "    .dataframe thead th {\n",
       "        text-align: right;\n",
       "    }\n",
       "</style>\n",
       "<table border=\"1\" class=\"dataframe\">\n",
       "  <thead>\n",
       "    <tr style=\"text-align: right;\">\n",
       "      <th></th>\n",
       "      <th>beer_name</th>\n",
       "      <th>beer_style</th>\n",
       "    </tr>\n",
       "  </thead>\n",
       "  <tbody>\n",
       "    <tr>\n",
       "      <th>0</th>\n",
       "      <td>Citra DIPA</td>\n",
       "      <td>American Double / Imperial IPA</td>\n",
       "    </tr>\n",
       "    <tr>\n",
       "      <th>246</th>\n",
       "      <td>Heady Topper</td>\n",
       "      <td>American Double / Imperial IPA</td>\n",
       "    </tr>\n",
       "    <tr>\n",
       "      <th>689</th>\n",
       "      <td>Founders CBS Imperial Stout</td>\n",
       "      <td>American Double / Imperial Stout</td>\n",
       "    </tr>\n",
       "  </tbody>\n",
       "</table>\n",
       "</div>"
      ],
      "text/plain": [
       "                       beer_name                        beer_style\n",
       "0                     Citra DIPA    American Double / Imperial IPA\n",
       "246                 Heady Topper    American Double / Imperial IPA\n",
       "689  Founders CBS Imperial Stout  American Double / Imperial Stout"
      ]
     },
     "execution_count": 28,
     "metadata": {},
     "output_type": "execute_result"
    }
   ],
   "source": [
    "(df_q4[df_q4['n_reviews'] > 200].nlargest(n=3, columns='mean_score', keep='all')\n",
    " .merge(right=df, how='left', on='beer_beerId')\n",
    " .drop_duplicates(subset='beer_beerId')\n",
    " [['beer_name', 'beer_style']]\n",
    ")"
   ]
  },
  {
   "cell_type": "markdown",
   "id": "8be2540c-8613-4c93-a82a-1c74ba65639a",
   "metadata": {},
   "source": [
    "The top 3 beer recommendations are American Double style."
   ]
  },
  {
   "cell_type": "markdown",
   "id": "270290a3-a76e-4aee-aa56-5be5489a0a84",
   "metadata": {},
   "source": [
    "### Best beer style <a id='beer-style'></a>"
   ]
  },
  {
   "cell_type": "markdown",
   "id": "5c3a5fea-8f12-4fa5-ac4c-c37ef043fc95",
   "metadata": {},
   "source": [
    "Which beer style appears to be the favorite based on user reviews? How do the written reviews compare to overall review score for each beer style?"
   ]
  },
  {
   "cell_type": "markdown",
   "id": "18bbff58-3a24-4080-be79-dea345cafb72",
   "metadata": {},
   "source": [
    "The `review_text` column contains text that can be analyzed with a natural language processing (NLP) model to classify sentiment as positive, negative, or neutral.\n",
    "\n",
    "For this task, the Valence Aware Dictionary and sEntiment Reasoner ([VADER](https://github.com/cjhutto/vaderSentiment)) lexicon and rule-based sentiment analysis tool will be used."
   ]
  },
  {
   "cell_type": "code",
   "execution_count": 29,
   "id": "24ede9a4-d417-42a5-80ff-35a5878ac37a",
   "metadata": {},
   "outputs": [
    {
     "data": {
      "text/plain": [
       "True"
      ]
     },
     "execution_count": 29,
     "metadata": {},
     "output_type": "execute_result"
    }
   ],
   "source": [
    "# Download scored list of words and jargon that sentiment analyzer will reference for analysis\n",
    "download('vader_lexicon', quiet=True)"
   ]
  },
  {
   "cell_type": "code",
   "execution_count": 30,
   "id": "a02db86a-cfcd-4f31-ba6a-abbb344e121f",
   "metadata": {},
   "outputs": [],
   "source": [
    "analyser = SentimentIntensityAnalyzer()"
   ]
  },
  {
   "cell_type": "markdown",
   "id": "818f92d7-c565-433b-9054-2151a86d38e2",
   "metadata": {},
   "source": [
    "Create a new column `review_sentiment` for the compound score of the `review_text` column.\n",
    "\n",
    "The following cell may take several minutes to execute."
   ]
  },
  {
   "cell_type": "code",
   "execution_count": 31,
   "id": "7e5ff5ff-730b-48b7-b451-48fc9d6eee5f",
   "metadata": {},
   "outputs": [],
   "source": [
    "df['review_sentiment'] = df['review_text'].apply(lambda x: analyser.polarity_scores(text=x)['compound'])"
   ]
  },
  {
   "cell_type": "code",
   "execution_count": 32,
   "id": "65c9a78d-2ca9-44bd-b190-27a4d53c3051",
   "metadata": {},
   "outputs": [
    {
     "data": {
      "text/html": [
       "<div>\n",
       "<style scoped>\n",
       "    .dataframe tbody tr th:only-of-type {\n",
       "        vertical-align: middle;\n",
       "    }\n",
       "\n",
       "    .dataframe tbody tr th {\n",
       "        vertical-align: top;\n",
       "    }\n",
       "\n",
       "    .dataframe thead th {\n",
       "        text-align: right;\n",
       "    }\n",
       "</style>\n",
       "<table border=\"1\" class=\"dataframe\">\n",
       "  <thead>\n",
       "    <tr style=\"text-align: right;\">\n",
       "      <th></th>\n",
       "      <th>mean</th>\n",
       "      <th>count</th>\n",
       "    </tr>\n",
       "    <tr>\n",
       "      <th>beer_style</th>\n",
       "      <th></th>\n",
       "      <th></th>\n",
       "    </tr>\n",
       "  </thead>\n",
       "  <tbody>\n",
       "    <tr>\n",
       "      <th>Quadrupel (Quad)</th>\n",
       "      <td>0.857196</td>\n",
       "      <td>4808</td>\n",
       "    </tr>\n",
       "    <tr>\n",
       "      <th>Dortmunder / Export Lager</th>\n",
       "      <td>0.855261</td>\n",
       "      <td>1709</td>\n",
       "    </tr>\n",
       "    <tr>\n",
       "      <th>Flanders Red Ale</th>\n",
       "      <td>0.852629</td>\n",
       "      <td>2751</td>\n",
       "    </tr>\n",
       "    <tr>\n",
       "      <th>Roggenbier</th>\n",
       "      <td>0.850934</td>\n",
       "      <td>137</td>\n",
       "    </tr>\n",
       "    <tr>\n",
       "      <th>Braggot</th>\n",
       "      <td>0.850453</td>\n",
       "      <td>197</td>\n",
       "    </tr>\n",
       "    <tr>\n",
       "      <th>...</th>\n",
       "      <td>...</td>\n",
       "      <td>...</td>\n",
       "    </tr>\n",
       "    <tr>\n",
       "      <th>Happoshu</th>\n",
       "      <td>0.533456</td>\n",
       "      <td>55</td>\n",
       "    </tr>\n",
       "    <tr>\n",
       "      <th>American Malt Liquor</th>\n",
       "      <td>0.525378</td>\n",
       "      <td>1332</td>\n",
       "    </tr>\n",
       "    <tr>\n",
       "      <th>Japanese Rice Lager</th>\n",
       "      <td>0.514906</td>\n",
       "      <td>488</td>\n",
       "    </tr>\n",
       "    <tr>\n",
       "      <th>Light Lager</th>\n",
       "      <td>0.469146</td>\n",
       "      <td>4127</td>\n",
       "    </tr>\n",
       "    <tr>\n",
       "      <th>Low Alcohol Beer</th>\n",
       "      <td>0.396340</td>\n",
       "      <td>145</td>\n",
       "    </tr>\n",
       "  </tbody>\n",
       "</table>\n",
       "<p>104 rows × 2 columns</p>\n",
       "</div>"
      ],
      "text/plain": [
       "                               mean  count\n",
       "beer_style                                \n",
       "Quadrupel (Quad)           0.857196   4808\n",
       "Dortmunder / Export Lager  0.855261   1709\n",
       "Flanders Red Ale           0.852629   2751\n",
       "Roggenbier                 0.850934    137\n",
       "Braggot                    0.850453    197\n",
       "...                             ...    ...\n",
       "Happoshu                   0.533456     55\n",
       "American Malt Liquor       0.525378   1332\n",
       "Japanese Rice Lager        0.514906    488\n",
       "Light Lager                0.469146   4127\n",
       "Low Alcohol Beer           0.396340    145\n",
       "\n",
       "[104 rows x 2 columns]"
      ]
     },
     "execution_count": 32,
     "metadata": {},
     "output_type": "execute_result"
    }
   ],
   "source": [
    "df.groupby(by='beer_style')['review_sentiment'].agg(func=['mean', 'count']).sort_values(by='mean', ascending=False)"
   ]
  },
  {
   "cell_type": "markdown",
   "id": "bb163dc6-1295-45ea-a7a7-642989e2ee75",
   "metadata": {},
   "source": [
    "Based on user reviews, the most favored beer style is `Quadrupel (Quad)`. This style has received a high number of reviews.\n",
    "\n",
    "To compare the written reviews to the overall review score for `Quadrupel (Quad)`, the correlation coefficient can be calculated."
   ]
  },
  {
   "cell_type": "code",
   "execution_count": 33,
   "id": "a7936918-5a7f-4c97-b28f-9aee808185a5",
   "metadata": {},
   "outputs": [
    {
     "data": {
      "text/html": [
       "<div>\n",
       "<style scoped>\n",
       "    .dataframe tbody tr th:only-of-type {\n",
       "        vertical-align: middle;\n",
       "    }\n",
       "\n",
       "    .dataframe tbody tr th {\n",
       "        vertical-align: top;\n",
       "    }\n",
       "\n",
       "    .dataframe thead th {\n",
       "        text-align: right;\n",
       "    }\n",
       "</style>\n",
       "<table border=\"1\" class=\"dataframe\">\n",
       "  <thead>\n",
       "    <tr style=\"text-align: right;\">\n",
       "      <th></th>\n",
       "      <th>review_sentiment</th>\n",
       "      <th>review_overall</th>\n",
       "    </tr>\n",
       "  </thead>\n",
       "  <tbody>\n",
       "    <tr>\n",
       "      <th>review_sentiment</th>\n",
       "      <td>1.00000</td>\n",
       "      <td>0.25939</td>\n",
       "    </tr>\n",
       "    <tr>\n",
       "      <th>review_overall</th>\n",
       "      <td>0.25939</td>\n",
       "      <td>1.00000</td>\n",
       "    </tr>\n",
       "  </tbody>\n",
       "</table>\n",
       "</div>"
      ],
      "text/plain": [
       "                  review_sentiment  review_overall\n",
       "review_sentiment           1.00000         0.25939\n",
       "review_overall             0.25939         1.00000"
      ]
     },
     "execution_count": 33,
     "metadata": {},
     "output_type": "execute_result"
    }
   ],
   "source": [
    "df_q5 = df[df['beer_style'] == 'Quadrupel (Quad)']\n",
    "df_q5[['review_sentiment', 'review_overall']].corr()"
   ]
  },
  {
   "cell_type": "markdown",
   "id": "0ec86dd9-a5c5-418f-be86-70e15e5d402f",
   "metadata": {},
   "source": [
    "There is a low positive correlation of 0.26 between the review score and the sentiment compound score.\n",
    "\n",
    "A correlation matrix can be created to check the other review attributes. "
   ]
  },
  {
   "cell_type": "code",
   "execution_count": 34,
   "id": "db2f4c95-66b9-4bd3-b359-c06602593174",
   "metadata": {},
   "outputs": [
    {
     "data": {
      "text/plain": [
       "<Axes: >"
      ]
     },
     "execution_count": 34,
     "metadata": {},
     "output_type": "execute_result"
    },
    {
     "data": {
      "image/png": "[encoded data removed]",
      "text/plain": [
       "<Figure size 640x480 with 2 Axes>"
      ]
     },
     "metadata": {},
     "output_type": "display_data"
    }
   ],
   "source": [
    "heatmap(data=df_q5[[\n",
    "    'review_overall', \n",
    "    'review_appearance',\n",
    "    'review_aroma',\n",
    "    'review_taste',\n",
    "    'review_palette',\n",
    "    'review_sentiment'\n",
    "]].corr(), annot=True)"
   ]
  },
  {
   "cell_type": "markdown",
   "id": "98b0900a-0b03-4366-917f-7dcaf9b5e470",
   "metadata": {},
   "source": [
    "All review attributes score similarly, at around 0.2 correlation. This consistency is expected because from a computer's perspective, a single number (the overall review) better expresses the users' opinions of the beer than the written text, given that the NLP model is not performing at human-level understanding. \n",
    "\n",
    "The low correlation coefficient could also be explained by users providing a high overall review score but writing neutral comments in the text.\n",
    "\n",
    "The overall trend is positive coefficients, indicating that an increase in the compound score is correlated with an increase in the overall review score."
   ]
  },
  {
   "cell_type": "markdown",
   "id": "d6a34134-c5d6-47bc-b0c1-5f09b1f9ba2b",
   "metadata": {},
   "source": [
    "This notebook was inspired by the [Beer Data Analysis](https://platform.stratascratch.com/data-projects/beer-data-analysis) data project on [StrataScratch](https://www.stratascratch.com/)."
   ]
  },
  {
   "cell_type": "code",
   "execution_count": null,
   "id": "cda1f3ee-1fec-4454-ba78-43568eb22d5d",
   "metadata": {},
   "outputs": [],
   "source": []
  }
 ],
 "metadata": {
  "kernelspec": {
   "display_name": "Python 3 (ipykernel)",
   "language": "python",
   "name": "python3"
  },
  "language_info": {
   "codemirror_mode": {
    "name": "ipython",
    "version": 3
   },
   "file_extension": ".py",
   "mimetype": "text/x-python",
   "name": "python",
   "nbconvert_exporter": "python",
   "pygments_lexer": "ipython3",
   "version": "3.11.6"
  }
 },
 "nbformat": 4,
 "nbformat_minor": 5
}
