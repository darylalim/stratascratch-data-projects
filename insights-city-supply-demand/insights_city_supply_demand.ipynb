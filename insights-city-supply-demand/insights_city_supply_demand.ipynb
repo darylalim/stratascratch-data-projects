{
 "cells": [
  {
   "cell_type": "markdown",
   "id": "fc7dd1cf-0564-4f34-b944-52111c41ba53",
   "metadata": {},
   "source": [
    "# Insights from City Supply and Demand Data"
   ]
  },
  {
   "cell_type": "markdown",
   "id": "b77be378-96ab-4fca-9144-6dcf31ae6bd3",
   "metadata": {},
   "source": [
    "## Outline\n",
    "\n",
    "- [Objective](#objective)\n",
    "- [Setup](#setup)\n",
    "- [Data Exploration](#data-exploration)\n",
    "- [Data Processing](#data-processing)\n",
    "- [Date of Most Completed Trips](#date-most-trips)\n",
    "- [Highest Number of Completed Trips within 24 hours](#highest-trips-24)\n",
    "- [Hour of Most Requests](#hour-most-requests)\n",
    "- [Percentage of Zeroes on Weekends](#percentage-zeroes-weekends)\n",
    "- [Weighted Average Ratio of Completed Trips per Driver](#ratio-trips-driver)\n",
    "- [Busiest 8 Hour Shifts](#busiest-shifts)\n",
    "- [Driver Supply and Demand](#driver-supply-demand)\n",
    "- [Highest Zeroes to Eyeballs](#highest-zeroes-eyeballs)\n",
    "- [Highest Eyeball to Driver](#highest-eyeball-driver)\n",
    "- [Analysis Time Frame](#analysis-time-frame)\n",
    "- [Best End Day](#best-end-day)"
   ]
  },
  {
   "cell_type": "markdown",
   "id": "6364bdfd-2940-487e-953d-beaa17cfa606",
   "metadata": {},
   "source": [
    "## Objective <a id='objective'></a>"
   ]
  },
  {
   "cell_type": "markdown",
   "id": "d3d4d04e-1b6d-4a4d-b869-f0be84aca996",
   "metadata": {},
   "source": [
    "Given the dataset, the following questions will be answered:\n",
    "\n",
    "1. Which date had the most completed trips during the two week period?\n",
    "2. What was the highest number of completed trips within a 24 hour period?\n",
    "3. Which hour of the day had the most requests during the two week period?\n",
    "4. What percentage of all zeroes during the two week period occurred on the weekend (Friday at 5 pm to Sunday at 3 am)?\n",
    "5. What is the weighted average ratio of completed trips per driver during the two week period?\n",
    "6. In drafting a driver schedule in terms of 8 hours shifts, when are the busiest 8 consecutive hours over the two week period in terms of unique requests? A new shift starts every 8 hours. Assume that a driver will work the same shift each day.\n",
    "7. True or False: Driver supply always increases when demand increases during the two week period.\n",
    "8. In which 72 hour period is the ratio of Zeroes to Eyeballs the highest?\n",
    "9. If you could add 5 drivers to any single hour of every day during the two week period, which hour should you add them to?\n",
    "10. True or False: There are exactly two weeks of data in this analysis.\n",
    "11. Looking at all of the data, which time might make the most sense to consider a true \"end day\" instead of midnight? (i.e when are both supply and demand at their natural minimums)"
   ]
  },
  {
   "cell_type": "markdown",
   "id": "5781b4ce-22a0-42ba-818b-e6aa94152f39",
   "metadata": {},
   "source": [
    "## Setup <a id='setup'></a>"
   ]
  },
  {
   "cell_type": "code",
   "execution_count": 1,
   "id": "f81c5dd6-a18f-4575-949b-edfd4b41bbfe",
   "metadata": {},
   "outputs": [],
   "source": [
    "# Import libraries\n",
    "import numpy as np\n",
    "import pandas as pd\n",
    "import matplotlib.pyplot as plt\n",
    "import seaborn as sns"
   ]
  },
  {
   "cell_type": "code",
   "execution_count": 2,
   "id": "969d517d-78b0-42a7-8487-8d7425b1ba1e",
   "metadata": {},
   "outputs": [],
   "source": [
    "# Read dataset\n",
    "df = pd.read_csv('data/raw/dataset_1.csv')"
   ]
  },
  {
   "cell_type": "markdown",
   "id": "89ad0fc1-42c5-4333-94ec-6c042baaa457",
   "metadata": {},
   "source": [
    "## Data Exploration <a id='data-exploration'></a>"
   ]
  },
  {
   "cell_type": "code",
   "execution_count": 3,
   "id": "c6c4c692-4c53-491a-9b4e-3372a071505d",
   "metadata": {},
   "outputs": [
    {
     "data": {
      "text/html": [
       "<div>\n",
       "<style scoped>\n",
       "    .dataframe tbody tr th:only-of-type {\n",
       "        vertical-align: middle;\n",
       "    }\n",
       "\n",
       "    .dataframe tbody tr th {\n",
       "        vertical-align: top;\n",
       "    }\n",
       "\n",
       "    .dataframe thead th {\n",
       "        text-align: right;\n",
       "    }\n",
       "</style>\n",
       "<table border=\"1\" class=\"dataframe\">\n",
       "  <thead>\n",
       "    <tr style=\"text-align: right;\">\n",
       "      <th></th>\n",
       "      <th>Date</th>\n",
       "      <th>Time (Local)</th>\n",
       "      <th>Eyeballs</th>\n",
       "      <th>Zeroes</th>\n",
       "      <th>Completed Trips</th>\n",
       "      <th>Requests</th>\n",
       "      <th>Unique Drivers</th>\n",
       "    </tr>\n",
       "  </thead>\n",
       "  <tbody>\n",
       "    <tr>\n",
       "      <th>0</th>\n",
       "      <td>10-Sep-12</td>\n",
       "      <td>7</td>\n",
       "      <td>5</td>\n",
       "      <td>0</td>\n",
       "      <td>2</td>\n",
       "      <td>2</td>\n",
       "      <td>9</td>\n",
       "    </tr>\n",
       "    <tr>\n",
       "      <th>1</th>\n",
       "      <td>NaN</td>\n",
       "      <td>8</td>\n",
       "      <td>6</td>\n",
       "      <td>0</td>\n",
       "      <td>2</td>\n",
       "      <td>2</td>\n",
       "      <td>14</td>\n",
       "    </tr>\n",
       "    <tr>\n",
       "      <th>2</th>\n",
       "      <td>NaN</td>\n",
       "      <td>9</td>\n",
       "      <td>8</td>\n",
       "      <td>3</td>\n",
       "      <td>0</td>\n",
       "      <td>0</td>\n",
       "      <td>14</td>\n",
       "    </tr>\n",
       "    <tr>\n",
       "      <th>3</th>\n",
       "      <td>NaN</td>\n",
       "      <td>10</td>\n",
       "      <td>9</td>\n",
       "      <td>2</td>\n",
       "      <td>0</td>\n",
       "      <td>1</td>\n",
       "      <td>14</td>\n",
       "    </tr>\n",
       "    <tr>\n",
       "      <th>4</th>\n",
       "      <td>NaN</td>\n",
       "      <td>11</td>\n",
       "      <td>11</td>\n",
       "      <td>1</td>\n",
       "      <td>4</td>\n",
       "      <td>4</td>\n",
       "      <td>11</td>\n",
       "    </tr>\n",
       "  </tbody>\n",
       "</table>\n",
       "</div>"
      ],
      "text/plain": [
       "        Date  Time (Local)  Eyeballs   Zeroes   Completed Trips   Requests   \\\n",
       "0  10-Sep-12             7          5        0                 2          2   \n",
       "1        NaN             8          6        0                 2          2   \n",
       "2        NaN             9          8        3                 0          0   \n",
       "3        NaN            10          9        2                 0          1   \n",
       "4        NaN            11         11        1                 4          4   \n",
       "\n",
       "   Unique Drivers  \n",
       "0               9  \n",
       "1              14  \n",
       "2              14  \n",
       "3              14  \n",
       "4              11  "
      ]
     },
     "execution_count": 3,
     "metadata": {},
     "output_type": "execute_result"
    }
   ],
   "source": [
    "# Show first 5 rows of DataFrame\n",
    "df.head()"
   ]
  },
  {
   "cell_type": "code",
   "execution_count": 4,
   "id": "8e5f34ee-1515-4135-abb7-7b2e984a65b9",
   "metadata": {},
   "outputs": [
    {
     "name": "stdout",
     "output_type": "stream",
     "text": [
      "Rows: 336\n",
      "Columns: 7\n"
     ]
    }
   ],
   "source": [
    "# Get shape of data\n",
    "print(f'Rows: {df.shape[0]}')\n",
    "print(f'Columns: {df.shape[1]}')"
   ]
  },
  {
   "cell_type": "code",
   "execution_count": 5,
   "id": "d58ab1d1-06dc-467e-9b7f-f41368ee2bb2",
   "metadata": {},
   "outputs": [
    {
     "data": {
      "text/plain": [
       "Index(['Date', 'Time (Local)', 'Eyeballs ', 'Zeroes ', 'Completed Trips ',\n",
       "       'Requests ', 'Unique Drivers'],\n",
       "      dtype='object')"
      ]
     },
     "execution_count": 5,
     "metadata": {},
     "output_type": "execute_result"
    }
   ],
   "source": [
    "# Get column names\n",
    "df.columns"
   ]
  },
  {
   "cell_type": "code",
   "execution_count": 6,
   "id": "9f18eeb3-e1df-4253-a2d7-6ae2364d9409",
   "metadata": {},
   "outputs": [
    {
     "data": {
      "text/plain": [
       "Date                object\n",
       "Time (Local)         int64\n",
       "Eyeballs             int64\n",
       "Zeroes               int64\n",
       "Completed Trips      int64\n",
       "Requests             int64\n",
       "Unique Drivers       int64\n",
       "dtype: object"
      ]
     },
     "execution_count": 6,
     "metadata": {},
     "output_type": "execute_result"
    }
   ],
   "source": [
    "# Get data types\n",
    "df.dtypes"
   ]
  },
  {
   "cell_type": "markdown",
   "id": "ca068691-ce57-4b83-ae8d-1b92e907c064",
   "metadata": {},
   "source": [
    "## Data Processing <a id='data-processing'><a>"
   ]
  },
  {
   "cell_type": "code",
   "execution_count": 7,
   "id": "187b730b-5fb3-419a-9331-d3e7fb7e2e8d",
   "metadata": {},
   "outputs": [],
   "source": [
    "# Forward fill missing dates\n",
    "df = df.ffill()"
   ]
  },
  {
   "cell_type": "code",
   "execution_count": 8,
   "id": "ed160691-15d4-48e5-9fcc-e18b23546909",
   "metadata": {},
   "outputs": [
    {
     "data": {
      "text/html": [
       "<div>\n",
       "<style scoped>\n",
       "    .dataframe tbody tr th:only-of-type {\n",
       "        vertical-align: middle;\n",
       "    }\n",
       "\n",
       "    .dataframe tbody tr th {\n",
       "        vertical-align: top;\n",
       "    }\n",
       "\n",
       "    .dataframe thead th {\n",
       "        text-align: right;\n",
       "    }\n",
       "</style>\n",
       "<table border=\"1\" class=\"dataframe\">\n",
       "  <thead>\n",
       "    <tr style=\"text-align: right;\">\n",
       "      <th></th>\n",
       "      <th>Date</th>\n",
       "      <th>Time (Local)</th>\n",
       "      <th>Eyeballs</th>\n",
       "      <th>Zeroes</th>\n",
       "      <th>Completed Trips</th>\n",
       "      <th>Requests</th>\n",
       "      <th>Unique Drivers</th>\n",
       "    </tr>\n",
       "  </thead>\n",
       "  <tbody>\n",
       "    <tr>\n",
       "      <th>0</th>\n",
       "      <td>10-Sep-12</td>\n",
       "      <td>7</td>\n",
       "      <td>5</td>\n",
       "      <td>0</td>\n",
       "      <td>2</td>\n",
       "      <td>2</td>\n",
       "      <td>9</td>\n",
       "    </tr>\n",
       "    <tr>\n",
       "      <th>1</th>\n",
       "      <td>10-Sep-12</td>\n",
       "      <td>8</td>\n",
       "      <td>6</td>\n",
       "      <td>0</td>\n",
       "      <td>2</td>\n",
       "      <td>2</td>\n",
       "      <td>14</td>\n",
       "    </tr>\n",
       "    <tr>\n",
       "      <th>2</th>\n",
       "      <td>10-Sep-12</td>\n",
       "      <td>9</td>\n",
       "      <td>8</td>\n",
       "      <td>3</td>\n",
       "      <td>0</td>\n",
       "      <td>0</td>\n",
       "      <td>14</td>\n",
       "    </tr>\n",
       "    <tr>\n",
       "      <th>3</th>\n",
       "      <td>10-Sep-12</td>\n",
       "      <td>10</td>\n",
       "      <td>9</td>\n",
       "      <td>2</td>\n",
       "      <td>0</td>\n",
       "      <td>1</td>\n",
       "      <td>14</td>\n",
       "    </tr>\n",
       "    <tr>\n",
       "      <th>4</th>\n",
       "      <td>10-Sep-12</td>\n",
       "      <td>11</td>\n",
       "      <td>11</td>\n",
       "      <td>1</td>\n",
       "      <td>4</td>\n",
       "      <td>4</td>\n",
       "      <td>11</td>\n",
       "    </tr>\n",
       "    <tr>\n",
       "      <th>5</th>\n",
       "      <td>10-Sep-12</td>\n",
       "      <td>12</td>\n",
       "      <td>12</td>\n",
       "      <td>0</td>\n",
       "      <td>2</td>\n",
       "      <td>2</td>\n",
       "      <td>11</td>\n",
       "    </tr>\n",
       "    <tr>\n",
       "      <th>6</th>\n",
       "      <td>10-Sep-12</td>\n",
       "      <td>13</td>\n",
       "      <td>9</td>\n",
       "      <td>1</td>\n",
       "      <td>0</td>\n",
       "      <td>0</td>\n",
       "      <td>9</td>\n",
       "    </tr>\n",
       "    <tr>\n",
       "      <th>7</th>\n",
       "      <td>10-Sep-12</td>\n",
       "      <td>14</td>\n",
       "      <td>12</td>\n",
       "      <td>1</td>\n",
       "      <td>0</td>\n",
       "      <td>0</td>\n",
       "      <td>9</td>\n",
       "    </tr>\n",
       "    <tr>\n",
       "      <th>8</th>\n",
       "      <td>10-Sep-12</td>\n",
       "      <td>15</td>\n",
       "      <td>11</td>\n",
       "      <td>2</td>\n",
       "      <td>1</td>\n",
       "      <td>2</td>\n",
       "      <td>7</td>\n",
       "    </tr>\n",
       "    <tr>\n",
       "      <th>9</th>\n",
       "      <td>10-Sep-12</td>\n",
       "      <td>16</td>\n",
       "      <td>11</td>\n",
       "      <td>2</td>\n",
       "      <td>3</td>\n",
       "      <td>4</td>\n",
       "      <td>6</td>\n",
       "    </tr>\n",
       "  </tbody>\n",
       "</table>\n",
       "</div>"
      ],
      "text/plain": [
       "        Date  Time (Local)  Eyeballs   Zeroes   Completed Trips   Requests   \\\n",
       "0  10-Sep-12             7          5        0                 2          2   \n",
       "1  10-Sep-12             8          6        0                 2          2   \n",
       "2  10-Sep-12             9          8        3                 0          0   \n",
       "3  10-Sep-12            10          9        2                 0          1   \n",
       "4  10-Sep-12            11         11        1                 4          4   \n",
       "5  10-Sep-12            12         12        0                 2          2   \n",
       "6  10-Sep-12            13          9        1                 0          0   \n",
       "7  10-Sep-12            14         12        1                 0          0   \n",
       "8  10-Sep-12            15         11        2                 1          2   \n",
       "9  10-Sep-12            16         11        2                 3          4   \n",
       "\n",
       "   Unique Drivers  \n",
       "0               9  \n",
       "1              14  \n",
       "2              14  \n",
       "3              14  \n",
       "4              11  \n",
       "5              11  \n",
       "6               9  \n",
       "7               9  \n",
       "8               7  \n",
       "9               6  "
      ]
     },
     "execution_count": 8,
     "metadata": {},
     "output_type": "execute_result"
    }
   ],
   "source": [
    "# Show processed DataFrame\n",
    "df.head(n=10)"
   ]
  },
  {
   "cell_type": "code",
   "execution_count": 9,
   "id": "fa5c4386-13fb-420e-a58c-2ea74fcf4f8c",
   "metadata": {},
   "outputs": [],
   "source": [
    "# Clean column names\n",
    "\n",
    "# Strip extra spaces\n",
    "df.columns = df.columns.str.strip()\n",
    "\n",
    "# Convert to lowercase\n",
    "df.columns = df.columns.str.lower()\n",
    "\n",
    "# Replace spaces with underscores\n",
    "df.columns = df.columns.str.replace(pat=' ', repl='_')\n",
    "\n",
    "# Remove special characters\n",
    "df.columns = df.columns.str.replace(pat='[^a-zA-Z0-9_]', repl='', regex=True)"
   ]
  },
  {
   "cell_type": "code",
   "execution_count": 10,
   "id": "d39e677c-dfb7-4cba-826d-2818205f61ba",
   "metadata": {},
   "outputs": [
    {
     "data": {
      "text/plain": [
       "Index(['date', 'time_local', 'eyeballs', 'zeroes', 'completed_trips',\n",
       "       'requests', 'unique_drivers'],\n",
       "      dtype='object')"
      ]
     },
     "execution_count": 10,
     "metadata": {},
     "output_type": "execute_result"
    }
   ],
   "source": [
    "# Show cleaned column names\n",
    "df.columns"
   ]
  },
  {
   "cell_type": "code",
   "execution_count": 11,
   "id": "9d9520f0-13ce-4e2c-b8cf-2179be563743",
   "metadata": {},
   "outputs": [],
   "source": [
    "# Create timestamp column\n",
    "df['timestamp'] = df['date'] + ' ' + df['time_local'].astype(str) + ':00'"
   ]
  },
  {
   "cell_type": "code",
   "execution_count": 12,
   "id": "6b9906f4-59f8-4e36-8320-a84e3fc2c970",
   "metadata": {},
   "outputs": [],
   "source": [
    "# Convert timestamp column to datetime format\n",
    "df['timestamp'] = pd.to_datetime(df['timestamp'], format='%d-%b-%y %H:%M')"
   ]
  },
  {
   "cell_type": "code",
   "execution_count": 13,
   "id": "966a519e-ed91-4f47-b50d-6ca498d223bc",
   "metadata": {},
   "outputs": [
    {
     "data": {
      "text/html": [
       "<div>\n",
       "<style scoped>\n",
       "    .dataframe tbody tr th:only-of-type {\n",
       "        vertical-align: middle;\n",
       "    }\n",
       "\n",
       "    .dataframe tbody tr th {\n",
       "        vertical-align: top;\n",
       "    }\n",
       "\n",
       "    .dataframe thead th {\n",
       "        text-align: right;\n",
       "    }\n",
       "</style>\n",
       "<table border=\"1\" class=\"dataframe\">\n",
       "  <thead>\n",
       "    <tr style=\"text-align: right;\">\n",
       "      <th></th>\n",
       "      <th>date</th>\n",
       "      <th>time_local</th>\n",
       "      <th>eyeballs</th>\n",
       "      <th>zeroes</th>\n",
       "      <th>completed_trips</th>\n",
       "      <th>requests</th>\n",
       "      <th>unique_drivers</th>\n",
       "      <th>timestamp</th>\n",
       "    </tr>\n",
       "  </thead>\n",
       "  <tbody>\n",
       "    <tr>\n",
       "      <th>0</th>\n",
       "      <td>10-Sep-12</td>\n",
       "      <td>7</td>\n",
       "      <td>5</td>\n",
       "      <td>0</td>\n",
       "      <td>2</td>\n",
       "      <td>2</td>\n",
       "      <td>9</td>\n",
       "      <td>2012-09-10 07:00:00</td>\n",
       "    </tr>\n",
       "    <tr>\n",
       "      <th>1</th>\n",
       "      <td>10-Sep-12</td>\n",
       "      <td>8</td>\n",
       "      <td>6</td>\n",
       "      <td>0</td>\n",
       "      <td>2</td>\n",
       "      <td>2</td>\n",
       "      <td>14</td>\n",
       "      <td>2012-09-10 08:00:00</td>\n",
       "    </tr>\n",
       "    <tr>\n",
       "      <th>2</th>\n",
       "      <td>10-Sep-12</td>\n",
       "      <td>9</td>\n",
       "      <td>8</td>\n",
       "      <td>3</td>\n",
       "      <td>0</td>\n",
       "      <td>0</td>\n",
       "      <td>14</td>\n",
       "      <td>2012-09-10 09:00:00</td>\n",
       "    </tr>\n",
       "    <tr>\n",
       "      <th>3</th>\n",
       "      <td>10-Sep-12</td>\n",
       "      <td>10</td>\n",
       "      <td>9</td>\n",
       "      <td>2</td>\n",
       "      <td>0</td>\n",
       "      <td>1</td>\n",
       "      <td>14</td>\n",
       "      <td>2012-09-10 10:00:00</td>\n",
       "    </tr>\n",
       "    <tr>\n",
       "      <th>4</th>\n",
       "      <td>10-Sep-12</td>\n",
       "      <td>11</td>\n",
       "      <td>11</td>\n",
       "      <td>1</td>\n",
       "      <td>4</td>\n",
       "      <td>4</td>\n",
       "      <td>11</td>\n",
       "      <td>2012-09-10 11:00:00</td>\n",
       "    </tr>\n",
       "  </tbody>\n",
       "</table>\n",
       "</div>"
      ],
      "text/plain": [
       "        date  time_local  eyeballs  zeroes  completed_trips  requests  \\\n",
       "0  10-Sep-12           7         5       0                2         2   \n",
       "1  10-Sep-12           8         6       0                2         2   \n",
       "2  10-Sep-12           9         8       3                0         0   \n",
       "3  10-Sep-12          10         9       2                0         1   \n",
       "4  10-Sep-12          11        11       1                4         4   \n",
       "\n",
       "   unique_drivers           timestamp  \n",
       "0               9 2012-09-10 07:00:00  \n",
       "1              14 2012-09-10 08:00:00  \n",
       "2              14 2012-09-10 09:00:00  \n",
       "3              14 2012-09-10 10:00:00  \n",
       "4              11 2012-09-10 11:00:00  "
      ]
     },
     "execution_count": 13,
     "metadata": {},
     "output_type": "execute_result"
    }
   ],
   "source": [
    "# Show first 5 rows\n",
    "df.head()"
   ]
  },
  {
   "cell_type": "markdown",
   "id": "6b0a1b08-fcea-4df7-9cb9-c6daf9700f8d",
   "metadata": {},
   "source": [
    "## Date of Most Completed Trips <a id='date-most-trips'></a>"
   ]
  },
  {
   "cell_type": "markdown",
   "id": "bf2fe1b3-404b-4469-8d3c-57d69668e166",
   "metadata": {},
   "source": [
    "Which date had the most completed trips during the two week period?"
   ]
  },
  {
   "cell_type": "code",
   "execution_count": 14,
   "id": "3c817e17-880e-4881-bc88-5f618e5a5654",
   "metadata": {},
   "outputs": [
    {
     "data": {
      "text/plain": [
       "'22-Sep-12'"
      ]
     },
     "execution_count": 14,
     "metadata": {},
     "output_type": "execute_result"
    }
   ],
   "source": [
    "# Group by date, aggregate sum of numerical columns, find row with maximum completed trips\n",
    "date_most_trips = df.groupby(by='date', as_index=False)['completed_trips'].sum().query(expr='completed_trips == (completed_trips.max())')['date'].values[0]\n",
    "date_most_trips"
   ]
  },
  {
   "cell_type": "code",
   "execution_count": 15,
   "id": "098d2e18-963a-48e5-8695-6890b4dc01ab",
   "metadata": {},
   "outputs": [
    {
     "name": "stdout",
     "output_type": "stream",
     "text": [
      "Date of most completed trips: 22-Sep-12\n"
     ]
    }
   ],
   "source": [
    "# Print results\n",
    "print(f'Date of most completed trips: {date_most_trips}')"
   ]
  },
  {
   "cell_type": "markdown",
   "id": "d99f875a-21d3-4823-a05f-cdf296b1a43a",
   "metadata": {},
   "source": [
    "## Highest Number of Completed Trips within 24 hours <a id='highest-trips-24'></a>"
   ]
  },
  {
   "cell_type": "markdown",
   "id": "89207234-e332-4eda-8918-5a89ac63878d",
   "metadata": {},
   "source": [
    "What was the highest number of completed trips within a 24 hour period?"
   ]
  },
  {
   "cell_type": "code",
   "execution_count": 16,
   "id": "5b8e5861-42a9-4b27-a8f5-8a2766f59d7d",
   "metadata": {},
   "outputs": [],
   "source": [
    "# Create new DataFrame and drop `date` column\n",
    "df_q2 = df.drop(columns='date')"
   ]
  },
  {
   "cell_type": "code",
   "execution_count": 17,
   "id": "c25a0f5e-477b-4386-a8aa-40486d48cefb",
   "metadata": {},
   "outputs": [],
   "source": [
    "# Set `timestamp` column as index\n",
    "df_q2 = df_q2.set_index(keys='timestamp')"
   ]
  },
  {
   "cell_type": "code",
   "execution_count": 18,
   "id": "ab284f00-d982-4794-b9ed-6203901d1085",
   "metadata": {},
   "outputs": [],
   "source": [
    "# Calculate rolling sum with forward looking window with 24 observations (hours)\n",
    "indexer = pd.api.indexers.FixedForwardWindowIndexer(window_size=24)\n",
    "df_q2 = df_q2.rolling(window=indexer, min_periods=1).sum()"
   ]
  },
  {
   "cell_type": "code",
   "execution_count": 19,
   "id": "f3b0d6f9-7f00-4994-a262-a4671da65806",
   "metadata": {},
   "outputs": [
    {
     "data": {
      "text/html": [
       "<div>\n",
       "<style scoped>\n",
       "    .dataframe tbody tr th:only-of-type {\n",
       "        vertical-align: middle;\n",
       "    }\n",
       "\n",
       "    .dataframe tbody tr th {\n",
       "        vertical-align: top;\n",
       "    }\n",
       "\n",
       "    .dataframe thead th {\n",
       "        text-align: right;\n",
       "    }\n",
       "</style>\n",
       "<table border=\"1\" class=\"dataframe\">\n",
       "  <thead>\n",
       "    <tr style=\"text-align: right;\">\n",
       "      <th></th>\n",
       "      <th>time_local</th>\n",
       "      <th>eyeballs</th>\n",
       "      <th>zeroes</th>\n",
       "      <th>completed_trips</th>\n",
       "      <th>requests</th>\n",
       "      <th>unique_drivers</th>\n",
       "    </tr>\n",
       "    <tr>\n",
       "      <th>timestamp</th>\n",
       "      <th></th>\n",
       "      <th></th>\n",
       "      <th></th>\n",
       "      <th></th>\n",
       "      <th></th>\n",
       "      <th></th>\n",
       "    </tr>\n",
       "  </thead>\n",
       "  <tbody>\n",
       "    <tr>\n",
       "      <th>2012-09-21 17:00:00</th>\n",
       "      <td>276.0</td>\n",
       "      <td>1015.0</td>\n",
       "      <td>207.0</td>\n",
       "      <td>278.0</td>\n",
       "      <td>367.0</td>\n",
       "      <td>349.0</td>\n",
       "    </tr>\n",
       "  </tbody>\n",
       "</table>\n",
       "</div>"
      ],
      "text/plain": [
       "                     time_local  eyeballs  zeroes  completed_trips  requests  \\\n",
       "timestamp                                                                      \n",
       "2012-09-21 17:00:00       276.0    1015.0   207.0            278.0     367.0   \n",
       "\n",
       "                     unique_drivers  \n",
       "timestamp                            \n",
       "2012-09-21 17:00:00           349.0  "
      ]
     },
     "execution_count": 19,
     "metadata": {},
     "output_type": "execute_result"
    }
   ],
   "source": [
    "# Get row with highest number of completed trips\n",
    "df_q2.nlargest(n=1, columns='completed_trips')"
   ]
  },
  {
   "cell_type": "code",
   "execution_count": 20,
   "id": "0bfa0427-3d93-4dab-8d65-d61c17b697e9",
   "metadata": {},
   "outputs": [],
   "source": [
    "# Set time format\n",
    "time_format = '%Y/%m/%d %H:%M'\n",
    "\n",
    "# Create time interval column\n",
    "df_q2['time_interval'] = df_q2.index.strftime(time_format) + ' - ' + (df_q2.index + pd.Timedelta('24 hours')).strftime(time_format)"
   ]
  },
  {
   "cell_type": "code",
   "execution_count": 21,
   "id": "998db142-3352-4b9b-ac97-7f38d47f2407",
   "metadata": {},
   "outputs": [
    {
     "data": {
      "text/html": [
       "<div>\n",
       "<style scoped>\n",
       "    .dataframe tbody tr th:only-of-type {\n",
       "        vertical-align: middle;\n",
       "    }\n",
       "\n",
       "    .dataframe tbody tr th {\n",
       "        vertical-align: top;\n",
       "    }\n",
       "\n",
       "    .dataframe thead th {\n",
       "        text-align: right;\n",
       "    }\n",
       "</style>\n",
       "<table border=\"1\" class=\"dataframe\">\n",
       "  <thead>\n",
       "    <tr style=\"text-align: right;\">\n",
       "      <th></th>\n",
       "      <th>time_local</th>\n",
       "      <th>eyeballs</th>\n",
       "      <th>zeroes</th>\n",
       "      <th>completed_trips</th>\n",
       "      <th>requests</th>\n",
       "      <th>unique_drivers</th>\n",
       "      <th>time_interval</th>\n",
       "    </tr>\n",
       "    <tr>\n",
       "      <th>timestamp</th>\n",
       "      <th></th>\n",
       "      <th></th>\n",
       "      <th></th>\n",
       "      <th></th>\n",
       "      <th></th>\n",
       "      <th></th>\n",
       "      <th></th>\n",
       "    </tr>\n",
       "  </thead>\n",
       "  <tbody>\n",
       "    <tr>\n",
       "      <th>2012-09-10 07:00:00</th>\n",
       "      <td>276.0</td>\n",
       "      <td>212.0</td>\n",
       "      <td>38.0</td>\n",
       "      <td>29.0</td>\n",
       "      <td>39.0</td>\n",
       "      <td>150.0</td>\n",
       "      <td>2012/09/10 07:00 - 2012/09/11 07:00</td>\n",
       "    </tr>\n",
       "    <tr>\n",
       "      <th>2012-09-10 08:00:00</th>\n",
       "      <td>276.0</td>\n",
       "      <td>217.0</td>\n",
       "      <td>38.0</td>\n",
       "      <td>29.0</td>\n",
       "      <td>39.0</td>\n",
       "      <td>146.0</td>\n",
       "      <td>2012/09/10 08:00 - 2012/09/11 08:00</td>\n",
       "    </tr>\n",
       "    <tr>\n",
       "      <th>2012-09-10 09:00:00</th>\n",
       "      <td>276.0</td>\n",
       "      <td>222.0</td>\n",
       "      <td>40.0</td>\n",
       "      <td>27.0</td>\n",
       "      <td>37.0</td>\n",
       "      <td>138.0</td>\n",
       "      <td>2012/09/10 09:00 - 2012/09/11 09:00</td>\n",
       "    </tr>\n",
       "    <tr>\n",
       "      <th>2012-09-10 10:00:00</th>\n",
       "      <td>276.0</td>\n",
       "      <td>229.0</td>\n",
       "      <td>39.0</td>\n",
       "      <td>27.0</td>\n",
       "      <td>37.0</td>\n",
       "      <td>130.0</td>\n",
       "      <td>2012/09/10 10:00 - 2012/09/11 10:00</td>\n",
       "    </tr>\n",
       "    <tr>\n",
       "      <th>2012-09-10 11:00:00</th>\n",
       "      <td>276.0</td>\n",
       "      <td>232.0</td>\n",
       "      <td>38.0</td>\n",
       "      <td>28.0</td>\n",
       "      <td>37.0</td>\n",
       "      <td>124.0</td>\n",
       "      <td>2012/09/10 11:00 - 2012/09/11 11:00</td>\n",
       "    </tr>\n",
       "  </tbody>\n",
       "</table>\n",
       "</div>"
      ],
      "text/plain": [
       "                     time_local  eyeballs  zeroes  completed_trips  requests  \\\n",
       "timestamp                                                                      \n",
       "2012-09-10 07:00:00       276.0     212.0    38.0             29.0      39.0   \n",
       "2012-09-10 08:00:00       276.0     217.0    38.0             29.0      39.0   \n",
       "2012-09-10 09:00:00       276.0     222.0    40.0             27.0      37.0   \n",
       "2012-09-10 10:00:00       276.0     229.0    39.0             27.0      37.0   \n",
       "2012-09-10 11:00:00       276.0     232.0    38.0             28.0      37.0   \n",
       "\n",
       "                     unique_drivers                        time_interval  \n",
       "timestamp                                                                 \n",
       "2012-09-10 07:00:00           150.0  2012/09/10 07:00 - 2012/09/11 07:00  \n",
       "2012-09-10 08:00:00           146.0  2012/09/10 08:00 - 2012/09/11 08:00  \n",
       "2012-09-10 09:00:00           138.0  2012/09/10 09:00 - 2012/09/11 09:00  \n",
       "2012-09-10 10:00:00           130.0  2012/09/10 10:00 - 2012/09/11 10:00  \n",
       "2012-09-10 11:00:00           124.0  2012/09/10 11:00 - 2012/09/11 11:00  "
      ]
     },
     "execution_count": 21,
     "metadata": {},
     "output_type": "execute_result"
    }
   ],
   "source": [
    "# Show first 5 rows\n",
    "df_q2.head()"
   ]
  },
  {
   "cell_type": "code",
   "execution_count": 22,
   "id": "beb0c7f3-2b65-4a9e-9471-f384e52c9ceb",
   "metadata": {},
   "outputs": [],
   "source": [
    "# Get maximum completed trips\n",
    "completed_trips = df_q2['completed_trips'].max()\n",
    "\n",
    "# Get time interval of maximum completed trips\n",
    "time_interval = df_q2.nlargest(n=1, columns='completed_trips')['time_interval'].values[0]"
   ]
  },
  {
   "cell_type": "code",
   "execution_count": 23,
   "id": "1c1c96eb-f3a6-4aa1-8581-d30b858ca289",
   "metadata": {},
   "outputs": [
    {
     "name": "stdout",
     "output_type": "stream",
     "text": [
      "Number of completed trips: 278.0\n",
      "Time interval: 2012/09/21 17:00 - 2012/09/22 17:00\n"
     ]
    }
   ],
   "source": [
    "# Print results\n",
    "print(f'Number of completed trips: {completed_trips}')\n",
    "print(f'Time interval: {time_interval}')"
   ]
  },
  {
   "cell_type": "markdown",
   "id": "316bde2c-4d1f-49af-a889-9f8922cd5629",
   "metadata": {},
   "source": [
    "## Hour of Most Requests <a id='hour-most-requests'></a>"
   ]
  },
  {
   "cell_type": "markdown",
   "id": "8f105ecd-ee83-4361-a901-1dd108df0a8e",
   "metadata": {},
   "source": [
    "Which hour of the day had the most requests during the two week period?"
   ]
  },
  {
   "cell_type": "code",
   "execution_count": 24,
   "id": "29fd1ba2-4021-4c16-9a59-ca4d9eb16c85",
   "metadata": {},
   "outputs": [
    {
     "data": {
      "text/plain": [
       "23"
      ]
     },
     "execution_count": 24,
     "metadata": {},
     "output_type": "execute_result"
    }
   ],
   "source": [
    "# Get hour of maximum requests\n",
    "hour_most_requests = df.groupby(by='time_local', as_index=False)['requests'].sum().query(expr='requests == requests.max()')['time_local'].values[0]\n",
    "hour_most_requests"
   ]
  },
  {
   "cell_type": "code",
   "execution_count": 25,
   "id": "4bc09f50-88a1-4a53-8b03-fb840439e0cb",
   "metadata": {},
   "outputs": [
    {
     "name": "stdout",
     "output_type": "stream",
     "text": [
      "Hour of most requests: 23\n"
     ]
    }
   ],
   "source": [
    "# Print results\n",
    "print(f'Hour of most requests: {hour_most_requests}')"
   ]
  },
  {
   "cell_type": "markdown",
   "id": "12504fa4-7c57-4dbe-a937-4946258b70e8",
   "metadata": {},
   "source": [
    "## Percentage of Zeroes on Weekends <a id='percentage-zeroes-weekends'></a>"
   ]
  },
  {
   "cell_type": "markdown",
   "id": "c56cc9e2-3727-4620-aa85-130bb14ae8eb",
   "metadata": {},
   "source": [
    "What percentage of all zeroes during the two week period occurred on the weekend (Friday at 5 pm to Sunday at 3 am)?"
   ]
  },
  {
   "cell_type": "code",
   "execution_count": 26,
   "id": "cf8cae6c-71be-4211-b0f4-11483db7d7b9",
   "metadata": {},
   "outputs": [
    {
     "data": {
      "text/plain": [
       "1429"
      ]
     },
     "execution_count": 26,
     "metadata": {},
     "output_type": "execute_result"
    }
   ],
   "source": [
    "# Total zeroes in data\n",
    "total_zeroes = df['zeroes'].sum()\n",
    "total_zeroes"
   ]
  },
  {
   "cell_type": "code",
   "execution_count": 27,
   "id": "fdc80c10-de3c-4f8b-aecb-fc9670d896da",
   "metadata": {},
   "outputs": [
    {
     "data": {
      "text/plain": [
       "641"
      ]
     },
     "execution_count": 27,
     "metadata": {},
     "output_type": "execute_result"
    }
   ],
   "source": [
    "# Weekend zeroes in data, given conditions\n",
    "\n",
    "# Create `day` column\n",
    "df['day'] = pd.to_datetime(arg=df['date'], format='%d-%b-%y').dt.dayofweek\n",
    "\n",
    "# Calculate weekend zeroes\n",
    "weekend_zeroes = df[((df['day'] == 4) & (df['time_local'] >= 17)) | (df['day'] == 5) | ((df['day'] == 6) & (df['time_local'] < 3))]['zeroes'].sum()\n",
    "weekend_zeroes"
   ]
  },
  {
   "cell_type": "code",
   "execution_count": 28,
   "id": "7693d780-58f6-40da-8838-714119b0fd21",
   "metadata": {},
   "outputs": [
    {
     "name": "stdout",
     "output_type": "stream",
     "text": [
      "Percentage of all zeroes on the weekends: 44.86%\n"
     ]
    }
   ],
   "source": [
    "# Calculate percentage of zeroes on weekends\n",
    "print(f'Percentage of all zeroes on the weekends: {(weekend_zeroes / total_zeroes * 100):.2f}%')"
   ]
  },
  {
   "cell_type": "markdown",
   "id": "d37eec43-80ad-4a93-9001-7a6d02f15081",
   "metadata": {},
   "source": [
    "- Zeroes are instances when a person opened the Uber application, and did not see any car."
   ]
  },
  {
   "cell_type": "markdown",
   "id": "9a3ed0f1-d79a-4b40-947e-46b042ed6b3f",
   "metadata": {},
   "source": [
    "## Weighted Average Ratio of Completed Trips per Driver <a id='ratio-trips-driver'></a>"
   ]
  },
  {
   "cell_type": "markdown",
   "id": "4b1352b3-c556-4a74-9080-67ecf47a4684",
   "metadata": {},
   "source": [
    "What is the weighted average ratio of completed trips per driver during the two week period?"
   ]
  },
  {
   "cell_type": "code",
   "execution_count": 29,
   "id": "3cff8a4a-e43d-4fb8-9ada-5f762a869b47",
   "metadata": {},
   "outputs": [],
   "source": [
    "# Calculate ratio\n",
    "df['completed_trip_ratio_per_driver'] = df['completed_trips'] / df['unique_drivers']"
   ]
  },
  {
   "cell_type": "code",
   "execution_count": 30,
   "id": "507fb2e1-0ac9-4a31-8c5a-18d7e8abe01b",
   "metadata": {},
   "outputs": [
    {
     "data": {
      "text/html": [
       "<div>\n",
       "<style scoped>\n",
       "    .dataframe tbody tr th:only-of-type {\n",
       "        vertical-align: middle;\n",
       "    }\n",
       "\n",
       "    .dataframe tbody tr th {\n",
       "        vertical-align: top;\n",
       "    }\n",
       "\n",
       "    .dataframe thead th {\n",
       "        text-align: right;\n",
       "    }\n",
       "</style>\n",
       "<table border=\"1\" class=\"dataframe\">\n",
       "  <thead>\n",
       "    <tr style=\"text-align: right;\">\n",
       "      <th></th>\n",
       "      <th>date</th>\n",
       "      <th>time_local</th>\n",
       "      <th>eyeballs</th>\n",
       "      <th>zeroes</th>\n",
       "      <th>completed_trips</th>\n",
       "      <th>requests</th>\n",
       "      <th>unique_drivers</th>\n",
       "      <th>timestamp</th>\n",
       "      <th>day</th>\n",
       "      <th>completed_trip_ratio_per_driver</th>\n",
       "    </tr>\n",
       "  </thead>\n",
       "  <tbody>\n",
       "    <tr>\n",
       "      <th>30</th>\n",
       "      <td>11-Sep-12</td>\n",
       "      <td>13</td>\n",
       "      <td>11</td>\n",
       "      <td>2</td>\n",
       "      <td>1</td>\n",
       "      <td>1</td>\n",
       "      <td>7</td>\n",
       "      <td>2012-09-11 13:00:00</td>\n",
       "      <td>1</td>\n",
       "      <td>0.142857</td>\n",
       "    </tr>\n",
       "    <tr>\n",
       "      <th>146</th>\n",
       "      <td>16-Sep-12</td>\n",
       "      <td>9</td>\n",
       "      <td>11</td>\n",
       "      <td>3</td>\n",
       "      <td>3</td>\n",
       "      <td>3</td>\n",
       "      <td>3</td>\n",
       "      <td>2012-09-16 09:00:00</td>\n",
       "      <td>6</td>\n",
       "      <td>1.000000</td>\n",
       "    </tr>\n",
       "    <tr>\n",
       "      <th>42</th>\n",
       "      <td>12-Sep-12</td>\n",
       "      <td>1</td>\n",
       "      <td>6</td>\n",
       "      <td>0</td>\n",
       "      <td>1</td>\n",
       "      <td>1</td>\n",
       "      <td>2</td>\n",
       "      <td>2012-09-12 01:00:00</td>\n",
       "      <td>2</td>\n",
       "      <td>0.500000</td>\n",
       "    </tr>\n",
       "    <tr>\n",
       "      <th>164</th>\n",
       "      <td>17-Sep-12</td>\n",
       "      <td>3</td>\n",
       "      <td>1</td>\n",
       "      <td>1</td>\n",
       "      <td>0</td>\n",
       "      <td>0</td>\n",
       "      <td>0</td>\n",
       "      <td>2012-09-17 03:00:00</td>\n",
       "      <td>0</td>\n",
       "      <td>NaN</td>\n",
       "    </tr>\n",
       "    <tr>\n",
       "      <th>10</th>\n",
       "      <td>10-Sep-12</td>\n",
       "      <td>17</td>\n",
       "      <td>12</td>\n",
       "      <td>2</td>\n",
       "      <td>3</td>\n",
       "      <td>4</td>\n",
       "      <td>4</td>\n",
       "      <td>2012-09-10 17:00:00</td>\n",
       "      <td>0</td>\n",
       "      <td>0.750000</td>\n",
       "    </tr>\n",
       "    <tr>\n",
       "      <th>75</th>\n",
       "      <td>13-Sep-12</td>\n",
       "      <td>10</td>\n",
       "      <td>15</td>\n",
       "      <td>3</td>\n",
       "      <td>2</td>\n",
       "      <td>2</td>\n",
       "      <td>10</td>\n",
       "      <td>2012-09-13 10:00:00</td>\n",
       "      <td>3</td>\n",
       "      <td>0.200000</td>\n",
       "    </tr>\n",
       "    <tr>\n",
       "      <th>200</th>\n",
       "      <td>18-Sep-12</td>\n",
       "      <td>15</td>\n",
       "      <td>17</td>\n",
       "      <td>4</td>\n",
       "      <td>1</td>\n",
       "      <td>3</td>\n",
       "      <td>7</td>\n",
       "      <td>2012-09-18 15:00:00</td>\n",
       "      <td>1</td>\n",
       "      <td>0.142857</td>\n",
       "    </tr>\n",
       "    <tr>\n",
       "      <th>54</th>\n",
       "      <td>12-Sep-12</td>\n",
       "      <td>13</td>\n",
       "      <td>23</td>\n",
       "      <td>0</td>\n",
       "      <td>9</td>\n",
       "      <td>9</td>\n",
       "      <td>14</td>\n",
       "      <td>2012-09-12 13:00:00</td>\n",
       "      <td>2</td>\n",
       "      <td>0.642857</td>\n",
       "    </tr>\n",
       "    <tr>\n",
       "      <th>12</th>\n",
       "      <td>10-Sep-12</td>\n",
       "      <td>19</td>\n",
       "      <td>13</td>\n",
       "      <td>2</td>\n",
       "      <td>2</td>\n",
       "      <td>3</td>\n",
       "      <td>7</td>\n",
       "      <td>2012-09-10 19:00:00</td>\n",
       "      <td>0</td>\n",
       "      <td>0.285714</td>\n",
       "    </tr>\n",
       "    <tr>\n",
       "      <th>160</th>\n",
       "      <td>16-Sep-12</td>\n",
       "      <td>23</td>\n",
       "      <td>11</td>\n",
       "      <td>2</td>\n",
       "      <td>2</td>\n",
       "      <td>3</td>\n",
       "      <td>4</td>\n",
       "      <td>2012-09-16 23:00:00</td>\n",
       "      <td>6</td>\n",
       "      <td>0.500000</td>\n",
       "    </tr>\n",
       "  </tbody>\n",
       "</table>\n",
       "</div>"
      ],
      "text/plain": [
       "          date  time_local  eyeballs  zeroes  completed_trips  requests  \\\n",
       "30   11-Sep-12          13        11       2                1         1   \n",
       "146  16-Sep-12           9        11       3                3         3   \n",
       "42   12-Sep-12           1         6       0                1         1   \n",
       "164  17-Sep-12           3         1       1                0         0   \n",
       "10   10-Sep-12          17        12       2                3         4   \n",
       "75   13-Sep-12          10        15       3                2         2   \n",
       "200  18-Sep-12          15        17       4                1         3   \n",
       "54   12-Sep-12          13        23       0                9         9   \n",
       "12   10-Sep-12          19        13       2                2         3   \n",
       "160  16-Sep-12          23        11       2                2         3   \n",
       "\n",
       "     unique_drivers           timestamp  day  completed_trip_ratio_per_driver  \n",
       "30                7 2012-09-11 13:00:00    1                         0.142857  \n",
       "146               3 2012-09-16 09:00:00    6                         1.000000  \n",
       "42                2 2012-09-12 01:00:00    2                         0.500000  \n",
       "164               0 2012-09-17 03:00:00    0                              NaN  \n",
       "10                4 2012-09-10 17:00:00    0                         0.750000  \n",
       "75               10 2012-09-13 10:00:00    3                         0.200000  \n",
       "200               7 2012-09-18 15:00:00    1                         0.142857  \n",
       "54               14 2012-09-12 13:00:00    2                         0.642857  \n",
       "12                7 2012-09-10 19:00:00    0                         0.285714  \n",
       "160               4 2012-09-16 23:00:00    6                         0.500000  "
      ]
     },
     "execution_count": 30,
     "metadata": {},
     "output_type": "execute_result"
    }
   ],
   "source": [
    "# Sample of data\n",
    "df.sample(n=10)"
   ]
  },
  {
   "cell_type": "code",
   "execution_count": 31,
   "id": "c4f1bc49-115c-4dea-88b7-9b22d14654c0",
   "metadata": {},
   "outputs": [],
   "source": [
    "# Drop rows with zero or NaN values in `unique_drivers` column\n",
    "df_q5 = df[df['unique_drivers'] > 0]"
   ]
  },
  {
   "cell_type": "code",
   "execution_count": 32,
   "id": "603127cd-89dd-447c-9b77-f711e2c5c442",
   "metadata": {},
   "outputs": [],
   "source": [
    "# Calculate average ratio\n",
    "average_ratio = np.average(df_q5['completed_trip_ratio_per_driver'])"
   ]
  },
  {
   "cell_type": "code",
   "execution_count": 33,
   "id": "ca826412-4c19-4951-bc72-bc4337f0271d",
   "metadata": {},
   "outputs": [],
   "source": [
    "# Calculate weighted average ratio with weights as day's completed trips\n",
    "weighted_average_ratio = np.average(df_q5['completed_trip_ratio_per_driver'], weights=df_q5['completed_trips'])"
   ]
  },
  {
   "cell_type": "code",
   "execution_count": 34,
   "id": "7bb2bff8-0124-4761-a006-6c293af62e0c",
   "metadata": {},
   "outputs": [
    {
     "name": "stdout",
     "output_type": "stream",
     "text": [
      "Average ratio of completed trips per driver: 0.4743397876937869\n",
      "Weighted average ratio of completed trips per driver: 0.8282775715092395\n"
     ]
    }
   ],
   "source": [
    "print(f'Average ratio of completed trips per driver: {average_ratio}')\n",
    "print(f'Weighted average ratio of completed trips per driver: {weighted_average_ratio}')"
   ]
  },
  {
   "cell_type": "markdown",
   "id": "90913d09-1239-4d9c-88ce-4bda7895522a",
   "metadata": {},
   "source": [
    "## Busiest 8 Hour Shifts <a id='busiest-shifts'></a>"
   ]
  },
  {
   "cell_type": "markdown",
   "id": "85a74f43-b8b5-48cd-98ae-8372136f8eb9",
   "metadata": {},
   "source": [
    "In drafting a driver schedule in terms of 8 hours shifts, when are the busiest 8 consecutive hours over the two week period in terms of unique requests? \n",
    "\n",
    "- A new shift starts every 8 hours.\n",
    "- Assume that a driver will work the same shift each day."
   ]
  },
  {
   "cell_type": "code",
   "execution_count": 35,
   "id": "2793937b-44f3-46de-affd-36e7081f9a71",
   "metadata": {},
   "outputs": [],
   "source": [
    "# Set `timestamp` as index\n",
    "df_q6 = df.set_index(keys='timestamp')"
   ]
  },
  {
   "cell_type": "code",
   "execution_count": 36,
   "id": "dc21888b-e41a-471c-890f-bdeea34ad905",
   "metadata": {},
   "outputs": [],
   "source": [
    "# Resample with 8 hours period\n",
    "df_q6 = df_q6.resample(rule='8H').sum()"
   ]
  },
  {
   "cell_type": "code",
   "execution_count": 37,
   "id": "6298eb42-242e-42c0-885c-f7bf183203ea",
   "metadata": {},
   "outputs": [],
   "source": [
    "# Set time format\n",
    "time_format = '%Y/%m/%d %H:%M'\n",
    "\n",
    "# Create `time_interval` column\n",
    "df_q6['time_interval'] = df_q6.index.strftime(time_format) + ' - ' + (df_q6.index + pd.Timedelta('8 hours')).strftime(time_format)"
   ]
  },
  {
   "cell_type": "code",
   "execution_count": 38,
   "id": "5b0fc965-9b01-4a6d-a5f8-b083dfd951a9",
   "metadata": {},
   "outputs": [],
   "source": [
    "# Get busiest 8 hour time interval\n",
    "busiest_shift = df_q6.nlargest(n=1, columns='requests')['time_interval'].values[0]"
   ]
  },
  {
   "cell_type": "code",
   "execution_count": 39,
   "id": "57685c99-ee26-404e-af77-9a6a436f7b2b",
   "metadata": {},
   "outputs": [
    {
     "name": "stdout",
     "output_type": "stream",
     "text": [
      "Busiest 8 hour shift: 2012/09/21 16:00 - 2012/09/22 00:00\n"
     ]
    }
   ],
   "source": [
    "# Print results\n",
    "print(f'Busiest 8 hour shift: {busiest_shift}')"
   ]
  },
  {
   "cell_type": "markdown",
   "id": "2bcd0d98-0863-4ac3-aea5-d09a528d1b36",
   "metadata": {
    "editable": true,
    "slideshow": {
     "slide_type": ""
    },
    "tags": []
   },
   "source": [
    "## Driver Supply and Demand <a id='driver-supply-demand'></a>"
   ]
  },
  {
   "cell_type": "markdown",
   "id": "c27a372e-6698-4be6-a5f0-c64d2221ca69",
   "metadata": {},
   "source": [
    "Does driver supply always increase when demand increases during the two week period?"
   ]
  },
  {
   "cell_type": "code",
   "execution_count": 40,
   "id": "0b73baf6-c186-4d6d-a4d7-314cad38a262",
   "metadata": {},
   "outputs": [],
   "source": [
    "# Create empty dataframe with only timestamps\n",
    "difference_df = pd.DataFrame(df['timestamp'])"
   ]
  },
  {
   "cell_type": "code",
   "execution_count": 41,
   "id": "4f13e877-f17a-46b4-87ee-cea75085b741",
   "metadata": {},
   "outputs": [],
   "source": [
    "# Calculate request differences to find request increases\n",
    "difference_df['request_diff'] = df['requests'].shift(-1) - df['requests']\n",
    "\n",
    "# Calculate supply differences to find supply increases\n",
    "difference_df['supply_diff'] = df['unique_drivers'].shift(-1) - df['unique_drivers']"
   ]
  },
  {
   "cell_type": "code",
   "execution_count": 42,
   "id": "9e228220-b471-4032-9abd-6f74c6681dce",
   "metadata": {},
   "outputs": [
    {
     "data": {
      "text/html": [
       "<div>\n",
       "<style scoped>\n",
       "    .dataframe tbody tr th:only-of-type {\n",
       "        vertical-align: middle;\n",
       "    }\n",
       "\n",
       "    .dataframe tbody tr th {\n",
       "        vertical-align: top;\n",
       "    }\n",
       "\n",
       "    .dataframe thead th {\n",
       "        text-align: right;\n",
       "    }\n",
       "</style>\n",
       "<table border=\"1\" class=\"dataframe\">\n",
       "  <thead>\n",
       "    <tr style=\"text-align: right;\">\n",
       "      <th></th>\n",
       "      <th>timestamp</th>\n",
       "      <th>request_diff</th>\n",
       "      <th>supply_diff</th>\n",
       "    </tr>\n",
       "  </thead>\n",
       "  <tbody>\n",
       "    <tr>\n",
       "      <th>321</th>\n",
       "      <td>2012-09-23 16:00:00</td>\n",
       "      <td>-2.0</td>\n",
       "      <td>1.0</td>\n",
       "    </tr>\n",
       "    <tr>\n",
       "      <th>307</th>\n",
       "      <td>2012-09-23 02:00:00</td>\n",
       "      <td>-9.0</td>\n",
       "      <td>-2.0</td>\n",
       "    </tr>\n",
       "    <tr>\n",
       "      <th>250</th>\n",
       "      <td>2012-09-20 17:00:00</td>\n",
       "      <td>-5.0</td>\n",
       "      <td>3.0</td>\n",
       "    </tr>\n",
       "    <tr>\n",
       "      <th>194</th>\n",
       "      <td>2012-09-18 09:00:00</td>\n",
       "      <td>0.0</td>\n",
       "      <td>-2.0</td>\n",
       "    </tr>\n",
       "    <tr>\n",
       "      <th>134</th>\n",
       "      <td>2012-09-15 21:00:00</td>\n",
       "      <td>14.0</td>\n",
       "      <td>-3.0</td>\n",
       "    </tr>\n",
       "    <tr>\n",
       "      <th>209</th>\n",
       "      <td>2012-09-19 00:00:00</td>\n",
       "      <td>0.0</td>\n",
       "      <td>0.0</td>\n",
       "    </tr>\n",
       "    <tr>\n",
       "      <th>8</th>\n",
       "      <td>2012-09-10 15:00:00</td>\n",
       "      <td>2.0</td>\n",
       "      <td>-1.0</td>\n",
       "    </tr>\n",
       "    <tr>\n",
       "      <th>330</th>\n",
       "      <td>2012-09-24 01:00:00</td>\n",
       "      <td>2.0</td>\n",
       "      <td>0.0</td>\n",
       "    </tr>\n",
       "    <tr>\n",
       "      <th>178</th>\n",
       "      <td>2012-09-17 17:00:00</td>\n",
       "      <td>-1.0</td>\n",
       "      <td>3.0</td>\n",
       "    </tr>\n",
       "    <tr>\n",
       "      <th>51</th>\n",
       "      <td>2012-09-12 10:00:00</td>\n",
       "      <td>4.0</td>\n",
       "      <td>1.0</td>\n",
       "    </tr>\n",
       "  </tbody>\n",
       "</table>\n",
       "</div>"
      ],
      "text/plain": [
       "              timestamp  request_diff  supply_diff\n",
       "321 2012-09-23 16:00:00          -2.0          1.0\n",
       "307 2012-09-23 02:00:00          -9.0         -2.0\n",
       "250 2012-09-20 17:00:00          -5.0          3.0\n",
       "194 2012-09-18 09:00:00           0.0         -2.0\n",
       "134 2012-09-15 21:00:00          14.0         -3.0\n",
       "209 2012-09-19 00:00:00           0.0          0.0\n",
       "8   2012-09-10 15:00:00           2.0         -1.0\n",
       "330 2012-09-24 01:00:00           2.0          0.0\n",
       "178 2012-09-17 17:00:00          -1.0          3.0\n",
       "51  2012-09-12 10:00:00           4.0          1.0"
      ]
     },
     "execution_count": 42,
     "metadata": {},
     "output_type": "execute_result"
    }
   ],
   "source": [
    "# Sample of difference_df\n",
    "difference_df.sample(n=10)"
   ]
  },
  {
   "cell_type": "code",
   "execution_count": 43,
   "id": "4f0ef8ed-5a0e-412b-b9dc-fb07492707ca",
   "metadata": {},
   "outputs": [],
   "source": [
    "# Check if request increases, supply also increases\n",
    "supply_demand_increase = (difference_df[difference_df['request_diff'] > 0]['supply_diff'] > 0).all().item()"
   ]
  },
  {
   "cell_type": "code",
   "execution_count": 44,
   "id": "86e39b72-a02b-4eea-8c7f-b1c4aa022a17",
   "metadata": {},
   "outputs": [
    {
     "name": "stdout",
     "output_type": "stream",
     "text": [
      "Driver supply always increases when demand increases: False\n"
     ]
    }
   ],
   "source": [
    "# Print result\n",
    "print(f'Driver supply always increases when demand increases: {supply_demand_increase}')"
   ]
  },
  {
   "cell_type": "code",
   "execution_count": 45,
   "id": "e0422ee0-e7b5-473b-9c8a-bb666b2ab5d0",
   "metadata": {},
   "outputs": [
    {
     "data": {
      "image/png": "[encoded data removed]",
      "text/plain": [
       "<Figure size 1200x800 with 1 Axes>"
      ]
     },
     "metadata": {},
     "output_type": "display_data"
    }
   ],
   "source": [
    "# Plot requests and unique drivers\n",
    "plt.figure(figsize=(12, 8))\n",
    "sns.lineplot(data=df[['requests', 'unique_drivers', 'timestamp']])\n",
    "plt.show()"
   ]
  },
  {
   "cell_type": "markdown",
   "id": "035cacfa-42c1-44a8-9535-159cd1b80b2e",
   "metadata": {},
   "source": [
    "## Highest Zeroes to Eyeballs <a id='highest-zeroes-eyeballs'></a>"
   ]
  },
  {
   "cell_type": "markdown",
   "id": "810d2a18-cf7b-429a-8fd7-8e37ce4f7a86",
   "metadata": {},
   "source": [
    "In which 72 hour period is the ratio of Zeroes to Eyeballs the highest?\n",
    "\n",
    "- `Eyeballs` are when a person opened the Uber application.\n",
    "- `Zeroes` are when a person opened the Uber application, and did not see any car."
   ]
  },
  {
   "cell_type": "code",
   "execution_count": 46,
   "id": "597f0419-e341-4db8-9bbb-766173b3f2ea",
   "metadata": {},
   "outputs": [],
   "source": [
    "# Drop `date` column\n",
    "df_q8 = df.drop(columns='date')"
   ]
  },
  {
   "cell_type": "code",
   "execution_count": 47,
   "id": "67535e35-84f8-4c0f-a340-687e431f9f02",
   "metadata": {},
   "outputs": [],
   "source": [
    "# Set `timestamp` as index\n",
    "df_q8 = df_q8.set_index('timestamp')"
   ]
  },
  {
   "cell_type": "code",
   "execution_count": 48,
   "id": "fb1ef675-9a58-4dc6-b13d-abfb10735539",
   "metadata": {},
   "outputs": [],
   "source": [
    "# Calculate rolling sum by 3 days (72 hours)\n",
    "indexer = pd.api.indexers.FixedForwardWindowIndexer(window_size=72)\n",
    "df_q8 = df_q8.rolling(window=indexer, min_periods=1).sum().reset_index()"
   ]
  },
  {
   "cell_type": "code",
   "execution_count": 49,
   "id": "502595aa-c16f-4d0a-aa47-941b63638eae",
   "metadata": {},
   "outputs": [],
   "source": [
    "# Calculate zeros to eyeballs ratio\n",
    "df_q8['zeroes_to_eyeballs_ratio'] = df_q8['zeroes'] / df_q8['eyeballs']"
   ]
  },
  {
   "cell_type": "code",
   "execution_count": 50,
   "id": "70356b65-046b-406b-8301-a5c3fed08b16",
   "metadata": {},
   "outputs": [],
   "source": [
    "# Keep only rows from last 72 hours\n",
    "df_q8 = df_q8[df_q8['timestamp'] <= (df_q8['timestamp'].max() - pd.DateOffset(days=3))]"
   ]
  },
  {
   "cell_type": "code",
   "execution_count": 51,
   "id": "536fecc4-0373-430c-878a-74d913884483",
   "metadata": {},
   "outputs": [],
   "source": [
    "# Set time format\n",
    "time_format = \"%Y/%m/%d %H:%M\"\n",
    "\n",
    "# Create `time_interval` column\n",
    "df_q8['time_interval'] = df_q8['timestamp'].dt.strftime(time_format) +  \" - \" + (df_q8['timestamp'] + pd.Timedelta('3 days')).dt.strftime(time_format)"
   ]
  },
  {
   "cell_type": "code",
   "execution_count": 52,
   "id": "cfcd047a-637f-4961-8ad6-4c06fd23a7a3",
   "metadata": {},
   "outputs": [],
   "source": [
    "# Get highest zeroes to eyeballs ratio\n",
    "max_zeroes_eyeballs = df_q8.nlargest(n=1, columns='zeroes_to_eyeballs_ratio')['zeroes_to_eyeballs_ratio'].values[0]\n",
    "\n",
    "# Get time interval for highest zeroes to eyeballs ratio\n",
    "max_zeroes_eyeballs_time_interval = df_q8.nlargest(n=1, columns='zeroes_to_eyeballs_ratio')['time_interval'].values[0]"
   ]
  },
  {
   "cell_type": "code",
   "execution_count": 53,
   "id": "8be7833d-62b3-4dba-93e9-83acc2dcac57",
   "metadata": {},
   "outputs": [
    {
     "name": "stdout",
     "output_type": "stream",
     "text": [
      "Highest zeroes to eyeballs ratio in 72 hours: 0.2929765886287625\n",
      "72 hour period of highest zeroes to eyeballs ratio: 2012/09/15 05:00 - 2012/09/18 05:00\n"
     ]
    }
   ],
   "source": [
    "# Print result\n",
    "print(f'Highest zeroes to eyeballs ratio in 72 hours: {max_zeroes_eyeballs}')\n",
    "print(f'72 hour period of highest zeroes to eyeballs ratio: {max_zeroes_eyeballs_time_interval}')"
   ]
  },
  {
   "cell_type": "markdown",
   "id": "da497248-5b28-4f9e-a336-7f7401a32f78",
   "metadata": {},
   "source": [
    "## Highest Eyeball to Driver <a id='highest-eyeball-driver'></a>"
   ]
  },
  {
   "cell_type": "markdown",
   "id": "3cec0647-071c-4d67-8887-0fbb63488fe3",
   "metadata": {},
   "source": [
    "If you could add 5 drivers to any single hour of every day during the two week period, which hour should you add them to?"
   ]
  },
  {
   "cell_type": "code",
   "execution_count": 54,
   "id": "0e5e3a8b-b4c2-470a-93dc-d60f97a7d6ce",
   "metadata": {},
   "outputs": [],
   "source": [
    "# Group by `time_local`, aggregate `eyeballs` and `unique_drivers` sum\n",
    "df_q9 = df.groupby(by='time_local', as_index=False).agg(func={'eyeballs': 'sum', 'unique_drivers': 'sum'})"
   ]
  },
  {
   "cell_type": "code",
   "execution_count": 55,
   "id": "e632609a-8623-4f29-a3d0-cf7c647423a0",
   "metadata": {},
   "outputs": [],
   "source": [
    "# Create eyeball to driver ratio\n",
    "df_q9['eyeball_to_driver_ratio'] = df_q9['eyeballs'] / df_q9['unique_drivers']"
   ]
  },
  {
   "cell_type": "code",
   "execution_count": 56,
   "id": "bfe2df81-15eb-4bc6-9194-b2490954082a",
   "metadata": {},
   "outputs": [],
   "source": [
    "# Get hour of highest eyeball to driver ratio\n",
    "hour_add_driver = df_q9.nlargest(n=1, columns='eyeball_to_driver_ratio')['time_local'].values[0]"
   ]
  },
  {
   "cell_type": "code",
   "execution_count": 57,
   "id": "92a7795f-5344-4d3b-a36b-e1fbeeddb52a",
   "metadata": {},
   "outputs": [
    {
     "name": "stdout",
     "output_type": "stream",
     "text": [
      "Recommended hour to add drivers: 23\n"
     ]
    }
   ],
   "source": [
    "# Print results\n",
    "print(f'Recommended hour to add drivers: {hour_add_driver}')"
   ]
  },
  {
   "cell_type": "markdown",
   "id": "d9342127-76ae-4eb8-8f24-61cf7bcbc7d9",
   "metadata": {},
   "source": [
    "## Analysis Time Frame <a id='analysis-time-frame'></a>"
   ]
  },
  {
   "cell_type": "markdown",
   "id": "1642e681-283c-4164-8fc1-16f9f663617a",
   "metadata": {},
   "source": [
    "Are there exactly two weeks of data in this analysis?"
   ]
  },
  {
   "cell_type": "code",
   "execution_count": 58,
   "id": "a6e9e80e-aac2-449e-bb58-0542aa460caf",
   "metadata": {},
   "outputs": [],
   "source": [
    "# Calculate time difference between start and end, then compare to timedelta 14 days\n",
    "two_weeks = df['timestamp'][df.shape[0] - 1] - df['timestamp'][0] == pd.Timedelta('14 days')"
   ]
  },
  {
   "cell_type": "code",
   "execution_count": 59,
   "id": "c1d558d8-6053-4f83-8dd9-bc5cf11b3007",
   "metadata": {},
   "outputs": [
    {
     "name": "stdout",
     "output_type": "stream",
     "text": [
      "Exactly two weeks of data: False\n"
     ]
    }
   ],
   "source": [
    "# Print results\n",
    "print(f'Exactly two weeks of data: {two_weeks}')"
   ]
  },
  {
   "cell_type": "markdown",
   "id": "b7ce1ed5-3f08-478b-9023-3235059861b0",
   "metadata": {},
   "source": [
    "## Best End Day <a id='best-end-day'></a>"
   ]
  },
  {
   "cell_type": "markdown",
   "id": "1b5c8d76-8f90-484b-88fd-d4ae82868e04",
   "metadata": {},
   "source": [
    "Looking at all of the data, which time might make the most sense to consider a true \"end day\" instead of midnight?\n",
    "\n",
    "- When are both supply and demand at their natural minimums?"
   ]
  },
  {
   "cell_type": "code",
   "execution_count": 60,
   "id": "fc61dc43-6f9d-4c98-a0fc-f1605efa6a9d",
   "metadata": {},
   "outputs": [],
   "source": [
    "# Find minimum supply and demand per day\n",
    "df_q11 = df.groupby(by='date', as_index=False).agg(min_supply_per_day=('unique_drivers', 'min'), min_demand_per_day=('requests', 'min'))"
   ]
  },
  {
   "cell_type": "code",
   "execution_count": 61,
   "id": "3719a070-6b4e-4b39-b648-4a09f635c940",
   "metadata": {},
   "outputs": [],
   "source": [
    "# Merge aggregated columns with original dataset on date\n",
    "df_q11 = pd.merge(left=df, right=df_q11, on='date')"
   ]
  },
  {
   "cell_type": "code",
   "execution_count": 62,
   "id": "b75ab439-f537-47d1-a8e1-eb40fd500060",
   "metadata": {},
   "outputs": [],
   "source": [
    "# Find hour when supply and demand are at natural minimums\n",
    "min_hour = df_q11[(df_q11['min_supply_per_day'] == df_q11['unique_drivers']) & (df_q11['min_demand_per_day'] == df_q11['requests'])]['time_local'].mode()"
   ]
  },
  {
   "cell_type": "code",
   "execution_count": 63,
   "id": "65d00a1b-7779-43da-970d-770ed2781b55",
   "metadata": {},
   "outputs": [
    {
     "name": "stdout",
     "output_type": "stream",
     "text": [
      "Hour of minimum supply and demand: 4\n"
     ]
    }
   ],
   "source": [
    "# Print result\n",
    "print(f'Hour of minimum supply and demand: {min_hour[0]}')"
   ]
  },
  {
   "cell_type": "code",
   "execution_count": 64,
   "id": "1aedb809-75c1-4df8-a36c-7f1eb88e6c9e",
   "metadata": {},
   "outputs": [],
   "source": [
    "# Select numeric columns\n",
    "df_agg_time = df.select_dtypes(include='number')\n",
    "\n",
    "# Aggregate by `time_local` and sum columns\n",
    "df_agg_time = df_agg_time.groupby(by='time_local', as_index=False).sum()\n",
    "\n",
    "# Extract hour of minimum supply and demand\n",
    "min_hour_value = df_agg_time['requests'][min_hour[0]]"
   ]
  },
  {
   "cell_type": "code",
   "execution_count": 65,
   "id": "7eceed01-6fed-4e98-92ba-9668ffe8c1c0",
   "metadata": {},
   "outputs": [
    {
     "data": {
      "image/png": "[encoded data removed]",
      "text/plain": [
       "<Figure size 1200x800 with 1 Axes>"
      ]
     },
     "metadata": {},
     "output_type": "display_data"
    }
   ],
   "source": [
    "# Plot and annotate minimum hour\n",
    "\n",
    "# Set figure size\n",
    "plt.figure(figsize=(12, 8))\n",
    "\n",
    "# Create line plot\n",
    "fig = sns.lineplot(data=df_agg_time[['requests', 'unique_drivers']], markers=True, dashes=False)\n",
    "\n",
    "# Set x-axis ticks to values in `time_local` column\n",
    "fig.set_xticks(df_agg_time['time_local'])\n",
    "\n",
    "# Add annotation to plot\n",
    "plt.annotate('minimum supply/demand', xy=(min_hour[0], min_hour_value), color='r', fontsize=16)\n",
    "\n",
    "# Display plot\n",
    "plt.show()"
   ]
  },
  {
   "cell_type": "markdown",
   "id": "aea531e6-4b3e-4dd3-ae26-aa2bab433111",
   "metadata": {},
   "source": [
    "- Supply and demand are at their natural minimums at 4 in the morning.\n",
    "- A better end of day may be 4 am instead of 12 am midnight."
   ]
  },
  {
   "cell_type": "markdown",
   "id": "dc8dc223-a348-4f97-8b03-298f9c69cf5b",
   "metadata": {},
   "source": [
    "This notebook was inspired by the [Insights from City Supply and Demand Data](https://platform.stratascratch.com/data-projects/insights-city-supply-and-demand-data) data project on [StrataScratch](https://www.stratascratch.com/)"
   ]
  },
  {
   "cell_type": "code",
   "execution_count": null,
   "id": "1f5677b0-8c30-4a04-8fb7-fd3b184f2623",
   "metadata": {},
   "outputs": [],
   "source": []
  }
 ],
 "metadata": {
  "kernelspec": {
   "display_name": "Python 3 (ipykernel)",
   "language": "python",
   "name": "python3"
  },
  "language_info": {
   "codemirror_mode": {
    "name": "ipython",
    "version": 3
   },
   "file_extension": ".py",
   "mimetype": "text/x-python",
   "name": "python",
   "nbconvert_exporter": "python",
   "pygments_lexer": "ipython3",
   "version": "3.11.6"
  }
 },
 "nbformat": 4,
 "nbformat_minor": 5
}
