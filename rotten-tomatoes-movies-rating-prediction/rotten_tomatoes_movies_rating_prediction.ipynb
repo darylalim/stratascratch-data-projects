{
 "cells": [
  {
   "cell_type": "markdown",
   "id": "3d6345c6-f132-484b-9f7e-c552a0b0e666",
   "metadata": {},
   "source": [
    "# Rotten Tomatoes Movies Rating Prediction"
   ]
  },
  {
   "cell_type": "markdown",
   "id": "69121dac-1caf-482d-9994-2f1df72fc4c7",
   "metadata": {},
   "source": [
    "## Table of Contents\n",
    "\n",
    "- [Objective](#objective)\n",
    "- [First Approach: Predicting Movie Status based on Numerical and Categorical Features](#first-approach)\n",
    "    - [Data Preprocessing](#data-preprocessing)\n",
    "    - [Decision Tree Classifier: Limited to Three Leaf Nodes](#decision-tree-three-leaf)\n",
    "    - [Decision Tree Classifier: Unlimited Leaf Nodes](#decision-tree-unlimited)\n",
    "    - [Random Forest Classifier](#random-forest)\n",
    "    - [Random Forest Classifier with Feature Selection](#random-forest-feature-selection)\n",
    "    - [Weighted Random Forest Classifier with Feature Selection](#weighted-random-forest-feature-selection)\n",
    "- [Second Approach: Predicting Movie Status based on Review Sentiment](#second-approach)\n",
    "    - [Random Forest](#random-forest-2)\n",
    "    - [Weighted Random Forest](#weighted-random-forest)\n",
    "    - [Movie Status Prediction](#movie-status-prediction)\n",
    "        - ['Tron Legacy' Prediction](#tron-legacy-prediction)\n",
    "        - ['The Hangover' Prediction](#hangover-prediction)\n",
    "        - ['Planet of the Apes' Prediction](#planet-apes-prediction)"
   ]
  },
  {
   "cell_type": "markdown",
   "id": "fe948033-db4f-4386-98f8-cd6d1dd6093d",
   "metadata": {},
   "source": [
    "## Objective <a id='objective'></a>"
   ]
  },
  {
   "cell_type": "markdown",
   "id": "bfbcefdc-098a-4f23-832d-3df71fd3c3eb",
   "metadata": {},
   "source": [
    "This notebook shows the process of building a classification model to predict the labels of movies on [Rotten Tomatoes](https://www.rottentomatoes.com/), a website that aggregates and ranks reviews from critics and audiences for movies and TV shows. The labels are 'Rotten', 'Fresh', or 'Certified-Fresh'.\n",
    "\n",
    "There are two approaches that will be used to predict a movie's status:\n",
    "\n",
    "- by using numerical and categorical features\n",
    "- by using text data (reviews from critics)\n",
    "\n",
    "The first approach will use `rotten_tomatoes_movies.csv` and the second approach will use `rotten_tomatoes_critic_reviews_50k.csv` for data.\n",
    "\n",
    "Here, there is a focus on predicting movie status with tree-based algorithms including decision tree and random forest."
   ]
  },
  {
   "cell_type": "code",
   "execution_count": 1,
   "id": "1956319c-2fcd-4503-b516-35a9296f3475",
   "metadata": {},
   "outputs": [],
   "source": [
    "# Import libraries and modules\n",
    "import numpy as np\n",
    "import pandas as pd\n",
    "import matplotlib.pyplot as plt\n",
    "\n",
    "from sklearn.model_selection import train_test_split\n",
    "from sklearn.feature_extraction.text import CountVectorizer\n",
    "from sklearn.tree import DecisionTreeClassifier, plot_tree\n",
    "from sklearn.ensemble import RandomForestClassifier\n",
    "from sklearn.metrics import confusion_matrix, ConfusionMatrixDisplay, classification_report, accuracy_score\n",
    "from sklearn.utils.class_weight import compute_class_weight"
   ]
  },
  {
   "cell_type": "markdown",
   "id": "ed336064-aa9d-41b8-8b64-6b77914a6a2d",
   "metadata": {},
   "source": [
    "## First Approach: Predicting Movie Status based on Numerical and Categorical Features <a id='first-approach'></a>"
   ]
  },
  {
   "cell_type": "code",
   "execution_count": 2,
   "id": "e1b5e658-5d80-4549-85da-c9a37c7f6819",
   "metadata": {},
   "outputs": [
    {
     "data": {
      "text/html": [
       "<div>\n",
       "<style scoped>\n",
       "    .dataframe tbody tr th:only-of-type {\n",
       "        vertical-align: middle;\n",
       "    }\n",
       "\n",
       "    .dataframe tbody tr th {\n",
       "        vertical-align: top;\n",
       "    }\n",
       "\n",
       "    .dataframe thead th {\n",
       "        text-align: right;\n",
       "    }\n",
       "</style>\n",
       "<table border=\"1\" class=\"dataframe\">\n",
       "  <thead>\n",
       "    <tr style=\"text-align: right;\">\n",
       "      <th></th>\n",
       "      <th>rotten_tomatoes_link</th>\n",
       "      <th>movie_title</th>\n",
       "      <th>movie_info</th>\n",
       "      <th>critics_consensus</th>\n",
       "      <th>content_rating</th>\n",
       "      <th>genres</th>\n",
       "      <th>directors</th>\n",
       "      <th>authors</th>\n",
       "      <th>actors</th>\n",
       "      <th>original_release_date</th>\n",
       "      <th>...</th>\n",
       "      <th>production_company</th>\n",
       "      <th>tomatometer_status</th>\n",
       "      <th>tomatometer_rating</th>\n",
       "      <th>tomatometer_count</th>\n",
       "      <th>audience_status</th>\n",
       "      <th>audience_rating</th>\n",
       "      <th>audience_count</th>\n",
       "      <th>tomatometer_top_critics_count</th>\n",
       "      <th>tomatometer_fresh_critics_count</th>\n",
       "      <th>tomatometer_rotten_critics_count</th>\n",
       "    </tr>\n",
       "  </thead>\n",
       "  <tbody>\n",
       "    <tr>\n",
       "      <th>0</th>\n",
       "      <td>m/0814255</td>\n",
       "      <td>Percy Jackson &amp; the Olympians: The Lightning T...</td>\n",
       "      <td>Always trouble-prone, the life of teenager Per...</td>\n",
       "      <td>Though it may seem like just another Harry Pot...</td>\n",
       "      <td>PG</td>\n",
       "      <td>Action &amp; Adventure, Comedy, Drama, Science Fic...</td>\n",
       "      <td>Chris Columbus</td>\n",
       "      <td>Craig Titley, Chris Columbus, Rick Riordan</td>\n",
       "      <td>Logan Lerman, Brandon T. Jackson, Alexandra Da...</td>\n",
       "      <td>2010-02-12</td>\n",
       "      <td>...</td>\n",
       "      <td>20th Century Fox</td>\n",
       "      <td>Rotten</td>\n",
       "      <td>49.0</td>\n",
       "      <td>149.0</td>\n",
       "      <td>Spilled</td>\n",
       "      <td>53.0</td>\n",
       "      <td>254421.0</td>\n",
       "      <td>43</td>\n",
       "      <td>73</td>\n",
       "      <td>76</td>\n",
       "    </tr>\n",
       "    <tr>\n",
       "      <th>1</th>\n",
       "      <td>m/0878835</td>\n",
       "      <td>Please Give</td>\n",
       "      <td>Kate (Catherine Keener) and her husband Alex (...</td>\n",
       "      <td>Nicole Holofcener's newest might seem slight i...</td>\n",
       "      <td>R</td>\n",
       "      <td>Comedy</td>\n",
       "      <td>Nicole Holofcener</td>\n",
       "      <td>Nicole Holofcener</td>\n",
       "      <td>Catherine Keener, Amanda Peet, Oliver Platt, R...</td>\n",
       "      <td>2010-04-30</td>\n",
       "      <td>...</td>\n",
       "      <td>Sony Pictures Classics</td>\n",
       "      <td>Certified-Fresh</td>\n",
       "      <td>87.0</td>\n",
       "      <td>142.0</td>\n",
       "      <td>Upright</td>\n",
       "      <td>64.0</td>\n",
       "      <td>11574.0</td>\n",
       "      <td>44</td>\n",
       "      <td>123</td>\n",
       "      <td>19</td>\n",
       "    </tr>\n",
       "    <tr>\n",
       "      <th>2</th>\n",
       "      <td>m/10</td>\n",
       "      <td>10</td>\n",
       "      <td>A successful, middle-aged Hollywood songwriter...</td>\n",
       "      <td>Blake Edwards' bawdy comedy may not score a pe...</td>\n",
       "      <td>R</td>\n",
       "      <td>Comedy, Romance</td>\n",
       "      <td>Blake Edwards</td>\n",
       "      <td>Blake Edwards</td>\n",
       "      <td>Dudley Moore, Bo Derek, Julie Andrews, Robert ...</td>\n",
       "      <td>1979-10-05</td>\n",
       "      <td>...</td>\n",
       "      <td>Waner Bros.</td>\n",
       "      <td>Fresh</td>\n",
       "      <td>67.0</td>\n",
       "      <td>24.0</td>\n",
       "      <td>Spilled</td>\n",
       "      <td>53.0</td>\n",
       "      <td>14684.0</td>\n",
       "      <td>2</td>\n",
       "      <td>16</td>\n",
       "      <td>8</td>\n",
       "    </tr>\n",
       "    <tr>\n",
       "      <th>3</th>\n",
       "      <td>m/1000013-12_angry_men</td>\n",
       "      <td>12 Angry Men (Twelve Angry Men)</td>\n",
       "      <td>Following the closing arguments in a murder tr...</td>\n",
       "      <td>Sidney Lumet's feature debut is a superbly wri...</td>\n",
       "      <td>NR</td>\n",
       "      <td>Classics, Drama</td>\n",
       "      <td>Sidney Lumet</td>\n",
       "      <td>Reginald Rose</td>\n",
       "      <td>Martin Balsam, John Fiedler, Lee J. Cobb, E.G....</td>\n",
       "      <td>1957-04-13</td>\n",
       "      <td>...</td>\n",
       "      <td>Criterion Collection</td>\n",
       "      <td>Certified-Fresh</td>\n",
       "      <td>100.0</td>\n",
       "      <td>54.0</td>\n",
       "      <td>Upright</td>\n",
       "      <td>97.0</td>\n",
       "      <td>105386.0</td>\n",
       "      <td>6</td>\n",
       "      <td>54</td>\n",
       "      <td>0</td>\n",
       "    </tr>\n",
       "    <tr>\n",
       "      <th>4</th>\n",
       "      <td>m/1000079-20000_leagues_under_the_sea</td>\n",
       "      <td>20,000 Leagues Under The Sea</td>\n",
       "      <td>In 1866, Professor Pierre M. Aronnax (Paul Luk...</td>\n",
       "      <td>One of Disney's finest live-action adventures,...</td>\n",
       "      <td>G</td>\n",
       "      <td>Action &amp; Adventure, Drama, Kids &amp; Family</td>\n",
       "      <td>Richard Fleischer</td>\n",
       "      <td>Earl Felton</td>\n",
       "      <td>James Mason, Kirk Douglas, Paul Lukas, Peter L...</td>\n",
       "      <td>1954-01-01</td>\n",
       "      <td>...</td>\n",
       "      <td>Disney</td>\n",
       "      <td>Fresh</td>\n",
       "      <td>89.0</td>\n",
       "      <td>27.0</td>\n",
       "      <td>Upright</td>\n",
       "      <td>74.0</td>\n",
       "      <td>68918.0</td>\n",
       "      <td>5</td>\n",
       "      <td>24</td>\n",
       "      <td>3</td>\n",
       "    </tr>\n",
       "  </tbody>\n",
       "</table>\n",
       "<p>5 rows × 22 columns</p>\n",
       "</div>"
      ],
      "text/plain": [
       "                    rotten_tomatoes_link  \\\n",
       "0                              m/0814255   \n",
       "1                              m/0878835   \n",
       "2                                   m/10   \n",
       "3                 m/1000013-12_angry_men   \n",
       "4  m/1000079-20000_leagues_under_the_sea   \n",
       "\n",
       "                                         movie_title  \\\n",
       "0  Percy Jackson & the Olympians: The Lightning T...   \n",
       "1                                        Please Give   \n",
       "2                                                 10   \n",
       "3                    12 Angry Men (Twelve Angry Men)   \n",
       "4                       20,000 Leagues Under The Sea   \n",
       "\n",
       "                                          movie_info  \\\n",
       "0  Always trouble-prone, the life of teenager Per...   \n",
       "1  Kate (Catherine Keener) and her husband Alex (...   \n",
       "2  A successful, middle-aged Hollywood songwriter...   \n",
       "3  Following the closing arguments in a murder tr...   \n",
       "4  In 1866, Professor Pierre M. Aronnax (Paul Luk...   \n",
       "\n",
       "                                   critics_consensus content_rating  \\\n",
       "0  Though it may seem like just another Harry Pot...             PG   \n",
       "1  Nicole Holofcener's newest might seem slight i...              R   \n",
       "2  Blake Edwards' bawdy comedy may not score a pe...              R   \n",
       "3  Sidney Lumet's feature debut is a superbly wri...             NR   \n",
       "4  One of Disney's finest live-action adventures,...              G   \n",
       "\n",
       "                                              genres          directors  \\\n",
       "0  Action & Adventure, Comedy, Drama, Science Fic...     Chris Columbus   \n",
       "1                                             Comedy  Nicole Holofcener   \n",
       "2                                    Comedy, Romance      Blake Edwards   \n",
       "3                                    Classics, Drama       Sidney Lumet   \n",
       "4           Action & Adventure, Drama, Kids & Family  Richard Fleischer   \n",
       "\n",
       "                                      authors  \\\n",
       "0  Craig Titley, Chris Columbus, Rick Riordan   \n",
       "1                           Nicole Holofcener   \n",
       "2                               Blake Edwards   \n",
       "3                               Reginald Rose   \n",
       "4                                 Earl Felton   \n",
       "\n",
       "                                              actors original_release_date  \\\n",
       "0  Logan Lerman, Brandon T. Jackson, Alexandra Da...            2010-02-12   \n",
       "1  Catherine Keener, Amanda Peet, Oliver Platt, R...            2010-04-30   \n",
       "2  Dudley Moore, Bo Derek, Julie Andrews, Robert ...            1979-10-05   \n",
       "3  Martin Balsam, John Fiedler, Lee J. Cobb, E.G....            1957-04-13   \n",
       "4  James Mason, Kirk Douglas, Paul Lukas, Peter L...            1954-01-01   \n",
       "\n",
       "   ...      production_company  tomatometer_status tomatometer_rating  \\\n",
       "0  ...        20th Century Fox              Rotten               49.0   \n",
       "1  ...  Sony Pictures Classics     Certified-Fresh               87.0   \n",
       "2  ...             Waner Bros.               Fresh               67.0   \n",
       "3  ...    Criterion Collection     Certified-Fresh              100.0   \n",
       "4  ...                  Disney               Fresh               89.0   \n",
       "\n",
       "  tomatometer_count  audience_status  audience_rating audience_count  \\\n",
       "0             149.0          Spilled             53.0       254421.0   \n",
       "1             142.0          Upright             64.0        11574.0   \n",
       "2              24.0          Spilled             53.0        14684.0   \n",
       "3              54.0          Upright             97.0       105386.0   \n",
       "4              27.0          Upright             74.0        68918.0   \n",
       "\n",
       "   tomatometer_top_critics_count  tomatometer_fresh_critics_count  \\\n",
       "0                             43                               73   \n",
       "1                             44                              123   \n",
       "2                              2                               16   \n",
       "3                              6                               54   \n",
       "4                              5                               24   \n",
       "\n",
       "   tomatometer_rotten_critics_count  \n",
       "0                                76  \n",
       "1                                19  \n",
       "2                                 8  \n",
       "3                                 0  \n",
       "4                                 3  \n",
       "\n",
       "[5 rows x 22 columns]"
      ]
     },
     "execution_count": 2,
     "metadata": {},
     "output_type": "execute_result"
    }
   ],
   "source": [
    "# Read data\n",
    "df_movie = pd.read_csv('data/raw/rotten_tomatoes_movies.csv')\n",
    "df_movie.head()"
   ]
  },
  {
   "cell_type": "code",
   "execution_count": 3,
   "id": "eb722394-8e00-43e2-bfe3-f46b345c4c95",
   "metadata": {},
   "outputs": [
    {
     "name": "stdout",
     "output_type": "stream",
     "text": [
      "<class 'pandas.core.frame.DataFrame'>\n",
      "RangeIndex: 17712 entries, 0 to 17711\n",
      "Data columns (total 22 columns):\n",
      " #   Column                            Non-Null Count  Dtype  \n",
      "---  ------                            --------------  -----  \n",
      " 0   rotten_tomatoes_link              17712 non-null  object \n",
      " 1   movie_title                       17712 non-null  object \n",
      " 2   movie_info                        17391 non-null  object \n",
      " 3   critics_consensus                 9134 non-null   object \n",
      " 4   content_rating                    17712 non-null  object \n",
      " 5   genres                            17693 non-null  object \n",
      " 6   directors                         17518 non-null  object \n",
      " 7   authors                           16170 non-null  object \n",
      " 8   actors                            17360 non-null  object \n",
      " 9   original_release_date             16546 non-null  object \n",
      " 10  streaming_release_date            17328 non-null  object \n",
      " 11  runtime                           17398 non-null  float64\n",
      " 12  production_company                17213 non-null  object \n",
      " 13  tomatometer_status                17668 non-null  object \n",
      " 14  tomatometer_rating                17668 non-null  float64\n",
      " 15  tomatometer_count                 17668 non-null  float64\n",
      " 16  audience_status                   17264 non-null  object \n",
      " 17  audience_rating                   17416 non-null  float64\n",
      " 18  audience_count                    17415 non-null  float64\n",
      " 19  tomatometer_top_critics_count     17712 non-null  int64  \n",
      " 20  tomatometer_fresh_critics_count   17712 non-null  int64  \n",
      " 21  tomatometer_rotten_critics_count  17712 non-null  int64  \n",
      "dtypes: float64(5), int64(3), object(14)\n",
      "memory usage: 3.0+ MB\n"
     ]
    }
   ],
   "source": [
    "# Summary of DataFrame\n",
    "df_movie.info()"
   ]
  },
  {
   "cell_type": "code",
   "execution_count": 4,
   "id": "a80e549a-ec51-456f-a1e9-7b445e090bd2",
   "metadata": {},
   "outputs": [
    {
     "data": {
      "text/html": [
       "<div>\n",
       "<style scoped>\n",
       "    .dataframe tbody tr th:only-of-type {\n",
       "        vertical-align: middle;\n",
       "    }\n",
       "\n",
       "    .dataframe tbody tr th {\n",
       "        vertical-align: top;\n",
       "    }\n",
       "\n",
       "    .dataframe thead th {\n",
       "        text-align: right;\n",
       "    }\n",
       "</style>\n",
       "<table border=\"1\" class=\"dataframe\">\n",
       "  <thead>\n",
       "    <tr style=\"text-align: right;\">\n",
       "      <th></th>\n",
       "      <th>runtime</th>\n",
       "      <th>tomatometer_rating</th>\n",
       "      <th>tomatometer_count</th>\n",
       "      <th>audience_rating</th>\n",
       "      <th>audience_count</th>\n",
       "      <th>tomatometer_top_critics_count</th>\n",
       "      <th>tomatometer_fresh_critics_count</th>\n",
       "      <th>tomatometer_rotten_critics_count</th>\n",
       "    </tr>\n",
       "  </thead>\n",
       "  <tbody>\n",
       "    <tr>\n",
       "      <th>count</th>\n",
       "      <td>17398.000000</td>\n",
       "      <td>17668.000000</td>\n",
       "      <td>17668.000000</td>\n",
       "      <td>17416.000000</td>\n",
       "      <td>1.741500e+04</td>\n",
       "      <td>17712.000000</td>\n",
       "      <td>17712.000000</td>\n",
       "      <td>17712.000000</td>\n",
       "    </tr>\n",
       "    <tr>\n",
       "      <th>mean</th>\n",
       "      <td>102.214048</td>\n",
       "      <td>60.884763</td>\n",
       "      <td>57.139801</td>\n",
       "      <td>60.554260</td>\n",
       "      <td>1.439401e+05</td>\n",
       "      <td>14.586326</td>\n",
       "      <td>36.374831</td>\n",
       "      <td>20.703139</td>\n",
       "    </tr>\n",
       "    <tr>\n",
       "      <th>std</th>\n",
       "      <td>18.702511</td>\n",
       "      <td>28.443348</td>\n",
       "      <td>68.370047</td>\n",
       "      <td>20.543369</td>\n",
       "      <td>1.763577e+06</td>\n",
       "      <td>15.146349</td>\n",
       "      <td>52.601038</td>\n",
       "      <td>30.248435</td>\n",
       "    </tr>\n",
       "    <tr>\n",
       "      <th>min</th>\n",
       "      <td>5.000000</td>\n",
       "      <td>0.000000</td>\n",
       "      <td>5.000000</td>\n",
       "      <td>0.000000</td>\n",
       "      <td>5.000000e+00</td>\n",
       "      <td>0.000000</td>\n",
       "      <td>0.000000</td>\n",
       "      <td>0.000000</td>\n",
       "    </tr>\n",
       "    <tr>\n",
       "      <th>25%</th>\n",
       "      <td>90.000000</td>\n",
       "      <td>38.000000</td>\n",
       "      <td>12.000000</td>\n",
       "      <td>45.000000</td>\n",
       "      <td>7.075000e+02</td>\n",
       "      <td>3.000000</td>\n",
       "      <td>6.000000</td>\n",
       "      <td>3.000000</td>\n",
       "    </tr>\n",
       "    <tr>\n",
       "      <th>50%</th>\n",
       "      <td>99.000000</td>\n",
       "      <td>67.000000</td>\n",
       "      <td>28.000000</td>\n",
       "      <td>63.000000</td>\n",
       "      <td>4.277000e+03</td>\n",
       "      <td>8.000000</td>\n",
       "      <td>16.000000</td>\n",
       "      <td>8.000000</td>\n",
       "    </tr>\n",
       "    <tr>\n",
       "      <th>75%</th>\n",
       "      <td>111.000000</td>\n",
       "      <td>86.000000</td>\n",
       "      <td>75.000000</td>\n",
       "      <td>78.000000</td>\n",
       "      <td>2.498800e+04</td>\n",
       "      <td>23.000000</td>\n",
       "      <td>44.000000</td>\n",
       "      <td>24.000000</td>\n",
       "    </tr>\n",
       "    <tr>\n",
       "      <th>max</th>\n",
       "      <td>266.000000</td>\n",
       "      <td>100.000000</td>\n",
       "      <td>574.000000</td>\n",
       "      <td>100.000000</td>\n",
       "      <td>3.579764e+07</td>\n",
       "      <td>69.000000</td>\n",
       "      <td>497.000000</td>\n",
       "      <td>303.000000</td>\n",
       "    </tr>\n",
       "  </tbody>\n",
       "</table>\n",
       "</div>"
      ],
      "text/plain": [
       "            runtime  tomatometer_rating  tomatometer_count  audience_rating  \\\n",
       "count  17398.000000        17668.000000       17668.000000     17416.000000   \n",
       "mean     102.214048           60.884763          57.139801        60.554260   \n",
       "std       18.702511           28.443348          68.370047        20.543369   \n",
       "min        5.000000            0.000000           5.000000         0.000000   \n",
       "25%       90.000000           38.000000          12.000000        45.000000   \n",
       "50%       99.000000           67.000000          28.000000        63.000000   \n",
       "75%      111.000000           86.000000          75.000000        78.000000   \n",
       "max      266.000000          100.000000         574.000000       100.000000   \n",
       "\n",
       "       audience_count  tomatometer_top_critics_count  \\\n",
       "count    1.741500e+04                   17712.000000   \n",
       "mean     1.439401e+05                      14.586326   \n",
       "std      1.763577e+06                      15.146349   \n",
       "min      5.000000e+00                       0.000000   \n",
       "25%      7.075000e+02                       3.000000   \n",
       "50%      4.277000e+03                       8.000000   \n",
       "75%      2.498800e+04                      23.000000   \n",
       "max      3.579764e+07                      69.000000   \n",
       "\n",
       "       tomatometer_fresh_critics_count  tomatometer_rotten_critics_count  \n",
       "count                     17712.000000                      17712.000000  \n",
       "mean                         36.374831                         20.703139  \n",
       "std                          52.601038                         30.248435  \n",
       "min                           0.000000                          0.000000  \n",
       "25%                           6.000000                          3.000000  \n",
       "50%                          16.000000                          8.000000  \n",
       "75%                          44.000000                         24.000000  \n",
       "max                         497.000000                        303.000000  "
      ]
     },
     "execution_count": 4,
     "metadata": {},
     "output_type": "execute_result"
    }
   ],
   "source": [
    "# Summary statistics\n",
    "df_movie.describe()"
   ]
  },
  {
   "cell_type": "markdown",
   "id": "dd46cd9d-5a8b-4593-b1e0-6a4d0084dda1",
   "metadata": {},
   "source": [
    "### Data Preprocessing <a id='data-preprocessing'></a>"
   ]
  },
  {
   "cell_type": "code",
   "execution_count": 5,
   "id": "f7a0efba-2226-4208-92c8-239955de5e28",
   "metadata": {},
   "outputs": [
    {
     "name": "stdout",
     "output_type": "stream",
     "text": [
      "Content rating categories: ['PG' 'R' 'NR' 'G' 'PG-13' 'NC17']\n"
     ]
    }
   ],
   "source": [
    "# Check `content_rating` feature\n",
    "print(f'Content rating categories: {df_movie.content_rating.unique()}')"
   ]
  },
  {
   "cell_type": "code",
   "execution_count": 6,
   "id": "2e9847f1-c0cc-4135-8dcf-59028289ebdd",
   "metadata": {},
   "outputs": [
    {
     "data": {
      "text/plain": [
       "[Text(0, 0, '6377'),\n",
       " Text(0, 0, '5474'),\n",
       " Text(0, 0, '2979'),\n",
       " Text(0, 0, '2168'),\n",
       " Text(0, 0, '676'),\n",
       " Text(0, 0, '38')]"
      ]
     },
     "execution_count": 6,
     "metadata": {},
     "output_type": "execute_result"
    },
    {
     "data": {
      "image/png": "[encoded data removed]",
      "text/plain": [
       "<Figure size 1200x900 with 1 Axes>"
      ]
     },
     "metadata": {},
     "output_type": "display_data"
    }
   ],
   "source": [
    "# Plot distribution for each category in `content_rating` feature\n",
    "ax = df_movie['content_rating'].value_counts().plot(kind='bar', figsize=(12, 9))\n",
    "ax.bar_label(ax.containers[0])"
   ]
  },
  {
   "cell_type": "code",
   "execution_count": 7,
   "id": "1ce0db9f-96ba-468f-8f4f-7e493d4aa383",
   "metadata": {},
   "outputs": [
    {
     "data": {
      "text/html": [
       "<div>\n",
       "<style scoped>\n",
       "    .dataframe tbody tr th:only-of-type {\n",
       "        vertical-align: middle;\n",
       "    }\n",
       "\n",
       "    .dataframe tbody tr th {\n",
       "        vertical-align: top;\n",
       "    }\n",
       "\n",
       "    .dataframe thead th {\n",
       "        text-align: right;\n",
       "    }\n",
       "</style>\n",
       "<table border=\"1\" class=\"dataframe\">\n",
       "  <thead>\n",
       "    <tr style=\"text-align: right;\">\n",
       "      <th></th>\n",
       "      <th>G</th>\n",
       "      <th>NC17</th>\n",
       "      <th>NR</th>\n",
       "      <th>PG</th>\n",
       "      <th>PG-13</th>\n",
       "      <th>R</th>\n",
       "    </tr>\n",
       "  </thead>\n",
       "  <tbody>\n",
       "    <tr>\n",
       "      <th>0</th>\n",
       "      <td>0</td>\n",
       "      <td>0</td>\n",
       "      <td>0</td>\n",
       "      <td>1</td>\n",
       "      <td>0</td>\n",
       "      <td>0</td>\n",
       "    </tr>\n",
       "    <tr>\n",
       "      <th>1</th>\n",
       "      <td>0</td>\n",
       "      <td>0</td>\n",
       "      <td>0</td>\n",
       "      <td>0</td>\n",
       "      <td>0</td>\n",
       "      <td>1</td>\n",
       "    </tr>\n",
       "    <tr>\n",
       "      <th>2</th>\n",
       "      <td>0</td>\n",
       "      <td>0</td>\n",
       "      <td>0</td>\n",
       "      <td>0</td>\n",
       "      <td>0</td>\n",
       "      <td>1</td>\n",
       "    </tr>\n",
       "    <tr>\n",
       "      <th>3</th>\n",
       "      <td>0</td>\n",
       "      <td>0</td>\n",
       "      <td>1</td>\n",
       "      <td>0</td>\n",
       "      <td>0</td>\n",
       "      <td>0</td>\n",
       "    </tr>\n",
       "    <tr>\n",
       "      <th>4</th>\n",
       "      <td>1</td>\n",
       "      <td>0</td>\n",
       "      <td>0</td>\n",
       "      <td>0</td>\n",
       "      <td>0</td>\n",
       "      <td>0</td>\n",
       "    </tr>\n",
       "  </tbody>\n",
       "</table>\n",
       "</div>"
      ],
      "text/plain": [
       "   G  NC17  NR  PG  PG-13  R\n",
       "0  0     0   0   1      0  0\n",
       "1  0     0   0   0      0  1\n",
       "2  0     0   0   0      0  1\n",
       "3  0     0   1   0      0  0\n",
       "4  1     0   0   0      0  0"
      ]
     },
     "execution_count": 7,
     "metadata": {},
     "output_type": "execute_result"
    }
   ],
   "source": [
    "# One hot encoding `content_rating` feature\n",
    "content_rating = pd.get_dummies(df_movie['content_rating'], dtype='int')\n",
    "content_rating.head()"
   ]
  },
  {
   "cell_type": "code",
   "execution_count": 8,
   "id": "445fcd76-f531-4966-9d3e-3ec71e2ecaa3",
   "metadata": {},
   "outputs": [
    {
     "name": "stdout",
     "output_type": "stream",
     "text": [
      "Audience status categories: ['Spilled' 'Upright' nan]\n"
     ]
    }
   ],
   "source": [
    "# Check `audience_status` feature\n",
    "print(f'Audience status categories: {df_movie.audience_status.unique()}')"
   ]
  },
  {
   "cell_type": "code",
   "execution_count": 9,
   "id": "7965b76d-599e-4f3b-803b-83c0f3b06e09",
   "metadata": {},
   "outputs": [
    {
     "data": {
      "text/plain": [
       "[Text(0, 0, '9390'), Text(0, 0, '7874')]"
      ]
     },
     "execution_count": 9,
     "metadata": {},
     "output_type": "execute_result"
    },
    {
     "data": {
      "image/png": "[encoded data removed]",
      "text/plain": [
       "<Figure size 1200x900 with 1 Axes>"
      ]
     },
     "metadata": {},
     "output_type": "display_data"
    }
   ],
   "source": [
    "# Plot distribution for categories in `audience_status` feature\n",
    "ax = df_movie['audience_status'].value_counts().plot(kind='bar', figsize=(12, 9))\n",
    "ax.bar_label(ax.containers[0])"
   ]
  },
  {
   "cell_type": "code",
   "execution_count": 10,
   "id": "d0fe5133-d839-4ddd-9081-9439825181c0",
   "metadata": {},
   "outputs": [
    {
     "data": {
      "text/html": [
       "<div>\n",
       "<style scoped>\n",
       "    .dataframe tbody tr th:only-of-type {\n",
       "        vertical-align: middle;\n",
       "    }\n",
       "\n",
       "    .dataframe tbody tr th {\n",
       "        vertical-align: top;\n",
       "    }\n",
       "\n",
       "    .dataframe thead th {\n",
       "        text-align: right;\n",
       "    }\n",
       "</style>\n",
       "<table border=\"1\" class=\"dataframe\">\n",
       "  <thead>\n",
       "    <tr style=\"text-align: right;\">\n",
       "      <th></th>\n",
       "      <th>audience_status</th>\n",
       "    </tr>\n",
       "  </thead>\n",
       "  <tbody>\n",
       "    <tr>\n",
       "      <th>0</th>\n",
       "      <td>0.0</td>\n",
       "    </tr>\n",
       "    <tr>\n",
       "      <th>1</th>\n",
       "      <td>1.0</td>\n",
       "    </tr>\n",
       "    <tr>\n",
       "      <th>2</th>\n",
       "      <td>0.0</td>\n",
       "    </tr>\n",
       "    <tr>\n",
       "      <th>3</th>\n",
       "      <td>1.0</td>\n",
       "    </tr>\n",
       "    <tr>\n",
       "      <th>4</th>\n",
       "      <td>1.0</td>\n",
       "    </tr>\n",
       "  </tbody>\n",
       "</table>\n",
       "</div>"
      ],
      "text/plain": [
       "   audience_status\n",
       "0              0.0\n",
       "1              1.0\n",
       "2              0.0\n",
       "3              1.0\n",
       "4              1.0"
      ]
     },
     "execution_count": 10,
     "metadata": {},
     "output_type": "execute_result"
    }
   ],
   "source": [
    "# Encode `audience status` feature with ordinal encoding\n",
    "audience_status = pd.DataFrame(df_movie['audience_status'].replace(to_replace=['Spilled', 'Upright'], value=[0, 1]))\n",
    "audience_status.head()"
   ]
  },
  {
   "cell_type": "code",
   "execution_count": 11,
   "id": "d6e1bc47-52cb-4971-b4d0-4dc3259df4e9",
   "metadata": {},
   "outputs": [
    {
     "name": "stdout",
     "output_type": "stream",
     "text": [
      "Tomatometer status categories: ['Rotten' 'Certified-Fresh' 'Fresh' nan]\n"
     ]
    }
   ],
   "source": [
    "# Check `tomatometer_status` feature\n",
    "print(f'Tomatometer status categories: {df_movie.tomatometer_status.unique()}')"
   ]
  },
  {
   "cell_type": "code",
   "execution_count": 12,
   "id": "8cb1c2e1-60a2-4588-b3ee-bb844d2a778b",
   "metadata": {},
   "outputs": [
    {
     "data": {
      "text/html": [
       "<div>\n",
       "<style scoped>\n",
       "    .dataframe tbody tr th:only-of-type {\n",
       "        vertical-align: middle;\n",
       "    }\n",
       "\n",
       "    .dataframe tbody tr th {\n",
       "        vertical-align: top;\n",
       "    }\n",
       "\n",
       "    .dataframe thead th {\n",
       "        text-align: right;\n",
       "    }\n",
       "</style>\n",
       "<table border=\"1\" class=\"dataframe\">\n",
       "  <thead>\n",
       "    <tr style=\"text-align: right;\">\n",
       "      <th></th>\n",
       "      <th>tomatometer_status</th>\n",
       "    </tr>\n",
       "  </thead>\n",
       "  <tbody>\n",
       "    <tr>\n",
       "      <th>0</th>\n",
       "      <td>0.0</td>\n",
       "    </tr>\n",
       "    <tr>\n",
       "      <th>1</th>\n",
       "      <td>2.0</td>\n",
       "    </tr>\n",
       "    <tr>\n",
       "      <th>2</th>\n",
       "      <td>1.0</td>\n",
       "    </tr>\n",
       "    <tr>\n",
       "      <th>3</th>\n",
       "      <td>2.0</td>\n",
       "    </tr>\n",
       "    <tr>\n",
       "      <th>4</th>\n",
       "      <td>1.0</td>\n",
       "    </tr>\n",
       "  </tbody>\n",
       "</table>\n",
       "</div>"
      ],
      "text/plain": [
       "   tomatometer_status\n",
       "0                 0.0\n",
       "1                 2.0\n",
       "2                 1.0\n",
       "3                 2.0\n",
       "4                 1.0"
      ]
     },
     "execution_count": 12,
     "metadata": {},
     "output_type": "execute_result"
    }
   ],
   "source": [
    "# Encode `tomatometer_status` feature with ordinal encoding\n",
    "tomatometer_status = pd.DataFrame(df_movie['tomatometer_status'].replace(to_replace=['Rotten', 'Fresh', 'Certified-Fresh'], value=[0, 1, 2]))\n",
    "tomatometer_status.head()"
   ]
  },
  {
   "cell_type": "code",
   "execution_count": 13,
   "id": "a74811e2-4979-49dc-abc4-b87a7b15db41",
   "metadata": {},
   "outputs": [
    {
     "data": {
      "text/html": [
       "<div>\n",
       "<style scoped>\n",
       "    .dataframe tbody tr th:only-of-type {\n",
       "        vertical-align: middle;\n",
       "    }\n",
       "\n",
       "    .dataframe tbody tr th {\n",
       "        vertical-align: top;\n",
       "    }\n",
       "\n",
       "    .dataframe thead th {\n",
       "        text-align: right;\n",
       "    }\n",
       "</style>\n",
       "<table border=\"1\" class=\"dataframe\">\n",
       "  <thead>\n",
       "    <tr style=\"text-align: right;\">\n",
       "      <th></th>\n",
       "      <th>runtime</th>\n",
       "      <th>tomatometer_rating</th>\n",
       "      <th>tomatometer_count</th>\n",
       "      <th>audience_rating</th>\n",
       "      <th>audience_count</th>\n",
       "      <th>tomatometer_top_critics_count</th>\n",
       "      <th>tomatometer_fresh_critics_count</th>\n",
       "      <th>tomatometer_rotten_critics_count</th>\n",
       "      <th>G</th>\n",
       "      <th>NC17</th>\n",
       "      <th>NR</th>\n",
       "      <th>PG</th>\n",
       "      <th>PG-13</th>\n",
       "      <th>R</th>\n",
       "      <th>audience_status</th>\n",
       "      <th>tomatometer_status</th>\n",
       "    </tr>\n",
       "  </thead>\n",
       "  <tbody>\n",
       "    <tr>\n",
       "      <th>0</th>\n",
       "      <td>119.0</td>\n",
       "      <td>49.0</td>\n",
       "      <td>149.0</td>\n",
       "      <td>53.0</td>\n",
       "      <td>254421.0</td>\n",
       "      <td>43</td>\n",
       "      <td>73</td>\n",
       "      <td>76</td>\n",
       "      <td>0</td>\n",
       "      <td>0</td>\n",
       "      <td>0</td>\n",
       "      <td>1</td>\n",
       "      <td>0</td>\n",
       "      <td>0</td>\n",
       "      <td>0.0</td>\n",
       "      <td>0.0</td>\n",
       "    </tr>\n",
       "    <tr>\n",
       "      <th>1</th>\n",
       "      <td>90.0</td>\n",
       "      <td>87.0</td>\n",
       "      <td>142.0</td>\n",
       "      <td>64.0</td>\n",
       "      <td>11574.0</td>\n",
       "      <td>44</td>\n",
       "      <td>123</td>\n",
       "      <td>19</td>\n",
       "      <td>0</td>\n",
       "      <td>0</td>\n",
       "      <td>0</td>\n",
       "      <td>0</td>\n",
       "      <td>0</td>\n",
       "      <td>1</td>\n",
       "      <td>1.0</td>\n",
       "      <td>2.0</td>\n",
       "    </tr>\n",
       "    <tr>\n",
       "      <th>2</th>\n",
       "      <td>122.0</td>\n",
       "      <td>67.0</td>\n",
       "      <td>24.0</td>\n",
       "      <td>53.0</td>\n",
       "      <td>14684.0</td>\n",
       "      <td>2</td>\n",
       "      <td>16</td>\n",
       "      <td>8</td>\n",
       "      <td>0</td>\n",
       "      <td>0</td>\n",
       "      <td>0</td>\n",
       "      <td>0</td>\n",
       "      <td>0</td>\n",
       "      <td>1</td>\n",
       "      <td>0.0</td>\n",
       "      <td>1.0</td>\n",
       "    </tr>\n",
       "    <tr>\n",
       "      <th>3</th>\n",
       "      <td>95.0</td>\n",
       "      <td>100.0</td>\n",
       "      <td>54.0</td>\n",
       "      <td>97.0</td>\n",
       "      <td>105386.0</td>\n",
       "      <td>6</td>\n",
       "      <td>54</td>\n",
       "      <td>0</td>\n",
       "      <td>0</td>\n",
       "      <td>0</td>\n",
       "      <td>1</td>\n",
       "      <td>0</td>\n",
       "      <td>0</td>\n",
       "      <td>0</td>\n",
       "      <td>1.0</td>\n",
       "      <td>2.0</td>\n",
       "    </tr>\n",
       "    <tr>\n",
       "      <th>4</th>\n",
       "      <td>127.0</td>\n",
       "      <td>89.0</td>\n",
       "      <td>27.0</td>\n",
       "      <td>74.0</td>\n",
       "      <td>68918.0</td>\n",
       "      <td>5</td>\n",
       "      <td>24</td>\n",
       "      <td>3</td>\n",
       "      <td>1</td>\n",
       "      <td>0</td>\n",
       "      <td>0</td>\n",
       "      <td>0</td>\n",
       "      <td>0</td>\n",
       "      <td>0</td>\n",
       "      <td>1.0</td>\n",
       "      <td>1.0</td>\n",
       "    </tr>\n",
       "  </tbody>\n",
       "</table>\n",
       "</div>"
      ],
      "text/plain": [
       "   runtime  tomatometer_rating  tomatometer_count  audience_rating  \\\n",
       "0    119.0                49.0              149.0             53.0   \n",
       "1     90.0                87.0              142.0             64.0   \n",
       "2    122.0                67.0               24.0             53.0   \n",
       "3     95.0               100.0               54.0             97.0   \n",
       "4    127.0                89.0               27.0             74.0   \n",
       "\n",
       "   audience_count  tomatometer_top_critics_count  \\\n",
       "0        254421.0                             43   \n",
       "1         11574.0                             44   \n",
       "2         14684.0                              2   \n",
       "3        105386.0                              6   \n",
       "4         68918.0                              5   \n",
       "\n",
       "   tomatometer_fresh_critics_count  tomatometer_rotten_critics_count  G  NC17  \\\n",
       "0                               73                                76  0     0   \n",
       "1                              123                                19  0     0   \n",
       "2                               16                                 8  0     0   \n",
       "3                               54                                 0  0     0   \n",
       "4                               24                                 3  1     0   \n",
       "\n",
       "   NR  PG  PG-13  R  audience_status  tomatometer_status  \n",
       "0   0   1      0  0              0.0                 0.0  \n",
       "1   0   0      0  1              1.0                 2.0  \n",
       "2   0   0      0  1              0.0                 1.0  \n",
       "3   1   0      0  0              1.0                 2.0  \n",
       "4   0   0      0  0              1.0                 1.0  "
      ]
     },
     "execution_count": 13,
     "metadata": {},
     "output_type": "execute_result"
    }
   ],
   "source": [
    "# Concatenate all features into one DataFrame\n",
    "df_feature = pd.concat(objs=[df_movie[['runtime', 'tomatometer_rating', 'tomatometer_count', 'audience_rating', 'audience_count', 'tomatometer_top_critics_count', 'tomatometer_fresh_critics_count', 'tomatometer_rotten_critics_count']],\n",
    "                            content_rating, audience_status, tomatometer_status], axis=1).dropna()\n",
    "df_feature.head()"
   ]
  },
  {
   "cell_type": "code",
   "execution_count": 14,
   "id": "64b638c0-335e-4956-9b79-c6c9ac9a822d",
   "metadata": {},
   "outputs": [
    {
     "data": {
      "text/html": [
       "<div>\n",
       "<style scoped>\n",
       "    .dataframe tbody tr th:only-of-type {\n",
       "        vertical-align: middle;\n",
       "    }\n",
       "\n",
       "    .dataframe tbody tr th {\n",
       "        vertical-align: top;\n",
       "    }\n",
       "\n",
       "    .dataframe thead th {\n",
       "        text-align: right;\n",
       "    }\n",
       "</style>\n",
       "<table border=\"1\" class=\"dataframe\">\n",
       "  <thead>\n",
       "    <tr style=\"text-align: right;\">\n",
       "      <th></th>\n",
       "      <th>runtime</th>\n",
       "      <th>tomatometer_rating</th>\n",
       "      <th>tomatometer_count</th>\n",
       "      <th>audience_rating</th>\n",
       "      <th>audience_count</th>\n",
       "      <th>tomatometer_top_critics_count</th>\n",
       "      <th>tomatometer_fresh_critics_count</th>\n",
       "      <th>tomatometer_rotten_critics_count</th>\n",
       "      <th>G</th>\n",
       "      <th>NC17</th>\n",
       "      <th>NR</th>\n",
       "      <th>PG</th>\n",
       "      <th>PG-13</th>\n",
       "      <th>R</th>\n",
       "      <th>audience_status</th>\n",
       "      <th>tomatometer_status</th>\n",
       "    </tr>\n",
       "  </thead>\n",
       "  <tbody>\n",
       "    <tr>\n",
       "      <th>count</th>\n",
       "      <td>17017.000000</td>\n",
       "      <td>17017.000000</td>\n",
       "      <td>17017.000000</td>\n",
       "      <td>17017.000000</td>\n",
       "      <td>1.701700e+04</td>\n",
       "      <td>17017.000000</td>\n",
       "      <td>17017.000000</td>\n",
       "      <td>17017.000000</td>\n",
       "      <td>17017.000000</td>\n",
       "      <td>17017.000000</td>\n",
       "      <td>17017.000000</td>\n",
       "      <td>17017.000000</td>\n",
       "      <td>17017.000000</td>\n",
       "      <td>17017.000000</td>\n",
       "      <td>17017.000000</td>\n",
       "      <td>17017.000000</td>\n",
       "    </tr>\n",
       "    <tr>\n",
       "      <th>mean</th>\n",
       "      <td>102.296233</td>\n",
       "      <td>60.519539</td>\n",
       "      <td>57.097197</td>\n",
       "      <td>60.324499</td>\n",
       "      <td>1.471183e+05</td>\n",
       "      <td>14.765999</td>\n",
       "      <td>36.237292</td>\n",
       "      <td>20.871188</td>\n",
       "      <td>0.039314</td>\n",
       "      <td>0.002174</td>\n",
       "      <td>0.294940</td>\n",
       "      <td>0.124993</td>\n",
       "      <td>0.171593</td>\n",
       "      <td>0.366986</td>\n",
       "      <td>0.542928</td>\n",
       "      <td>0.752718</td>\n",
       "    </tr>\n",
       "    <tr>\n",
       "      <th>std</th>\n",
       "      <td>18.653649</td>\n",
       "      <td>28.436397</td>\n",
       "      <td>66.814580</td>\n",
       "      <td>20.480600</td>\n",
       "      <td>1.783955e+06</td>\n",
       "      <td>15.172256</td>\n",
       "      <td>51.362454</td>\n",
       "      <td>29.978900</td>\n",
       "      <td>0.194346</td>\n",
       "      <td>0.046580</td>\n",
       "      <td>0.456029</td>\n",
       "      <td>0.330720</td>\n",
       "      <td>0.377037</td>\n",
       "      <td>0.481997</td>\n",
       "      <td>0.498168</td>\n",
       "      <td>0.747250</td>\n",
       "    </tr>\n",
       "    <tr>\n",
       "      <th>min</th>\n",
       "      <td>5.000000</td>\n",
       "      <td>0.000000</td>\n",
       "      <td>5.000000</td>\n",
       "      <td>0.000000</td>\n",
       "      <td>5.000000e+00</td>\n",
       "      <td>0.000000</td>\n",
       "      <td>0.000000</td>\n",
       "      <td>0.000000</td>\n",
       "      <td>0.000000</td>\n",
       "      <td>0.000000</td>\n",
       "      <td>0.000000</td>\n",
       "      <td>0.000000</td>\n",
       "      <td>0.000000</td>\n",
       "      <td>0.000000</td>\n",
       "      <td>0.000000</td>\n",
       "      <td>0.000000</td>\n",
       "    </tr>\n",
       "    <tr>\n",
       "      <th>25%</th>\n",
       "      <td>90.000000</td>\n",
       "      <td>38.000000</td>\n",
       "      <td>12.000000</td>\n",
       "      <td>44.000000</td>\n",
       "      <td>7.410000e+02</td>\n",
       "      <td>3.000000</td>\n",
       "      <td>6.000000</td>\n",
       "      <td>3.000000</td>\n",
       "      <td>0.000000</td>\n",
       "      <td>0.000000</td>\n",
       "      <td>0.000000</td>\n",
       "      <td>0.000000</td>\n",
       "      <td>0.000000</td>\n",
       "      <td>0.000000</td>\n",
       "      <td>0.000000</td>\n",
       "      <td>0.000000</td>\n",
       "    </tr>\n",
       "    <tr>\n",
       "      <th>50%</th>\n",
       "      <td>99.000000</td>\n",
       "      <td>66.000000</td>\n",
       "      <td>29.000000</td>\n",
       "      <td>62.000000</td>\n",
       "      <td>4.423000e+03</td>\n",
       "      <td>8.000000</td>\n",
       "      <td>17.000000</td>\n",
       "      <td>8.000000</td>\n",
       "      <td>0.000000</td>\n",
       "      <td>0.000000</td>\n",
       "      <td>0.000000</td>\n",
       "      <td>0.000000</td>\n",
       "      <td>0.000000</td>\n",
       "      <td>0.000000</td>\n",
       "      <td>1.000000</td>\n",
       "      <td>1.000000</td>\n",
       "    </tr>\n",
       "    <tr>\n",
       "      <th>75%</th>\n",
       "      <td>111.000000</td>\n",
       "      <td>86.000000</td>\n",
       "      <td>76.000000</td>\n",
       "      <td>77.000000</td>\n",
       "      <td>2.606700e+04</td>\n",
       "      <td>23.000000</td>\n",
       "      <td>44.000000</td>\n",
       "      <td>24.000000</td>\n",
       "      <td>0.000000</td>\n",
       "      <td>0.000000</td>\n",
       "      <td>1.000000</td>\n",
       "      <td>0.000000</td>\n",
       "      <td>0.000000</td>\n",
       "      <td>1.000000</td>\n",
       "      <td>1.000000</td>\n",
       "      <td>1.000000</td>\n",
       "    </tr>\n",
       "    <tr>\n",
       "      <th>max</th>\n",
       "      <td>266.000000</td>\n",
       "      <td>100.000000</td>\n",
       "      <td>535.000000</td>\n",
       "      <td>100.000000</td>\n",
       "      <td>3.579764e+07</td>\n",
       "      <td>69.000000</td>\n",
       "      <td>497.000000</td>\n",
       "      <td>303.000000</td>\n",
       "      <td>1.000000</td>\n",
       "      <td>1.000000</td>\n",
       "      <td>1.000000</td>\n",
       "      <td>1.000000</td>\n",
       "      <td>1.000000</td>\n",
       "      <td>1.000000</td>\n",
       "      <td>1.000000</td>\n",
       "      <td>2.000000</td>\n",
       "    </tr>\n",
       "  </tbody>\n",
       "</table>\n",
       "</div>"
      ],
      "text/plain": [
       "            runtime  tomatometer_rating  tomatometer_count  audience_rating  \\\n",
       "count  17017.000000        17017.000000       17017.000000     17017.000000   \n",
       "mean     102.296233           60.519539          57.097197        60.324499   \n",
       "std       18.653649           28.436397          66.814580        20.480600   \n",
       "min        5.000000            0.000000           5.000000         0.000000   \n",
       "25%       90.000000           38.000000          12.000000        44.000000   \n",
       "50%       99.000000           66.000000          29.000000        62.000000   \n",
       "75%      111.000000           86.000000          76.000000        77.000000   \n",
       "max      266.000000          100.000000         535.000000       100.000000   \n",
       "\n",
       "       audience_count  tomatometer_top_critics_count  \\\n",
       "count    1.701700e+04                   17017.000000   \n",
       "mean     1.471183e+05                      14.765999   \n",
       "std      1.783955e+06                      15.172256   \n",
       "min      5.000000e+00                       0.000000   \n",
       "25%      7.410000e+02                       3.000000   \n",
       "50%      4.423000e+03                       8.000000   \n",
       "75%      2.606700e+04                      23.000000   \n",
       "max      3.579764e+07                      69.000000   \n",
       "\n",
       "       tomatometer_fresh_critics_count  tomatometer_rotten_critics_count  \\\n",
       "count                     17017.000000                      17017.000000   \n",
       "mean                         36.237292                         20.871188   \n",
       "std                          51.362454                         29.978900   \n",
       "min                           0.000000                          0.000000   \n",
       "25%                           6.000000                          3.000000   \n",
       "50%                          17.000000                          8.000000   \n",
       "75%                          44.000000                         24.000000   \n",
       "max                         497.000000                        303.000000   \n",
       "\n",
       "                  G          NC17            NR            PG         PG-13  \\\n",
       "count  17017.000000  17017.000000  17017.000000  17017.000000  17017.000000   \n",
       "mean       0.039314      0.002174      0.294940      0.124993      0.171593   \n",
       "std        0.194346      0.046580      0.456029      0.330720      0.377037   \n",
       "min        0.000000      0.000000      0.000000      0.000000      0.000000   \n",
       "25%        0.000000      0.000000      0.000000      0.000000      0.000000   \n",
       "50%        0.000000      0.000000      0.000000      0.000000      0.000000   \n",
       "75%        0.000000      0.000000      1.000000      0.000000      0.000000   \n",
       "max        1.000000      1.000000      1.000000      1.000000      1.000000   \n",
       "\n",
       "                  R  audience_status  tomatometer_status  \n",
       "count  17017.000000     17017.000000        17017.000000  \n",
       "mean       0.366986         0.542928            0.752718  \n",
       "std        0.481997         0.498168            0.747250  \n",
       "min        0.000000         0.000000            0.000000  \n",
       "25%        0.000000         0.000000            0.000000  \n",
       "50%        0.000000         1.000000            1.000000  \n",
       "75%        1.000000         1.000000            1.000000  \n",
       "max        1.000000         1.000000            2.000000  "
      ]
     },
     "execution_count": 14,
     "metadata": {},
     "output_type": "execute_result"
    }
   ],
   "source": [
    "# Summary statistics\n",
    "df_feature.describe()"
   ]
  },
  {
   "cell_type": "code",
   "execution_count": 15,
   "id": "52401ad6-6d00-4c3b-8d23-5fe2acffaec1",
   "metadata": {},
   "outputs": [
    {
     "data": {
      "text/plain": [
       "[Text(0, 0, '7375'), Text(0, 0, '6475'), Text(0, 0, '3167')]"
      ]
     },
     "execution_count": 15,
     "metadata": {},
     "output_type": "execute_result"
    },
    {
     "data": {
      "image/png": "[encoded data removed]",
      "text/plain": [
       "<Figure size 1200x900 with 1 Axes>"
      ]
     },
     "metadata": {},
     "output_type": "display_data"
    }
   ],
   "source": [
    "# Plot distribution for categories in `tomatometer_status`, target variable\n",
    "ax = df_feature['tomatometer_status'].value_counts().plot(kind='bar', figsize=(12, 9))\n",
    "ax.bar_label(ax.containers[0])"
   ]
  },
  {
   "cell_type": "code",
   "execution_count": 16,
   "id": "108cb140-68c6-48ca-886c-b3d9bffbfcbd",
   "metadata": {},
   "outputs": [
    {
     "name": "stdout",
     "output_type": "stream",
     "text": [
      "Size of training data: 13613 rows\n",
      "Size of test data: 3404 rows\n"
     ]
    }
   ],
   "source": [
    "# Split data into training and test data\n",
    "X_train, X_test, y_train, y_test = train_test_split(df_feature.drop(columns='tomatometer_status'), df_feature['tomatometer_status'], test_size=0.2, random_state=42)\n",
    "print(f'Size of training data: {len(X_train)} rows')\n",
    "print(f'Size of test data: {len(X_test)} rows')"
   ]
  },
  {
   "cell_type": "markdown",
   "id": "e035b1eb-0312-4f1e-ad77-da95ab9233ed",
   "metadata": {},
   "source": [
    "### Decision Tree Classifier: Limited to Three Leaf Nodes <a id='decision-tree-three-leaf'></a>"
   ]
  },
  {
   "cell_type": "code",
   "execution_count": 17,
   "id": "be106054-621d-4569-805f-3550f4a10d10",
   "metadata": {},
   "outputs": [
    {
     "name": "stdout",
     "output_type": "stream",
     "text": [
      "Accuracy score: 0.9462397179788484\n",
      "              precision    recall  f1-score   support\n",
      "\n",
      "         0.0       1.00      1.00      1.00      1488\n",
      "         1.0       0.97      0.88      0.93      1286\n",
      "         2.0       0.80      0.95      0.87       630\n",
      "\n",
      "    accuracy                           0.95      3404\n",
      "   macro avg       0.92      0.94      0.93      3404\n",
      "weighted avg       0.95      0.95      0.95      3404\n",
      "\n"
     ]
    }
   ],
   "source": [
    "# Initiate Decision Tree Classifier with max leaf nodes at 3\n",
    "tree_3_leaf = DecisionTreeClassifier(max_leaf_nodes=3, random_state=2)\n",
    "\n",
    "# Train classifier on training data\n",
    "tree_3_leaf.fit(X_train, y_train)\n",
    "\n",
    "# Make predictions with test data\n",
    "y_predict = tree_3_leaf.predict(X_test)\n",
    "\n",
    "# Print accuracy and classification report on test data\n",
    "print(f'Accuracy score: {accuracy_score(y_test, y_predict)}')\n",
    "print(classification_report(y_test, y_predict))"
   ]
  },
  {
   "cell_type": "code",
   "execution_count": 18,
   "id": "740b1aba-b427-43f1-a786-b1c51fe45831",
   "metadata": {},
   "outputs": [
    {
     "data": {
      "image/png": "[encoded data removed]",
      "text/plain": [
       "<Figure size 1200x900 with 2 Axes>"
      ]
     },
     "metadata": {},
     "output_type": "display_data"
    }
   ],
   "source": [
    "# Plot confusion matrix on test data\n",
    "cm = confusion_matrix(y_test, y_predict, labels=tree_3_leaf.classes_)\n",
    "fig, ax = plt.subplots(figsize=(12, 9))\n",
    "disp = ConfusionMatrixDisplay(confusion_matrix=cm, display_labels=tree_3_leaf.classes_)\n",
    "disp.plot(ax=ax, cmap='cividis')\n",
    "plt.show()"
   ]
  },
  {
   "cell_type": "code",
   "execution_count": 19,
   "id": "d7f2f92b-844b-430e-95ae-cbda94766e7f",
   "metadata": {},
   "outputs": [
    {
     "data": {
      "image/png": "[encoded data removed]",
      "text/plain": [
       "<Figure size 1200x900 with 1 Axes>"
      ]
     },
     "metadata": {},
     "output_type": "display_data"
    }
   ],
   "source": [
    "# Plot decision logic of decision tree model\n",
    "fig, ax = plt.subplots(figsize=(12, 9))\n",
    "plot_tree(tree_3_leaf, ax=ax)\n",
    "plt.show()"
   ]
  },
  {
   "cell_type": "markdown",
   "id": "22192ca9-fe19-4af9-906c-7b145c9930f1",
   "metadata": {},
   "source": [
    "### Decision Tree Classifier: Unlimited Leaf Nodes <a id='decision-tree-unlimited'></a>"
   ]
  },
  {
   "cell_type": "code",
   "execution_count": 20,
   "id": "50415806-eeea-4eb8-a8c6-55e9bb3f637f",
   "metadata": {},
   "outputs": [
    {
     "name": "stdout",
     "output_type": "stream",
     "text": [
      "Accuracy score: 0.9900117508813161\n",
      "              precision    recall  f1-score   support\n",
      "\n",
      "         0.0       1.00      1.00      1.00      1488\n",
      "         1.0       0.99      0.99      0.99      1286\n",
      "         2.0       0.97      0.97      0.97       630\n",
      "\n",
      "    accuracy                           0.99      3404\n",
      "   macro avg       0.99      0.99      0.99      3404\n",
      "weighted avg       0.99      0.99      0.99      3404\n",
      "\n"
     ]
    }
   ],
   "source": [
    "# Initiate Decision Tree Classifier with default hyperparameter settings\n",
    "tree = DecisionTreeClassifier(random_state=2)\n",
    "\n",
    "# Train classifier on training data\n",
    "tree.fit(X_train, y_train)\n",
    "\n",
    "# Make predictions with test data\n",
    "y_predict = tree.predict(X_test)\n",
    "\n",
    "# Print accuracy and classification report on test data\n",
    "print(f'Accuracy score: {accuracy_score(y_test, y_predict)}')\n",
    "print(classification_report(y_test, y_predict))"
   ]
  },
  {
   "cell_type": "code",
   "execution_count": 21,
   "id": "5f9516b3-2ce6-4c4a-826f-5ebbb4239692",
   "metadata": {},
   "outputs": [
    {
     "data": {
      "image/png": "[encoded data removed]",
      "text/plain": [
       "<Figure size 1200x900 with 2 Axes>"
      ]
     },
     "metadata": {},
     "output_type": "display_data"
    }
   ],
   "source": [
    "# Plot confusion matrix on test data\n",
    "cm = confusion_matrix(y_test, y_predict, labels=tree.classes_)\n",
    "fig, ax = plt.subplots(figsize=(12, 9))\n",
    "disp = ConfusionMatrixDisplay(confusion_matrix=cm, display_labels=tree.classes_)\n",
    "disp.plot(ax=ax, cmap='cividis')\n",
    "plt.show()"
   ]
  },
  {
   "cell_type": "markdown",
   "id": "63a7518e-da09-4396-8a1c-ca6a36425304",
   "metadata": {},
   "source": [
    "### Random Forest Classifier <a id='random-forest'></a>"
   ]
  },
  {
   "cell_type": "code",
   "execution_count": 22,
   "id": "de567f4b-a9f5-41cb-8270-6bea04692779",
   "metadata": {},
   "outputs": [
    {
     "name": "stdout",
     "output_type": "stream",
     "text": [
      "Accuracy score: 0.9908930669800236\n",
      "              precision    recall  f1-score   support\n",
      "\n",
      "         0.0       1.00      1.00      1.00      1488\n",
      "         1.0       0.99      0.99      0.99      1286\n",
      "         2.0       0.98      0.97      0.98       630\n",
      "\n",
      "    accuracy                           0.99      3404\n",
      "   macro avg       0.99      0.99      0.99      3404\n",
      "weighted avg       0.99      0.99      0.99      3404\n",
      "\n"
     ]
    }
   ],
   "source": [
    "# Initiate Random Forest Classifier\n",
    "rf = RandomForestClassifier(random_state=2)\n",
    "\n",
    "# Train classifier on training data\n",
    "rf.fit(X_train, y_train)\n",
    "\n",
    "# Make predictions with test data\n",
    "y_predict = rf.predict(X_test)\n",
    "\n",
    "# Print accuracy and classification report on test data\n",
    "print(f'Accuracy score: {accuracy_score(y_test, y_predict)}')\n",
    "print(classification_report(y_test, y_predict))"
   ]
  },
  {
   "cell_type": "code",
   "execution_count": 23,
   "id": "2429993d-0585-4c2d-b42e-9062d3452b24",
   "metadata": {},
   "outputs": [
    {
     "data": {
      "image/png": "[encoded data removed]",
      "text/plain": [
       "<Figure size 1200x900 with 2 Axes>"
      ]
     },
     "metadata": {},
     "output_type": "display_data"
    }
   ],
   "source": [
    "# Plot confusion matrix on test data\n",
    "cm = confusion_matrix(y_test, y_predict, labels=rf.classes_)\n",
    "fig, ax = plt.subplots(figsize=(12, 9))\n",
    "disp = ConfusionMatrixDisplay(confusion_matrix=cm, display_labels=rf.classes_)\n",
    "disp.plot(ax=ax, cmap='cividis')\n",
    "plt.show()"
   ]
  },
  {
   "cell_type": "code",
   "execution_count": 24,
   "id": "4bef231f-ba46-4a74-abb4-41a34d0b8d40",
   "metadata": {},
   "outputs": [
    {
     "name": "stdout",
     "output_type": "stream",
     "text": [
      "runtime = 0.0061295693480302215\n",
      "tomatometer_rating = 0.4751025864067028\n",
      "tomatometer_count = 0.09895425717250429\n",
      "audience_rating = 0.05389101976402856\n",
      "audience_count = 0.016289896938110955\n",
      "tomatometer_top_critics_count = 0.03605739578773787\n",
      "tomatometer_fresh_critics_count = 0.14158242877024638\n",
      "tomatometer_rotten_critics_count = 0.1314030539462201\n",
      "G = 0.00029824734631526663\n",
      "NC17 = 1.7090610669550172e-05\n",
      "NR = 0.008710731204885382\n",
      "PG = 0.0005762363713202383\n",
      "PG-13 = 0.002531466583040527\n",
      "R = 0.0022318936876928337\n",
      "audience_status = 0.026224126062495294\n"
     ]
    }
   ],
   "source": [
    "# Get feature importance\n",
    "feature_importance = rf.feature_importances_\n",
    "\n",
    "# Print feature importance\n",
    "for feature, importance in zip(X_train.columns, feature_importance):\n",
    "    print(f'{feature} = {importance}')"
   ]
  },
  {
   "cell_type": "code",
   "execution_count": 25,
   "id": "0e465ee2-a11a-4ec2-b3e9-f0c69114cffc",
   "metadata": {},
   "outputs": [
    {
     "data": {
      "image/png": "[encoded data removed]",
      "text/plain": [
       "<Figure size 1200x900 with 1 Axes>"
      ]
     },
     "metadata": {},
     "output_type": "display_data"
    }
   ],
   "source": [
    "# Return indices that sort array\n",
    "indices = np.argsort(a=feature_importance)\n",
    "\n",
    "# Plot features from most to least important\n",
    "plt.figure(figsize=(12, 9))\n",
    "plt.barh(y=range(len(indices)), width=feature_importance[indices], align='center')\n",
    "plt.yticks(ticks=range(len(indices)), labels=X_train.columns[indices])\n",
    "plt.xlabel(xlabel='Relative Importance')\n",
    "plt.title(label='Feature Importance')\n",
    "plt.show()"
   ]
  },
  {
   "cell_type": "markdown",
   "id": "0ed38450-0a42-4b46-be31-7e0e03b3c131",
   "metadata": {},
   "source": [
    "### Random Forest Classifier with Feature Selection <a id='random-forest-feature-selection'></a>"
   ]
  },
  {
   "cell_type": "code",
   "execution_count": 26,
   "id": "4b6cf0a1-65d2-432b-add5-e7eb92b69b20",
   "metadata": {},
   "outputs": [
    {
     "name": "stdout",
     "output_type": "stream",
     "text": [
      "Size of training data: 13613 rows\n",
      "Size of test data: 3404 rows\n"
     ]
    }
   ],
   "source": [
    "# Split data into training and test data after feature selection\n",
    "X_train, X_test, y_train, y_test = train_test_split(df_feature.drop(columns=['tomatometer_status', 'NR', 'runtime', 'PG-13', 'R', 'PG', 'G', 'NC17']), df_feature['tomatometer_status'], test_size=0.2, random_state=42)\n",
    "print(f'Size of training data: {len(X_train)} rows')\n",
    "print(f'Size of test data: {len(X_test)} rows')"
   ]
  },
  {
   "cell_type": "code",
   "execution_count": 27,
   "id": "b7a13e87-ef30-4c4e-8103-d3aab821e76d",
   "metadata": {},
   "outputs": [
    {
     "name": "stdout",
     "output_type": "stream",
     "text": [
      "Accuracy score: 0.9917743830787309\n",
      "              precision    recall  f1-score   support\n",
      "\n",
      "         0.0       1.00      1.00      1.00      1488\n",
      "         1.0       0.99      0.99      0.99      1286\n",
      "         2.0       0.98      0.97      0.98       630\n",
      "\n",
      "    accuracy                           0.99      3404\n",
      "   macro avg       0.99      0.99      0.99      3404\n",
      "weighted avg       0.99      0.99      0.99      3404\n",
      "\n"
     ]
    }
   ],
   "source": [
    "# Initiate Random Forest Classifier\n",
    "rf = RandomForestClassifier(random_state=2)\n",
    "\n",
    "# Train classifier on training data\n",
    "rf.fit(X_train, y_train)\n",
    "\n",
    "# Make predictions with test data\n",
    "y_predict = rf.predict(X_test)\n",
    "\n",
    "# Print accuracy and classification report on test data\n",
    "print(f'Accuracy score: {accuracy_score(y_test, y_predict)}')\n",
    "print(classification_report(y_test, y_predict))"
   ]
  },
  {
   "cell_type": "code",
   "execution_count": 28,
   "id": "c2beada1-2594-4c7a-a721-d071475ba52a",
   "metadata": {},
   "outputs": [
    {
     "data": {
      "image/png": "[encoded data removed]",
      "text/plain": [
       "<Figure size 1200x900 with 2 Axes>"
      ]
     },
     "metadata": {},
     "output_type": "display_data"
    }
   ],
   "source": [
    "# Plot confusion matrix on test data\n",
    "cm = confusion_matrix(y_test, y_predict, labels=rf.classes_)\n",
    "fig, ax = plt.subplots(figsize=(12, 9))\n",
    "disp = ConfusionMatrixDisplay(confusion_matrix=cm, display_labels=rf.classes_)\n",
    "disp.plot(ax=ax, cmap='cividis')\n",
    "plt.show()"
   ]
  },
  {
   "cell_type": "markdown",
   "id": "c47d4070-3230-42cf-b28b-b0c5102a5cc0",
   "metadata": {},
   "source": [
    "### Weighted Random Forest Classifier with Feature Selection <a id='weighted-random-forest-feature-selection'></a>"
   ]
  },
  {
   "cell_type": "code",
   "execution_count": 29,
   "id": "677b9180-96ee-4e29-87c1-7b822ffe4fa1",
   "metadata": {},
   "outputs": [
    {
     "data": {
      "text/plain": [
       "{0: 0.7691299435028248, 1: 0.8760360360360361, 2: 1.7910746237238186}"
      ]
     },
     "execution_count": 29,
     "metadata": {},
     "output_type": "execute_result"
    }
   ],
   "source": [
    "# Compute class weight for target variable, `tomatometer_status`\n",
    "class_weight = compute_class_weight(class_weight='balanced', classes=np.unique(df_feature['tomatometer_status']), y=df_feature['tomatometer_status'])\n",
    "\n",
    "# Store values in dictionary\n",
    "class_weight_dict = dict(enumerate(class_weight))\n",
    "\n",
    "class_weight_dict"
   ]
  },
  {
   "cell_type": "code",
   "execution_count": 30,
   "id": "ca2dd139-d82a-47d2-85f1-93c87dac861c",
   "metadata": {},
   "outputs": [
    {
     "name": "stdout",
     "output_type": "stream",
     "text": [
      "Accuracy score: 0.9926556991774383\n",
      "              precision    recall  f1-score   support\n",
      "\n",
      "         0.0       1.00      1.00      1.00      1488\n",
      "         1.0       0.99      0.99      0.99      1286\n",
      "         2.0       0.98      0.98      0.98       630\n",
      "\n",
      "    accuracy                           0.99      3404\n",
      "   macro avg       0.99      0.99      0.99      3404\n",
      "weighted avg       0.99      0.99      0.99      3404\n",
      "\n"
     ]
    }
   ],
   "source": [
    "# Initiate Random Forest Classifier with class weights\n",
    "rf_weighted = RandomForestClassifier(class_weight=class_weight_dict, random_state=2)\n",
    "\n",
    "# Train classifier on training data\n",
    "rf_weighted.fit(X_train, y_train)\n",
    "\n",
    "# Make predictions with test data\n",
    "y_predict = rf_weighted.predict(X_test)\n",
    "\n",
    "# Print accuracy and classification report on test data\n",
    "print(f'Accuracy score: {accuracy_score(y_test, y_predict)}')\n",
    "print(classification_report(y_test, y_predict))"
   ]
  },
  {
   "cell_type": "code",
   "execution_count": 31,
   "id": "082f2707-12d1-464d-b09e-4bc7cdbe91a0",
   "metadata": {},
   "outputs": [
    {
     "data": {
      "image/png": "[encoded data removed]",
      "text/plain": [
       "<Figure size 1200x900 with 2 Axes>"
      ]
     },
     "metadata": {},
     "output_type": "display_data"
    }
   ],
   "source": [
    "# Plot confusion matrix on test data\n",
    "cm = confusion_matrix(y_test, y_predict, labels=rf_weighted.classes_)\n",
    "fig, ax = plt.subplots(figsize=(12, 9))\n",
    "disp = ConfusionMatrixDisplay(confusion_matrix=cm, display_labels=rf_weighted.classes_)\n",
    "disp.plot(ax=ax, cmap='cividis')\n",
    "plt.show()"
   ]
  },
  {
   "cell_type": "markdown",
   "id": "af386404-f872-4fe4-8da1-daa87d72f1ff",
   "metadata": {},
   "source": [
    "## Second Approach: Predicting Movie Status based on Review Sentiment <a id='second-approach'></a>"
   ]
  },
  {
   "cell_type": "code",
   "execution_count": 32,
   "id": "a5c00c09-2a53-4146-b0e5-2603261f100b",
   "metadata": {},
   "outputs": [
    {
     "data": {
      "text/html": [
       "<div>\n",
       "<style scoped>\n",
       "    .dataframe tbody tr th:only-of-type {\n",
       "        vertical-align: middle;\n",
       "    }\n",
       "\n",
       "    .dataframe tbody tr th {\n",
       "        vertical-align: top;\n",
       "    }\n",
       "\n",
       "    .dataframe thead th {\n",
       "        text-align: right;\n",
       "    }\n",
       "</style>\n",
       "<table border=\"1\" class=\"dataframe\">\n",
       "  <thead>\n",
       "    <tr style=\"text-align: right;\">\n",
       "      <th></th>\n",
       "      <th>rotten_tomatoes_link</th>\n",
       "      <th>critic_name</th>\n",
       "      <th>top_critic</th>\n",
       "      <th>publisher_name</th>\n",
       "      <th>review_type</th>\n",
       "      <th>review_score</th>\n",
       "      <th>review_date</th>\n",
       "      <th>review_content</th>\n",
       "    </tr>\n",
       "  </thead>\n",
       "  <tbody>\n",
       "    <tr>\n",
       "      <th>0</th>\n",
       "      <td>m/0814255</td>\n",
       "      <td>Andrew L. Urban</td>\n",
       "      <td>False</td>\n",
       "      <td>Urban Cinefile</td>\n",
       "      <td>Fresh</td>\n",
       "      <td>NaN</td>\n",
       "      <td>2010-02-06</td>\n",
       "      <td>A fantasy adventure that fuses Greek mythology...</td>\n",
       "    </tr>\n",
       "    <tr>\n",
       "      <th>1</th>\n",
       "      <td>m/0814255</td>\n",
       "      <td>Louise Keller</td>\n",
       "      <td>False</td>\n",
       "      <td>Urban Cinefile</td>\n",
       "      <td>Fresh</td>\n",
       "      <td>NaN</td>\n",
       "      <td>2010-02-06</td>\n",
       "      <td>Uma Thurman as Medusa, the gorgon with a coiff...</td>\n",
       "    </tr>\n",
       "    <tr>\n",
       "      <th>2</th>\n",
       "      <td>m/0814255</td>\n",
       "      <td>NaN</td>\n",
       "      <td>False</td>\n",
       "      <td>FILMINK (Australia)</td>\n",
       "      <td>Fresh</td>\n",
       "      <td>NaN</td>\n",
       "      <td>2010-02-09</td>\n",
       "      <td>With a top-notch cast and dazzling special eff...</td>\n",
       "    </tr>\n",
       "    <tr>\n",
       "      <th>3</th>\n",
       "      <td>m/0814255</td>\n",
       "      <td>Ben McEachen</td>\n",
       "      <td>False</td>\n",
       "      <td>Sunday Mail (Australia)</td>\n",
       "      <td>Fresh</td>\n",
       "      <td>3.5/5</td>\n",
       "      <td>2010-02-09</td>\n",
       "      <td>Whether audiences will get behind The Lightnin...</td>\n",
       "    </tr>\n",
       "    <tr>\n",
       "      <th>4</th>\n",
       "      <td>m/0814255</td>\n",
       "      <td>Ethan Alter</td>\n",
       "      <td>True</td>\n",
       "      <td>Hollywood Reporter</td>\n",
       "      <td>Rotten</td>\n",
       "      <td>NaN</td>\n",
       "      <td>2010-02-10</td>\n",
       "      <td>What's really lacking in The Lightning Thief i...</td>\n",
       "    </tr>\n",
       "  </tbody>\n",
       "</table>\n",
       "</div>"
      ],
      "text/plain": [
       "  rotten_tomatoes_link      critic_name  top_critic           publisher_name  \\\n",
       "0            m/0814255  Andrew L. Urban       False           Urban Cinefile   \n",
       "1            m/0814255    Louise Keller       False           Urban Cinefile   \n",
       "2            m/0814255              NaN       False      FILMINK (Australia)   \n",
       "3            m/0814255     Ben McEachen       False  Sunday Mail (Australia)   \n",
       "4            m/0814255      Ethan Alter        True       Hollywood Reporter   \n",
       "\n",
       "  review_type review_score review_date  \\\n",
       "0       Fresh          NaN  2010-02-06   \n",
       "1       Fresh          NaN  2010-02-06   \n",
       "2       Fresh          NaN  2010-02-09   \n",
       "3       Fresh        3.5/5  2010-02-09   \n",
       "4      Rotten          NaN  2010-02-10   \n",
       "\n",
       "                                      review_content  \n",
       "0  A fantasy adventure that fuses Greek mythology...  \n",
       "1  Uma Thurman as Medusa, the gorgon with a coiff...  \n",
       "2  With a top-notch cast and dazzling special eff...  \n",
       "3  Whether audiences will get behind The Lightnin...  \n",
       "4  What's really lacking in The Lightning Thief i...  "
      ]
     },
     "execution_count": 32,
     "metadata": {},
     "output_type": "execute_result"
    }
   ],
   "source": [
    "# Read data\n",
    "df_critics = pd.read_csv('data/raw/rotten_tomatoes_critic_reviews_50k.csv')\n",
    "df_critics.head()"
   ]
  },
  {
   "cell_type": "code",
   "execution_count": 33,
   "id": "63b52a61-dcab-4692-97c9-bcc4dedd7936",
   "metadata": {},
   "outputs": [],
   "source": [
    "# Merge critics and movie DataFrames\n",
    "df_merged = df_critics.merge(right=df_movie, how='inner', on='rotten_tomatoes_link')\n",
    "df_merged = df_merged[['rotten_tomatoes_link', 'movie_title', 'review_content', 'review_type', 'tomatometer_status']]"
   ]
  },
  {
   "cell_type": "code",
   "execution_count": 34,
   "id": "1ed82002-8f8a-41a5-9aa8-3651afa7629d",
   "metadata": {},
   "outputs": [
    {
     "data": {
      "text/html": [
       "<div>\n",
       "<style scoped>\n",
       "    .dataframe tbody tr th:only-of-type {\n",
       "        vertical-align: middle;\n",
       "    }\n",
       "\n",
       "    .dataframe tbody tr th {\n",
       "        vertical-align: top;\n",
       "    }\n",
       "\n",
       "    .dataframe thead th {\n",
       "        text-align: right;\n",
       "    }\n",
       "</style>\n",
       "<table border=\"1\" class=\"dataframe\">\n",
       "  <thead>\n",
       "    <tr style=\"text-align: right;\">\n",
       "      <th></th>\n",
       "      <th>rotten_tomatoes_link</th>\n",
       "      <th>movie_title</th>\n",
       "      <th>review_content</th>\n",
       "      <th>review_type</th>\n",
       "      <th>tomatometer_status</th>\n",
       "    </tr>\n",
       "  </thead>\n",
       "  <tbody>\n",
       "    <tr>\n",
       "      <th>0</th>\n",
       "      <td>m/0814255</td>\n",
       "      <td>Percy Jackson &amp; the Olympians: The Lightning T...</td>\n",
       "      <td>A fantasy adventure that fuses Greek mythology...</td>\n",
       "      <td>Fresh</td>\n",
       "      <td>Rotten</td>\n",
       "    </tr>\n",
       "    <tr>\n",
       "      <th>1</th>\n",
       "      <td>m/0814255</td>\n",
       "      <td>Percy Jackson &amp; the Olympians: The Lightning T...</td>\n",
       "      <td>Uma Thurman as Medusa, the gorgon with a coiff...</td>\n",
       "      <td>Fresh</td>\n",
       "      <td>Rotten</td>\n",
       "    </tr>\n",
       "    <tr>\n",
       "      <th>2</th>\n",
       "      <td>m/0814255</td>\n",
       "      <td>Percy Jackson &amp; the Olympians: The Lightning T...</td>\n",
       "      <td>With a top-notch cast and dazzling special eff...</td>\n",
       "      <td>Fresh</td>\n",
       "      <td>Rotten</td>\n",
       "    </tr>\n",
       "    <tr>\n",
       "      <th>3</th>\n",
       "      <td>m/0814255</td>\n",
       "      <td>Percy Jackson &amp; the Olympians: The Lightning T...</td>\n",
       "      <td>Whether audiences will get behind The Lightnin...</td>\n",
       "      <td>Fresh</td>\n",
       "      <td>Rotten</td>\n",
       "    </tr>\n",
       "    <tr>\n",
       "      <th>4</th>\n",
       "      <td>m/0814255</td>\n",
       "      <td>Percy Jackson &amp; the Olympians: The Lightning T...</td>\n",
       "      <td>What's really lacking in The Lightning Thief i...</td>\n",
       "      <td>Rotten</td>\n",
       "      <td>Rotten</td>\n",
       "    </tr>\n",
       "  </tbody>\n",
       "</table>\n",
       "</div>"
      ],
      "text/plain": [
       "  rotten_tomatoes_link                                        movie_title  \\\n",
       "0            m/0814255  Percy Jackson & the Olympians: The Lightning T...   \n",
       "1            m/0814255  Percy Jackson & the Olympians: The Lightning T...   \n",
       "2            m/0814255  Percy Jackson & the Olympians: The Lightning T...   \n",
       "3            m/0814255  Percy Jackson & the Olympians: The Lightning T...   \n",
       "4            m/0814255  Percy Jackson & the Olympians: The Lightning T...   \n",
       "\n",
       "                                      review_content review_type  \\\n",
       "0  A fantasy adventure that fuses Greek mythology...       Fresh   \n",
       "1  Uma Thurman as Medusa, the gorgon with a coiff...       Fresh   \n",
       "2  With a top-notch cast and dazzling special eff...       Fresh   \n",
       "3  Whether audiences will get behind The Lightnin...       Fresh   \n",
       "4  What's really lacking in The Lightning Thief i...      Rotten   \n",
       "\n",
       "  tomatometer_status  \n",
       "0             Rotten  \n",
       "1             Rotten  \n",
       "2             Rotten  \n",
       "3             Rotten  \n",
       "4             Rotten  "
      ]
     },
     "execution_count": 34,
     "metadata": {},
     "output_type": "execute_result"
    }
   ],
   "source": [
    "df_merged.head()"
   ]
  },
  {
   "cell_type": "code",
   "execution_count": 35,
   "id": "041f65f4-66ca-4515-a7f2-98c9d740a522",
   "metadata": {},
   "outputs": [],
   "source": [
    "# Drop rows with missing reviews\n",
    "df_merged = df_merged.dropna(subset='review_content')"
   ]
  },
  {
   "cell_type": "code",
   "execution_count": 36,
   "id": "f35443cd-3704-48d4-ae57-482b948cb17d",
   "metadata": {},
   "outputs": [
    {
     "data": {
      "text/plain": [
       "[Text(0, 0, '25276'), Text(0, 0, '15919')]"
      ]
     },
     "execution_count": 36,
     "metadata": {},
     "output_type": "execute_result"
    },
    {
     "data": {
      "image/png": "[encoded data removed]",
      "text/plain": [
       "<Figure size 1200x900 with 1 Axes>"
      ]
     },
     "metadata": {},
     "output_type": "display_data"
    }
   ],
   "source": [
    "# Plot distribution of `review_type` feature\n",
    "ax = df_merged['review_type'].value_counts().plot(kind='bar', figsize=(12, 9))\n",
    "ax.bar_label(ax.containers[0])"
   ]
  },
  {
   "cell_type": "code",
   "execution_count": 37,
   "id": "233302f2-a9a2-446b-acb7-cdb0c1a6ccda",
   "metadata": {},
   "outputs": [
    {
     "data": {
      "text/html": [
       "<div>\n",
       "<style scoped>\n",
       "    .dataframe tbody tr th:only-of-type {\n",
       "        vertical-align: middle;\n",
       "    }\n",
       "\n",
       "    .dataframe tbody tr th {\n",
       "        vertical-align: top;\n",
       "    }\n",
       "\n",
       "    .dataframe thead th {\n",
       "        text-align: right;\n",
       "    }\n",
       "</style>\n",
       "<table border=\"1\" class=\"dataframe\">\n",
       "  <thead>\n",
       "    <tr style=\"text-align: right;\">\n",
       "      <th></th>\n",
       "      <th>review_type</th>\n",
       "    </tr>\n",
       "  </thead>\n",
       "  <tbody>\n",
       "    <tr>\n",
       "      <th>0</th>\n",
       "      <td>1</td>\n",
       "    </tr>\n",
       "    <tr>\n",
       "      <th>1</th>\n",
       "      <td>1</td>\n",
       "    </tr>\n",
       "    <tr>\n",
       "      <th>2</th>\n",
       "      <td>1</td>\n",
       "    </tr>\n",
       "    <tr>\n",
       "      <th>3</th>\n",
       "      <td>1</td>\n",
       "    </tr>\n",
       "    <tr>\n",
       "      <th>4</th>\n",
       "      <td>0</td>\n",
       "    </tr>\n",
       "  </tbody>\n",
       "</table>\n",
       "</div>"
      ],
      "text/plain": [
       "   review_type\n",
       "0            1\n",
       "1            1\n",
       "2            1\n",
       "3            1\n",
       "4            0"
      ]
     },
     "execution_count": 37,
     "metadata": {},
     "output_type": "execute_result"
    }
   ],
   "source": [
    "# Encode `review_type` feature\n",
    "review_type = pd.DataFrame(df_merged['review_type'].replace(to_replace=['Rotten', 'Fresh'], value=[0, 1]))\n",
    "review_type.head()"
   ]
  },
  {
   "cell_type": "code",
   "execution_count": 38,
   "id": "c989ab2b-8205-48d4-ad76-ecd2a42cd11c",
   "metadata": {},
   "outputs": [
    {
     "data": {
      "text/html": [
       "<div>\n",
       "<style scoped>\n",
       "    .dataframe tbody tr th:only-of-type {\n",
       "        vertical-align: middle;\n",
       "    }\n",
       "\n",
       "    .dataframe tbody tr th {\n",
       "        vertical-align: top;\n",
       "    }\n",
       "\n",
       "    .dataframe thead th {\n",
       "        text-align: right;\n",
       "    }\n",
       "</style>\n",
       "<table border=\"1\" class=\"dataframe\">\n",
       "  <thead>\n",
       "    <tr style=\"text-align: right;\">\n",
       "      <th></th>\n",
       "      <th>review_content</th>\n",
       "      <th>review_type</th>\n",
       "    </tr>\n",
       "  </thead>\n",
       "  <tbody>\n",
       "    <tr>\n",
       "      <th>0</th>\n",
       "      <td>A fantasy adventure that fuses Greek mythology...</td>\n",
       "      <td>1</td>\n",
       "    </tr>\n",
       "    <tr>\n",
       "      <th>1</th>\n",
       "      <td>Uma Thurman as Medusa, the gorgon with a coiff...</td>\n",
       "      <td>1</td>\n",
       "    </tr>\n",
       "    <tr>\n",
       "      <th>2</th>\n",
       "      <td>With a top-notch cast and dazzling special eff...</td>\n",
       "      <td>1</td>\n",
       "    </tr>\n",
       "    <tr>\n",
       "      <th>3</th>\n",
       "      <td>Whether audiences will get behind The Lightnin...</td>\n",
       "      <td>1</td>\n",
       "    </tr>\n",
       "    <tr>\n",
       "      <th>4</th>\n",
       "      <td>What's really lacking in The Lightning Thief i...</td>\n",
       "      <td>0</td>\n",
       "    </tr>\n",
       "  </tbody>\n",
       "</table>\n",
       "</div>"
      ],
      "text/plain": [
       "                                      review_content  review_type\n",
       "0  A fantasy adventure that fuses Greek mythology...            1\n",
       "1  Uma Thurman as Medusa, the gorgon with a coiff...            1\n",
       "2  With a top-notch cast and dazzling special eff...            1\n",
       "3  Whether audiences will get behind The Lightnin...            1\n",
       "4  What's really lacking in The Lightning Thief i...            0"
      ]
     },
     "execution_count": 38,
     "metadata": {},
     "output_type": "execute_result"
    }
   ],
   "source": [
    "# Create final DataFrame\n",
    "df_feature_critics = pd.concat(objs=[df_merged[['review_content']], review_type], axis=1).dropna()\n",
    "df_feature_critics.head()"
   ]
  },
  {
   "cell_type": "code",
   "execution_count": 39,
   "id": "c33df281-2d65-4c30-91dd-3718d41d0322",
   "metadata": {},
   "outputs": [],
   "source": [
    "# Split data into training and test data\n",
    "X_train, X_test, y_train, y_test = train_test_split(df_feature_critics['review_content'], df_feature_critics['review_type'], test_size=0.2, random_state=42)"
   ]
  },
  {
   "cell_type": "markdown",
   "id": "7b769580-2c19-496e-84e9-6ec952b3112a",
   "metadata": {},
   "source": [
    "### Random Forest <a id='random-forest-2'></a>"
   ]
  },
  {
   "cell_type": "code",
   "execution_count": 40,
   "id": "e7e6cc67-16fe-4870-b8fa-654fcc155d51",
   "metadata": {},
   "outputs": [
    {
     "name": "stdout",
     "output_type": "stream",
     "text": [
      "              precision    recall  f1-score   support\n",
      "\n",
      "           0       0.74      0.47      0.58      3237\n",
      "           1       0.72      0.89      0.80      5002\n",
      "\n",
      "    accuracy                           0.73      8239\n",
      "   macro avg       0.73      0.68      0.69      8239\n",
      "weighted avg       0.73      0.73      0.71      8239\n",
      "\n"
     ]
    }
   ],
   "source": [
    "# Instantiate vectorizer class\n",
    "vectorizer = CountVectorizer(min_df=1)\n",
    "\n",
    "# Transform training data\n",
    "X_train_vec = vectorizer.fit_transform(X_train).toarray()\n",
    "\n",
    "# Initialize random forest classifier\n",
    "rf = RandomForestClassifier(random_state=2)\n",
    "\n",
    "# Train classifier on training data\n",
    "rf.fit(X_train_vec, y_train)\n",
    "\n",
    "# Make predictions on test data\n",
    "X_test_vec = vectorizer.transform(X_test).toarray()\n",
    "y_predicted = rf.predict(X_test_vec)\n",
    "\n",
    "print(classification_report(y_test, y_predicted))"
   ]
  },
  {
   "cell_type": "code",
   "execution_count": 41,
   "id": "77b0cf7f-73e6-4600-89a4-db36b8220e3d",
   "metadata": {},
   "outputs": [
    {
     "data": {
      "image/png": "[encoded data removed]",
      "text/plain": [
       "<Figure size 1200x900 with 2 Axes>"
      ]
     },
     "metadata": {},
     "output_type": "display_data"
    }
   ],
   "source": [
    "# Plot confusion matrix on test data\n",
    "cm = confusion_matrix(y_test, y_predicted, labels=rf.classes_)\n",
    "fig, ax = plt.subplots(figsize=(12, 9))\n",
    "disp = ConfusionMatrixDisplay(confusion_matrix=cm, display_labels=rf.classes_)\n",
    "disp.plot(ax=ax, cmap='cividis')\n",
    "plt.show()"
   ]
  },
  {
   "cell_type": "markdown",
   "id": "3ba1f3fa-fd06-48f2-9c04-1e1a5726efa0",
   "metadata": {},
   "source": [
    "### Weighted Random Forest <a id='weighted-random-forest'></a>"
   ]
  },
  {
   "cell_type": "code",
   "execution_count": 42,
   "id": "0382de5d-6b01-4ab8-b48f-5292e2e8e700",
   "metadata": {},
   "outputs": [
    {
     "data": {
      "text/plain": [
       "{0: 1.2938940888246748, 1: 0.8149034657382497}"
      ]
     },
     "execution_count": 42,
     "metadata": {},
     "output_type": "execute_result"
    }
   ],
   "source": [
    "# Compute class weight for target variable, `review_type`\n",
    "class_weight = compute_class_weight(class_weight='balanced', classes=np.unique(df_feature_critics['review_type']), y=df_feature_critics['review_type'])\n",
    "\n",
    "# Store values in dictionary\n",
    "class_weight_dict = dict(enumerate(class_weight))\n",
    "\n",
    "class_weight_dict"
   ]
  },
  {
   "cell_type": "code",
   "execution_count": 43,
   "id": "f1724f01-7aa3-4234-a8f7-833f8935a824",
   "metadata": {},
   "outputs": [
    {
     "name": "stdout",
     "output_type": "stream",
     "text": [
      "              precision    recall  f1-score   support\n",
      "\n",
      "           0       0.71      0.55      0.62      3237\n",
      "           1       0.75      0.85      0.80      5002\n",
      "\n",
      "    accuracy                           0.74      8239\n",
      "   macro avg       0.73      0.70      0.71      8239\n",
      "weighted avg       0.73      0.74      0.73      8239\n",
      "\n"
     ]
    }
   ],
   "source": [
    "# Instantiate vectorizer class\n",
    "vectorizer = CountVectorizer(min_df=1)\n",
    "\n",
    "# Transform training data\n",
    "X_train_vec = vectorizer.fit_transform(X_train).toarray()\n",
    "\n",
    "# Initialize random forest classifier\n",
    "rf_weighted = RandomForestClassifier(class_weight=class_weight_dict, random_state=2)\n",
    "\n",
    "# Train classifier on training data\n",
    "rf_weighted.fit(X_train_vec, y_train)\n",
    "\n",
    "# Make predictions on test data\n",
    "X_test_vec = vectorizer.transform(X_test).toarray()\n",
    "y_predicted = rf_weighted.predict(X_test_vec)\n",
    "\n",
    "print(classification_report(y_test, y_predicted))"
   ]
  },
  {
   "cell_type": "code",
   "execution_count": 44,
   "id": "da442fb2-f270-4a15-91a1-21bbc80850d7",
   "metadata": {},
   "outputs": [
    {
     "data": {
      "image/png": "[encoded data removed]",
      "text/plain": [
       "<Figure size 1200x900 with 2 Axes>"
      ]
     },
     "metadata": {},
     "output_type": "display_data"
    }
   ],
   "source": [
    "# Plot confusion matrix on test data\n",
    "cm = confusion_matrix(y_test, y_predicted, labels=rf_weighted.classes_)\n",
    "fig, ax = plt.subplots(figsize=(12, 9))\n",
    "disp = ConfusionMatrixDisplay(confusion_matrix=cm, display_labels=rf_weighted.classes_)\n",
    "disp.plot(ax=ax, cmap='cividis')\n",
    "plt.show()"
   ]
  },
  {
   "cell_type": "markdown",
   "id": "fbae4cd3-8e80-4bc8-ba4f-42bd0ce53f2c",
   "metadata": {},
   "source": [
    "### Movie Status Prediction <a id='movie-status-prediction'></a>"
   ]
  },
  {
   "cell_type": "code",
   "execution_count": 45,
   "id": "6b154401-18dc-4645-b394-2d63c0a0174b",
   "metadata": {},
   "outputs": [],
   "source": [
    "# Create function for movie status prediction\n",
    "def predict_movie_status(prediction):\n",
    "    \"\"\"\n",
    "    Assign label 'Fresh' or 'Rotten' based on prediction\n",
    "    \"\"\"\n",
    "    positive_percentage = (prediction == 1).mean() * 100\n",
    "    \n",
    "    prediction = 'Fresh' if positive_percentage >= 60 else 'Rotten'\n",
    "    \n",
    "    print(f'Positive review: {positive_percentage:.2f}%')\n",
    "    print(f'Movie status: {prediction}')"
   ]
  },
  {
   "cell_type": "code",
   "execution_count": 46,
   "id": "af8ac454-ff49-4600-b760-5968e9378edd",
   "metadata": {},
   "outputs": [
    {
     "data": {
      "text/plain": [
       "movie_title\n",
       "10 Cloverfield Lane           309\n",
       "Public Enemies                275\n",
       "Tron Legacy                   242\n",
       "The Hangover                  235\n",
       "The Kids Are All Right        224\n",
       "The Road                      215\n",
       "Hamlet                        208\n",
       "Body of Lies                  204\n",
       "The Ghost Writer              204\n",
       "Predators                     201\n",
       "Disney's A Christmas Carol    198\n",
       "Pearl Harbor                  194\n",
       "Planet of the Apes            188\n",
       "The Proposal                  185\n",
       "Land of the Lost              181\n",
       "The Happening                 181\n",
       "Winter's Bone                 174\n",
       "Going the Distance            172\n",
       "The Women                     169\n",
       "21                            165\n",
       "Name: review_content, dtype: int64"
      ]
     },
     "execution_count": 46,
     "metadata": {},
     "output_type": "execute_result"
    }
   ],
   "source": [
    "df_merged.groupby(by='movie_title')['review_content'].count().nlargest(n=20)"
   ]
  },
  {
   "cell_type": "markdown",
   "id": "86dd1a7b-d52c-4e72-a5fa-557734b49cfe",
   "metadata": {},
   "source": [
    "#### 'Tron Legacy' Prediction <a id='tron-legacy-prediction'></a>"
   ]
  },
  {
   "cell_type": "code",
   "execution_count": 47,
   "id": "78d02f4a-eab3-4c4d-94d3-c30f36bff8d2",
   "metadata": {},
   "outputs": [
    {
     "data": {
      "text/html": [
       "<div>\n",
       "<style scoped>\n",
       "    .dataframe tbody tr th:only-of-type {\n",
       "        vertical-align: middle;\n",
       "    }\n",
       "\n",
       "    .dataframe tbody tr th {\n",
       "        vertical-align: top;\n",
       "    }\n",
       "\n",
       "    .dataframe thead th {\n",
       "        text-align: right;\n",
       "    }\n",
       "</style>\n",
       "<table border=\"1\" class=\"dataframe\">\n",
       "  <thead>\n",
       "    <tr style=\"text-align: right;\">\n",
       "      <th></th>\n",
       "      <th>rotten_tomatoes_link</th>\n",
       "      <th>movie_title</th>\n",
       "      <th>review_content</th>\n",
       "      <th>review_type</th>\n",
       "      <th>tomatometer_status</th>\n",
       "    </tr>\n",
       "  </thead>\n",
       "  <tbody>\n",
       "    <tr>\n",
       "      <th>13447</th>\n",
       "      <td>m/10011582-TRON_legacy</td>\n",
       "      <td>Tron Legacy</td>\n",
       "      <td>While 21st-century effects and a cutting-edge ...</td>\n",
       "      <td>Fresh</td>\n",
       "      <td>Rotten</td>\n",
       "    </tr>\n",
       "    <tr>\n",
       "      <th>13448</th>\n",
       "      <td>m/10011582-TRON_legacy</td>\n",
       "      <td>Tron Legacy</td>\n",
       "      <td>If you're a fan like me, it's worth seeing for...</td>\n",
       "      <td>Fresh</td>\n",
       "      <td>Rotten</td>\n",
       "    </tr>\n",
       "    <tr>\n",
       "      <th>13449</th>\n",
       "      <td>m/10011582-TRON_legacy</td>\n",
       "      <td>Tron Legacy</td>\n",
       "      <td>Whereas 3D has quickly become a dirty, corpora...</td>\n",
       "      <td>Fresh</td>\n",
       "      <td>Rotten</td>\n",
       "    </tr>\n",
       "    <tr>\n",
       "      <th>13450</th>\n",
       "      <td>m/10011582-TRON_legacy</td>\n",
       "      <td>Tron Legacy</td>\n",
       "      <td>Tron: Legacy is an exciting and beautiful film...</td>\n",
       "      <td>Fresh</td>\n",
       "      <td>Rotten</td>\n",
       "    </tr>\n",
       "    <tr>\n",
       "      <th>13451</th>\n",
       "      <td>m/10011582-TRON_legacy</td>\n",
       "      <td>Tron Legacy</td>\n",
       "      <td>It all ends up being a half-hour too much of a...</td>\n",
       "      <td>Rotten</td>\n",
       "      <td>Rotten</td>\n",
       "    </tr>\n",
       "  </tbody>\n",
       "</table>\n",
       "</div>"
      ],
      "text/plain": [
       "         rotten_tomatoes_link  movie_title  \\\n",
       "13447  m/10011582-TRON_legacy  Tron Legacy   \n",
       "13448  m/10011582-TRON_legacy  Tron Legacy   \n",
       "13449  m/10011582-TRON_legacy  Tron Legacy   \n",
       "13450  m/10011582-TRON_legacy  Tron Legacy   \n",
       "13451  m/10011582-TRON_legacy  Tron Legacy   \n",
       "\n",
       "                                          review_content review_type  \\\n",
       "13447  While 21st-century effects and a cutting-edge ...       Fresh   \n",
       "13448  If you're a fan like me, it's worth seeing for...       Fresh   \n",
       "13449  Whereas 3D has quickly become a dirty, corpora...       Fresh   \n",
       "13450  Tron: Legacy is an exciting and beautiful film...       Fresh   \n",
       "13451  It all ends up being a half-hour too much of a...      Rotten   \n",
       "\n",
       "      tomatometer_status  \n",
       "13447             Rotten  \n",
       "13448             Rotten  \n",
       "13449             Rotten  \n",
       "13450             Rotten  \n",
       "13451             Rotten  "
      ]
     },
     "execution_count": 47,
     "metadata": {},
     "output_type": "execute_result"
    }
   ],
   "source": [
    "# Get all reviews of Tron Legacy movie\n",
    "df_tron = df_merged[df_merged['movie_title'] == 'Tron Legacy']\n",
    "df_tron.head()"
   ]
  },
  {
   "cell_type": "code",
   "execution_count": 48,
   "id": "efa6165d-46a7-4343-a121-143576e775ce",
   "metadata": {},
   "outputs": [
    {
     "name": "stdout",
     "output_type": "stream",
     "text": [
      "Positive review: 52.89%\n",
      "Movie status: Rotten\n"
     ]
    }
   ],
   "source": [
    "# Get prediction\n",
    "y_predicted_tron = rf_weighted.predict(vectorizer.transform(df_tron['review_content']).toarray())\n",
    "predict_movie_status(y_predicted_tron)"
   ]
  },
  {
   "cell_type": "code",
   "execution_count": 49,
   "id": "d558ce5c-df73-4897-ad5d-37148b8d271f",
   "metadata": {},
   "outputs": [
    {
     "data": {
      "text/plain": [
       "'Rotten'"
      ]
     },
     "execution_count": 49,
     "metadata": {},
     "output_type": "execute_result"
    }
   ],
   "source": [
    "# Get true label\n",
    "df_merged[df_merged['movie_title'] == 'Tron Legacy']['tomatometer_status'].iloc[0]"
   ]
  },
  {
   "cell_type": "markdown",
   "id": "2c66ece1-009b-4660-83bd-0a437fe34436",
   "metadata": {},
   "source": [
    "#### 'The Hangover' Prediction <a id='hangover-prediction'></a>"
   ]
  },
  {
   "cell_type": "code",
   "execution_count": 50,
   "id": "b0faf102-ed7d-48aa-b359-af1e7d727300",
   "metadata": {},
   "outputs": [
    {
     "data": {
      "text/html": [
       "<div>\n",
       "<style scoped>\n",
       "    .dataframe tbody tr th:only-of-type {\n",
       "        vertical-align: middle;\n",
       "    }\n",
       "\n",
       "    .dataframe tbody tr th {\n",
       "        vertical-align: top;\n",
       "    }\n",
       "\n",
       "    .dataframe thead th {\n",
       "        text-align: right;\n",
       "    }\n",
       "</style>\n",
       "<table border=\"1\" class=\"dataframe\">\n",
       "  <thead>\n",
       "    <tr style=\"text-align: right;\">\n",
       "      <th></th>\n",
       "      <th>rotten_tomatoes_link</th>\n",
       "      <th>movie_title</th>\n",
       "      <th>review_content</th>\n",
       "      <th>review_type</th>\n",
       "      <th>tomatometer_status</th>\n",
       "    </tr>\n",
       "  </thead>\n",
       "  <tbody>\n",
       "    <tr>\n",
       "      <th>11536</th>\n",
       "      <td>m/10010667-hangover</td>\n",
       "      <td>The Hangover</td>\n",
       "      <td>I loved Fat Jesus. A comedy that's funny and n...</td>\n",
       "      <td>Fresh</td>\n",
       "      <td>Certified-Fresh</td>\n",
       "    </tr>\n",
       "    <tr>\n",
       "      <th>11537</th>\n",
       "      <td>m/10010667-hangover</td>\n",
       "      <td>The Hangover</td>\n",
       "      <td>Head-poundingly (in a good way), sidesplitting...</td>\n",
       "      <td>Fresh</td>\n",
       "      <td>Certified-Fresh</td>\n",
       "    </tr>\n",
       "    <tr>\n",
       "      <th>11538</th>\n",
       "      <td>m/10010667-hangover</td>\n",
       "      <td>The Hangover</td>\n",
       "      <td>Proudly inappropriate and buoyed by both a cle...</td>\n",
       "      <td>Fresh</td>\n",
       "      <td>Certified-Fresh</td>\n",
       "    </tr>\n",
       "    <tr>\n",
       "      <th>11539</th>\n",
       "      <td>m/10010667-hangover</td>\n",
       "      <td>The Hangover</td>\n",
       "      <td>The Hangover is surprisingly clever as well as...</td>\n",
       "      <td>Fresh</td>\n",
       "      <td>Certified-Fresh</td>\n",
       "    </tr>\n",
       "    <tr>\n",
       "      <th>11540</th>\n",
       "      <td>m/10010667-hangover</td>\n",
       "      <td>The Hangover</td>\n",
       "      <td>Miraculously, we still like Alan and Stu and P...</td>\n",
       "      <td>Fresh</td>\n",
       "      <td>Certified-Fresh</td>\n",
       "    </tr>\n",
       "  </tbody>\n",
       "</table>\n",
       "</div>"
      ],
      "text/plain": [
       "      rotten_tomatoes_link   movie_title  \\\n",
       "11536  m/10010667-hangover  The Hangover   \n",
       "11537  m/10010667-hangover  The Hangover   \n",
       "11538  m/10010667-hangover  The Hangover   \n",
       "11539  m/10010667-hangover  The Hangover   \n",
       "11540  m/10010667-hangover  The Hangover   \n",
       "\n",
       "                                          review_content review_type  \\\n",
       "11536  I loved Fat Jesus. A comedy that's funny and n...       Fresh   \n",
       "11537  Head-poundingly (in a good way), sidesplitting...       Fresh   \n",
       "11538  Proudly inappropriate and buoyed by both a cle...       Fresh   \n",
       "11539  The Hangover is surprisingly clever as well as...       Fresh   \n",
       "11540  Miraculously, we still like Alan and Stu and P...       Fresh   \n",
       "\n",
       "      tomatometer_status  \n",
       "11536    Certified-Fresh  \n",
       "11537    Certified-Fresh  \n",
       "11538    Certified-Fresh  \n",
       "11539    Certified-Fresh  \n",
       "11540    Certified-Fresh  "
      ]
     },
     "execution_count": 50,
     "metadata": {},
     "output_type": "execute_result"
    }
   ],
   "source": [
    "# Get all reviews of The Hangover movie\n",
    "df_hang = df_merged[df_merged['movie_title'] == 'The Hangover']\n",
    "df_hang.head()"
   ]
  },
  {
   "cell_type": "code",
   "execution_count": 51,
   "id": "1f5963ed-10d1-4066-9061-6c50dceb1233",
   "metadata": {},
   "outputs": [
    {
     "name": "stdout",
     "output_type": "stream",
     "text": [
      "Positive review: 77.45%\n",
      "Movie status: Fresh\n"
     ]
    }
   ],
   "source": [
    "# Get prediction\n",
    "y_predicted_hang = rf_weighted.predict(vectorizer.transform(df_hang['review_content']).toarray())\n",
    "predict_movie_status(y_predicted_hang)"
   ]
  },
  {
   "cell_type": "code",
   "execution_count": 52,
   "id": "c2ac3579-bbd9-4d91-89e3-e2a122a77879",
   "metadata": {},
   "outputs": [
    {
     "data": {
      "text/plain": [
       "'Certified-Fresh'"
      ]
     },
     "execution_count": 52,
     "metadata": {},
     "output_type": "execute_result"
    }
   ],
   "source": [
    "# Get true label\n",
    "df_merged[df_merged['movie_title'] == 'The Hangover']['tomatometer_status'].iloc[0]"
   ]
  },
  {
   "cell_type": "markdown",
   "id": "3876ad07-ecbf-4c2c-b2a4-48df4c23c631",
   "metadata": {},
   "source": [
    "#### 'Planet of the Apes' Prediction <a id='planet-apes-prediction'></a>"
   ]
  },
  {
   "cell_type": "code",
   "execution_count": 53,
   "id": "e55dc37f-f3e1-44d2-a11c-745b3c6213ab",
   "metadata": {},
   "outputs": [
    {
     "data": {
      "text/html": [
       "<div>\n",
       "<style scoped>\n",
       "    .dataframe tbody tr th:only-of-type {\n",
       "        vertical-align: middle;\n",
       "    }\n",
       "\n",
       "    .dataframe tbody tr th {\n",
       "        vertical-align: top;\n",
       "    }\n",
       "\n",
       "    .dataframe thead th {\n",
       "        text-align: right;\n",
       "    }\n",
       "</style>\n",
       "<table border=\"1\" class=\"dataframe\">\n",
       "  <thead>\n",
       "    <tr style=\"text-align: right;\">\n",
       "      <th></th>\n",
       "      <th>rotten_tomatoes_link</th>\n",
       "      <th>movie_title</th>\n",
       "      <th>review_content</th>\n",
       "      <th>review_type</th>\n",
       "      <th>tomatometer_status</th>\n",
       "    </tr>\n",
       "  </thead>\n",
       "  <tbody>\n",
       "    <tr>\n",
       "      <th>24805</th>\n",
       "      <td>m/1016397-planet_of_the_apes</td>\n",
       "      <td>Planet of the Apes</td>\n",
       "      <td>...an above-average science-fiction movie in s...</td>\n",
       "      <td>Fresh</td>\n",
       "      <td>Certified-Fresh</td>\n",
       "    </tr>\n",
       "    <tr>\n",
       "      <th>24806</th>\n",
       "      <td>m/1016397-planet_of_the_apes</td>\n",
       "      <td>Planet of the Apes</td>\n",
       "      <td>A magnificently indignant Heston ... wrestles ...</td>\n",
       "      <td>Fresh</td>\n",
       "      <td>Certified-Fresh</td>\n",
       "    </tr>\n",
       "    <tr>\n",
       "      <th>24807</th>\n",
       "      <td>m/1016397-planet_of_the_apes</td>\n",
       "      <td>Planet of the Apes</td>\n",
       "      <td>This fascinating premise is exploited to the f...</td>\n",
       "      <td>Fresh</td>\n",
       "      <td>Certified-Fresh</td>\n",
       "    </tr>\n",
       "    <tr>\n",
       "      <th>24808</th>\n",
       "      <td>m/1016397-planet_of_the_apes</td>\n",
       "      <td>Planet of the Apes</td>\n",
       "      <td>Examined difficult issues like bigotry and evo...</td>\n",
       "      <td>Fresh</td>\n",
       "      <td>Certified-Fresh</td>\n",
       "    </tr>\n",
       "    <tr>\n",
       "      <th>24809</th>\n",
       "      <td>m/1016397-planet_of_the_apes</td>\n",
       "      <td>Planet of the Apes</td>\n",
       "      <td>This classic sci-fi ape picture leaves its imi...</td>\n",
       "      <td>Fresh</td>\n",
       "      <td>Certified-Fresh</td>\n",
       "    </tr>\n",
       "  </tbody>\n",
       "</table>\n",
       "</div>"
      ],
      "text/plain": [
       "               rotten_tomatoes_link         movie_title  \\\n",
       "24805  m/1016397-planet_of_the_apes  Planet of the Apes   \n",
       "24806  m/1016397-planet_of_the_apes  Planet of the Apes   \n",
       "24807  m/1016397-planet_of_the_apes  Planet of the Apes   \n",
       "24808  m/1016397-planet_of_the_apes  Planet of the Apes   \n",
       "24809  m/1016397-planet_of_the_apes  Planet of the Apes   \n",
       "\n",
       "                                          review_content review_type  \\\n",
       "24805  ...an above-average science-fiction movie in s...       Fresh   \n",
       "24806  A magnificently indignant Heston ... wrestles ...       Fresh   \n",
       "24807  This fascinating premise is exploited to the f...       Fresh   \n",
       "24808  Examined difficult issues like bigotry and evo...       Fresh   \n",
       "24809  This classic sci-fi ape picture leaves its imi...       Fresh   \n",
       "\n",
       "      tomatometer_status  \n",
       "24805    Certified-Fresh  \n",
       "24806    Certified-Fresh  \n",
       "24807    Certified-Fresh  \n",
       "24808    Certified-Fresh  \n",
       "24809    Certified-Fresh  "
      ]
     },
     "execution_count": 53,
     "metadata": {},
     "output_type": "execute_result"
    }
   ],
   "source": [
    "# Get all reviews of Planet of the Apes movie\n",
    "df_planet = df_merged[df_merged['movie_title'] == 'Planet of the Apes']\n",
    "df_planet.head()"
   ]
  },
  {
   "cell_type": "code",
   "execution_count": 54,
   "id": "8d8411dc-1af7-4a09-8ce0-5fb494b4ee4c",
   "metadata": {},
   "outputs": [
    {
     "name": "stdout",
     "output_type": "stream",
     "text": [
      "Positive review: 59.04%\n",
      "Movie status: Rotten\n"
     ]
    }
   ],
   "source": [
    "# Get prediction\n",
    "y_predicted_planet = rf_weighted.predict(vectorizer.transform(df_planet['review_content']).toarray())\n",
    "predict_movie_status(y_predicted_planet)"
   ]
  },
  {
   "cell_type": "code",
   "execution_count": 55,
   "id": "4caefc56-d9bd-4569-946b-6f21421c5399",
   "metadata": {},
   "outputs": [
    {
     "data": {
      "text/plain": [
       "'Certified-Fresh'"
      ]
     },
     "execution_count": 55,
     "metadata": {},
     "output_type": "execute_result"
    }
   ],
   "source": [
    "# Get true label\n",
    "df_merged[df_merged['movie_title'] == 'Planet of the Apes']['tomatometer_status'].iloc[0]"
   ]
  },
  {
   "cell_type": "markdown",
   "id": "b13b76fb-b4a6-459a-99a2-7666f863defe",
   "metadata": {},
   "source": [
    "This notebook was inspired by the [Rotten Tomatoes Movies Rating Prediction](https://platform.stratascratch.com/data-projects/rotten-tomatoes-movies-rating-prediction) data project on [StrataScratch](https://www.stratascratch.com/)."
   ]
  },
  {
   "cell_type": "code",
   "execution_count": null,
   "id": "051bd6b9-4f6c-4792-8f5b-4f9be981a9dd",
   "metadata": {},
   "outputs": [],
   "source": []
  }
 ],
 "metadata": {
  "kernelspec": {
   "display_name": "Python 3 (ipykernel)",
   "language": "python",
   "name": "python3"
  },
  "language_info": {
   "codemirror_mode": {
    "name": "ipython",
    "version": 3
   },
   "file_extension": ".py",
   "mimetype": "text/x-python",
   "name": "python",
   "nbconvert_exporter": "python",
   "pygments_lexer": "ipython3",
   "version": "3.11.6"
  }
 },
 "nbformat": 4,
 "nbformat_minor": 5
}
